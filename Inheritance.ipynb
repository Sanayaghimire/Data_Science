{
 "cells": [
  {
   "cell_type": "code",
   "execution_count": null,
   "id": "b8d1cf85",
   "metadata": {},
   "outputs": [],
   "source": [
    "# class A:\n",
    "#     pass\n",
    "# class B(A):\n",
    "#     pass\n",
    "# obj=B()"
   ]
  },
  {
   "cell_type": "code",
   "execution_count": 5,
   "id": "ad870c65",
   "metadata": {},
   "outputs": [
    {
     "name": "stdout",
     "output_type": "stream",
     "text": [
      "Hello world I am Sanaya. I am 89 of age and I am from Nuwakot Nepal.\n",
      "Sanaya 89 Nuwakot\n"
     ]
    }
   ],
   "source": [
    "class A:\n",
    "    def __init__(self):\n",
    "        self.name = \"Sanaya\"\n",
    "        self.age=89\n",
    "        self.add=\"Nuwakot\"\n",
    "        \n",
    "    def data(self):\n",
    "        print(self.name, self.age, self.add)\n",
    "class B(A):\n",
    "    def info(self):\n",
    "        print(f\"Hello world I am {self.name}. I am {self.age} of age and I am from {self.add} Nepal.\")\n",
    "obj =B()\n",
    "obj.info()\n",
    "obj.data()"
   ]
  },
  {
   "cell_type": "code",
   "execution_count": 1,
   "id": "aaec7076",
   "metadata": {},
   "outputs": [
    {
     "name": "stdout",
     "output_type": "stream",
     "text": [
      "Enter name = Sanaya\n",
      "Enter age = 89\n",
      "Enter add = Kathmandu\n",
      "Hello world I am Sanaya. I am 89 of age and I am from Kathmandu Nepal.\n",
      "Sanaya 89 Kathmandu\n"
     ]
    }
   ],
   "source": [
    "class A:\n",
    "    def __init__(self, name, age, add):\n",
    "        self.name=name\n",
    "        self.age=age\n",
    "        self.add=add\n",
    "        \n",
    "    def data(self):\n",
    "        print(self.name, self.age, self.add)\n",
    "        \n",
    "class B(A):\n",
    "    def info(self):\n",
    "        print(f\"Hello world I am {self.name}. I am {self.age} of age and I am from {self.add} Nepal.\")\n",
    "\n",
    "        \n",
    "name=input(\"Enter name = \")\n",
    "age=int(input(\"Enter age = \"))\n",
    "add=input(\"Enter add = \")\n",
    "        \n",
    "obj =B(name,age,add)\n",
    "obj.info()\n",
    "obj.data()"
   ]
  },
  {
   "cell_type": "code",
   "execution_count": 3,
   "id": "a9bb8f30",
   "metadata": {},
   "outputs": [
    {
     "name": "stdout",
     "output_type": "stream",
     "text": [
      "Enter name = Gopal\n",
      "Enter age = 98\n",
      "Enter add = Kathmandu\n",
      "Hello world I am Gopal. I am 98 of age and I am from Kathmandu Nepal.\n"
     ]
    }
   ],
   "source": [
    "class A:\n",
    "    def __init__(self, age):\n",
    "        self.age=age\n",
    "        \n",
    "    def data(self):\n",
    "        (self.age)\n",
    "        \n",
    "class B(A):\n",
    "    def __init__(self, name, age, add):\n",
    "        self.name=name\n",
    "        self.add=add\n",
    "        A.__init__(self,age)\n",
    "        \n",
    "    def info(self):\n",
    "        print(f\"Hello world I am {self.name}. I am {self.age} of age and I am from {self.add} Nepal.\")\n",
    "\n",
    "        \n",
    "name=input(\"Enter name = \")\n",
    "age=int(input(\"Enter age = \"))\n",
    "add=input(\"Enter add = \")\n",
    "        \n",
    "obj =B(name,age,add)\n",
    "obj.info()\n",
    "obj.data()"
   ]
  },
  {
   "cell_type": "code",
   "execution_count": null,
   "id": "2760259b",
   "metadata": {},
   "outputs": [],
   "source": []
  },
  {
   "cell_type": "code",
   "execution_count": 8,
   "id": "7c8a08af",
   "metadata": {},
   "outputs": [
    {
     "name": "stdout",
     "output_type": "stream",
     "text": [
      "Hello world I am Raju. I am 45 of age and I am from Kathmandu Nepal.\n"
     ]
    }
   ],
   "source": [
    "# multi level inheritance\n",
    "# class A:\n",
    "#     pass\n",
    "# class B(A):\n",
    "#     pass\n",
    "# class C(B):\n",
    "#     pass\n",
    "# obj = C()\n",
    "\n",
    "class A:\n",
    "    def __init__(self):\n",
    "        self.name=\"Raju\"\n",
    "class B(A):\n",
    "    def __init__(self):\n",
    "        self.age=45\n",
    "        self.name =A.__init__(self)\n",
    "\n",
    "class C(B):\n",
    "    def __init__(self):\n",
    "        self.add=\"Kathmandu\"\n",
    "        self.age=B.__init__(self)\n",
    "    def info(self):\n",
    "        print(f\"Hello world I am {self.name}. I am {self.age} of age and I am from {self.add} Nepal.\")\n",
    "        \n",
    "obj=C()\n",
    "obj.info()\n",
    "\n",
    "    "
   ]
  },
  {
   "cell_type": "code",
   "execution_count": 9,
   "id": "e998fdc8",
   "metadata": {},
   "outputs": [
    {
     "name": "stdout",
     "output_type": "stream",
     "text": [
      "Hello world I am Raju. I am 45 of age and I am from Kathmandu Nepal.\n"
     ]
    }
   ],
   "source": [
    "# multiclass\n",
    "\n",
    "class A:\n",
    "    def __init__(self):\n",
    "        self.name=\"Raju\"\n",
    "    def a(self):\n",
    "        pass\n",
    "    \n",
    "class B:\n",
    "    def __init__(self):\n",
    "        self.age=45\n",
    "    def b(self):\n",
    "        pass\n",
    "\n",
    "class C(A,B):\n",
    "    def __init__(self):\n",
    "        self.add=\"Kathmandu\"\n",
    "        A.__init__(self)\n",
    "        B.__init__(self)\n",
    "        \n",
    "    def info(self):\n",
    "        print(f\"Hello world I am {self.name}. I am {self.age} of age and I am from {self.add} Nepal.\")\n",
    "        \n",
    "obj=C()\n",
    "obj.info()\n",
    "    "
   ]
  },
  {
   "cell_type": "code",
   "execution_count": 10,
   "id": "4b63f929",
   "metadata": {},
   "outputs": [
    {
     "data": {
      "text/plain": [
       "'C:\\\\Users\\\\sanay\\\\python_class'"
      ]
     },
     "execution_count": 10,
     "metadata": {},
     "output_type": "execute_result"
    }
   ],
   "source": [
    "pwd\n"
   ]
  },
  {
   "cell_type": "code",
   "execution_count": 2,
   "id": "8d5835f1",
   "metadata": {},
   "outputs": [
    {
     "name": "stdout",
     "output_type": "stream",
     "text": [
      "Ram\n",
      "90\n",
      "KTM\n"
     ]
    }
   ],
   "source": [
    "# public members\n",
    "class Info:\n",
    "    def __init__(self):\n",
    "        self.name=\"Ram\"\n",
    "        self.age=90\n",
    "        self.add=\"KTM\"\n",
    "        \n",
    "obj=Info()\n",
    "print(obj.name)\n",
    "print(obj.age)\n",
    "print(obj.add)"
   ]
  },
  {
   "cell_type": "code",
   "execution_count": 1,
   "id": "c0d5ffd7",
   "metadata": {},
   "outputs": [
    {
     "ename": "AttributeError",
     "evalue": "'Info' object has no attribute 'name'",
     "output_type": "error",
     "traceback": [
      "\u001b[1;31m---------------------------------------------------------------------------\u001b[0m",
      "\u001b[1;31mAttributeError\u001b[0m                            Traceback (most recent call last)",
      "Cell \u001b[1;32mIn[1], line 9\u001b[0m\n\u001b[0;32m      6\u001b[0m         \u001b[38;5;28mself\u001b[39m\u001b[38;5;241m.\u001b[39m_add\u001b[38;5;241m=\u001b[39m\u001b[38;5;124m\"\u001b[39m\u001b[38;5;124mKTM\u001b[39m\u001b[38;5;124m\"\u001b[39m\n\u001b[0;32m      8\u001b[0m obj\u001b[38;5;241m=\u001b[39mInfo()\n\u001b[1;32m----> 9\u001b[0m \u001b[38;5;28mprint\u001b[39m(obj\u001b[38;5;241m.\u001b[39mname)\n\u001b[0;32m     10\u001b[0m \u001b[38;5;28mprint\u001b[39m(obj\u001b[38;5;241m.\u001b[39mage)\n\u001b[0;32m     11\u001b[0m \u001b[38;5;28mprint\u001b[39m(obj\u001b[38;5;241m.\u001b[39madd)\n",
      "\u001b[1;31mAttributeError\u001b[0m: 'Info' object has no attribute 'name'"
     ]
    }
   ],
   "source": [
    "# protected members\n",
    "class Info:\n",
    "    def __init__(self):\n",
    "        self._name=\"Ram\"\n",
    "        self._age=90\n",
    "        self._add=\"KTM\"\n",
    "        \n",
    "obj=Info()\n",
    "print(obj.name)\n",
    "print(obj.age)\n",
    "print(obj.add)"
   ]
  },
  {
   "cell_type": "code",
   "execution_count": null,
   "id": "8d4526e8",
   "metadata": {},
   "outputs": [],
   "source": []
  },
  {
   "cell_type": "code",
   "execution_count": null,
   "id": "0d3f5b33",
   "metadata": {},
   "outputs": [],
   "source": []
  }
 ],
 "metadata": {
  "kernelspec": {
   "display_name": "Python 3 (ipykernel)",
   "language": "python",
   "name": "python3"
  },
  "language_info": {
   "codemirror_mode": {
    "name": "ipython",
    "version": 3
   },
   "file_extension": ".py",
   "mimetype": "text/x-python",
   "name": "python",
   "nbconvert_exporter": "python",
   "pygments_lexer": "ipython3",
   "version": "3.11.5"
  }
 },
 "nbformat": 4,
 "nbformat_minor": 5
}
