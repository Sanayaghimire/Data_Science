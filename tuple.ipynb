{
 "cells": [
  {
   "cell_type": "code",
   "execution_count": null,
   "id": "bd09bf82",
   "metadata": {},
   "outputs": [],
   "source": [
    "# Tuple\n",
    "# -Indexing\n",
    "# -Ordered\n",
    "# -Multiple and duplicate date\n",
    "# -Imutable\n",
    "# frequently change nahuni data is stored in tuple\n",
    "t=tuple()"
   ]
  },
  {
   "cell_type": "code",
   "execution_count": 1,
   "id": "55f8fd9c",
   "metadata": {},
   "outputs": [
    {
     "name": "stdout",
     "output_type": "stream",
     "text": [
      "<class 'tuple'>\n"
     ]
    }
   ],
   "source": [
    "t=(1,2,3,4)\n",
    "print(type(t))"
   ]
  },
  {
   "cell_type": "code",
   "execution_count": 3,
   "id": "b37cc56c",
   "metadata": {},
   "outputs": [
    {
     "name": "stdout",
     "output_type": "stream",
     "text": [
      "<class 'int'>\n",
      "<class 'tuple'>\n"
     ]
    }
   ],
   "source": [
    "t=(1)\n",
    "print(type(t)) # bcz to b tuple there must be 2 value or more or just , after 1 value\n",
    "t=(1,)\n",
    "print(type(t))"
   ]
  },
  {
   "cell_type": "code",
   "execution_count": 6,
   "id": "71686d71",
   "metadata": {},
   "outputs": [
    {
     "name": "stdout",
     "output_type": "stream",
     "text": [
      "Nuwakot\n",
      "('Nuwakot', 'Rasuwa', 'Dhading', 'Nuwakot')\n"
     ]
    }
   ],
   "source": [
    "# No create\n",
    "# No update \n",
    "# No delete\n",
    "t=(\"Nuwakot\",\"Rasuwa\", \"Dhading\",\"Nuwakot\")\n",
    "print(t[0])\n",
    "print(t) #ordered data type"
   ]
  },
  {
   "cell_type": "code",
   "execution_count": 11,
   "id": "ebf13069",
   "metadata": {},
   "outputs": [
    {
     "name": "stdout",
     "output_type": "stream",
     "text": [
      "890\n",
      "4\n",
      "3859\n",
      "Yes\n"
     ]
    }
   ],
   "source": [
    "a=(345, 675,45,567,444,557,890,332,4)\n",
    "print(max(a))\n",
    "print(min(a))\n",
    "print(sum(a))\n",
    "\n",
    "\n",
    "if 4 in a:\n",
    "    print(\"Yes\")"
   ]
  },
  {
   "cell_type": "code",
   "execution_count": 24,
   "id": "7481d0d5",
   "metadata": {},
   "outputs": [
    {
     "name": "stdout",
     "output_type": "stream",
     "text": [
      "Yes\n"
     ]
    }
   ],
   "source": [
    "a=(\"apple\",\"ball\",\"cat\")\n",
    "if \"apple\" in a:\n",
    "    print(\"Yes\")\n"
   ]
  },
  {
   "cell_type": "code",
   "execution_count": 17,
   "id": "8f94469d",
   "metadata": {},
   "outputs": [
    {
     "name": "stdout",
     "output_type": "stream",
     "text": [
      "(1, 4, 7, 7, 9, 2)\n"
     ]
    }
   ],
   "source": [
    "a=(1,4,7,)\n",
    "b=(7,9,2,)\n",
    "c=a+b\n",
    "print(c)"
   ]
  },
  {
   "cell_type": "code",
   "execution_count": 19,
   "id": "0516e72b",
   "metadata": {},
   "outputs": [
    {
     "name": "stdout",
     "output_type": "stream",
     "text": [
      "Enter n = 4\n",
      "Enter x= 5\n",
      "Enter x= 6\n",
      "Enter x= 7\n",
      "Enter x= 2\n",
      "('5', '6', '7', '2')\n"
     ]
    }
   ],
   "source": [
    "t=()\n",
    "n=int(input(\"Enter n = \"))\n",
    "for i in range(n):\n",
    "    x=input(\"Enter x= \")\n",
    "    t=t+(x,)  #x is string so converting it into tuple by () and ,\n",
    "print(t)"
   ]
  },
  {
   "cell_type": "code",
   "execution_count": 22,
   "id": "e2e30b68",
   "metadata": {},
   "outputs": [
    {
     "name": "stdout",
     "output_type": "stream",
     "text": [
      "('a', 'p', 'p', 'l', 'e')\n",
      "['a', 'p', 'p', 'l', 'e']\n"
     ]
    }
   ],
   "source": [
    "a=(\"apple\")\n",
    "print(tuple(a))\n",
    "print(list(a))"
   ]
  },
  {
   "cell_type": "code",
   "execution_count": 28,
   "id": "2b3bb63a",
   "metadata": {},
   "outputs": [
    {
     "name": "stdout",
     "output_type": "stream",
     "text": [
      "['apple', 'ball', 'cat']\n",
      "('ball', 'cat')\n"
     ]
    }
   ],
   "source": [
    "a=(\"apple\",\"ball\",\"cat\")\n",
    "a=list(a)  #converting tuple into list\n",
    "print(a)\n",
    "del a[0]  #deleting from tuple by converting it into list\n",
    "a=tuple(a) #reversing list into tuple\n",
    "print(a)"
   ]
  },
  {
   "cell_type": "code",
   "execution_count": 1,
   "id": "5c16d029",
   "metadata": {},
   "outputs": [
    {
     "name": "stdout",
     "output_type": "stream",
     "text": [
      "((1, 2, 3), (3, 4, 5), (5, 6, 7))\n"
     ]
    }
   ],
   "source": [
    "# tuple inside tuple\n",
    "\n",
    "t=((1,2,3),\n",
    "  (3,4,5),\n",
    "  (5,6,7)\n",
    "  )\n",
    "print(t)\n",
    "\n"
   ]
  },
  {
   "cell_type": "code",
   "execution_count": 2,
   "id": "dc793f59",
   "metadata": {},
   "outputs": [
    {
     "name": "stdout",
     "output_type": "stream",
     "text": [
      "Enter n = 2\n",
      "Enter name = ram\n",
      "Enter age = 34\n",
      "Enter name = shyam\n",
      "Enter age = 45\n",
      "(('ram', '34'), ('shyam', '45'))\n"
     ]
    }
   ],
   "source": [
    "# tuple inside tuple\n",
    "\n",
    "info=()\n",
    "n=int(input(\"Enter n = \"))\n",
    "for i in range(n):\n",
    "    name=input(\"Enter name = \")\n",
    "    age=input(\"Enter age = \")\n",
    "    x=(name, age)\n",
    "    info=info + (x,)\n",
    "print(info)"
   ]
  },
  {
   "cell_type": "code",
   "execution_count": 5,
   "id": "cac94f31",
   "metadata": {},
   "outputs": [
    {
     "name": "stdout",
     "output_type": "stream",
     "text": [
      "['ram', '34']\n"
     ]
    }
   ],
   "source": [
    "#list inside tuple\n",
    "a=(['ram', '34'], ['shyam', '45'])\n",
    "print(a[0])\n",
    "\n"
   ]
  },
  {
   "cell_type": "code",
   "execution_count": 6,
   "id": "5d356873",
   "metadata": {},
   "outputs": [
    {
     "name": "stdout",
     "output_type": "stream",
     "text": [
      "[('ram', 78), ('binod', 24)]\n"
     ]
    }
   ],
   "source": [
    "# tuple inside list\n",
    "\n",
    "\n",
    "t=[('ram',78),('binod',24)]\n",
    "print(t)"
   ]
  },
  {
   "cell_type": "code",
   "execution_count": 10,
   "id": "a9aaf4c5",
   "metadata": {},
   "outputs": [
    {
     "ename": "KeyError",
     "evalue": "0",
     "output_type": "error",
     "traceback": [
      "\u001b[1;31m---------------------------------------------------------------------------\u001b[0m",
      "\u001b[1;31mKeyError\u001b[0m                                  Traceback (most recent call last)",
      "Cell \u001b[1;32mIn[10], line 2\u001b[0m\n\u001b[0;32m      1\u001b[0m a\u001b[38;5;241m=\u001b[39m{(\u001b[38;5;124m'\u001b[39m\u001b[38;5;124msita\u001b[39m\u001b[38;5;124m'\u001b[39m,\u001b[38;5;124m'\u001b[39m\u001b[38;5;124mGita\u001b[39m\u001b[38;5;124m'\u001b[39m):\u001b[38;5;124m\"\u001b[39m\u001b[38;5;124mBhumi prasad ghimire\u001b[39m\u001b[38;5;124m\"\u001b[39m, \u001b[38;5;124m'\u001b[39m\u001b[38;5;124mhari\u001b[39m\u001b[38;5;124m'\u001b[39m:\u001b[38;5;241m986437282\u001b[39m}\n\u001b[1;32m----> 2\u001b[0m \u001b[38;5;28mprint\u001b[39m(a[\u001b[38;5;124m'\u001b[39m\u001b[38;5;124msita\u001b[39m\u001b[38;5;124m'\u001b[39m,\u001b[38;5;124m'\u001b[39m\u001b[38;5;124mGita\u001b[39m\u001b[38;5;124m'\u001b[39m]\u001b[38;5;241m+\u001b[39m\u001b[38;5;124m\"\u001b[39m\u001b[38;5;124m is the father of \u001b[39m\u001b[38;5;124m\"\u001b[39m \u001b[38;5;241m+\u001b[39ma[\u001b[38;5;241m0\u001b[39m])\n",
      "\u001b[1;31mKeyError\u001b[0m: 0"
     ]
    }
   ],
   "source": [
    "a={('sita','Gita'):\"Bhumi prasad ghimire\", 'hari':986437282}\n",
    "print(a['sita','Gita']+\" is the father of \")"
   ]
  },
  {
   "cell_type": "code",
   "execution_count": null,
   "id": "a0f61d84",
   "metadata": {},
   "outputs": [],
   "source": []
  },
  {
   "cell_type": "code",
   "execution_count": null,
   "id": "3b26fe97",
   "metadata": {},
   "outputs": [],
   "source": []
  }
 ],
 "metadata": {
  "kernelspec": {
   "display_name": "Python 3 (ipykernel)",
   "language": "python",
   "name": "python3"
  },
  "language_info": {
   "codemirror_mode": {
    "name": "ipython",
    "version": 3
   },
   "file_extension": ".py",
   "mimetype": "text/x-python",
   "name": "python",
   "nbconvert_exporter": "python",
   "pygments_lexer": "ipython3",
   "version": "3.11.5"
  }
 },
 "nbformat": 4,
 "nbformat_minor": 5
}
