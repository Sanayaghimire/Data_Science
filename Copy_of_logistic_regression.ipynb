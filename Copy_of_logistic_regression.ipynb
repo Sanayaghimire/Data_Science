{
  "nbformat": 4,
  "nbformat_minor": 0,
  "metadata": {
    "colab": {
      "provenance": [],
      "include_colab_link": true
    },
    "kernelspec": {
      "name": "python3",
      "display_name": "Python 3"
    },
    "language_info": {
      "name": "python"
    }
  },
  "cells": [
    {
      "cell_type": "markdown",
      "metadata": {
        "id": "view-in-github",
        "colab_type": "text"
      },
      "source": [
        "<a href=\"https://colab.research.google.com/github/Sanayaghimire/Data_Science/blob/main/Copy_of_logistic_regression.ipynb\" target=\"_parent\"><img src=\"https://colab.research.google.com/assets/colab-badge.svg\" alt=\"Open In Colab\"/></a>"
      ]
    },
    {
      "cell_type": "code",
      "execution_count": null,
      "metadata": {
        "colab": {
          "base_uri": "https://localhost:8080/"
        },
        "id": "qvuFMfBs53kk",
        "outputId": "d253ad33-3281-4a78-db7e-f3a63ccf7ae1"
      },
      "outputs": [
        {
          "output_type": "stream",
          "name": "stderr",
          "text": [
            "[nltk_data] Downloading package stopwords to /root/nltk_data...\n",
            "[nltk_data]   Unzipping corpora/stopwords.zip.\n"
          ]
        }
      ],
      "source": [
        "import numpy as np\n",
        "import pandas as pd\n",
        "import re,string\n",
        "import matplotlib.pyplot as plt\n",
        "import nltk\n",
        "from nltk.corpus import stopwords\n",
        "from nltk.stem import PorterStemmer\n",
        "from sklearn.feature_extraction.text import TfidfVectorizer #tokenization\n",
        "from sklearn.pipeline import Pipeline\n",
        "from sklearn.metrics import classification_report, confusion_matrix\n",
        "from sklearn.model_selection import train_test_split\n",
        "from sklearn.feature_selection import SelectKBest, chi2\n",
        "import pickle\n",
        "nltk.download('stopwords')\n",
        "%matplotlib inline"
      ]
    },
    {
      "cell_type": "code",
      "source": [],
      "metadata": {
        "id": "wtSwmdAr8AwJ"
      },
      "execution_count": null,
      "outputs": []
    },
    {
      "cell_type": "markdown",
      "source": [],
      "metadata": {
        "id": "WSmqpMT3onW3"
      }
    },
    {
      "cell_type": "code",
      "source": [
        "df = pd.read_csv('/content/drive/MyDrive/Data_Science/bbc-text.csv', encoding = 'latin1')\n",
        "df = df.sample(frac = 1)\n",
        "df"
      ],
      "metadata": {
        "colab": {
          "base_uri": "https://localhost:8080/",
          "height": 423
        },
        "id": "BAtLnUFL6emp",
        "outputId": "4419bb74-5ff7-4610-e134-e8a233eeab86"
      },
      "execution_count": null,
      "outputs": [
        {
          "output_type": "execute_result",
          "data": {
            "text/plain": [
              "           category                                               text\n",
              "1762       politics  mps quiz aides over royal income senior offici...\n",
              "1833       business  us gives foreign firms extra time foreign firm...\n",
              "1626       business  high fuel prices hit ba s profits british airw...\n",
              "807   entertainment  films on war triumph at sundance a study of th...\n",
              "475   entertainment  prince crowned  top music earner  prince earne...\n",
              "...             ...                                                ...\n",
              "181            tech  blogger grounded by her airline a us airline a...\n",
              "1453           tech  broadband set to revolutionise tv bt is starti...\n",
              "608        politics  probe launched on ken nazi jibe an investigati...\n",
              "2013       business  trade gap narrows as exports rise the uk s tra...\n",
              "2113           tech  gadget show heralds mp3 christmas partners of ...\n",
              "\n",
              "[2225 rows x 2 columns]"
            ],
            "text/html": [
              "\n",
              "  <div id=\"df-e994b3af-1e79-4cbf-9772-74b19128d20c\" class=\"colab-df-container\">\n",
              "    <div>\n",
              "<style scoped>\n",
              "    .dataframe tbody tr th:only-of-type {\n",
              "        vertical-align: middle;\n",
              "    }\n",
              "\n",
              "    .dataframe tbody tr th {\n",
              "        vertical-align: top;\n",
              "    }\n",
              "\n",
              "    .dataframe thead th {\n",
              "        text-align: right;\n",
              "    }\n",
              "</style>\n",
              "<table border=\"1\" class=\"dataframe\">\n",
              "  <thead>\n",
              "    <tr style=\"text-align: right;\">\n",
              "      <th></th>\n",
              "      <th>category</th>\n",
              "      <th>text</th>\n",
              "    </tr>\n",
              "  </thead>\n",
              "  <tbody>\n",
              "    <tr>\n",
              "      <th>1762</th>\n",
              "      <td>politics</td>\n",
              "      <td>mps quiz aides over royal income senior offici...</td>\n",
              "    </tr>\n",
              "    <tr>\n",
              "      <th>1833</th>\n",
              "      <td>business</td>\n",
              "      <td>us gives foreign firms extra time foreign firm...</td>\n",
              "    </tr>\n",
              "    <tr>\n",
              "      <th>1626</th>\n",
              "      <td>business</td>\n",
              "      <td>high fuel prices hit ba s profits british airw...</td>\n",
              "    </tr>\n",
              "    <tr>\n",
              "      <th>807</th>\n",
              "      <td>entertainment</td>\n",
              "      <td>films on war triumph at sundance a study of th...</td>\n",
              "    </tr>\n",
              "    <tr>\n",
              "      <th>475</th>\n",
              "      <td>entertainment</td>\n",
              "      <td>prince crowned  top music earner  prince earne...</td>\n",
              "    </tr>\n",
              "    <tr>\n",
              "      <th>...</th>\n",
              "      <td>...</td>\n",
              "      <td>...</td>\n",
              "    </tr>\n",
              "    <tr>\n",
              "      <th>181</th>\n",
              "      <td>tech</td>\n",
              "      <td>blogger grounded by her airline a us airline a...</td>\n",
              "    </tr>\n",
              "    <tr>\n",
              "      <th>1453</th>\n",
              "      <td>tech</td>\n",
              "      <td>broadband set to revolutionise tv bt is starti...</td>\n",
              "    </tr>\n",
              "    <tr>\n",
              "      <th>608</th>\n",
              "      <td>politics</td>\n",
              "      <td>probe launched on ken nazi jibe an investigati...</td>\n",
              "    </tr>\n",
              "    <tr>\n",
              "      <th>2013</th>\n",
              "      <td>business</td>\n",
              "      <td>trade gap narrows as exports rise the uk s tra...</td>\n",
              "    </tr>\n",
              "    <tr>\n",
              "      <th>2113</th>\n",
              "      <td>tech</td>\n",
              "      <td>gadget show heralds mp3 christmas partners of ...</td>\n",
              "    </tr>\n",
              "  </tbody>\n",
              "</table>\n",
              "<p>2225 rows × 2 columns</p>\n",
              "</div>\n",
              "    <div class=\"colab-df-buttons\">\n",
              "\n",
              "  <div class=\"colab-df-container\">\n",
              "    <button class=\"colab-df-convert\" onclick=\"convertToInteractive('df-e994b3af-1e79-4cbf-9772-74b19128d20c')\"\n",
              "            title=\"Convert this dataframe to an interactive table.\"\n",
              "            style=\"display:none;\">\n",
              "\n",
              "  <svg xmlns=\"http://www.w3.org/2000/svg\" height=\"24px\" viewBox=\"0 -960 960 960\">\n",
              "    <path d=\"M120-120v-720h720v720H120Zm60-500h600v-160H180v160Zm220 220h160v-160H400v160Zm0 220h160v-160H400v160ZM180-400h160v-160H180v160Zm440 0h160v-160H620v160ZM180-180h160v-160H180v160Zm440 0h160v-160H620v160Z\"/>\n",
              "  </svg>\n",
              "    </button>\n",
              "\n",
              "  <style>\n",
              "    .colab-df-container {\n",
              "      display:flex;\n",
              "      gap: 12px;\n",
              "    }\n",
              "\n",
              "    .colab-df-convert {\n",
              "      background-color: #E8F0FE;\n",
              "      border: none;\n",
              "      border-radius: 50%;\n",
              "      cursor: pointer;\n",
              "      display: none;\n",
              "      fill: #1967D2;\n",
              "      height: 32px;\n",
              "      padding: 0 0 0 0;\n",
              "      width: 32px;\n",
              "    }\n",
              "\n",
              "    .colab-df-convert:hover {\n",
              "      background-color: #E2EBFA;\n",
              "      box-shadow: 0px 1px 2px rgba(60, 64, 67, 0.3), 0px 1px 3px 1px rgba(60, 64, 67, 0.15);\n",
              "      fill: #174EA6;\n",
              "    }\n",
              "\n",
              "    .colab-df-buttons div {\n",
              "      margin-bottom: 4px;\n",
              "    }\n",
              "\n",
              "    [theme=dark] .colab-df-convert {\n",
              "      background-color: #3B4455;\n",
              "      fill: #D2E3FC;\n",
              "    }\n",
              "\n",
              "    [theme=dark] .colab-df-convert:hover {\n",
              "      background-color: #434B5C;\n",
              "      box-shadow: 0px 1px 3px 1px rgba(0, 0, 0, 0.15);\n",
              "      filter: drop-shadow(0px 1px 2px rgba(0, 0, 0, 0.3));\n",
              "      fill: #FFFFFF;\n",
              "    }\n",
              "  </style>\n",
              "\n",
              "    <script>\n",
              "      const buttonEl =\n",
              "        document.querySelector('#df-e994b3af-1e79-4cbf-9772-74b19128d20c button.colab-df-convert');\n",
              "      buttonEl.style.display =\n",
              "        google.colab.kernel.accessAllowed ? 'block' : 'none';\n",
              "\n",
              "      async function convertToInteractive(key) {\n",
              "        const element = document.querySelector('#df-e994b3af-1e79-4cbf-9772-74b19128d20c');\n",
              "        const dataTable =\n",
              "          await google.colab.kernel.invokeFunction('convertToInteractive',\n",
              "                                                    [key], {});\n",
              "        if (!dataTable) return;\n",
              "\n",
              "        const docLinkHtml = 'Like what you see? Visit the ' +\n",
              "          '<a target=\"_blank\" href=https://colab.research.google.com/notebooks/data_table.ipynb>data table notebook</a>'\n",
              "          + ' to learn more about interactive tables.';\n",
              "        element.innerHTML = '';\n",
              "        dataTable['output_type'] = 'display_data';\n",
              "        await google.colab.output.renderOutput(dataTable, element);\n",
              "        const docLink = document.createElement('div');\n",
              "        docLink.innerHTML = docLinkHtml;\n",
              "        element.appendChild(docLink);\n",
              "      }\n",
              "    </script>\n",
              "  </div>\n",
              "\n",
              "\n",
              "<div id=\"df-4e1c5601-c6ce-418a-80c3-d273b950fe9c\">\n",
              "  <button class=\"colab-df-quickchart\" onclick=\"quickchart('df-4e1c5601-c6ce-418a-80c3-d273b950fe9c')\"\n",
              "            title=\"Suggest charts\"\n",
              "            style=\"display:none;\">\n",
              "\n",
              "<svg xmlns=\"http://www.w3.org/2000/svg\" height=\"24px\"viewBox=\"0 0 24 24\"\n",
              "     width=\"24px\">\n",
              "    <g>\n",
              "        <path d=\"M19 3H5c-1.1 0-2 .9-2 2v14c0 1.1.9 2 2 2h14c1.1 0 2-.9 2-2V5c0-1.1-.9-2-2-2zM9 17H7v-7h2v7zm4 0h-2V7h2v10zm4 0h-2v-4h2v4z\"/>\n",
              "    </g>\n",
              "</svg>\n",
              "  </button>\n",
              "\n",
              "<style>\n",
              "  .colab-df-quickchart {\n",
              "      --bg-color: #E8F0FE;\n",
              "      --fill-color: #1967D2;\n",
              "      --hover-bg-color: #E2EBFA;\n",
              "      --hover-fill-color: #174EA6;\n",
              "      --disabled-fill-color: #AAA;\n",
              "      --disabled-bg-color: #DDD;\n",
              "  }\n",
              "\n",
              "  [theme=dark] .colab-df-quickchart {\n",
              "      --bg-color: #3B4455;\n",
              "      --fill-color: #D2E3FC;\n",
              "      --hover-bg-color: #434B5C;\n",
              "      --hover-fill-color: #FFFFFF;\n",
              "      --disabled-bg-color: #3B4455;\n",
              "      --disabled-fill-color: #666;\n",
              "  }\n",
              "\n",
              "  .colab-df-quickchart {\n",
              "    background-color: var(--bg-color);\n",
              "    border: none;\n",
              "    border-radius: 50%;\n",
              "    cursor: pointer;\n",
              "    display: none;\n",
              "    fill: var(--fill-color);\n",
              "    height: 32px;\n",
              "    padding: 0;\n",
              "    width: 32px;\n",
              "  }\n",
              "\n",
              "  .colab-df-quickchart:hover {\n",
              "    background-color: var(--hover-bg-color);\n",
              "    box-shadow: 0 1px 2px rgba(60, 64, 67, 0.3), 0 1px 3px 1px rgba(60, 64, 67, 0.15);\n",
              "    fill: var(--button-hover-fill-color);\n",
              "  }\n",
              "\n",
              "  .colab-df-quickchart-complete:disabled,\n",
              "  .colab-df-quickchart-complete:disabled:hover {\n",
              "    background-color: var(--disabled-bg-color);\n",
              "    fill: var(--disabled-fill-color);\n",
              "    box-shadow: none;\n",
              "  }\n",
              "\n",
              "  .colab-df-spinner {\n",
              "    border: 2px solid var(--fill-color);\n",
              "    border-color: transparent;\n",
              "    border-bottom-color: var(--fill-color);\n",
              "    animation:\n",
              "      spin 1s steps(1) infinite;\n",
              "  }\n",
              "\n",
              "  @keyframes spin {\n",
              "    0% {\n",
              "      border-color: transparent;\n",
              "      border-bottom-color: var(--fill-color);\n",
              "      border-left-color: var(--fill-color);\n",
              "    }\n",
              "    20% {\n",
              "      border-color: transparent;\n",
              "      border-left-color: var(--fill-color);\n",
              "      border-top-color: var(--fill-color);\n",
              "    }\n",
              "    30% {\n",
              "      border-color: transparent;\n",
              "      border-left-color: var(--fill-color);\n",
              "      border-top-color: var(--fill-color);\n",
              "      border-right-color: var(--fill-color);\n",
              "    }\n",
              "    40% {\n",
              "      border-color: transparent;\n",
              "      border-right-color: var(--fill-color);\n",
              "      border-top-color: var(--fill-color);\n",
              "    }\n",
              "    60% {\n",
              "      border-color: transparent;\n",
              "      border-right-color: var(--fill-color);\n",
              "    }\n",
              "    80% {\n",
              "      border-color: transparent;\n",
              "      border-right-color: var(--fill-color);\n",
              "      border-bottom-color: var(--fill-color);\n",
              "    }\n",
              "    90% {\n",
              "      border-color: transparent;\n",
              "      border-bottom-color: var(--fill-color);\n",
              "    }\n",
              "  }\n",
              "</style>\n",
              "\n",
              "  <script>\n",
              "    async function quickchart(key) {\n",
              "      const quickchartButtonEl =\n",
              "        document.querySelector('#' + key + ' button');\n",
              "      quickchartButtonEl.disabled = true;  // To prevent multiple clicks.\n",
              "      quickchartButtonEl.classList.add('colab-df-spinner');\n",
              "      try {\n",
              "        const charts = await google.colab.kernel.invokeFunction(\n",
              "            'suggestCharts', [key], {});\n",
              "      } catch (error) {\n",
              "        console.error('Error during call to suggestCharts:', error);\n",
              "      }\n",
              "      quickchartButtonEl.classList.remove('colab-df-spinner');\n",
              "      quickchartButtonEl.classList.add('colab-df-quickchart-complete');\n",
              "    }\n",
              "    (() => {\n",
              "      let quickchartButtonEl =\n",
              "        document.querySelector('#df-4e1c5601-c6ce-418a-80c3-d273b950fe9c button');\n",
              "      quickchartButtonEl.style.display =\n",
              "        google.colab.kernel.accessAllowed ? 'block' : 'none';\n",
              "    })();\n",
              "  </script>\n",
              "</div>\n",
              "\n",
              "  <div id=\"id_ca550356-7969-4d37-a5d9-27db686b9d18\">\n",
              "    <style>\n",
              "      .colab-df-generate {\n",
              "        background-color: #E8F0FE;\n",
              "        border: none;\n",
              "        border-radius: 50%;\n",
              "        cursor: pointer;\n",
              "        display: none;\n",
              "        fill: #1967D2;\n",
              "        height: 32px;\n",
              "        padding: 0 0 0 0;\n",
              "        width: 32px;\n",
              "      }\n",
              "\n",
              "      .colab-df-generate:hover {\n",
              "        background-color: #E2EBFA;\n",
              "        box-shadow: 0px 1px 2px rgba(60, 64, 67, 0.3), 0px 1px 3px 1px rgba(60, 64, 67, 0.15);\n",
              "        fill: #174EA6;\n",
              "      }\n",
              "\n",
              "      [theme=dark] .colab-df-generate {\n",
              "        background-color: #3B4455;\n",
              "        fill: #D2E3FC;\n",
              "      }\n",
              "\n",
              "      [theme=dark] .colab-df-generate:hover {\n",
              "        background-color: #434B5C;\n",
              "        box-shadow: 0px 1px 3px 1px rgba(0, 0, 0, 0.15);\n",
              "        filter: drop-shadow(0px 1px 2px rgba(0, 0, 0, 0.3));\n",
              "        fill: #FFFFFF;\n",
              "      }\n",
              "    </style>\n",
              "    <button class=\"colab-df-generate\" onclick=\"generateWithVariable('df')\"\n",
              "            title=\"Generate code using this dataframe.\"\n",
              "            style=\"display:none;\">\n",
              "\n",
              "  <svg xmlns=\"http://www.w3.org/2000/svg\" height=\"24px\"viewBox=\"0 0 24 24\"\n",
              "       width=\"24px\">\n",
              "    <path d=\"M7,19H8.4L18.45,9,17,7.55,7,17.6ZM5,21V16.75L18.45,3.32a2,2,0,0,1,2.83,0l1.4,1.43a1.91,1.91,0,0,1,.58,1.4,1.91,1.91,0,0,1-.58,1.4L9.25,21ZM18.45,9,17,7.55Zm-12,3A5.31,5.31,0,0,0,4.9,8.1,5.31,5.31,0,0,0,1,6.5,5.31,5.31,0,0,0,4.9,4.9,5.31,5.31,0,0,0,6.5,1,5.31,5.31,0,0,0,8.1,4.9,5.31,5.31,0,0,0,12,6.5,5.46,5.46,0,0,0,6.5,12Z\"/>\n",
              "  </svg>\n",
              "    </button>\n",
              "    <script>\n",
              "      (() => {\n",
              "      const buttonEl =\n",
              "        document.querySelector('#id_ca550356-7969-4d37-a5d9-27db686b9d18 button.colab-df-generate');\n",
              "      buttonEl.style.display =\n",
              "        google.colab.kernel.accessAllowed ? 'block' : 'none';\n",
              "\n",
              "      buttonEl.onclick = () => {\n",
              "        google.colab.notebook.generateWithVariable('df');\n",
              "      }\n",
              "      })();\n",
              "    </script>\n",
              "  </div>\n",
              "\n",
              "    </div>\n",
              "  </div>\n"
            ],
            "application/vnd.google.colaboratory.intrinsic+json": {
              "type": "dataframe",
              "variable_name": "df",
              "summary": "{\n  \"name\": \"df\",\n  \"rows\": 2225,\n  \"fields\": [\n    {\n      \"column\": \"category\",\n      \"properties\": {\n        \"dtype\": \"category\",\n        \"num_unique_values\": 5,\n        \"samples\": [\n          \"business\",\n          \"sport\",\n          \"entertainment\"\n        ],\n        \"semantic_type\": \"\",\n        \"description\": \"\"\n      }\n    },\n    {\n      \"column\": \"text\",\n      \"properties\": {\n        \"dtype\": \"string\",\n        \"num_unique_values\": 2126,\n        \"samples\": [\n          \"diageo to buy us wine firm diageo  the world s biggest spirits company  has agreed to buy californian wine company chalone for $260m (\\u00c2\\u00a3134m) in an all-cash deal.  although diageo s best-known brands include smirnoff vodka and guinness stout  it already has a us winemaking arm - diageo chateau & estate wines. diageo said it expects to get us regulatory approval for the deal during the first quarter of 2005. it said chalone would be integrated into its existing us wine business.   the us wine market represents a growth opportunity for diageo  with favourable demographic and consumption trends   said diageo north america president ivan menezes. in july  diageo  which is listed on the london stock exchange  reported an annual turnover of \\u00c2\\u00a38.89bn  down from \\u00c2\\u00a39.28bn a year earlier. it blamed a weaker dollar for its lower turnover. in the year ending 31 december 2003  chalone reported revenues of $69.4m.\",\n          \"baywatch dubbed  worst tv import  surf show baywatch has won the title of worst tv import of all time in a poll of uk television executives.  the programme  which starred david hasselhoff and pamela anderson during its 12-year run  was shown in 140 countries at its height. model anna nicole smith s reality show and the dukes of hazzard were runners-up in the broadcast magazine survey. the simpsons and dallas and 24 were among the magazine s list of the best all-time imports from the us. soap operas knots landing  falcon crest plus the bold and the beautiful all made the top 10 of transatlantic tv howlers. the jerry springer show  which came in at sixth on the list  did not fare well.  broadcast magazine said:  british tv never realised how low it could go before jerry showed the way.  baywatch rose to the top of the list for having  mind-numbingly predictable scripts: beachgoer is saved from drowning   according to the magazine. just inside the all-time worst top 10 came extreme makeover  which sees members of the public given thousands of pounds worth of plastic surgery. other american shows which won praise were the x-files  i love lucy  twin peaks and star trek.\",\n          \"hantuchova in dubai last eight daniela hantuchova moved into the quarter-finals of the dubai open  after beating elene likhotseva of russia 7-5 6-4  and now faces serena williams.  australian open champion williams survived an early scare to beat russia s elena bovina 1-6 6-1 6-4. world number one lindsay davenport and anastasia myskina also progressed. davenport defeated china s jie zheng 6-2 7-5  while french open champion myskina sailed through after her opponent marion bartoli retired hurt. american davenport will now face fellow former wimbledon champion  conchita martinez of spain  who ousted seventh-seeded nathalie dechy of france 6-1 6-2. myskina will face eighth-seed patty schnyder from switzerland  who defeated china s li na 6-3 7-6 (10-8). the other quarter final pits wild card sania mirza of india against jelena jankovic of serbia and montenegro  who both won on tuesday.  before her meeting with martinez  davenport believes there is some room for improvement in her game.  i started well and finished well  but played some so-so games in the middle   she said. williams was also far from content.  i don t know what i was doing there   she said.  it was really windy and i hadn t played in the wind. all my shots were going out of here.  but hantuchova is in upbeat mood ahead of her clash with the younger williams sister  who was handed a first-round bye.  i feel i have an advantage (over serena) because i have already played two matches on these courts   she said.  it is a difficult court to play on. very fast and sometimes you feel you have no control over the ball.\"\n        ],\n        \"semantic_type\": \"\",\n        \"description\": \"\"\n      }\n    }\n  ]\n}"
            }
          },
          "metadata": {},
          "execution_count": 3
        }
      ]
    },
    {
      "cell_type": "code",
      "source": [
        "#No of a categories\n",
        "len(set(df['category']))"
      ],
      "metadata": {
        "colab": {
          "base_uri": "https://localhost:8080/"
        },
        "id": "G7c8rULu8LQZ",
        "outputId": "7cfa9947-e451-4a64-c8dd-fd1b77f8bbfa"
      },
      "execution_count": null,
      "outputs": [
        {
          "output_type": "execute_result",
          "data": {
            "text/plain": [
              "5"
            ]
          },
          "metadata": {},
          "execution_count": 4
        }
      ]
    },
    {
      "cell_type": "code",
      "source": [
        "df.groupby('category').category.count()"
      ],
      "metadata": {
        "colab": {
          "base_uri": "https://localhost:8080/"
        },
        "id": "833043k1zE5O",
        "outputId": "53410ef4-2506-4089-9e74-3a55226913e1"
      },
      "execution_count": null,
      "outputs": [
        {
          "output_type": "execute_result",
          "data": {
            "text/plain": [
              "category\n",
              "business         510\n",
              "entertainment    386\n",
              "politics         417\n",
              "sport            511\n",
              "tech             401\n",
              "Name: category, dtype: int64"
            ]
          },
          "metadata": {},
          "execution_count": 5
        }
      ]
    },
    {
      "cell_type": "code",
      "source": [
        "#Analyzing data\n",
        "df.groupby('category').category.count().plot.bar()\n",
        "plt.show()"
      ],
      "metadata": {
        "colab": {
          "base_uri": "https://localhost:8080/",
          "height": 535
        },
        "id": "PadVAxI17lgb",
        "outputId": "69486550-dc0f-4a5b-9722-da2979ccc8af"
      },
      "execution_count": null,
      "outputs": [
        {
          "output_type": "display_data",
          "data": {
            "text/plain": [
              "<Figure size 640x480 with 1 Axes>"
            ],
            "image/png": "[encoded data removed]"
          },
          "metadata": {}
        }
      ]
    },
    {
      "cell_type": "code",
      "source": [
        "#stop words\n",
        "nltk.download('stopwords')\n",
        "words = stopwords.words(\"english\")\n",
        "print(words)"
      ],
      "metadata": {
        "colab": {
          "base_uri": "https://localhost:8080/"
        },
        "id": "vAbJoOuNrXOx",
        "outputId": "1b40dd1c-9dc3-4030-989c-48b1e07fae13"
      },
      "execution_count": null,
      "outputs": [
        {
          "output_type": "stream",
          "name": "stdout",
          "text": [
            "['i', 'me', 'my', 'myself', 'we', 'our', 'ours', 'ourselves', 'you', \"you're\", \"you've\", \"you'll\", \"you'd\", 'your', 'yours', 'yourself', 'yourselves', 'he', 'him', 'his', 'himself', 'she', \"she's\", 'her', 'hers', 'herself', 'it', \"it's\", 'its', 'itself', 'they', 'them', 'their', 'theirs', 'themselves', 'what', 'which', 'who', 'whom', 'this', 'that', \"that'll\", 'these', 'those', 'am', 'is', 'are', 'was', 'were', 'be', 'been', 'being', 'have', 'has', 'had', 'having', 'do', 'does', 'did', 'doing', 'a', 'an', 'the', 'and', 'but', 'if', 'or', 'because', 'as', 'until', 'while', 'of', 'at', 'by', 'for', 'with', 'about', 'against', 'between', 'into', 'through', 'during', 'before', 'after', 'above', 'below', 'to', 'from', 'up', 'down', 'in', 'out', 'on', 'off', 'over', 'under', 'again', 'further', 'then', 'once', 'here', 'there', 'when', 'where', 'why', 'how', 'all', 'any', 'both', 'each', 'few', 'more', 'most', 'other', 'some', 'such', 'no', 'nor', 'not', 'only', 'own', 'same', 'so', 'than', 'too', 'very', 's', 't', 'can', 'will', 'just', 'don', \"don't\", 'should', \"should've\", 'now', 'd', 'll', 'm', 'o', 're', 've', 'y', 'ain', 'aren', \"aren't\", 'couldn', \"couldn't\", 'didn', \"didn't\", 'doesn', \"doesn't\", 'hadn', \"hadn't\", 'hasn', \"hasn't\", 'haven', \"haven't\", 'isn', \"isn't\", 'ma', 'mightn', \"mightn't\", 'mustn', \"mustn't\", 'needn', \"needn't\", 'shan', \"shan't\", 'shouldn', \"shouldn't\", 'wasn', \"wasn't\", 'weren', \"weren't\", 'won', \"won't\", 'wouldn', \"wouldn't\"]\n"
          ]
        },
        {
          "output_type": "stream",
          "name": "stderr",
          "text": [
            "[nltk_data] Downloading package stopwords to /root/nltk_data...\n",
            "[nltk_data]   Package stopwords is already up-to-date!\n"
          ]
        }
      ]
    },
    {
      "cell_type": "code",
      "source": [
        "#stop words\n",
        "nltk.download('stopwords')\n",
        "words = stopwords.words(\"nepali\")\n",
        "print(words)"
      ],
      "metadata": {
        "colab": {
          "base_uri": "https://localhost:8080/"
        },
        "id": "Z5xZW5YrrXAH",
        "outputId": "7bb869e3-8d80-4a45-98cb-95cbec7adfee"
      },
      "execution_count": null,
      "outputs": [
        {
          "output_type": "stream",
          "name": "stdout",
          "text": [
            "['छ', 'र', 'पनि', 'छन्', 'लागि', 'भएको', 'गरेको', 'भने', 'गर्न', 'गर्ने', 'हो', 'तथा', 'यो', 'रहेको', 'उनले', 'थियो', 'हुने', 'गरेका', 'थिए', 'गर्दै', 'तर', 'नै', 'को', 'मा', 'हुन्', 'भन्ने', 'हुन', 'गरी', 'त', 'हुन्छ', 'अब', 'के', 'रहेका', 'गरेर', 'छैन', 'दिए', 'भए', 'यस', 'ले', 'गर्नु', 'औं', 'सो', 'त्यो', 'कि', 'जुन', 'यी', 'का', 'गरि', 'ती', 'न', 'छु', 'छौं', 'लाई', 'नि', 'उप', 'अक्सर', 'आदि', 'कसरी', 'क्रमशः', 'चाले', 'अगाडी', 'अझै', 'अनुसार', 'अन्तर्गत', 'अन्य', 'अन्यत्र', 'अन्यथा', 'अरु', 'अरुलाई', 'अर्को', 'अर्थात', 'अर्थात्', 'अलग', 'आए', 'आजको', 'ओठ', 'आत्म', 'आफू', 'आफूलाई', 'आफ्नै', 'आफ्नो', 'आयो', 'उदाहरण', 'उनको', 'उहालाई', 'एउटै', 'एक', 'एकदम', 'कतै', 'कम से कम', 'कसै', 'कसैले', 'कहाँबाट', 'कहिलेकाहीं', 'का', 'किन', 'किनभने', 'कुनै', 'कुरा', 'कृपया', 'केही', 'कोही', 'गए', 'गरौं', 'गर्छ', 'गर्छु', 'गर्नुपर्छ', 'गयौ', 'गैर', 'चार', 'चाहनुहुन्छ', 'चाहन्छु', 'चाहिए', 'छू', 'जताततै', 'जब', 'जबकि', 'जसको', 'जसबाट', 'जसमा', 'जसलाई', 'जसले', 'जस्तै', 'जस्तो', 'जस्तोसुकै', 'जहाँ', 'जान', 'जाहिर', 'जे', 'जो', 'ठीक', 'तत्काल', 'तदनुसार', 'तपाईको', 'तपाई', 'पर्याप्त', 'पहिले', 'पहिलो', 'पहिल्यै', 'पाँच', 'पाँचौं', 'तल', 'तापनी', 'तिनी', 'तिनीहरू', 'तिनीहरुको', 'तिनिहरुलाई', 'तिमी', 'तिर', 'तीन', 'तुरुन्तै', 'तेस्रो', 'तेस्कारण', 'पूर्व', 'प्रति', 'प्रतेक', 'प्लस', 'फेरी', 'बने', 'त्सपछि', 'त्सैले', 'त्यहाँ', 'थिएन', 'दिनुभएको', 'दिनुहुन्छ', 'दुई', 'देखि', 'बरु', 'बारे', 'बाहिर', 'देखिन्छ', 'देखियो', 'देखे', 'देखेको', 'देखेर', 'दोस्रो', 'धेरै', 'नजिकै', 'नत्र', 'नयाँ', 'निम्ति', 'बाहेक', 'बीच', 'बीचमा', 'भन', 'निम्न', 'निम्नानुसार', 'निर्दिष्ट', 'नौ', 'पक्का', 'पक्कै', 'पछि', 'पछिल्लो', 'पटक', 'पर्छ', 'पर्थ्यो', 'भन्छन्', 'भन्', 'भन्छु', 'भन्दा', 'भन्नुभयो', 'भर', 'भित्र', 'भित्री', 'म', 'मलाई', 'मात्र', 'माथि', 'मुख्य', 'मेरो', 'यति', 'यथोचित', 'यदि', 'यद्यपि', 'यसको', 'यसपछि', 'यसबाहेक', 'यसरी', 'यसो', 'यस्तो', 'यहाँ', 'यहाँसम्म', 'या', 'रही', 'राखे', 'राख्छ', 'राम्रो', 'रूप', 'लगभग', 'वरीपरी', 'वास्तवमा', 'बिरुद्ध', 'बिशेष', 'सायद', 'शायद', 'संग', 'संगै', 'सक्छ', 'सट्टा', 'सधै', 'सबै', 'सबैलाई', 'समय', 'सम्भव', 'सम्म', 'सही', 'साँच्चै', 'सात', 'साथ', 'साथै', 'सारा', 'सोही', 'स्पष्ट', 'हरे', 'हरेक']\n"
          ]
        },
        {
          "output_type": "stream",
          "name": "stderr",
          "text": [
            "[nltk_data] Downloading package stopwords to /root/nltk_data...\n",
            "[nltk_data]   Package stopwords is already up-to-date!\n"
          ]
        }
      ]
    },
    {
      "cell_type": "code",
      "source": [
        "# Data Cleaning using regex\n",
        "regs = re.sub(\"[^a-zA-Z]\", \" \", df['text'][905]).lower() #character to character\n",
        "regs"
      ],
      "metadata": {
        "colab": {
          "base_uri": "https://localhost:8080/",
          "height": 177
        },
        "id": "-w2plL6498xG",
        "outputId": "e9d10ecd-7334-40c3-fef3-081697b9ea13"
      },
      "execution_count": null,
      "outputs": [
        {
          "output_type": "execute_result",
          "data": {
            "text/plain": [
              "'bets off after big brother  leak  a bookmaker has stopped taking bets on celebrity big brother after claiming  sensitive information  about the channel   show had been leaked   william hill made the move after four people tried to place bets on friday s surprise double eviction   this is highly unlikely to have been an inspired guess   william hill spokesman rupert adams said  however  a big brother spokeswoman was  satisfied  that sensitive information about the show remained confidential   the bookmaker said its suspicions had been aroused by betting for the last two contestant evictions  when people were still trying to place large sums despite odds as short as       but william hill s  overwhelming evidence  came on friday when four unknown callers asked to place bets on the show s surprise double eviction   shortly afterwards model caprice and actor jeremy edwards left the show  mr adams believed someone had gained access to figures which revealed how viewers were voting  and was using them to predict which celebrity would be evicted next   we think somebody somewhere has got them and has been trying very hard to take us to the cleaners   he said  the bets were not taken  mr adams did not believe anyone from channel   or big brother producer endemol had tried to place the queried bets  but he added   they need to look at how many people are privy to the sensitive information    big brother s spokeswoman said   only a handful of senior production executives are privy to any sensitive information regarding eviction voting and there are strict procedures in place to keep this information strictly confidential   we do not feel the need to investigate this further as we are satisfied that these measures are effective   the show s independent adjudicator   the electoral reform services   was also satisfied  she added  the current series of celebrity big brother ends on sunday  with happy mondays star bez  actress brigitte nielsen and blazin  squad rapper kenzie competing for a          charity prize   bookmaker ladbrokes said it would continue to accept bets on the final  with kenzie its favourite at       we felt no need whatsoever to close the book   spokesman warren lush said   we ve seen absolutely no suspicious betting patterns   mr lush added that people sometimes vote on short odds  because they think it s like buying money    you do have to risk quite a lot of money for a very small gain but if they think there s no chance of an upset they will still do it   he said '"
            ],
            "application/vnd.google.colaboratory.intrinsic+json": {
              "type": "string"
            }
          },
          "metadata": {},
          "execution_count": 9
        }
      ]
    },
    {
      "cell_type": "code",
      "source": [
        "# Data Cleaning using stemmer works on word to word\n",
        "#stremming le root word patta lagauxa then tei anusar word xutauxa\n",
        "stemmer = PorterStemmer()\n",
        "data = \"I am loving computing\".split()\n",
        "print(data)\n",
        "[stemmer.stem(i) for i in data]\n",
        "# stemmer.stem(\"\")"
      ],
      "metadata": {
        "colab": {
          "base_uri": "https://localhost:8080/"
        },
        "id": "7RDOg2Vcz0w_",
        "outputId": "90052e47-3cb0-49fe-fae9-806039650425"
      },
      "execution_count": null,
      "outputs": [
        {
          "output_type": "stream",
          "name": "stdout",
          "text": [
            "['I', 'am', 'loving', 'computing']\n"
          ]
        },
        {
          "output_type": "execute_result",
          "data": {
            "text/plain": [
              "['i', 'am', 'love', 'comput']"
            ]
          },
          "metadata": {},
          "execution_count": 10
        }
      ]
    },
    {
      "cell_type": "code",
      "source": [
        "# Data Cleaning using stemmer works on word to word\n",
        "\n",
        "stemmer = PorterStemmer()\n",
        "data = \"I am loving computing\".split()\n",
        "print(data)\n",
        "\" \".join([stemmer.stem(i) for i in data])\n",
        "# stemmer.stem(\"\")"
      ],
      "metadata": {
        "colab": {
          "base_uri": "https://localhost:8080/",
          "height": 53
        },
        "id": "a5EbVcgCwNKQ",
        "outputId": "7177e5bb-2390-40b3-a064-041af76eb3b9"
      },
      "execution_count": null,
      "outputs": [
        {
          "output_type": "stream",
          "name": "stdout",
          "text": [
            "['I', 'am', 'loving', 'computing']\n"
          ]
        },
        {
          "output_type": "execute_result",
          "data": {
            "text/plain": [
              "'i am love comput'"
            ],
            "application/vnd.google.colaboratory.intrinsic+json": {
              "type": "string"
            }
          },
          "metadata": {},
          "execution_count": 11
        }
      ]
    },
    {
      "cell_type": "code",
      "source": [
        "# Data Cleaning using stemmer works on word to word\n",
        "\n",
        "stemmer = PorterStemmer()\n",
        "data = \"I am loving computing\".split()\n",
        "\" \".join([stemmer.stem(i) for i in data])\n",
        "# stemmer.stem(\"\")"
      ],
      "metadata": {
        "colab": {
          "base_uri": "https://localhost:8080/",
          "height": 35
        },
        "id": "bQU9V9SN1yUy",
        "outputId": "457a4a48-a6f1-4a39-fece-e9153f806962"
      },
      "execution_count": null,
      "outputs": [
        {
          "output_type": "execute_result",
          "data": {
            "text/plain": [
              "'i am love comput'"
            ],
            "application/vnd.google.colaboratory.intrinsic+json": {
              "type": "string"
            }
          },
          "metadata": {},
          "execution_count": 12
        }
      ]
    },
    {
      "cell_type": "code",
      "source": [
        "# stemmer = PorterStemmer()\n",
        "# data = df['text'[0]].split()\n",
        "# print(len(data))\n",
        "# \" \".join([stemmer.stem(i) for i in df['text'][0]])\n",
        "# # stemmer.stem(\"\")"
      ],
      "metadata": {
        "id": "vbXZza85wvUW"
      },
      "execution_count": null,
      "outputs": []
    },
    {
      "cell_type": "code",
      "source": [
        "# Data Cleaning removing stopwords\n",
        "words = stopwords.words(\"english\")\n",
        "print(words)\n",
        "without_stop_words_of_a_news = \" \".join([i for i in regs.lower().split() if i not in words])\n",
        "without_stop_words_of_a_news"
      ],
      "metadata": {
        "colab": {
          "base_uri": "https://localhost:8080/",
          "height": 214
        },
        "id": "mZPU9uU5fr2I",
        "outputId": "db57d25e-7b28-484b-c9a3-3789cc402640"
      },
      "execution_count": null,
      "outputs": [
        {
          "output_type": "stream",
          "name": "stdout",
          "text": [
            "['i', 'me', 'my', 'myself', 'we', 'our', 'ours', 'ourselves', 'you', \"you're\", \"you've\", \"you'll\", \"you'd\", 'your', 'yours', 'yourself', 'yourselves', 'he', 'him', 'his', 'himself', 'she', \"she's\", 'her', 'hers', 'herself', 'it', \"it's\", 'its', 'itself', 'they', 'them', 'their', 'theirs', 'themselves', 'what', 'which', 'who', 'whom', 'this', 'that', \"that'll\", 'these', 'those', 'am', 'is', 'are', 'was', 'were', 'be', 'been', 'being', 'have', 'has', 'had', 'having', 'do', 'does', 'did', 'doing', 'a', 'an', 'the', 'and', 'but', 'if', 'or', 'because', 'as', 'until', 'while', 'of', 'at', 'by', 'for', 'with', 'about', 'against', 'between', 'into', 'through', 'during', 'before', 'after', 'above', 'below', 'to', 'from', 'up', 'down', 'in', 'out', 'on', 'off', 'over', 'under', 'again', 'further', 'then', 'once', 'here', 'there', 'when', 'where', 'why', 'how', 'all', 'any', 'both', 'each', 'few', 'more', 'most', 'other', 'some', 'such', 'no', 'nor', 'not', 'only', 'own', 'same', 'so', 'than', 'too', 'very', 's', 't', 'can', 'will', 'just', 'don', \"don't\", 'should', \"should've\", 'now', 'd', 'll', 'm', 'o', 're', 've', 'y', 'ain', 'aren', \"aren't\", 'couldn', \"couldn't\", 'didn', \"didn't\", 'doesn', \"doesn't\", 'hadn', \"hadn't\", 'hasn', \"hasn't\", 'haven', \"haven't\", 'isn', \"isn't\", 'ma', 'mightn', \"mightn't\", 'mustn', \"mustn't\", 'needn', \"needn't\", 'shan', \"shan't\", 'shouldn', \"shouldn't\", 'wasn', \"wasn't\", 'weren', \"weren't\", 'won', \"won't\", 'wouldn', \"wouldn't\"]\n"
          ]
        },
        {
          "output_type": "execute_result",
          "data": {
            "text/plain": [
              "'bets big brother leak bookmaker stopped taking bets celebrity big brother claiming sensitive information channel show leaked william hill made move four people tried place bets friday surprise double eviction highly unlikely inspired guess william hill spokesman rupert adams said however big brother spokeswoman satisfied sensitive information show remained confidential bookmaker said suspicions aroused betting last two contestant evictions people still trying place large sums despite odds short william hill overwhelming evidence came friday four unknown callers asked place bets show surprise double eviction shortly afterwards model caprice actor jeremy edwards left show mr adams believed someone gained access figures revealed viewers voting using predict celebrity would evicted next think somebody somewhere got trying hard take us cleaners said bets taken mr adams believe anyone channel big brother producer endemol tried place queried bets added need look many people privy sensitive information big brother spokeswoman said handful senior production executives privy sensitive information regarding eviction voting strict procedures place keep information strictly confidential feel need investigate satisfied measures effective show independent adjudicator electoral reform services also satisfied added current series celebrity big brother ends sunday happy mondays star bez actress brigitte nielsen blazin squad rapper kenzie competing charity prize bookmaker ladbrokes said would continue accept bets final kenzie favourite felt need whatsoever close book spokesman warren lush said seen absolutely suspicious betting patterns mr lush added people sometimes vote short odds think like buying money risk quite lot money small gain think chance upset still said'"
            ],
            "application/vnd.google.colaboratory.intrinsic+json": {
              "type": "string"
            }
          },
          "metadata": {},
          "execution_count": 14
        }
      ]
    },
    {
      "cell_type": "code",
      "source": [
        "regs = re.sub(\"[^a-zA-Z]\", \" \", df['text'][2154]).lower() #character to character\n",
        "regs"
      ],
      "metadata": {
        "colab": {
          "base_uri": "https://localhost:8080/",
          "height": 177
        },
        "id": "cuq77NOu1mAx",
        "outputId": "afc4425c-378e-4f21-ce9d-42a28609a553"
      },
      "execution_count": null,
      "outputs": [
        {
          "output_type": "execute_result",
          "data": {
            "text/plain": [
              "'green reports shun supply chain nearly     more uk top     firms produced non financial reports on social and environment issues than last year   but of the     companies reporting      didn t examine their supply chains  says the annual directions survey  green groups say putting pressure on supply chains is a major way companies can reduce their environmental impact  the survey is published by corporate social responsibility firm context and branding firm salterbaxter   blake lee harwood  campaigns director at greenpeace in the uk  said   it s fairly meaningless to talk about your company s direction in terms of sustainability without having detailed knowledge of your supply chain   it s also important to get some kind of independent assessment of your reporting    less than a quarter of companies       get their corporate social responsibility  csr  reports independently verified to provide assurances they are accurate and complete  says the survey  to date there are no set standards for non financial reporting  although the global reporting initiative  an independent pro sustainability institution  is planning to establish some  the reports surveyed by directions are published voluntarily  they are usually called corporate social responsibility  csr  reports  sustainability reports  or social and environmental reports   peter knight  director of context  says    uk top     companies reported for the first time this year and  in general  the quality of reports has improved   the corporate lexicon of homilies  generalities and soft assurances   fluff   is on its way out  there are less pictures of smiling children and butterflies   the uk government will soon require all quoted companies to report their social and environmental risks in a chapter in their annual reports  called the operating and financial review  the regulation is not expected until      and the first reports under this scheme will not be published before       the us seems to lag europe in producing corporate social responsibility reports  the majority of european top    companies      publish them and only    of the us top    '"
            ],
            "application/vnd.google.colaboratory.intrinsic+json": {
              "type": "string"
            }
          },
          "metadata": {},
          "execution_count": 15
        }
      ]
    },
    {
      "cell_type": "code",
      "source": [
        "# Doing all cleaning process using regex, stemmer, stopwords for all data\n",
        "#join le list ko element lai sentence ma covert garni kaam garxa\n",
        "df['cleaned'] = list(map(lambda x: \" \".join([i for i in re.sub(\"[^a-zA-Z]\", \" \", x).split() if i not in words]),df['text']))\n",
        "df['cleaned'] = df['cleaned'].apply(lambda x: \" \".join([stemmer.stem(i) for i in x.lower().split()]))\n",
        "df"
      ],
      "metadata": {
        "id": "8iBXfOfoFvaF",
        "colab": {
          "base_uri": "https://localhost:8080/",
          "height": 423
        },
        "outputId": "b5be5415-e169-4449-a8d3-03fc8624ea65"
      },
      "execution_count": null,
      "outputs": [
        {
          "output_type": "execute_result",
          "data": {
            "text/plain": [
              "           category                                               text  \\\n",
              "1762       politics  mps quiz aides over royal income senior offici...   \n",
              "1833       business  us gives foreign firms extra time foreign firm...   \n",
              "1626       business  high fuel prices hit ba s profits british airw...   \n",
              "807   entertainment  films on war triumph at sundance a study of th...   \n",
              "475   entertainment  prince crowned  top music earner  prince earne...   \n",
              "...             ...                                                ...   \n",
              "181            tech  blogger grounded by her airline a us airline a...   \n",
              "1453           tech  broadband set to revolutionise tv bt is starti...   \n",
              "608        politics  probe launched on ken nazi jibe an investigati...   \n",
              "2013       business  trade gap narrows as exports rise the uk s tra...   \n",
              "2113           tech  gadget show heralds mp3 christmas partners of ...   \n",
              "\n",
              "                                                cleaned  \n",
              "1762  mp quiz aid royal incom senior offici two bodi...  \n",
              "1833  us give foreign firm extra time foreign firm g...  \n",
              "1626  high fuel price hit ba profit british airway b...  \n",
              "807   film war triumph sundanc studi unit state war ...  \n",
              "475   princ crown top music earner princ earn pop st...  \n",
              "...                                                 ...  \n",
              "181   blogger ground airlin us airlin attend fight j...  \n",
              "1453  broadband set revolutionis tv bt start push te...  \n",
              "608   probe launch ken nazi jibe investig standard b...  \n",
              "2013  trade gap narrow export rise uk trade gap narr...  \n",
              "2113  gadget show herald mp christma partner love hi...  \n",
              "\n",
              "[2225 rows x 3 columns]"
            ],
            "text/html": [
              "\n",
              "  <div id=\"df-5c463796-3f50-4836-8c36-cc131b47e343\" class=\"colab-df-container\">\n",
              "    <div>\n",
              "<style scoped>\n",
              "    .dataframe tbody tr th:only-of-type {\n",
              "        vertical-align: middle;\n",
              "    }\n",
              "\n",
              "    .dataframe tbody tr th {\n",
              "        vertical-align: top;\n",
              "    }\n",
              "\n",
              "    .dataframe thead th {\n",
              "        text-align: right;\n",
              "    }\n",
              "</style>\n",
              "<table border=\"1\" class=\"dataframe\">\n",
              "  <thead>\n",
              "    <tr style=\"text-align: right;\">\n",
              "      <th></th>\n",
              "      <th>category</th>\n",
              "      <th>text</th>\n",
              "      <th>cleaned</th>\n",
              "    </tr>\n",
              "  </thead>\n",
              "  <tbody>\n",
              "    <tr>\n",
              "      <th>1762</th>\n",
              "      <td>politics</td>\n",
              "      <td>mps quiz aides over royal income senior offici...</td>\n",
              "      <td>mp quiz aid royal incom senior offici two bodi...</td>\n",
              "    </tr>\n",
              "    <tr>\n",
              "      <th>1833</th>\n",
              "      <td>business</td>\n",
              "      <td>us gives foreign firms extra time foreign firm...</td>\n",
              "      <td>us give foreign firm extra time foreign firm g...</td>\n",
              "    </tr>\n",
              "    <tr>\n",
              "      <th>1626</th>\n",
              "      <td>business</td>\n",
              "      <td>high fuel prices hit ba s profits british airw...</td>\n",
              "      <td>high fuel price hit ba profit british airway b...</td>\n",
              "    </tr>\n",
              "    <tr>\n",
              "      <th>807</th>\n",
              "      <td>entertainment</td>\n",
              "      <td>films on war triumph at sundance a study of th...</td>\n",
              "      <td>film war triumph sundanc studi unit state war ...</td>\n",
              "    </tr>\n",
              "    <tr>\n",
              "      <th>475</th>\n",
              "      <td>entertainment</td>\n",
              "      <td>prince crowned  top music earner  prince earne...</td>\n",
              "      <td>princ crown top music earner princ earn pop st...</td>\n",
              "    </tr>\n",
              "    <tr>\n",
              "      <th>...</th>\n",
              "      <td>...</td>\n",
              "      <td>...</td>\n",
              "      <td>...</td>\n",
              "    </tr>\n",
              "    <tr>\n",
              "      <th>181</th>\n",
              "      <td>tech</td>\n",
              "      <td>blogger grounded by her airline a us airline a...</td>\n",
              "      <td>blogger ground airlin us airlin attend fight j...</td>\n",
              "    </tr>\n",
              "    <tr>\n",
              "      <th>1453</th>\n",
              "      <td>tech</td>\n",
              "      <td>broadband set to revolutionise tv bt is starti...</td>\n",
              "      <td>broadband set revolutionis tv bt start push te...</td>\n",
              "    </tr>\n",
              "    <tr>\n",
              "      <th>608</th>\n",
              "      <td>politics</td>\n",
              "      <td>probe launched on ken nazi jibe an investigati...</td>\n",
              "      <td>probe launch ken nazi jibe investig standard b...</td>\n",
              "    </tr>\n",
              "    <tr>\n",
              "      <th>2013</th>\n",
              "      <td>business</td>\n",
              "      <td>trade gap narrows as exports rise the uk s tra...</td>\n",
              "      <td>trade gap narrow export rise uk trade gap narr...</td>\n",
              "    </tr>\n",
              "    <tr>\n",
              "      <th>2113</th>\n",
              "      <td>tech</td>\n",
              "      <td>gadget show heralds mp3 christmas partners of ...</td>\n",
              "      <td>gadget show herald mp christma partner love hi...</td>\n",
              "    </tr>\n",
              "  </tbody>\n",
              "</table>\n",
              "<p>2225 rows × 3 columns</p>\n",
              "</div>\n",
              "    <div class=\"colab-df-buttons\">\n",
              "\n",
              "  <div class=\"colab-df-container\">\n",
              "    <button class=\"colab-df-convert\" onclick=\"convertToInteractive('df-5c463796-3f50-4836-8c36-cc131b47e343')\"\n",
              "            title=\"Convert this dataframe to an interactive table.\"\n",
              "            style=\"display:none;\">\n",
              "\n",
              "  <svg xmlns=\"http://www.w3.org/2000/svg\" height=\"24px\" viewBox=\"0 -960 960 960\">\n",
              "    <path d=\"M120-120v-720h720v720H120Zm60-500h600v-160H180v160Zm220 220h160v-160H400v160Zm0 220h160v-160H400v160ZM180-400h160v-160H180v160Zm440 0h160v-160H620v160ZM180-180h160v-160H180v160Zm440 0h160v-160H620v160Z\"/>\n",
              "  </svg>\n",
              "    </button>\n",
              "\n",
              "  <style>\n",
              "    .colab-df-container {\n",
              "      display:flex;\n",
              "      gap: 12px;\n",
              "    }\n",
              "\n",
              "    .colab-df-convert {\n",
              "      background-color: #E8F0FE;\n",
              "      border: none;\n",
              "      border-radius: 50%;\n",
              "      cursor: pointer;\n",
              "      display: none;\n",
              "      fill: #1967D2;\n",
              "      height: 32px;\n",
              "      padding: 0 0 0 0;\n",
              "      width: 32px;\n",
              "    }\n",
              "\n",
              "    .colab-df-convert:hover {\n",
              "      background-color: #E2EBFA;\n",
              "      box-shadow: 0px 1px 2px rgba(60, 64, 67, 0.3), 0px 1px 3px 1px rgba(60, 64, 67, 0.15);\n",
              "      fill: #174EA6;\n",
              "    }\n",
              "\n",
              "    .colab-df-buttons div {\n",
              "      margin-bottom: 4px;\n",
              "    }\n",
              "\n",
              "    [theme=dark] .colab-df-convert {\n",
              "      background-color: #3B4455;\n",
              "      fill: #D2E3FC;\n",
              "    }\n",
              "\n",
              "    [theme=dark] .colab-df-convert:hover {\n",
              "      background-color: #434B5C;\n",
              "      box-shadow: 0px 1px 3px 1px rgba(0, 0, 0, 0.15);\n",
              "      filter: drop-shadow(0px 1px 2px rgba(0, 0, 0, 0.3));\n",
              "      fill: #FFFFFF;\n",
              "    }\n",
              "  </style>\n",
              "\n",
              "    <script>\n",
              "      const buttonEl =\n",
              "        document.querySelector('#df-5c463796-3f50-4836-8c36-cc131b47e343 button.colab-df-convert');\n",
              "      buttonEl.style.display =\n",
              "        google.colab.kernel.accessAllowed ? 'block' : 'none';\n",
              "\n",
              "      async function convertToInteractive(key) {\n",
              "        const element = document.querySelector('#df-5c463796-3f50-4836-8c36-cc131b47e343');\n",
              "        const dataTable =\n",
              "          await google.colab.kernel.invokeFunction('convertToInteractive',\n",
              "                                                    [key], {});\n",
              "        if (!dataTable) return;\n",
              "\n",
              "        const docLinkHtml = 'Like what you see? Visit the ' +\n",
              "          '<a target=\"_blank\" href=https://colab.research.google.com/notebooks/data_table.ipynb>data table notebook</a>'\n",
              "          + ' to learn more about interactive tables.';\n",
              "        element.innerHTML = '';\n",
              "        dataTable['output_type'] = 'display_data';\n",
              "        await google.colab.output.renderOutput(dataTable, element);\n",
              "        const docLink = document.createElement('div');\n",
              "        docLink.innerHTML = docLinkHtml;\n",
              "        element.appendChild(docLink);\n",
              "      }\n",
              "    </script>\n",
              "  </div>\n",
              "\n",
              "\n",
              "<div id=\"df-94c3f61a-da46-4041-be62-82471fed555b\">\n",
              "  <button class=\"colab-df-quickchart\" onclick=\"quickchart('df-94c3f61a-da46-4041-be62-82471fed555b')\"\n",
              "            title=\"Suggest charts\"\n",
              "            style=\"display:none;\">\n",
              "\n",
              "<svg xmlns=\"http://www.w3.org/2000/svg\" height=\"24px\"viewBox=\"0 0 24 24\"\n",
              "     width=\"24px\">\n",
              "    <g>\n",
              "        <path d=\"M19 3H5c-1.1 0-2 .9-2 2v14c0 1.1.9 2 2 2h14c1.1 0 2-.9 2-2V5c0-1.1-.9-2-2-2zM9 17H7v-7h2v7zm4 0h-2V7h2v10zm4 0h-2v-4h2v4z\"/>\n",
              "    </g>\n",
              "</svg>\n",
              "  </button>\n",
              "\n",
              "<style>\n",
              "  .colab-df-quickchart {\n",
              "      --bg-color: #E8F0FE;\n",
              "      --fill-color: #1967D2;\n",
              "      --hover-bg-color: #E2EBFA;\n",
              "      --hover-fill-color: #174EA6;\n",
              "      --disabled-fill-color: #AAA;\n",
              "      --disabled-bg-color: #DDD;\n",
              "  }\n",
              "\n",
              "  [theme=dark] .colab-df-quickchart {\n",
              "      --bg-color: #3B4455;\n",
              "      --fill-color: #D2E3FC;\n",
              "      --hover-bg-color: #434B5C;\n",
              "      --hover-fill-color: #FFFFFF;\n",
              "      --disabled-bg-color: #3B4455;\n",
              "      --disabled-fill-color: #666;\n",
              "  }\n",
              "\n",
              "  .colab-df-quickchart {\n",
              "    background-color: var(--bg-color);\n",
              "    border: none;\n",
              "    border-radius: 50%;\n",
              "    cursor: pointer;\n",
              "    display: none;\n",
              "    fill: var(--fill-color);\n",
              "    height: 32px;\n",
              "    padding: 0;\n",
              "    width: 32px;\n",
              "  }\n",
              "\n",
              "  .colab-df-quickchart:hover {\n",
              "    background-color: var(--hover-bg-color);\n",
              "    box-shadow: 0 1px 2px rgba(60, 64, 67, 0.3), 0 1px 3px 1px rgba(60, 64, 67, 0.15);\n",
              "    fill: var(--button-hover-fill-color);\n",
              "  }\n",
              "\n",
              "  .colab-df-quickchart-complete:disabled,\n",
              "  .colab-df-quickchart-complete:disabled:hover {\n",
              "    background-color: var(--disabled-bg-color);\n",
              "    fill: var(--disabled-fill-color);\n",
              "    box-shadow: none;\n",
              "  }\n",
              "\n",
              "  .colab-df-spinner {\n",
              "    border: 2px solid var(--fill-color);\n",
              "    border-color: transparent;\n",
              "    border-bottom-color: var(--fill-color);\n",
              "    animation:\n",
              "      spin 1s steps(1) infinite;\n",
              "  }\n",
              "\n",
              "  @keyframes spin {\n",
              "    0% {\n",
              "      border-color: transparent;\n",
              "      border-bottom-color: var(--fill-color);\n",
              "      border-left-color: var(--fill-color);\n",
              "    }\n",
              "    20% {\n",
              "      border-color: transparent;\n",
              "      border-left-color: var(--fill-color);\n",
              "      border-top-color: var(--fill-color);\n",
              "    }\n",
              "    30% {\n",
              "      border-color: transparent;\n",
              "      border-left-color: var(--fill-color);\n",
              "      border-top-color: var(--fill-color);\n",
              "      border-right-color: var(--fill-color);\n",
              "    }\n",
              "    40% {\n",
              "      border-color: transparent;\n",
              "      border-right-color: var(--fill-color);\n",
              "      border-top-color: var(--fill-color);\n",
              "    }\n",
              "    60% {\n",
              "      border-color: transparent;\n",
              "      border-right-color: var(--fill-color);\n",
              "    }\n",
              "    80% {\n",
              "      border-color: transparent;\n",
              "      border-right-color: var(--fill-color);\n",
              "      border-bottom-color: var(--fill-color);\n",
              "    }\n",
              "    90% {\n",
              "      border-color: transparent;\n",
              "      border-bottom-color: var(--fill-color);\n",
              "    }\n",
              "  }\n",
              "</style>\n",
              "\n",
              "  <script>\n",
              "    async function quickchart(key) {\n",
              "      const quickchartButtonEl =\n",
              "        document.querySelector('#' + key + ' button');\n",
              "      quickchartButtonEl.disabled = true;  // To prevent multiple clicks.\n",
              "      quickchartButtonEl.classList.add('colab-df-spinner');\n",
              "      try {\n",
              "        const charts = await google.colab.kernel.invokeFunction(\n",
              "            'suggestCharts', [key], {});\n",
              "      } catch (error) {\n",
              "        console.error('Error during call to suggestCharts:', error);\n",
              "      }\n",
              "      quickchartButtonEl.classList.remove('colab-df-spinner');\n",
              "      quickchartButtonEl.classList.add('colab-df-quickchart-complete');\n",
              "    }\n",
              "    (() => {\n",
              "      let quickchartButtonEl =\n",
              "        document.querySelector('#df-94c3f61a-da46-4041-be62-82471fed555b button');\n",
              "      quickchartButtonEl.style.display =\n",
              "        google.colab.kernel.accessAllowed ? 'block' : 'none';\n",
              "    })();\n",
              "  </script>\n",
              "</div>\n",
              "\n",
              "  <div id=\"id_e912d314-9113-4866-a2e9-cfeb1ddc37a2\">\n",
              "    <style>\n",
              "      .colab-df-generate {\n",
              "        background-color: #E8F0FE;\n",
              "        border: none;\n",
              "        border-radius: 50%;\n",
              "        cursor: pointer;\n",
              "        display: none;\n",
              "        fill: #1967D2;\n",
              "        height: 32px;\n",
              "        padding: 0 0 0 0;\n",
              "        width: 32px;\n",
              "      }\n",
              "\n",
              "      .colab-df-generate:hover {\n",
              "        background-color: #E2EBFA;\n",
              "        box-shadow: 0px 1px 2px rgba(60, 64, 67, 0.3), 0px 1px 3px 1px rgba(60, 64, 67, 0.15);\n",
              "        fill: #174EA6;\n",
              "      }\n",
              "\n",
              "      [theme=dark] .colab-df-generate {\n",
              "        background-color: #3B4455;\n",
              "        fill: #D2E3FC;\n",
              "      }\n",
              "\n",
              "      [theme=dark] .colab-df-generate:hover {\n",
              "        background-color: #434B5C;\n",
              "        box-shadow: 0px 1px 3px 1px rgba(0, 0, 0, 0.15);\n",
              "        filter: drop-shadow(0px 1px 2px rgba(0, 0, 0, 0.3));\n",
              "        fill: #FFFFFF;\n",
              "      }\n",
              "    </style>\n",
              "    <button class=\"colab-df-generate\" onclick=\"generateWithVariable('df')\"\n",
              "            title=\"Generate code using this dataframe.\"\n",
              "            style=\"display:none;\">\n",
              "\n",
              "  <svg xmlns=\"http://www.w3.org/2000/svg\" height=\"24px\"viewBox=\"0 0 24 24\"\n",
              "       width=\"24px\">\n",
              "    <path d=\"M7,19H8.4L18.45,9,17,7.55,7,17.6ZM5,21V16.75L18.45,3.32a2,2,0,0,1,2.83,0l1.4,1.43a1.91,1.91,0,0,1,.58,1.4,1.91,1.91,0,0,1-.58,1.4L9.25,21ZM18.45,9,17,7.55Zm-12,3A5.31,5.31,0,0,0,4.9,8.1,5.31,5.31,0,0,0,1,6.5,5.31,5.31,0,0,0,4.9,4.9,5.31,5.31,0,0,0,6.5,1,5.31,5.31,0,0,0,8.1,4.9,5.31,5.31,0,0,0,12,6.5,5.46,5.46,0,0,0,6.5,12Z\"/>\n",
              "  </svg>\n",
              "    </button>\n",
              "    <script>\n",
              "      (() => {\n",
              "      const buttonEl =\n",
              "        document.querySelector('#id_e912d314-9113-4866-a2e9-cfeb1ddc37a2 button.colab-df-generate');\n",
              "      buttonEl.style.display =\n",
              "        google.colab.kernel.accessAllowed ? 'block' : 'none';\n",
              "\n",
              "      buttonEl.onclick = () => {\n",
              "        google.colab.notebook.generateWithVariable('df');\n",
              "      }\n",
              "      })();\n",
              "    </script>\n",
              "  </div>\n",
              "\n",
              "    </div>\n",
              "  </div>\n"
            ],
            "application/vnd.google.colaboratory.intrinsic+json": {
              "type": "dataframe",
              "variable_name": "df",
              "summary": "{\n  \"name\": \"df\",\n  \"rows\": 2225,\n  \"fields\": [\n    {\n      \"column\": \"category\",\n      \"properties\": {\n        \"dtype\": \"category\",\n        \"num_unique_values\": 5,\n        \"samples\": [\n          \"business\",\n          \"sport\",\n          \"entertainment\"\n        ],\n        \"semantic_type\": \"\",\n        \"description\": \"\"\n      }\n    },\n    {\n      \"column\": \"text\",\n      \"properties\": {\n        \"dtype\": \"string\",\n        \"num_unique_values\": 2126,\n        \"samples\": [\n          \"diageo to buy us wine firm diageo  the world s biggest spirits company  has agreed to buy californian wine company chalone for $260m (\\u00c2\\u00a3134m) in an all-cash deal.  although diageo s best-known brands include smirnoff vodka and guinness stout  it already has a us winemaking arm - diageo chateau & estate wines. diageo said it expects to get us regulatory approval for the deal during the first quarter of 2005. it said chalone would be integrated into its existing us wine business.   the us wine market represents a growth opportunity for diageo  with favourable demographic and consumption trends   said diageo north america president ivan menezes. in july  diageo  which is listed on the london stock exchange  reported an annual turnover of \\u00c2\\u00a38.89bn  down from \\u00c2\\u00a39.28bn a year earlier. it blamed a weaker dollar for its lower turnover. in the year ending 31 december 2003  chalone reported revenues of $69.4m.\",\n          \"baywatch dubbed  worst tv import  surf show baywatch has won the title of worst tv import of all time in a poll of uk television executives.  the programme  which starred david hasselhoff and pamela anderson during its 12-year run  was shown in 140 countries at its height. model anna nicole smith s reality show and the dukes of hazzard were runners-up in the broadcast magazine survey. the simpsons and dallas and 24 were among the magazine s list of the best all-time imports from the us. soap operas knots landing  falcon crest plus the bold and the beautiful all made the top 10 of transatlantic tv howlers. the jerry springer show  which came in at sixth on the list  did not fare well.  broadcast magazine said:  british tv never realised how low it could go before jerry showed the way.  baywatch rose to the top of the list for having  mind-numbingly predictable scripts: beachgoer is saved from drowning   according to the magazine. just inside the all-time worst top 10 came extreme makeover  which sees members of the public given thousands of pounds worth of plastic surgery. other american shows which won praise were the x-files  i love lucy  twin peaks and star trek.\",\n          \"hantuchova in dubai last eight daniela hantuchova moved into the quarter-finals of the dubai open  after beating elene likhotseva of russia 7-5 6-4  and now faces serena williams.  australian open champion williams survived an early scare to beat russia s elena bovina 1-6 6-1 6-4. world number one lindsay davenport and anastasia myskina also progressed. davenport defeated china s jie zheng 6-2 7-5  while french open champion myskina sailed through after her opponent marion bartoli retired hurt. american davenport will now face fellow former wimbledon champion  conchita martinez of spain  who ousted seventh-seeded nathalie dechy of france 6-1 6-2. myskina will face eighth-seed patty schnyder from switzerland  who defeated china s li na 6-3 7-6 (10-8). the other quarter final pits wild card sania mirza of india against jelena jankovic of serbia and montenegro  who both won on tuesday.  before her meeting with martinez  davenport believes there is some room for improvement in her game.  i started well and finished well  but played some so-so games in the middle   she said. williams was also far from content.  i don t know what i was doing there   she said.  it was really windy and i hadn t played in the wind. all my shots were going out of here.  but hantuchova is in upbeat mood ahead of her clash with the younger williams sister  who was handed a first-round bye.  i feel i have an advantage (over serena) because i have already played two matches on these courts   she said.  it is a difficult court to play on. very fast and sometimes you feel you have no control over the ball.\"\n        ],\n        \"semantic_type\": \"\",\n        \"description\": \"\"\n      }\n    },\n    {\n      \"column\": \"cleaned\",\n      \"properties\": {\n        \"dtype\": \"string\",\n        \"num_unique_values\": 2117,\n        \"samples\": [\n          \"god cut dark materi film director screenwrit film adapt philip pullman dark materi remov refer god church movi chri weitz director boy said chang made film studio new line express concern book tell battl church fight overthrow god express worri possibl perceiv anti religios weitz told dark materi fan websit pullman trilog attack christian teacher cathol press blasphemi weitz admit would mani peopl first choic direct film said regard film adapt import work life part one book chang life told bridgetothestar net award win trilog northern light subtl knife amber spyglass tell stori oxford school child lyra belacqua drawn epic struggl church carri experi children attempt remov origin sin book progress struggl turn battl overthrow author figur god like book weitz direct american pie boy said new line fear anti religios film would make project unviabl financi said best effort direct toward keep film liber iconoclast experi may modif term weitz said visit pullman told author could repres arbitrari establish curtail freedom individu whether religi polit totalitarian fundamentalist communist ad desir chang natur intent villain piec may appear subtl guis number christian websit attack trilog depict church god pullman deni book anti religi agent told time newspap pullman happi adapt far cours new line want make money mr weitz wonder director philip support recognis challeng climat bush america\",\n          \"junk e mail relentless rise spam traffic put total amount e mail junk astonish figur e mail manag firm email system alarm firm attempt cope amount spam box viru traffic slow denial servic attack increas accord firm viru mail account e mail traffic analysi firm found longer multi nation danger call denial servic attack websit bombard request inform render inaccess email system refer small uk base engin firm receiv stagger million e mail januari type spam current sent subtleti alter last month accord email system analysi half spam receiv sinc christma health relat gambl porn also increas scam mail offer way make quick buck declin januari clearli month consum less motiv purchas financi product put money dubiou financi opportun said neil hammerton manag director email system spammer seem adapt output reflect focuss instead medic motiv pornograph offer presum intent intend coincid tradit consid bleakest month calendar said\",\n          \"women film earn less women uk film industri earn less male counterpart despit better qualifi accord studi releas wednesday women earn compar men women make third workforc research carri jointli uk film council industri train bodi skillset also found women industri less like men marri depend children studi claim depth far conduct found women film industri hold degre compar men whilst men industri qualif true five per cent women lower salari bracket women earn less year compar men research found women work camera sound electr construct depart made major work make hairdress uk film council chief execut john woodward said whilst uk benefit huge highli qualifi film product workforc still mani barrier face peopl want get stay industri develop film product workforc must underpin commit divers well train workforc larg focus around london industri base capit south east england industri depend heavili word mouth recruit way total five percent workforc made ethnic minor although london figur rise necess complet unpaid work experi get workforc also shot\"\n        ],\n        \"semantic_type\": \"\",\n        \"description\": \"\"\n      }\n    }\n  ]\n}"
            }
          },
          "metadata": {},
          "execution_count": 16
        }
      ]
    },
    {
      "cell_type": "code",
      "source": [],
      "metadata": {
        "id": "YIXUDxjE6a5c"
      },
      "execution_count": null,
      "outputs": []
    },
    {
      "cell_type": "code",
      "source": [
        "# \" \".join([stemmer.stem(i) for i in without_stop_words_of_a_news.lower().split()])"
      ],
      "metadata": {
        "id": "UTol9PtmCFVX"
      },
      "execution_count": null,
      "outputs": []
    },
    {
      "cell_type": "code",
      "source": [
        "# list(filter(lambda x: [stemmer.stem(i) for i in re.sub(\"[^a-zA-Z]\", \" \", x).split() if i not in words],df['text']))"
      ],
      "metadata": {
        "id": "0JAup9jYdIxf"
      },
      "execution_count": null,
      "outputs": []
    },
    {
      "cell_type": "code",
      "source": [
        "# #cleaning dataset\n",
        "# nltk.download('stopwords')\n",
        "# stemmer = PorterStemmer()\n",
        "# words = stopwords.words(\"english\")\n",
        "# words.extend(['a','an','the'])\n",
        "# df['cleaned'] = df['cleaned'].apply(lambda x: \" \".join([stemmer.stem(i) for i in re.sub(\"[^a-zA-Z]\", \" \", x.lower()).split() if i not in words]).lower())\n",
        "# # df['newcleaned'] = [(i for i in list(df['cleaned'])).split() if i not in words ]\n",
        "# df"
      ],
      "metadata": {
        "id": "IL-p5ILB90nL"
      },
      "execution_count": null,
      "outputs": []
    },
    {
      "cell_type": "code",
      "source": [
        "df.to_csv('cleaned_news.csv')"
      ],
      "metadata": {
        "id": "a768Xycnb50R"
      },
      "execution_count": null,
      "outputs": []
    },
    {
      "cell_type": "code",
      "source": [
        "from google.colab import drive\n",
        "drive.mount('/content/drive')"
      ],
      "metadata": {
        "id": "-_8SX5hn0lXm",
        "colab": {
          "base_uri": "https://localhost:8080/"
        },
        "outputId": "1ba5f8f5-84a2-4683-8273-57678af9e11b"
      },
      "execution_count": null,
      "outputs": [
        {
          "output_type": "stream",
          "name": "stdout",
          "text": [
            "Drive already mounted at /content/drive; to attempt to forcibly remount, call drive.mount(\"/content/drive\", force_remount=True).\n"
          ]
        }
      ]
    },
    {
      "cell_type": "code",
      "source": [
        "# df['cleaned'] = df['text'].apply(lambda x: \" \".join([stemmer.stem(i) for i in re.sub(\"[^a-zA-Z]\", \" \", x).split() ]).lower())\n",
        "# df"
      ],
      "metadata": {
        "id": "76wP0Gl7s-Eb"
      },
      "execution_count": null,
      "outputs": []
    },
    {
      "cell_type": "code",
      "source": [
        "# print(words)"
      ],
      "metadata": {
        "id": "rpyZb6DBr0yS"
      },
      "execution_count": null,
      "outputs": []
    },
    {
      "cell_type": "code",
      "source": [
        "# words = stopwords.words(\"nepali\")\n",
        "# words"
      ],
      "metadata": {
        "id": "9QpxBwUMvFrW"
      },
      "execution_count": null,
      "outputs": []
    },
    {
      "cell_type": "code",
      "source": [
        "# df['cleaned'] = df['text'].apply(lambda x: \" \".join([stemmer.stem(i) for i in re.sub(\"[^a-zA-Z]\", \" \", x).split() if i not in words]).lower())\n",
        "# df"
      ],
      "metadata": {
        "id": "e7YQAi-Asdy2"
      },
      "execution_count": null,
      "outputs": []
    },
    {
      "cell_type": "code",
      "source": [
        "# Training model\n",
        "from sklearn.linear_model import LogisticRegression\n",
        "log_regression = LogisticRegression()\n",
        "\n",
        "vectorizer = TfidfVectorizer()\n",
        "X = df['cleaned'] #dependent\n",
        "Y = df['category'] #independent\n",
        "\n",
        "X_train, X_test, y_train, y_test = train_test_split(X, Y, test_size=0.15) #Splitting dataset\n",
        "\n",
        "# #Creating Pipeline\n",
        "pipeline = Pipeline([('vect', vectorizer),\n",
        "                     ('chi',  SelectKBest(chi2, k=2000)), #how much value you want to take\n",
        "                     ('clf', LogisticRegression(random_state=1))])\n",
        "\n",
        "# from sklearn.pipeline import Pipeline\n",
        "# from sklearn.svm import SVC\n",
        "# pipeline = Pipeline([\n",
        "#     ('bow', CountVectorizer(analyzer=text_process)),  # strings to token integer counts\n",
        "#     ('tfidf', TfidfTransformer()),  # integer counts to weighted TF-IDF scores\n",
        "#     ('classifier', SVC()),  # train on TF-IDF vectors w/ SVM\n",
        "# ])\n",
        "\n",
        "\n",
        "# #Training model\n",
        "model = pipeline.fit(X_train, y_train)\n",
        "\n",
        "# #Creating pickle file\n",
        "# with open('LogisticRegression.pickle', 'wb') as f:\n",
        "#     pickle.dump(model, f)"
      ],
      "metadata": {
        "id": "qunZeGdV_GLj"
      },
      "execution_count": null,
      "outputs": []
    },
    {
      "cell_type": "code",
      "source": [
        "print(X_test,y_test)"
      ],
      "metadata": {
        "id": "Mztp5HS_Mv62",
        "colab": {
          "base_uri": "https://localhost:8080/"
        },
        "outputId": "2782e703-35fd-4e8c-f759-39506324a2dc"
      },
      "execution_count": null,
      "outputs": [
        {
          "output_type": "stream",
          "name": "stdout",
          "text": [
            "944     mourinho expect fight finish chelsea manag jos...\n",
            "692     uk troop ivori coast standbi down street confi...\n",
            "664     uk premier ring music produc behind lord ring ...\n",
            "1313    ring fire hit co writer die merl kilgor co wri...\n",
            "71      singapor growth singapor economi grew best per...\n",
            "                              ...                        \n",
            "490     gigg hand wale lead role ryan gigg captain wal...\n",
            "729     mansfield leyton orient second half goal andi ...\n",
            "1424    smith work scottish wonder worst kept secret s...\n",
            "1818    warn woeful wi fi secur compani get wors keep ...\n",
            "507     gm crunch talk fiat futur fiat meet car giant ...\n",
            "Name: cleaned, Length: 334, dtype: object 944             sport\n",
            "692          politics\n",
            "664     entertainment\n",
            "1313    entertainment\n",
            "71           business\n",
            "            ...      \n",
            "490             sport\n",
            "729             sport\n",
            "1424            sport\n",
            "1818             tech\n",
            "507          business\n",
            "Name: category, Length: 334, dtype: object\n"
          ]
        }
      ]
    },
    {
      "cell_type": "code",
      "source": [
        "#Accuracy\n",
        "from sklearn.metrics import accuracy_score\n",
        "predict_test_news_cat = model.predict(X_test)\n",
        "predict_train_news_cat = model.predict(X_train)\n",
        "\n",
        "print(\"Test accuracy = \", accuracy_score(y_test,predict_test_news_cat))\n",
        "print(\"Train accuracy = \", accuracy_score(y_train,predict_train_news_cat))\n",
        "\n",
        "print('\\n')\n",
        "# print(predict_news_cat)"
      ],
      "metadata": {
        "id": "aAZIfQmWIlP1",
        "colab": {
          "base_uri": "https://localhost:8080/"
        },
        "outputId": "5069c989-d5f6-4c20-9009-33f30e64509b"
      },
      "execution_count": 33,
      "outputs": [
        {
          "output_type": "stream",
          "name": "stdout",
          "text": [
            "Test accuracy =  0.9700598802395209\n",
            "Train accuracy =  0.9894235854045479\n",
            "\n",
            "\n"
          ]
        }
      ]
    },
    {
      "cell_type": "code",
      "source": [
        "\n",
        "# file = open('/content/news.txt','r')\n",
        "# news = file.read()\n",
        "# file.close()\n",
        "\n",
        "news = input(\"Enter news = \")\n",
        "news_data = {'predict_news':[news]}\n",
        "news_data_df = pd.DataFrame(news_data)\n",
        "\n",
        "predict_news_cat = model.predict(news_data_df['predict_news'])\n",
        "print(\"Predicted news category = \",predict_news_cat[0])"
      ],
      "metadata": {
        "id": "5S-Fnbr-DT65",
        "colab": {
          "base_uri": "https://localhost:8080/"
        },
        "outputId": "4f48941c-a3c6-4a0d-cfa8-f9a5e5e8754b"
      },
      "execution_count": 34,
      "outputs": [
        {
          "output_type": "stream",
          "name": "stdout",
          "text": [
            "Enter news = Pelé was simply “The King.” He embraced “the beautiful game” of soccer in his 1958 World Cup debut for Brazil and never really let go.  He won a record three World Cups and was widely regarded as one of his sport’s greatest players. His majestic and galvanizing presence set him among the most recognizable figures in the world.  Pelé died Thursday at 82. He had undergone treatment for colon cancer since 2021.  Pelé was among the game’s most prolific scorers and spent nearly two decades enchanting fans and dazzling opponents. His grace, athleticism and moves on soccer’s highest stage transfixed all. He orchestrated a fast, fluid style of play that revolutionized the sport — a flair that personified Brazilian elegance on the field.  He carried his country to soccer’s heights and became a global ambassador for his sport in a journey that began on the streets of Sao Paulo state, where he would kick a sock stuffed with newspapers or rags.  “Pelé changed everything. He transformed football into art, entertainment,” Neymar, a fellow Brazilian soccer player, said on Instagram. “Football and Brazil elevated their standing thanks to the King! He is gone, but his magic will endure. Pelé is eternal!”  In the conversation about soccer’s greatest player, only the late Diego Maradona, Lionel Messi and Cristiano Ronaldo are mentioned alongside him.  Different sources, counting different sets of games, list Pelé’s goal totals anywhere between 650 (league matches) to 1,281 (all senior matches, some against low-level competition). When Maradona once interviewed Pelé, he playfully asked the Brazilian how he accumulated so many goals.  The player who would be dubbed “The King” was introduced to the world at 17 at the 1958 World Cup in Sweden, the youngest player ever at the tournament.  Pelé was the emblem of his country’s World Cup triumph of 1970 in Mexico. He scored in the final and set up Carlos Alberto with a nonchalant pass for the last goal in a 4-1 victory over Italy.  The image of Pelé in a bright-yellow Brazil jersey, with the No. 10 stamped on the back, remains alive with soccer fans everywhere. As does his trademark goal celebration — a leap with a right fist thrust high above his head.  Pelé’s fame was such that in 1967 factions of a civil war in Nigeria agreed to a brief cease-fire so he could play an exhibition match in the country. He was knighted by Britain’s Queen Elizabeth II in 1997. When Pelé visited Washington to help popularize the game in North America, it was the U.S. president who stuck out his hand first.  “You don’t need to introduce yourself because everyone knows who Pelé is,” Ronald Reagan said.  Pelé was Brazil’s first modern Black national hero but rarely spoke about racism in a country where the rich and powerful tend to hail from the white minority.  Opposing fans taunted Pelé with monkey chants at home and all over the world.  “He said that he would never play if he had to stop every time he heard those chants,” said Angelica Basthi, one of Pelé’s biographers. “He is key for Black people’s pride in Brazil, but never wanted to be a flagbearer.”  Pelé’s life after soccer took many forms. He was a politician — Brazil’s Extraordinary Minister for Sport — a wealthy businessman, and an ambassador for UNESCO and the United Nations.  He had roles in movies, soap operas and even composed songs and recorded CDs of popular Brazilian music.  Pelé was an ambassador for his sport until his final years but as his health deteriorated his travels and appearances became less frequent. After needing a hip replacement, he started using a cane.  He was often seen in a wheelchair during his final years and did not attend a ceremony to unveil a statue of him representing Brazil’s 1970 World Cup team.  “He gets very shy, he gets very embarrassed,” his son Edinho told Globoesporte.com. “He doesn’t want to go out.”  Pelé spent his 80th birthday with a few relatives.  Pelé spent a month hospitalized in 2021 after surgery to remove a tumor from his colon. Pelé said he was ready “to play 90 minutes, plus extra time,” but soon started chemotherapy.  Born Edson Arantes do Nascimento, in the small city of Tres Coracoes in the interior of Minas Gerais state on Oct. 23, 1940, Pelé grew up shining shoes to buy his modest soccer gear. His father was also a player.  Pelé’s talent drew notice when he was 11, and a local professional player brought him to Santos’ youth squads. Despite his youth and 5-foot-8 frame Pelé’ scored against grown men with the same ease he displayed against friends back home. He debuted with the Brazilian club at 15 in 1956, and the club quickly gained worldwide recognition.  The name Pelé came from him mispronouncing the name of a player called Bilé. He later became known simply as ‘O Rei’ – The King.  Pelé went to the 1958 World Cup as a reserve but became a key part for his country’s championship team. His first goal, in which he flicked the ball over the head of a defender and raced around him to volley it home, was voted as one of the best in World Cup history.  “When Pelé scored,” veteran Swedish midfielder Sigge Parling said, “I have to be honest and say I felt like applauding.”  The 1966 World Cup in England — won by the hosts — was a bitter one for Pelé, by then already considered the world’s top player. Brazil was knocked out at the group stage and Pelé, angry at fouls and hard tackles by Portugal, swore it was his last World Cup.  He changed his mind and was rejuvenated in the 1970 World Cup. In a game against England, he struck a header for a certain score, but the great goalkeeper Gordon Banks flipped the ball over the bar in an astonishing move. Pelé likened the save — one of the best in World Cup history — to a “salmon climbing up a waterfall.” Later, he scored the opening goal in the final against Italy, his last World Cup match.  In all, Pelé played 114 matches with Brazil, scoring a record 95 goals — including 77 in official matches. Most of his goals came with Santos, which he led to five national titles, two Copa Libertadores trophies and two club world championships — all in the 1960s.  His run with Santos stretched over three decades until he went into semi-retirement after the 1972 season. Wealthy European clubs tried to sign him, but the Brazilian government intervened to keep him from being sold, declaring him a national treasure.  On the field, Pelé’s energy, vision and imagination drove a gifted Brazilian national team, with intricate passing combinations slicing defenses while leaving room for players to showcase flashy skills.  The fast, fluid style of play exemplified “O Jogo Bonito” — Portuguese for “The Beautiful Game.” And at the center of it all, like a maestro in command of his orchestra, was Pelé. It was his 1977 autobiography, “My Life and the Beautiful Game,” that made the phrase part of soccer’s lexicon.  In 1975, he joined the New York Cosmos of the North American Soccer League. Although he was past his prime at 34 years old, Pelé briefly gave soccer a higher profile in North America before ending his career on Oct. 1, 1977, in an exhibition between the Cosmos and Santos. Among the dignitaries on hand was perhaps the only other athlete whose renown spanned the globe — Muhammad Ali.  Pelé had two daughters out of wedlock and five children from his first two marriages, to Rosemeri dos Reis Cholbi and Assiria Seixas Lemos. He later married businesswoman Marcia Cibele Aoki.\n",
            "Predicted news category =  sport\n"
          ]
        }
      ]
    },
    {
      "cell_type": "code",
      "source": [
        "# confusion matrix and classification report(precision, recall, F1-score)\n",
        "#confusion matrix is used to evaluate ur model\n",
        "ytest = np.array(y_test)\n",
        "print(classification_report(ytest,model.predict(X_test)))\n",
        "print(confusion_matrix(ytest,model.predict(X_test)))\n",
        "\n",
        "\n",
        "import matplotlib.pyplot as plt\n",
        "from sklearn.metrics import ConfusionMatrixDisplay\n",
        "cm = confusion_matrix(ytest,model.predict(X_test))\n",
        "# Change figure size and increase dpi for better resolution\n",
        "# and get reference to axes object\n",
        "fig, ax = plt.subplots(figsize=(8,8), dpi=100)\n",
        "class_names = ['business','entertainment','politics','sport','tech']\n",
        "# initialize using the raw 2D confusion matrix\n",
        "# and output labels (in our case, it's 0 and 1)\n",
        "display = ConfusionMatrixDisplay(cm, display_labels=class_names)\n",
        "\n",
        "# set the plot title using the axes object\n",
        "ax.set(title='Confusion Matrix for Text Classification')\n",
        "\n",
        "# show the plot.\n",
        "# Pass the parameter ax to show customizations (ex. title)\n",
        "display.plot(ax=ax);"
      ],
      "metadata": {
        "id": "y24Ctjrm_rpj",
        "colab": {
          "base_uri": "https://localhost:8080/",
          "height": 956
        },
        "outputId": "61deb26d-3c9b-4e59-a3ac-a55c99bacd9c"
      },
      "execution_count": 35,
      "outputs": [
        {
          "output_type": "stream",
          "name": "stdout",
          "text": [
            "               precision    recall  f1-score   support\n",
            "\n",
            "     business       0.90      0.98      0.94        63\n",
            "entertainment       1.00      0.98      0.99        50\n",
            "     politics       0.97      0.93      0.95        61\n",
            "        sport       0.99      1.00      0.99        91\n",
            "         tech       1.00      0.94      0.97        69\n",
            "\n",
            "     accuracy                           0.97       334\n",
            "    macro avg       0.97      0.97      0.97       334\n",
            " weighted avg       0.97      0.97      0.97       334\n",
            "\n",
            "[[62  0  1  0  0]\n",
            " [ 0 49  1  0  0]\n",
            " [ 4  0 57  0  0]\n",
            " [ 0  0  0 91  0]\n",
            " [ 3  0  0  1 65]]\n"
          ]
        },
        {
          "output_type": "display_data",
          "data": {
            "text/plain": [
              "<Figure size 800x800 with 2 Axes>"
            ],
            "image/png": "[encoded data removed]"
          },
          "metadata": {}
        }
      ]
    },
    {
      "cell_type": "code",
      "source": [],
      "metadata": {
        "id": "0CoGLcdeMxjw"
      },
      "execution_count": null,
      "outputs": []
    },
    {
      "cell_type": "code",
      "source": [],
      "metadata": {
        "id": "m6smCrY1Nb5O"
      },
      "execution_count": null,
      "outputs": []
    }
  ]
}