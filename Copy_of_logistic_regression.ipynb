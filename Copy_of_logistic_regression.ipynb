{
  "nbformat": 4,
  "nbformat_minor": 0,
  "metadata": {
    "colab": {
      "provenance": [],
      "include_colab_link": true
    },
    "kernelspec": {
      "name": "python3",
      "display_name": "Python 3"
    },
    "language_info": {
      "name": "python"
    }
  },
  "cells": [
    {
      "cell_type": "markdown",
      "metadata": {
        "id": "view-in-github",
        "colab_type": "text"
      },
      "source": [
        "<a href=\"https://colab.research.google.com/github/Sanayaghimire/Data_Science/blob/main/Copy_of_logistic_regression.ipynb\" target=\"_parent\"><img src=\"https://colab.research.google.com/assets/colab-badge.svg\" alt=\"Open In Colab\"/></a>"
      ]
    },
    {
      "cell_type": "code",
      "execution_count": 2,
      "metadata": {
        "colab": {
          "base_uri": "https://localhost:8080/"
        },
        "id": "qvuFMfBs53kk",
        "outputId": "da6ee66c-85ed-4d80-fe92-e2e500ffdb35"
      },
      "outputs": [
        {
          "output_type": "stream",
          "name": "stderr",
          "text": [
            "[nltk_data] Downloading package stopwords to /root/nltk_data...\n",
            "[nltk_data]   Unzipping corpora/stopwords.zip.\n"
          ]
        }
      ],
      "source": [
        "import numpy as np\n",
        "import pandas as pd\n",
        "import re,string\n",
        "import matplotlib.pyplot as plt\n",
        "import nltk\n",
        "from nltk.corpus import stopwords\n",
        "from nltk.stem import PorterStemmer\n",
        "from sklearn.feature_extraction.text import TfidfVectorizer #tokenization\n",
        "from sklearn.pipeline import Pipeline\n",
        "from sklearn.metrics import classification_report, confusion_matrix\n",
        "from sklearn.model_selection import train_test_split\n",
        "from sklearn.feature_selection import SelectKBest, chi2\n",
        "import pickle\n",
        "nltk.download('stopwords')\n",
        "%matplotlib inline"
      ]
    },
    {
      "cell_type": "code",
      "source": [],
      "metadata": {
        "id": "wtSwmdAr8AwJ"
      },
      "execution_count": 2,
      "outputs": []
    },
    {
      "cell_type": "markdown",
      "source": [],
      "metadata": {
        "id": "WSmqpMT3onW3"
      }
    },
    {
      "cell_type": "code",
      "source": [
        "df = pd.read_csv('/content/drive/MyDrive/Data_Science/bbc-text.csv', encoding = 'latin1')\n",
        "df = df.sample(frac = 1)\n",
        "df"
      ],
      "metadata": {
        "colab": {
          "base_uri": "https://localhost:8080/",
          "height": 423
        },
        "id": "BAtLnUFL6emp",
        "outputId": "1edcb21e-dd9b-4abc-dc24-0cdd9978c236"
      },
      "execution_count": 3,
      "outputs": [
        {
          "output_type": "execute_result",
          "data": {
            "text/plain": [
              "           category                                               text\n",
              "905   entertainment  bets off after big brother  leak  a bookmaker ...\n",
              "856   entertainment  double eviction from big brother model caprice...\n",
              "397        politics  lawyer attacks anti-terror laws a senior barri...\n",
              "1733          sport  borders 19-20 ulster ulster clung on for a mor...\n",
              "2154       business  green reports shun supply chain nearly 20% mor...\n",
              "...             ...                                                ...\n",
              "2095           tech  souped-up wi-fi is on the horizon super high-s...\n",
              "837        business  sec to rethink post-enron rules the us stock m...\n",
              "1628       politics  malik rejects all-black mp lists a call for et...\n",
              "718            tech  apple attacked over sources row civil libertie...\n",
              "393        business  markets signal brazilian recovery the brazilia...\n",
              "\n",
              "[2225 rows x 2 columns]"
            ],
            "text/html": [
              "\n",
              "  <div id=\"df-6dcf8b52-80b7-4b00-8582-f083bb99d676\" class=\"colab-df-container\">\n",
              "    <div>\n",
              "<style scoped>\n",
              "    .dataframe tbody tr th:only-of-type {\n",
              "        vertical-align: middle;\n",
              "    }\n",
              "\n",
              "    .dataframe tbody tr th {\n",
              "        vertical-align: top;\n",
              "    }\n",
              "\n",
              "    .dataframe thead th {\n",
              "        text-align: right;\n",
              "    }\n",
              "</style>\n",
              "<table border=\"1\" class=\"dataframe\">\n",
              "  <thead>\n",
              "    <tr style=\"text-align: right;\">\n",
              "      <th></th>\n",
              "      <th>category</th>\n",
              "      <th>text</th>\n",
              "    </tr>\n",
              "  </thead>\n",
              "  <tbody>\n",
              "    <tr>\n",
              "      <th>905</th>\n",
              "      <td>entertainment</td>\n",
              "      <td>bets off after big brother  leak  a bookmaker ...</td>\n",
              "    </tr>\n",
              "    <tr>\n",
              "      <th>856</th>\n",
              "      <td>entertainment</td>\n",
              "      <td>double eviction from big brother model caprice...</td>\n",
              "    </tr>\n",
              "    <tr>\n",
              "      <th>397</th>\n",
              "      <td>politics</td>\n",
              "      <td>lawyer attacks anti-terror laws a senior barri...</td>\n",
              "    </tr>\n",
              "    <tr>\n",
              "      <th>1733</th>\n",
              "      <td>sport</td>\n",
              "      <td>borders 19-20 ulster ulster clung on for a mor...</td>\n",
              "    </tr>\n",
              "    <tr>\n",
              "      <th>2154</th>\n",
              "      <td>business</td>\n",
              "      <td>green reports shun supply chain nearly 20% mor...</td>\n",
              "    </tr>\n",
              "    <tr>\n",
              "      <th>...</th>\n",
              "      <td>...</td>\n",
              "      <td>...</td>\n",
              "    </tr>\n",
              "    <tr>\n",
              "      <th>2095</th>\n",
              "      <td>tech</td>\n",
              "      <td>souped-up wi-fi is on the horizon super high-s...</td>\n",
              "    </tr>\n",
              "    <tr>\n",
              "      <th>837</th>\n",
              "      <td>business</td>\n",
              "      <td>sec to rethink post-enron rules the us stock m...</td>\n",
              "    </tr>\n",
              "    <tr>\n",
              "      <th>1628</th>\n",
              "      <td>politics</td>\n",
              "      <td>malik rejects all-black mp lists a call for et...</td>\n",
              "    </tr>\n",
              "    <tr>\n",
              "      <th>718</th>\n",
              "      <td>tech</td>\n",
              "      <td>apple attacked over sources row civil libertie...</td>\n",
              "    </tr>\n",
              "    <tr>\n",
              "      <th>393</th>\n",
              "      <td>business</td>\n",
              "      <td>markets signal brazilian recovery the brazilia...</td>\n",
              "    </tr>\n",
              "  </tbody>\n",
              "</table>\n",
              "<p>2225 rows × 2 columns</p>\n",
              "</div>\n",
              "    <div class=\"colab-df-buttons\">\n",
              "\n",
              "  <div class=\"colab-df-container\">\n",
              "    <button class=\"colab-df-convert\" onclick=\"convertToInteractive('df-6dcf8b52-80b7-4b00-8582-f083bb99d676')\"\n",
              "            title=\"Convert this dataframe to an interactive table.\"\n",
              "            style=\"display:none;\">\n",
              "\n",
              "  <svg xmlns=\"http://www.w3.org/2000/svg\" height=\"24px\" viewBox=\"0 -960 960 960\">\n",
              "    <path d=\"M120-120v-720h720v720H120Zm60-500h600v-160H180v160Zm220 220h160v-160H400v160Zm0 220h160v-160H400v160ZM180-400h160v-160H180v160Zm440 0h160v-160H620v160ZM180-180h160v-160H180v160Zm440 0h160v-160H620v160Z\"/>\n",
              "  </svg>\n",
              "    </button>\n",
              "\n",
              "  <style>\n",
              "    .colab-df-container {\n",
              "      display:flex;\n",
              "      gap: 12px;\n",
              "    }\n",
              "\n",
              "    .colab-df-convert {\n",
              "      background-color: #E8F0FE;\n",
              "      border: none;\n",
              "      border-radius: 50%;\n",
              "      cursor: pointer;\n",
              "      display: none;\n",
              "      fill: #1967D2;\n",
              "      height: 32px;\n",
              "      padding: 0 0 0 0;\n",
              "      width: 32px;\n",
              "    }\n",
              "\n",
              "    .colab-df-convert:hover {\n",
              "      background-color: #E2EBFA;\n",
              "      box-shadow: 0px 1px 2px rgba(60, 64, 67, 0.3), 0px 1px 3px 1px rgba(60, 64, 67, 0.15);\n",
              "      fill: #174EA6;\n",
              "    }\n",
              "\n",
              "    .colab-df-buttons div {\n",
              "      margin-bottom: 4px;\n",
              "    }\n",
              "\n",
              "    [theme=dark] .colab-df-convert {\n",
              "      background-color: #3B4455;\n",
              "      fill: #D2E3FC;\n",
              "    }\n",
              "\n",
              "    [theme=dark] .colab-df-convert:hover {\n",
              "      background-color: #434B5C;\n",
              "      box-shadow: 0px 1px 3px 1px rgba(0, 0, 0, 0.15);\n",
              "      filter: drop-shadow(0px 1px 2px rgba(0, 0, 0, 0.3));\n",
              "      fill: #FFFFFF;\n",
              "    }\n",
              "  </style>\n",
              "\n",
              "    <script>\n",
              "      const buttonEl =\n",
              "        document.querySelector('#df-6dcf8b52-80b7-4b00-8582-f083bb99d676 button.colab-df-convert');\n",
              "      buttonEl.style.display =\n",
              "        google.colab.kernel.accessAllowed ? 'block' : 'none';\n",
              "\n",
              "      async function convertToInteractive(key) {\n",
              "        const element = document.querySelector('#df-6dcf8b52-80b7-4b00-8582-f083bb99d676');\n",
              "        const dataTable =\n",
              "          await google.colab.kernel.invokeFunction('convertToInteractive',\n",
              "                                                    [key], {});\n",
              "        if (!dataTable) return;\n",
              "\n",
              "        const docLinkHtml = 'Like what you see? Visit the ' +\n",
              "          '<a target=\"_blank\" href=https://colab.research.google.com/notebooks/data_table.ipynb>data table notebook</a>'\n",
              "          + ' to learn more about interactive tables.';\n",
              "        element.innerHTML = '';\n",
              "        dataTable['output_type'] = 'display_data';\n",
              "        await google.colab.output.renderOutput(dataTable, element);\n",
              "        const docLink = document.createElement('div');\n",
              "        docLink.innerHTML = docLinkHtml;\n",
              "        element.appendChild(docLink);\n",
              "      }\n",
              "    </script>\n",
              "  </div>\n",
              "\n",
              "\n",
              "<div id=\"df-4fcb377f-93bc-4957-8104-dff53763b86a\">\n",
              "  <button class=\"colab-df-quickchart\" onclick=\"quickchart('df-4fcb377f-93bc-4957-8104-dff53763b86a')\"\n",
              "            title=\"Suggest charts\"\n",
              "            style=\"display:none;\">\n",
              "\n",
              "<svg xmlns=\"http://www.w3.org/2000/svg\" height=\"24px\"viewBox=\"0 0 24 24\"\n",
              "     width=\"24px\">\n",
              "    <g>\n",
              "        <path d=\"M19 3H5c-1.1 0-2 .9-2 2v14c0 1.1.9 2 2 2h14c1.1 0 2-.9 2-2V5c0-1.1-.9-2-2-2zM9 17H7v-7h2v7zm4 0h-2V7h2v10zm4 0h-2v-4h2v4z\"/>\n",
              "    </g>\n",
              "</svg>\n",
              "  </button>\n",
              "\n",
              "<style>\n",
              "  .colab-df-quickchart {\n",
              "      --bg-color: #E8F0FE;\n",
              "      --fill-color: #1967D2;\n",
              "      --hover-bg-color: #E2EBFA;\n",
              "      --hover-fill-color: #174EA6;\n",
              "      --disabled-fill-color: #AAA;\n",
              "      --disabled-bg-color: #DDD;\n",
              "  }\n",
              "\n",
              "  [theme=dark] .colab-df-quickchart {\n",
              "      --bg-color: #3B4455;\n",
              "      --fill-color: #D2E3FC;\n",
              "      --hover-bg-color: #434B5C;\n",
              "      --hover-fill-color: #FFFFFF;\n",
              "      --disabled-bg-color: #3B4455;\n",
              "      --disabled-fill-color: #666;\n",
              "  }\n",
              "\n",
              "  .colab-df-quickchart {\n",
              "    background-color: var(--bg-color);\n",
              "    border: none;\n",
              "    border-radius: 50%;\n",
              "    cursor: pointer;\n",
              "    display: none;\n",
              "    fill: var(--fill-color);\n",
              "    height: 32px;\n",
              "    padding: 0;\n",
              "    width: 32px;\n",
              "  }\n",
              "\n",
              "  .colab-df-quickchart:hover {\n",
              "    background-color: var(--hover-bg-color);\n",
              "    box-shadow: 0 1px 2px rgba(60, 64, 67, 0.3), 0 1px 3px 1px rgba(60, 64, 67, 0.15);\n",
              "    fill: var(--button-hover-fill-color);\n",
              "  }\n",
              "\n",
              "  .colab-df-quickchart-complete:disabled,\n",
              "  .colab-df-quickchart-complete:disabled:hover {\n",
              "    background-color: var(--disabled-bg-color);\n",
              "    fill: var(--disabled-fill-color);\n",
              "    box-shadow: none;\n",
              "  }\n",
              "\n",
              "  .colab-df-spinner {\n",
              "    border: 2px solid var(--fill-color);\n",
              "    border-color: transparent;\n",
              "    border-bottom-color: var(--fill-color);\n",
              "    animation:\n",
              "      spin 1s steps(1) infinite;\n",
              "  }\n",
              "\n",
              "  @keyframes spin {\n",
              "    0% {\n",
              "      border-color: transparent;\n",
              "      border-bottom-color: var(--fill-color);\n",
              "      border-left-color: var(--fill-color);\n",
              "    }\n",
              "    20% {\n",
              "      border-color: transparent;\n",
              "      border-left-color: var(--fill-color);\n",
              "      border-top-color: var(--fill-color);\n",
              "    }\n",
              "    30% {\n",
              "      border-color: transparent;\n",
              "      border-left-color: var(--fill-color);\n",
              "      border-top-color: var(--fill-color);\n",
              "      border-right-color: var(--fill-color);\n",
              "    }\n",
              "    40% {\n",
              "      border-color: transparent;\n",
              "      border-right-color: var(--fill-color);\n",
              "      border-top-color: var(--fill-color);\n",
              "    }\n",
              "    60% {\n",
              "      border-color: transparent;\n",
              "      border-right-color: var(--fill-color);\n",
              "    }\n",
              "    80% {\n",
              "      border-color: transparent;\n",
              "      border-right-color: var(--fill-color);\n",
              "      border-bottom-color: var(--fill-color);\n",
              "    }\n",
              "    90% {\n",
              "      border-color: transparent;\n",
              "      border-bottom-color: var(--fill-color);\n",
              "    }\n",
              "  }\n",
              "</style>\n",
              "\n",
              "  <script>\n",
              "    async function quickchart(key) {\n",
              "      const quickchartButtonEl =\n",
              "        document.querySelector('#' + key + ' button');\n",
              "      quickchartButtonEl.disabled = true;  // To prevent multiple clicks.\n",
              "      quickchartButtonEl.classList.add('colab-df-spinner');\n",
              "      try {\n",
              "        const charts = await google.colab.kernel.invokeFunction(\n",
              "            'suggestCharts', [key], {});\n",
              "      } catch (error) {\n",
              "        console.error('Error during call to suggestCharts:', error);\n",
              "      }\n",
              "      quickchartButtonEl.classList.remove('colab-df-spinner');\n",
              "      quickchartButtonEl.classList.add('colab-df-quickchart-complete');\n",
              "    }\n",
              "    (() => {\n",
              "      let quickchartButtonEl =\n",
              "        document.querySelector('#df-4fcb377f-93bc-4957-8104-dff53763b86a button');\n",
              "      quickchartButtonEl.style.display =\n",
              "        google.colab.kernel.accessAllowed ? 'block' : 'none';\n",
              "    })();\n",
              "  </script>\n",
              "</div>\n",
              "\n",
              "  <div id=\"id_7e9b7802-9fd9-4585-a1cb-413d1aa2fc3f\">\n",
              "    <style>\n",
              "      .colab-df-generate {\n",
              "        background-color: #E8F0FE;\n",
              "        border: none;\n",
              "        border-radius: 50%;\n",
              "        cursor: pointer;\n",
              "        display: none;\n",
              "        fill: #1967D2;\n",
              "        height: 32px;\n",
              "        padding: 0 0 0 0;\n",
              "        width: 32px;\n",
              "      }\n",
              "\n",
              "      .colab-df-generate:hover {\n",
              "        background-color: #E2EBFA;\n",
              "        box-shadow: 0px 1px 2px rgba(60, 64, 67, 0.3), 0px 1px 3px 1px rgba(60, 64, 67, 0.15);\n",
              "        fill: #174EA6;\n",
              "      }\n",
              "\n",
              "      [theme=dark] .colab-df-generate {\n",
              "        background-color: #3B4455;\n",
              "        fill: #D2E3FC;\n",
              "      }\n",
              "\n",
              "      [theme=dark] .colab-df-generate:hover {\n",
              "        background-color: #434B5C;\n",
              "        box-shadow: 0px 1px 3px 1px rgba(0, 0, 0, 0.15);\n",
              "        filter: drop-shadow(0px 1px 2px rgba(0, 0, 0, 0.3));\n",
              "        fill: #FFFFFF;\n",
              "      }\n",
              "    </style>\n",
              "    <button class=\"colab-df-generate\" onclick=\"generateWithVariable('df')\"\n",
              "            title=\"Generate code using this dataframe.\"\n",
              "            style=\"display:none;\">\n",
              "\n",
              "  <svg xmlns=\"http://www.w3.org/2000/svg\" height=\"24px\"viewBox=\"0 0 24 24\"\n",
              "       width=\"24px\">\n",
              "    <path d=\"M7,19H8.4L18.45,9,17,7.55,7,17.6ZM5,21V16.75L18.45,3.32a2,2,0,0,1,2.83,0l1.4,1.43a1.91,1.91,0,0,1,.58,1.4,1.91,1.91,0,0,1-.58,1.4L9.25,21ZM18.45,9,17,7.55Zm-12,3A5.31,5.31,0,0,0,4.9,8.1,5.31,5.31,0,0,0,1,6.5,5.31,5.31,0,0,0,4.9,4.9,5.31,5.31,0,0,0,6.5,1,5.31,5.31,0,0,0,8.1,4.9,5.31,5.31,0,0,0,12,6.5,5.46,5.46,0,0,0,6.5,12Z\"/>\n",
              "  </svg>\n",
              "    </button>\n",
              "    <script>\n",
              "      (() => {\n",
              "      const buttonEl =\n",
              "        document.querySelector('#id_7e9b7802-9fd9-4585-a1cb-413d1aa2fc3f button.colab-df-generate');\n",
              "      buttonEl.style.display =\n",
              "        google.colab.kernel.accessAllowed ? 'block' : 'none';\n",
              "\n",
              "      buttonEl.onclick = () => {\n",
              "        google.colab.notebook.generateWithVariable('df');\n",
              "      }\n",
              "      })();\n",
              "    </script>\n",
              "  </div>\n",
              "\n",
              "    </div>\n",
              "  </div>\n"
            ],
            "application/vnd.google.colaboratory.intrinsic+json": {
              "type": "dataframe",
              "variable_name": "df",
              "summary": "{\n  \"name\": \"df\",\n  \"rows\": 2225,\n  \"fields\": [\n    {\n      \"column\": \"category\",\n      \"properties\": {\n        \"dtype\": \"category\",\n        \"num_unique_values\": 5,\n        \"samples\": [\n          \"politics\",\n          \"tech\",\n          \"sport\"\n        ],\n        \"semantic_type\": \"\",\n        \"description\": \"\"\n      }\n    },\n    {\n      \"column\": \"text\",\n      \"properties\": {\n        \"dtype\": \"string\",\n        \"num_unique_values\": 2126,\n        \"samples\": [\n          \"ferdinand casts doubt over glazer rio ferdinand has said he is unsure of malcolm glazer s motives after the american billionaire launched a new offer to buy manchester united.  the club have confirmed that the glazer family partnership have submitted proposals of a third bid.  a lot of people want the club s interest to be with people who have grown up with the club and have got its interests at heart   said ferdinand.  no one knows what this guy will be bringing to the table.  the central defender added on bbc radio five live:  we will have to wait and see what glazer comes with.  i would like to see the situation resolved either way.  i think people are getting bored with him coming in and out of the news with new proposals.  the other stuff off the pitch takes the shine off what is going on the pitch.   glazer  currently owns a 28.1% stake in the club  and united s statement to the stock exchange said:  the board has noted the recent press speculation on this subject.  the board can confirm that it has now received a detailed proposal subject to various pre-conditions which may form the basis of an offer for manchester united from glazer.  a further announcement will be made in due course.  glazer s previous bids for the club  which united supporters opposed  were rejected by the board because of the high level of debt they would incur. but it is believed that glazer has substantially reduced the borrowing required for his latest move. he will still need the approval of major shareholders john magnier and jp mcmanus  who own 28.9% of the club to succeed. but the irish duo have cut off talks with glazer over the proposed sale of their stake  while fans remain opposed to his involvement.\",\n          \"roxy music on isle of wight bill roxy music will appear at june s isle of wight music festival  along with morrissey  supergrass and idlewild.  rem have already been confirmed as headliners for the three-day event  which takes place from 10-12 june. original band members bryan ferry  phil manzerana  andy mackay and paul thompson will take to the stage on the saturday night of the festival. the band are also working in the studio on new material  their first since the 1982 album avalon. roxy music were formed in 1971 by ferry  mackay and brian eno  with manzanera joining the following year. their first hit was 1972 s virginia plain  with other hits including street life  love is the drug and the 1981 john lennon cover  jealous guy. roxy music s back catalogue was re-released in 2000  leading to the band undertaking a world tour in 2001. morrissey will also play on saturday at the festival  while supergrass and idlewild have been confirmed for the friday.\",\n          \"blinx sequel purrs nicely the original blinx was intended to convert many platform game lovers to microsoft s then new xbox console.  its sharp graphics and novel gameplay  with the main character able to pause  slow  rewind and fast-forward time  were meant to lure many fans to the new machine. but poor design meant the game became a very frustrating affair with players often stranded half-way through a level without the required tools to finish. thankfully  the sequel has fixed many of the original faults. this time around you do not play as blinx but instead you are given the chance to create two unique cat characters and two pig characters.  the character generator is very detailed and a few minutes of tweaking and adjusting will create a unique personality to unleash on the game.  as the game progresses you swap between the two rival factions  pig and feline  assuming the role of your created characters. the thrust of the game sees the two factions competing to recover pieces of a missing time crystal. as in the original  your feline persona can control time  but this time the pigs get to control space. there are a number of puzzles which require control over time to solve while the pigs can create things such as warps  space bubbles and void traps in order to progress. the control over space and time is achieved through a number of vcr-style icons and is quite intuitive.  annoyingly  the puzzles are a little too obviously flagged up and most gamers will find it more of a chore than a challenge to solve them. the game has also tried to emulate franchises such as jak and daxter and ratchet and clank on ps2 and so there are a number of combat elements. these are a little predictable and tend to drag the general polish of the game down to a more dulled affair. but the game s excellent graphics  easily the best-looking platform game around  sound and dollops of humour make it an attractive game for younger platform fans.  blinx 2 is out on xbox now.\"\n        ],\n        \"semantic_type\": \"\",\n        \"description\": \"\"\n      }\n    }\n  ]\n}"
            }
          },
          "metadata": {},
          "execution_count": 3
        }
      ]
    },
    {
      "cell_type": "code",
      "source": [
        "#No of a categories\n",
        "len(set(df['category']))"
      ],
      "metadata": {
        "colab": {
          "base_uri": "https://localhost:8080/"
        },
        "id": "G7c8rULu8LQZ",
        "outputId": "da6e558c-f938-47a2-825d-49e179d94742"
      },
      "execution_count": 4,
      "outputs": [
        {
          "output_type": "execute_result",
          "data": {
            "text/plain": [
              "5"
            ]
          },
          "metadata": {},
          "execution_count": 4
        }
      ]
    },
    {
      "cell_type": "code",
      "source": [
        "df.groupby('category').category.count()"
      ],
      "metadata": {
        "colab": {
          "base_uri": "https://localhost:8080/"
        },
        "id": "833043k1zE5O",
        "outputId": "7605f760-d1ab-434c-d9c6-a722c296dd3d"
      },
      "execution_count": 5,
      "outputs": [
        {
          "output_type": "execute_result",
          "data": {
            "text/plain": [
              "category\n",
              "business         510\n",
              "entertainment    386\n",
              "politics         417\n",
              "sport            511\n",
              "tech             401\n",
              "Name: category, dtype: int64"
            ]
          },
          "metadata": {},
          "execution_count": 5
        }
      ]
    },
    {
      "cell_type": "code",
      "source": [
        "#Analyzing data\n",
        "df.groupby('category').category.count().plot.bar()\n",
        "plt.show()"
      ],
      "metadata": {
        "colab": {
          "base_uri": "https://localhost:8080/",
          "height": 535
        },
        "id": "PadVAxI17lgb",
        "outputId": "8a62dd5d-b236-4560-9da7-158e75f83d55"
      },
      "execution_count": 6,
      "outputs": [
        {
          "output_type": "display_data",
          "data": {
            "text/plain": [
              "<Figure size 640x480 with 1 Axes>"
            ],
            "image/png": "[encoded data removed]"
          },
          "metadata": {}
        }
      ]
    },
    {
      "cell_type": "code",
      "source": [
        "#stop words\n",
        "nltk.download('stopwords')\n",
        "words = stopwords.words(\"english\")\n",
        "print(words)"
      ],
      "metadata": {
        "colab": {
          "base_uri": "https://localhost:8080/"
        },
        "id": "vAbJoOuNrXOx",
        "outputId": "bafca33b-3f9a-4773-e97a-63315d3534a8"
      },
      "execution_count": 7,
      "outputs": [
        {
          "output_type": "stream",
          "name": "stdout",
          "text": [
            "['i', 'me', 'my', 'myself', 'we', 'our', 'ours', 'ourselves', 'you', \"you're\", \"you've\", \"you'll\", \"you'd\", 'your', 'yours', 'yourself', 'yourselves', 'he', 'him', 'his', 'himself', 'she', \"she's\", 'her', 'hers', 'herself', 'it', \"it's\", 'its', 'itself', 'they', 'them', 'their', 'theirs', 'themselves', 'what', 'which', 'who', 'whom', 'this', 'that', \"that'll\", 'these', 'those', 'am', 'is', 'are', 'was', 'were', 'be', 'been', 'being', 'have', 'has', 'had', 'having', 'do', 'does', 'did', 'doing', 'a', 'an', 'the', 'and', 'but', 'if', 'or', 'because', 'as', 'until', 'while', 'of', 'at', 'by', 'for', 'with', 'about', 'against', 'between', 'into', 'through', 'during', 'before', 'after', 'above', 'below', 'to', 'from', 'up', 'down', 'in', 'out', 'on', 'off', 'over', 'under', 'again', 'further', 'then', 'once', 'here', 'there', 'when', 'where', 'why', 'how', 'all', 'any', 'both', 'each', 'few', 'more', 'most', 'other', 'some', 'such', 'no', 'nor', 'not', 'only', 'own', 'same', 'so', 'than', 'too', 'very', 's', 't', 'can', 'will', 'just', 'don', \"don't\", 'should', \"should've\", 'now', 'd', 'll', 'm', 'o', 're', 've', 'y', 'ain', 'aren', \"aren't\", 'couldn', \"couldn't\", 'didn', \"didn't\", 'doesn', \"doesn't\", 'hadn', \"hadn't\", 'hasn', \"hasn't\", 'haven', \"haven't\", 'isn', \"isn't\", 'ma', 'mightn', \"mightn't\", 'mustn', \"mustn't\", 'needn', \"needn't\", 'shan', \"shan't\", 'shouldn', \"shouldn't\", 'wasn', \"wasn't\", 'weren', \"weren't\", 'won', \"won't\", 'wouldn', \"wouldn't\"]\n"
          ]
        },
        {
          "output_type": "stream",
          "name": "stderr",
          "text": [
            "[nltk_data] Downloading package stopwords to /root/nltk_data...\n",
            "[nltk_data]   Package stopwords is already up-to-date!\n"
          ]
        }
      ]
    },
    {
      "cell_type": "code",
      "source": [
        "#stop words\n",
        "nltk.download('stopwords')\n",
        "words = stopwords.words(\"nepali\")\n",
        "print(words)"
      ],
      "metadata": {
        "colab": {
          "base_uri": "https://localhost:8080/"
        },
        "id": "Z5xZW5YrrXAH",
        "outputId": "c94dc688-32ff-458e-8e06-f0e7a68f4878"
      },
      "execution_count": 8,
      "outputs": [
        {
          "output_type": "stream",
          "name": "stdout",
          "text": [
            "['छ', 'र', 'पनि', 'छन्', 'लागि', 'भएको', 'गरेको', 'भने', 'गर्न', 'गर्ने', 'हो', 'तथा', 'यो', 'रहेको', 'उनले', 'थियो', 'हुने', 'गरेका', 'थिए', 'गर्दै', 'तर', 'नै', 'को', 'मा', 'हुन्', 'भन्ने', 'हुन', 'गरी', 'त', 'हुन्छ', 'अब', 'के', 'रहेका', 'गरेर', 'छैन', 'दिए', 'भए', 'यस', 'ले', 'गर्नु', 'औं', 'सो', 'त्यो', 'कि', 'जुन', 'यी', 'का', 'गरि', 'ती', 'न', 'छु', 'छौं', 'लाई', 'नि', 'उप', 'अक्सर', 'आदि', 'कसरी', 'क्रमशः', 'चाले', 'अगाडी', 'अझै', 'अनुसार', 'अन्तर्गत', 'अन्य', 'अन्यत्र', 'अन्यथा', 'अरु', 'अरुलाई', 'अर्को', 'अर्थात', 'अर्थात्', 'अलग', 'आए', 'आजको', 'ओठ', 'आत्म', 'आफू', 'आफूलाई', 'आफ्नै', 'आफ्नो', 'आयो', 'उदाहरण', 'उनको', 'उहालाई', 'एउटै', 'एक', 'एकदम', 'कतै', 'कम से कम', 'कसै', 'कसैले', 'कहाँबाट', 'कहिलेकाहीं', 'का', 'किन', 'किनभने', 'कुनै', 'कुरा', 'कृपया', 'केही', 'कोही', 'गए', 'गरौं', 'गर्छ', 'गर्छु', 'गर्नुपर्छ', 'गयौ', 'गैर', 'चार', 'चाहनुहुन्छ', 'चाहन्छु', 'चाहिए', 'छू', 'जताततै', 'जब', 'जबकि', 'जसको', 'जसबाट', 'जसमा', 'जसलाई', 'जसले', 'जस्तै', 'जस्तो', 'जस्तोसुकै', 'जहाँ', 'जान', 'जाहिर', 'जे', 'जो', 'ठीक', 'तत्काल', 'तदनुसार', 'तपाईको', 'तपाई', 'पर्याप्त', 'पहिले', 'पहिलो', 'पहिल्यै', 'पाँच', 'पाँचौं', 'तल', 'तापनी', 'तिनी', 'तिनीहरू', 'तिनीहरुको', 'तिनिहरुलाई', 'तिमी', 'तिर', 'तीन', 'तुरुन्तै', 'तेस्रो', 'तेस्कारण', 'पूर्व', 'प्रति', 'प्रतेक', 'प्लस', 'फेरी', 'बने', 'त्सपछि', 'त्सैले', 'त्यहाँ', 'थिएन', 'दिनुभएको', 'दिनुहुन्छ', 'दुई', 'देखि', 'बरु', 'बारे', 'बाहिर', 'देखिन्छ', 'देखियो', 'देखे', 'देखेको', 'देखेर', 'दोस्रो', 'धेरै', 'नजिकै', 'नत्र', 'नयाँ', 'निम्ति', 'बाहेक', 'बीच', 'बीचमा', 'भन', 'निम्न', 'निम्नानुसार', 'निर्दिष्ट', 'नौ', 'पक्का', 'पक्कै', 'पछि', 'पछिल्लो', 'पटक', 'पर्छ', 'पर्थ्यो', 'भन्छन्', 'भन्', 'भन्छु', 'भन्दा', 'भन्नुभयो', 'भर', 'भित्र', 'भित्री', 'म', 'मलाई', 'मात्र', 'माथि', 'मुख्य', 'मेरो', 'यति', 'यथोचित', 'यदि', 'यद्यपि', 'यसको', 'यसपछि', 'यसबाहेक', 'यसरी', 'यसो', 'यस्तो', 'यहाँ', 'यहाँसम्म', 'या', 'रही', 'राखे', 'राख्छ', 'राम्रो', 'रूप', 'लगभग', 'वरीपरी', 'वास्तवमा', 'बिरुद्ध', 'बिशेष', 'सायद', 'शायद', 'संग', 'संगै', 'सक्छ', 'सट्टा', 'सधै', 'सबै', 'सबैलाई', 'समय', 'सम्भव', 'सम्म', 'सही', 'साँच्चै', 'सात', 'साथ', 'साथै', 'सारा', 'सोही', 'स्पष्ट', 'हरे', 'हरेक']\n"
          ]
        },
        {
          "output_type": "stream",
          "name": "stderr",
          "text": [
            "[nltk_data] Downloading package stopwords to /root/nltk_data...\n",
            "[nltk_data]   Package stopwords is already up-to-date!\n"
          ]
        }
      ]
    },
    {
      "cell_type": "code",
      "source": [
        "# Data Cleaning using regex\n",
        "regs = re.sub(\"[^a-zA-Z]\", \" \", df['text'][905]).lower() #character to character\n",
        "regs"
      ],
      "metadata": {
        "colab": {
          "base_uri": "https://localhost:8080/",
          "height": 177
        },
        "id": "-w2plL6498xG",
        "outputId": "980a51bb-4a4d-41df-b8d5-92d7fe300e61"
      },
      "execution_count": 33,
      "outputs": [
        {
          "output_type": "execute_result",
          "data": {
            "text/plain": [
              "'bets off after big brother  leak  a bookmaker has stopped taking bets on celebrity big brother after claiming  sensitive information  about the channel   show had been leaked   william hill made the move after four people tried to place bets on friday s surprise double eviction   this is highly unlikely to have been an inspired guess   william hill spokesman rupert adams said  however  a big brother spokeswoman was  satisfied  that sensitive information about the show remained confidential   the bookmaker said its suspicions had been aroused by betting for the last two contestant evictions  when people were still trying to place large sums despite odds as short as       but william hill s  overwhelming evidence  came on friday when four unknown callers asked to place bets on the show s surprise double eviction   shortly afterwards model caprice and actor jeremy edwards left the show  mr adams believed someone had gained access to figures which revealed how viewers were voting  and was using them to predict which celebrity would be evicted next   we think somebody somewhere has got them and has been trying very hard to take us to the cleaners   he said  the bets were not taken  mr adams did not believe anyone from channel   or big brother producer endemol had tried to place the queried bets  but he added   they need to look at how many people are privy to the sensitive information    big brother s spokeswoman said   only a handful of senior production executives are privy to any sensitive information regarding eviction voting and there are strict procedures in place to keep this information strictly confidential   we do not feel the need to investigate this further as we are satisfied that these measures are effective   the show s independent adjudicator   the electoral reform services   was also satisfied  she added  the current series of celebrity big brother ends on sunday  with happy mondays star bez  actress brigitte nielsen and blazin  squad rapper kenzie competing for a          charity prize   bookmaker ladbrokes said it would continue to accept bets on the final  with kenzie its favourite at       we felt no need whatsoever to close the book   spokesman warren lush said   we ve seen absolutely no suspicious betting patterns   mr lush added that people sometimes vote on short odds  because they think it s like buying money    you do have to risk quite a lot of money for a very small gain but if they think there s no chance of an upset they will still do it   he said '"
            ],
            "application/vnd.google.colaboratory.intrinsic+json": {
              "type": "string"
            }
          },
          "metadata": {},
          "execution_count": 33
        }
      ]
    },
    {
      "cell_type": "code",
      "source": [
        "# Data Cleaning using stemmer works on word to word\n",
        "#stremming le root word patta lagauxa then tei anusar word xutauxa\n",
        "stemmer = PorterStemmer()\n",
        "data = \"I am loving computing\".split()\n",
        "print(data)\n",
        "[stemmer.stem(i) for i in data]\n",
        "# stemmer.stem(\"\")"
      ],
      "metadata": {
        "colab": {
          "base_uri": "https://localhost:8080/"
        },
        "id": "7RDOg2Vcz0w_",
        "outputId": "59d3e30e-5dc8-45e8-c059-2f94451fcef4"
      },
      "execution_count": 10,
      "outputs": [
        {
          "output_type": "stream",
          "name": "stdout",
          "text": [
            "['I', 'am', 'loving', 'computing']\n"
          ]
        },
        {
          "output_type": "execute_result",
          "data": {
            "text/plain": [
              "['i', 'am', 'love', 'comput']"
            ]
          },
          "metadata": {},
          "execution_count": 10
        }
      ]
    },
    {
      "cell_type": "code",
      "source": [
        "# Data Cleaning using stemmer works on word to word\n",
        "\n",
        "stemmer = PorterStemmer()\n",
        "data = \"I am loving computing\".split()\n",
        "print(data)\n",
        "\" \".join([stemmer.stem(i) for i in data])\n",
        "# stemmer.stem(\"\")"
      ],
      "metadata": {
        "colab": {
          "base_uri": "https://localhost:8080/",
          "height": 53
        },
        "id": "a5EbVcgCwNKQ",
        "outputId": "87656a5f-a6e8-46d5-d19a-1fdf4e97f6fb"
      },
      "execution_count": 11,
      "outputs": [
        {
          "output_type": "stream",
          "name": "stdout",
          "text": [
            "['I', 'am', 'loving', 'computing']\n"
          ]
        },
        {
          "output_type": "execute_result",
          "data": {
            "text/plain": [
              "'i am love comput'"
            ],
            "application/vnd.google.colaboratory.intrinsic+json": {
              "type": "string"
            }
          },
          "metadata": {},
          "execution_count": 11
        }
      ]
    },
    {
      "cell_type": "code",
      "source": [
        "# Data Cleaning using stemmer works on word to word\n",
        "\n",
        "stemmer = PorterStemmer()\n",
        "data = \"I am loving computing\".split()\n",
        "\" \".join([stemmer.stem(i) for i in data])\n",
        "# stemmer.stem(\"\")"
      ],
      "metadata": {
        "colab": {
          "base_uri": "https://localhost:8080/",
          "height": 35
        },
        "id": "bQU9V9SN1yUy",
        "outputId": "a54adb87-c77f-487f-86e2-a173ed5f80a7"
      },
      "execution_count": 12,
      "outputs": [
        {
          "output_type": "execute_result",
          "data": {
            "text/plain": [
              "'i am love comput'"
            ],
            "application/vnd.google.colaboratory.intrinsic+json": {
              "type": "string"
            }
          },
          "metadata": {},
          "execution_count": 12
        }
      ]
    },
    {
      "cell_type": "code",
      "source": [
        "# stemmer = PorterStemmer()\n",
        "# data = df['text'[0]].split()\n",
        "# print(len(data))\n",
        "# \" \".join([stemmer.stem(i) for i in df['text'][0]])\n",
        "# # stemmer.stem(\"\")"
      ],
      "metadata": {
        "id": "vbXZza85wvUW"
      },
      "execution_count": 13,
      "outputs": []
    },
    {
      "cell_type": "code",
      "source": [
        "# Data Cleaning removing stopwords\n",
        "words = stopwords.words(\"english\")\n",
        "print(words)\n",
        "without_stop_words_of_a_news = \" \".join([i for i in regs.lower().split() if i not in words])\n",
        "without_stop_words_of_a_news"
      ],
      "metadata": {
        "colab": {
          "base_uri": "https://localhost:8080/",
          "height": 214
        },
        "id": "mZPU9uU5fr2I",
        "outputId": "37abba5d-0b04-4680-ec37-d04b6bf8e057"
      },
      "execution_count": 30,
      "outputs": [
        {
          "output_type": "stream",
          "name": "stdout",
          "text": [
            "['i', 'me', 'my', 'myself', 'we', 'our', 'ours', 'ourselves', 'you', \"you're\", \"you've\", \"you'll\", \"you'd\", 'your', 'yours', 'yourself', 'yourselves', 'he', 'him', 'his', 'himself', 'she', \"she's\", 'her', 'hers', 'herself', 'it', \"it's\", 'its', 'itself', 'they', 'them', 'their', 'theirs', 'themselves', 'what', 'which', 'who', 'whom', 'this', 'that', \"that'll\", 'these', 'those', 'am', 'is', 'are', 'was', 'were', 'be', 'been', 'being', 'have', 'has', 'had', 'having', 'do', 'does', 'did', 'doing', 'a', 'an', 'the', 'and', 'but', 'if', 'or', 'because', 'as', 'until', 'while', 'of', 'at', 'by', 'for', 'with', 'about', 'against', 'between', 'into', 'through', 'during', 'before', 'after', 'above', 'below', 'to', 'from', 'up', 'down', 'in', 'out', 'on', 'off', 'over', 'under', 'again', 'further', 'then', 'once', 'here', 'there', 'when', 'where', 'why', 'how', 'all', 'any', 'both', 'each', 'few', 'more', 'most', 'other', 'some', 'such', 'no', 'nor', 'not', 'only', 'own', 'same', 'so', 'than', 'too', 'very', 's', 't', 'can', 'will', 'just', 'don', \"don't\", 'should', \"should've\", 'now', 'd', 'll', 'm', 'o', 're', 've', 'y', 'ain', 'aren', \"aren't\", 'couldn', \"couldn't\", 'didn', \"didn't\", 'doesn', \"doesn't\", 'hadn', \"hadn't\", 'hasn', \"hasn't\", 'haven', \"haven't\", 'isn', \"isn't\", 'ma', 'mightn', \"mightn't\", 'mustn', \"mustn't\", 'needn', \"needn't\", 'shan', \"shan't\", 'shouldn', \"shouldn't\", 'wasn', \"wasn't\", 'weren', \"weren't\", 'won', \"won't\", 'wouldn', \"wouldn't\"]\n"
          ]
        },
        {
          "output_type": "execute_result",
          "data": {
            "text/plain": [
              "'tv future hands viewers home theatre systems plasma high definition tvs digital video recorders moving living room way people watch tv radically different five years time according expert panel gathered annual consumer electronics show las vegas discuss new technologies impact one favourite pastimes us leading trend programmes content delivered viewers via home networks cable satellite telecoms companies broadband service providers front rooms portable devices one talked technologies ces digital personal video recorders dvr pvr set top boxes like us tivo uk sky system allow people record store play pause forward wind tv programmes want essentially technology allows much personalised tv also built high definition tv sets big business japan us slower take europe lack high definition programming people forward wind adverts also forget abiding network channel schedules putting together la carte entertainment us networks cable satellite companies worried means terms advertising revenues well brand identity viewer loyalty channels although us leads technology moment also concern raised europe particularly growing uptake services like sky happens today see nine months years time uk adam hume bbc broadcast futurologist told bbc news website likes bbc issues lost advertising revenue yet pressing issue moment commercial uk broadcasters brand loyalty important everyone talking content brands rather network brands said tim hanlon brand communications firm starcom mediavest reality broadband connections anybody producer content added challenge hard promote programme much choice means said stacey jolna senior vice president tv guide tv group way people find content want watch simplified tv viewers means networks us terms channels could take leaf google book search engine future instead scheduler help people find want watch kind channel model might work younger ipod generation used taking control gadgets play might suit everyone panel recognised older generations comfortable familiar schedules channel brands know getting perhaps want much choice put hands mr hanlon suggested end kids diapers pushing buttons already everything possible available said mr hanlon ultimately consumer tell market want new gadgets technologies showcased ces many enhancing tv watching experience high definition tv sets everywhere many new models lcd liquid crystal display tvs launched dvr capability built instead external boxes one example launched show humax inch lcd tv hour tivo dvr dvd recorder one us biggest satellite tv companies directtv even launched branded dvr show hours recording capability instant replay search function set pause rewind tv hours microsoft chief bill gates announced pre show keynote speech partnership tivo called tivotogo means people play recorded programmes windows pcs mobile devices reflect increasing trend freeing multimedia people watch want want'"
            ],
            "application/vnd.google.colaboratory.intrinsic+json": {
              "type": "string"
            }
          },
          "metadata": {},
          "execution_count": 30
        }
      ]
    },
    {
      "cell_type": "code",
      "source": [
        "regs = re.sub(\"[^a-zA-Z]\", \" \", df['text'][2154]).lower() #character to character\n",
        "regs"
      ],
      "metadata": {
        "colab": {
          "base_uri": "https://localhost:8080/",
          "height": 177
        },
        "id": "cuq77NOu1mAx",
        "outputId": "e85d3123-932d-421c-ec8a-bad9a5752de8"
      },
      "execution_count": 35,
      "outputs": [
        {
          "output_type": "execute_result",
          "data": {
            "text/plain": [
              "'green reports shun supply chain nearly     more uk top     firms produced non financial reports on social and environment issues than last year   but of the     companies reporting      didn t examine their supply chains  says the annual directions survey  green groups say putting pressure on supply chains is a major way companies can reduce their environmental impact  the survey is published by corporate social responsibility firm context and branding firm salterbaxter   blake lee harwood  campaigns director at greenpeace in the uk  said   it s fairly meaningless to talk about your company s direction in terms of sustainability without having detailed knowledge of your supply chain   it s also important to get some kind of independent assessment of your reporting    less than a quarter of companies       get their corporate social responsibility  csr  reports independently verified to provide assurances they are accurate and complete  says the survey  to date there are no set standards for non financial reporting  although the global reporting initiative  an independent pro sustainability institution  is planning to establish some  the reports surveyed by directions are published voluntarily  they are usually called corporate social responsibility  csr  reports  sustainability reports  or social and environmental reports   peter knight  director of context  says    uk top     companies reported for the first time this year and  in general  the quality of reports has improved   the corporate lexicon of homilies  generalities and soft assurances   fluff   is on its way out  there are less pictures of smiling children and butterflies   the uk government will soon require all quoted companies to report their social and environmental risks in a chapter in their annual reports  called the operating and financial review  the regulation is not expected until      and the first reports under this scheme will not be published before       the us seems to lag europe in producing corporate social responsibility reports  the majority of european top    companies      publish them and only    of the us top    '"
            ],
            "application/vnd.google.colaboratory.intrinsic+json": {
              "type": "string"
            }
          },
          "metadata": {},
          "execution_count": 35
        }
      ]
    },
    {
      "cell_type": "code",
      "source": [
        "# Doing all cleaning process using regex, stemmer, stopwords for all data\n",
        "df['cleaned'] = list(map(lambda x: \" \".join([i for i in re.sub(\"[^a-zA-Z]\", \" \", x).split() if i not in words]),df['text']))\n",
        "df['cleaned'] = df['cleaned'].apply(lambda x: \" \".join([stemmer.stem(i) for i in x.lower().split()]))\n",
        "df"
      ],
      "metadata": {
        "id": "8iBXfOfoFvaF",
        "colab": {
          "base_uri": "https://localhost:8080/",
          "height": 423
        },
        "outputId": "41a5ed54-7aff-4bea-d994-01757de9efe1"
      },
      "execution_count": 43,
      "outputs": [
        {
          "output_type": "execute_result",
          "data": {
            "text/plain": [
              "           category                                               text  \\\n",
              "905   entertainment  bets off after big brother  leak  a bookmaker ...   \n",
              "856   entertainment  double eviction from big brother model caprice...   \n",
              "397        politics  lawyer attacks anti-terror laws a senior barri...   \n",
              "1733          sport  borders 19-20 ulster ulster clung on for a mor...   \n",
              "2154       business  green reports shun supply chain nearly 20% mor...   \n",
              "...             ...                                                ...   \n",
              "2095           tech  souped-up wi-fi is on the horizon super high-s...   \n",
              "837        business  sec to rethink post-enron rules the us stock m...   \n",
              "1628       politics  malik rejects all-black mp lists a call for et...   \n",
              "718            tech  apple attacked over sources row civil libertie...   \n",
              "393        business  markets signal brazilian recovery the brazilia...   \n",
              "\n",
              "                                                cleaned  \n",
              "905   bet big brother leak bookmak stop take bet cel...  \n",
              "856   doubl evict big brother model capric holbi cit...  \n",
              "397   lawyer attack anti terror law senior barrist r...  \n",
              "1733  border ulster ulster clung moral boost celtic ...  \n",
              "2154  green report shun suppli chain nearli uk top f...  \n",
              "...                                                 ...  \n",
              "2095  soup wi fi horizon super high speed wireless d...  \n",
              "837   sec rethink post enron rule us stock market wa...  \n",
              "1628  malik reject black mp list call ethnic minor s...  \n",
              "718   appl attack sourc row civil liberti group elec...  \n",
              "393   market signal brazilian recoveri brazilian sto...  \n",
              "\n",
              "[2225 rows x 3 columns]"
            ],
            "text/html": [
              "\n",
              "  <div id=\"df-42561eb4-8669-4945-939a-ae7f1a8d1fde\" class=\"colab-df-container\">\n",
              "    <div>\n",
              "<style scoped>\n",
              "    .dataframe tbody tr th:only-of-type {\n",
              "        vertical-align: middle;\n",
              "    }\n",
              "\n",
              "    .dataframe tbody tr th {\n",
              "        vertical-align: top;\n",
              "    }\n",
              "\n",
              "    .dataframe thead th {\n",
              "        text-align: right;\n",
              "    }\n",
              "</style>\n",
              "<table border=\"1\" class=\"dataframe\">\n",
              "  <thead>\n",
              "    <tr style=\"text-align: right;\">\n",
              "      <th></th>\n",
              "      <th>category</th>\n",
              "      <th>text</th>\n",
              "      <th>cleaned</th>\n",
              "    </tr>\n",
              "  </thead>\n",
              "  <tbody>\n",
              "    <tr>\n",
              "      <th>905</th>\n",
              "      <td>entertainment</td>\n",
              "      <td>bets off after big brother  leak  a bookmaker ...</td>\n",
              "      <td>bet big brother leak bookmak stop take bet cel...</td>\n",
              "    </tr>\n",
              "    <tr>\n",
              "      <th>856</th>\n",
              "      <td>entertainment</td>\n",
              "      <td>double eviction from big brother model caprice...</td>\n",
              "      <td>doubl evict big brother model capric holbi cit...</td>\n",
              "    </tr>\n",
              "    <tr>\n",
              "      <th>397</th>\n",
              "      <td>politics</td>\n",
              "      <td>lawyer attacks anti-terror laws a senior barri...</td>\n",
              "      <td>lawyer attack anti terror law senior barrist r...</td>\n",
              "    </tr>\n",
              "    <tr>\n",
              "      <th>1733</th>\n",
              "      <td>sport</td>\n",
              "      <td>borders 19-20 ulster ulster clung on for a mor...</td>\n",
              "      <td>border ulster ulster clung moral boost celtic ...</td>\n",
              "    </tr>\n",
              "    <tr>\n",
              "      <th>2154</th>\n",
              "      <td>business</td>\n",
              "      <td>green reports shun supply chain nearly 20% mor...</td>\n",
              "      <td>green report shun suppli chain nearli uk top f...</td>\n",
              "    </tr>\n",
              "    <tr>\n",
              "      <th>...</th>\n",
              "      <td>...</td>\n",
              "      <td>...</td>\n",
              "      <td>...</td>\n",
              "    </tr>\n",
              "    <tr>\n",
              "      <th>2095</th>\n",
              "      <td>tech</td>\n",
              "      <td>souped-up wi-fi is on the horizon super high-s...</td>\n",
              "      <td>soup wi fi horizon super high speed wireless d...</td>\n",
              "    </tr>\n",
              "    <tr>\n",
              "      <th>837</th>\n",
              "      <td>business</td>\n",
              "      <td>sec to rethink post-enron rules the us stock m...</td>\n",
              "      <td>sec rethink post enron rule us stock market wa...</td>\n",
              "    </tr>\n",
              "    <tr>\n",
              "      <th>1628</th>\n",
              "      <td>politics</td>\n",
              "      <td>malik rejects all-black mp lists a call for et...</td>\n",
              "      <td>malik reject black mp list call ethnic minor s...</td>\n",
              "    </tr>\n",
              "    <tr>\n",
              "      <th>718</th>\n",
              "      <td>tech</td>\n",
              "      <td>apple attacked over sources row civil libertie...</td>\n",
              "      <td>appl attack sourc row civil liberti group elec...</td>\n",
              "    </tr>\n",
              "    <tr>\n",
              "      <th>393</th>\n",
              "      <td>business</td>\n",
              "      <td>markets signal brazilian recovery the brazilia...</td>\n",
              "      <td>market signal brazilian recoveri brazilian sto...</td>\n",
              "    </tr>\n",
              "  </tbody>\n",
              "</table>\n",
              "<p>2225 rows × 3 columns</p>\n",
              "</div>\n",
              "    <div class=\"colab-df-buttons\">\n",
              "\n",
              "  <div class=\"colab-df-container\">\n",
              "    <button class=\"colab-df-convert\" onclick=\"convertToInteractive('df-42561eb4-8669-4945-939a-ae7f1a8d1fde')\"\n",
              "            title=\"Convert this dataframe to an interactive table.\"\n",
              "            style=\"display:none;\">\n",
              "\n",
              "  <svg xmlns=\"http://www.w3.org/2000/svg\" height=\"24px\" viewBox=\"0 -960 960 960\">\n",
              "    <path d=\"M120-120v-720h720v720H120Zm60-500h600v-160H180v160Zm220 220h160v-160H400v160Zm0 220h160v-160H400v160ZM180-400h160v-160H180v160Zm440 0h160v-160H620v160ZM180-180h160v-160H180v160Zm440 0h160v-160H620v160Z\"/>\n",
              "  </svg>\n",
              "    </button>\n",
              "\n",
              "  <style>\n",
              "    .colab-df-container {\n",
              "      display:flex;\n",
              "      gap: 12px;\n",
              "    }\n",
              "\n",
              "    .colab-df-convert {\n",
              "      background-color: #E8F0FE;\n",
              "      border: none;\n",
              "      border-radius: 50%;\n",
              "      cursor: pointer;\n",
              "      display: none;\n",
              "      fill: #1967D2;\n",
              "      height: 32px;\n",
              "      padding: 0 0 0 0;\n",
              "      width: 32px;\n",
              "    }\n",
              "\n",
              "    .colab-df-convert:hover {\n",
              "      background-color: #E2EBFA;\n",
              "      box-shadow: 0px 1px 2px rgba(60, 64, 67, 0.3), 0px 1px 3px 1px rgba(60, 64, 67, 0.15);\n",
              "      fill: #174EA6;\n",
              "    }\n",
              "\n",
              "    .colab-df-buttons div {\n",
              "      margin-bottom: 4px;\n",
              "    }\n",
              "\n",
              "    [theme=dark] .colab-df-convert {\n",
              "      background-color: #3B4455;\n",
              "      fill: #D2E3FC;\n",
              "    }\n",
              "\n",
              "    [theme=dark] .colab-df-convert:hover {\n",
              "      background-color: #434B5C;\n",
              "      box-shadow: 0px 1px 3px 1px rgba(0, 0, 0, 0.15);\n",
              "      filter: drop-shadow(0px 1px 2px rgba(0, 0, 0, 0.3));\n",
              "      fill: #FFFFFF;\n",
              "    }\n",
              "  </style>\n",
              "\n",
              "    <script>\n",
              "      const buttonEl =\n",
              "        document.querySelector('#df-42561eb4-8669-4945-939a-ae7f1a8d1fde button.colab-df-convert');\n",
              "      buttonEl.style.display =\n",
              "        google.colab.kernel.accessAllowed ? 'block' : 'none';\n",
              "\n",
              "      async function convertToInteractive(key) {\n",
              "        const element = document.querySelector('#df-42561eb4-8669-4945-939a-ae7f1a8d1fde');\n",
              "        const dataTable =\n",
              "          await google.colab.kernel.invokeFunction('convertToInteractive',\n",
              "                                                    [key], {});\n",
              "        if (!dataTable) return;\n",
              "\n",
              "        const docLinkHtml = 'Like what you see? Visit the ' +\n",
              "          '<a target=\"_blank\" href=https://colab.research.google.com/notebooks/data_table.ipynb>data table notebook</a>'\n",
              "          + ' to learn more about interactive tables.';\n",
              "        element.innerHTML = '';\n",
              "        dataTable['output_type'] = 'display_data';\n",
              "        await google.colab.output.renderOutput(dataTable, element);\n",
              "        const docLink = document.createElement('div');\n",
              "        docLink.innerHTML = docLinkHtml;\n",
              "        element.appendChild(docLink);\n",
              "      }\n",
              "    </script>\n",
              "  </div>\n",
              "\n",
              "\n",
              "<div id=\"df-c331126b-2b65-4a5f-89cb-d200bb949dc8\">\n",
              "  <button class=\"colab-df-quickchart\" onclick=\"quickchart('df-c331126b-2b65-4a5f-89cb-d200bb949dc8')\"\n",
              "            title=\"Suggest charts\"\n",
              "            style=\"display:none;\">\n",
              "\n",
              "<svg xmlns=\"http://www.w3.org/2000/svg\" height=\"24px\"viewBox=\"0 0 24 24\"\n",
              "     width=\"24px\">\n",
              "    <g>\n",
              "        <path d=\"M19 3H5c-1.1 0-2 .9-2 2v14c0 1.1.9 2 2 2h14c1.1 0 2-.9 2-2V5c0-1.1-.9-2-2-2zM9 17H7v-7h2v7zm4 0h-2V7h2v10zm4 0h-2v-4h2v4z\"/>\n",
              "    </g>\n",
              "</svg>\n",
              "  </button>\n",
              "\n",
              "<style>\n",
              "  .colab-df-quickchart {\n",
              "      --bg-color: #E8F0FE;\n",
              "      --fill-color: #1967D2;\n",
              "      --hover-bg-color: #E2EBFA;\n",
              "      --hover-fill-color: #174EA6;\n",
              "      --disabled-fill-color: #AAA;\n",
              "      --disabled-bg-color: #DDD;\n",
              "  }\n",
              "\n",
              "  [theme=dark] .colab-df-quickchart {\n",
              "      --bg-color: #3B4455;\n",
              "      --fill-color: #D2E3FC;\n",
              "      --hover-bg-color: #434B5C;\n",
              "      --hover-fill-color: #FFFFFF;\n",
              "      --disabled-bg-color: #3B4455;\n",
              "      --disabled-fill-color: #666;\n",
              "  }\n",
              "\n",
              "  .colab-df-quickchart {\n",
              "    background-color: var(--bg-color);\n",
              "    border: none;\n",
              "    border-radius: 50%;\n",
              "    cursor: pointer;\n",
              "    display: none;\n",
              "    fill: var(--fill-color);\n",
              "    height: 32px;\n",
              "    padding: 0;\n",
              "    width: 32px;\n",
              "  }\n",
              "\n",
              "  .colab-df-quickchart:hover {\n",
              "    background-color: var(--hover-bg-color);\n",
              "    box-shadow: 0 1px 2px rgba(60, 64, 67, 0.3), 0 1px 3px 1px rgba(60, 64, 67, 0.15);\n",
              "    fill: var(--button-hover-fill-color);\n",
              "  }\n",
              "\n",
              "  .colab-df-quickchart-complete:disabled,\n",
              "  .colab-df-quickchart-complete:disabled:hover {\n",
              "    background-color: var(--disabled-bg-color);\n",
              "    fill: var(--disabled-fill-color);\n",
              "    box-shadow: none;\n",
              "  }\n",
              "\n",
              "  .colab-df-spinner {\n",
              "    border: 2px solid var(--fill-color);\n",
              "    border-color: transparent;\n",
              "    border-bottom-color: var(--fill-color);\n",
              "    animation:\n",
              "      spin 1s steps(1) infinite;\n",
              "  }\n",
              "\n",
              "  @keyframes spin {\n",
              "    0% {\n",
              "      border-color: transparent;\n",
              "      border-bottom-color: var(--fill-color);\n",
              "      border-left-color: var(--fill-color);\n",
              "    }\n",
              "    20% {\n",
              "      border-color: transparent;\n",
              "      border-left-color: var(--fill-color);\n",
              "      border-top-color: var(--fill-color);\n",
              "    }\n",
              "    30% {\n",
              "      border-color: transparent;\n",
              "      border-left-color: var(--fill-color);\n",
              "      border-top-color: var(--fill-color);\n",
              "      border-right-color: var(--fill-color);\n",
              "    }\n",
              "    40% {\n",
              "      border-color: transparent;\n",
              "      border-right-color: var(--fill-color);\n",
              "      border-top-color: var(--fill-color);\n",
              "    }\n",
              "    60% {\n",
              "      border-color: transparent;\n",
              "      border-right-color: var(--fill-color);\n",
              "    }\n",
              "    80% {\n",
              "      border-color: transparent;\n",
              "      border-right-color: var(--fill-color);\n",
              "      border-bottom-color: var(--fill-color);\n",
              "    }\n",
              "    90% {\n",
              "      border-color: transparent;\n",
              "      border-bottom-color: var(--fill-color);\n",
              "    }\n",
              "  }\n",
              "</style>\n",
              "\n",
              "  <script>\n",
              "    async function quickchart(key) {\n",
              "      const quickchartButtonEl =\n",
              "        document.querySelector('#' + key + ' button');\n",
              "      quickchartButtonEl.disabled = true;  // To prevent multiple clicks.\n",
              "      quickchartButtonEl.classList.add('colab-df-spinner');\n",
              "      try {\n",
              "        const charts = await google.colab.kernel.invokeFunction(\n",
              "            'suggestCharts', [key], {});\n",
              "      } catch (error) {\n",
              "        console.error('Error during call to suggestCharts:', error);\n",
              "      }\n",
              "      quickchartButtonEl.classList.remove('colab-df-spinner');\n",
              "      quickchartButtonEl.classList.add('colab-df-quickchart-complete');\n",
              "    }\n",
              "    (() => {\n",
              "      let quickchartButtonEl =\n",
              "        document.querySelector('#df-c331126b-2b65-4a5f-89cb-d200bb949dc8 button');\n",
              "      quickchartButtonEl.style.display =\n",
              "        google.colab.kernel.accessAllowed ? 'block' : 'none';\n",
              "    })();\n",
              "  </script>\n",
              "</div>\n",
              "\n",
              "  <div id=\"id_d9faca2a-e38c-453f-928d-52a41ddd38ce\">\n",
              "    <style>\n",
              "      .colab-df-generate {\n",
              "        background-color: #E8F0FE;\n",
              "        border: none;\n",
              "        border-radius: 50%;\n",
              "        cursor: pointer;\n",
              "        display: none;\n",
              "        fill: #1967D2;\n",
              "        height: 32px;\n",
              "        padding: 0 0 0 0;\n",
              "        width: 32px;\n",
              "      }\n",
              "\n",
              "      .colab-df-generate:hover {\n",
              "        background-color: #E2EBFA;\n",
              "        box-shadow: 0px 1px 2px rgba(60, 64, 67, 0.3), 0px 1px 3px 1px rgba(60, 64, 67, 0.15);\n",
              "        fill: #174EA6;\n",
              "      }\n",
              "\n",
              "      [theme=dark] .colab-df-generate {\n",
              "        background-color: #3B4455;\n",
              "        fill: #D2E3FC;\n",
              "      }\n",
              "\n",
              "      [theme=dark] .colab-df-generate:hover {\n",
              "        background-color: #434B5C;\n",
              "        box-shadow: 0px 1px 3px 1px rgba(0, 0, 0, 0.15);\n",
              "        filter: drop-shadow(0px 1px 2px rgba(0, 0, 0, 0.3));\n",
              "        fill: #FFFFFF;\n",
              "      }\n",
              "    </style>\n",
              "    <button class=\"colab-df-generate\" onclick=\"generateWithVariable('df')\"\n",
              "            title=\"Generate code using this dataframe.\"\n",
              "            style=\"display:none;\">\n",
              "\n",
              "  <svg xmlns=\"http://www.w3.org/2000/svg\" height=\"24px\"viewBox=\"0 0 24 24\"\n",
              "       width=\"24px\">\n",
              "    <path d=\"M7,19H8.4L18.45,9,17,7.55,7,17.6ZM5,21V16.75L18.45,3.32a2,2,0,0,1,2.83,0l1.4,1.43a1.91,1.91,0,0,1,.58,1.4,1.91,1.91,0,0,1-.58,1.4L9.25,21ZM18.45,9,17,7.55Zm-12,3A5.31,5.31,0,0,0,4.9,8.1,5.31,5.31,0,0,0,1,6.5,5.31,5.31,0,0,0,4.9,4.9,5.31,5.31,0,0,0,6.5,1,5.31,5.31,0,0,0,8.1,4.9,5.31,5.31,0,0,0,12,6.5,5.46,5.46,0,0,0,6.5,12Z\"/>\n",
              "  </svg>\n",
              "    </button>\n",
              "    <script>\n",
              "      (() => {\n",
              "      const buttonEl =\n",
              "        document.querySelector('#id_d9faca2a-e38c-453f-928d-52a41ddd38ce button.colab-df-generate');\n",
              "      buttonEl.style.display =\n",
              "        google.colab.kernel.accessAllowed ? 'block' : 'none';\n",
              "\n",
              "      buttonEl.onclick = () => {\n",
              "        google.colab.notebook.generateWithVariable('df');\n",
              "      }\n",
              "      })();\n",
              "    </script>\n",
              "  </div>\n",
              "\n",
              "    </div>\n",
              "  </div>\n"
            ],
            "application/vnd.google.colaboratory.intrinsic+json": {
              "type": "dataframe",
              "variable_name": "df",
              "summary": "{\n  \"name\": \"df\",\n  \"rows\": 2225,\n  \"fields\": [\n    {\n      \"column\": \"category\",\n      \"properties\": {\n        \"dtype\": \"category\",\n        \"num_unique_values\": 5,\n        \"samples\": [\n          \"politics\",\n          \"tech\",\n          \"sport\"\n        ],\n        \"semantic_type\": \"\",\n        \"description\": \"\"\n      }\n    },\n    {\n      \"column\": \"text\",\n      \"properties\": {\n        \"dtype\": \"string\",\n        \"num_unique_values\": 2126,\n        \"samples\": [\n          \"ferdinand casts doubt over glazer rio ferdinand has said he is unsure of malcolm glazer s motives after the american billionaire launched a new offer to buy manchester united.  the club have confirmed that the glazer family partnership have submitted proposals of a third bid.  a lot of people want the club s interest to be with people who have grown up with the club and have got its interests at heart   said ferdinand.  no one knows what this guy will be bringing to the table.  the central defender added on bbc radio five live:  we will have to wait and see what glazer comes with.  i would like to see the situation resolved either way.  i think people are getting bored with him coming in and out of the news with new proposals.  the other stuff off the pitch takes the shine off what is going on the pitch.   glazer  currently owns a 28.1% stake in the club  and united s statement to the stock exchange said:  the board has noted the recent press speculation on this subject.  the board can confirm that it has now received a detailed proposal subject to various pre-conditions which may form the basis of an offer for manchester united from glazer.  a further announcement will be made in due course.  glazer s previous bids for the club  which united supporters opposed  were rejected by the board because of the high level of debt they would incur. but it is believed that glazer has substantially reduced the borrowing required for his latest move. he will still need the approval of major shareholders john magnier and jp mcmanus  who own 28.9% of the club to succeed. but the irish duo have cut off talks with glazer over the proposed sale of their stake  while fans remain opposed to his involvement.\",\n          \"roxy music on isle of wight bill roxy music will appear at june s isle of wight music festival  along with morrissey  supergrass and idlewild.  rem have already been confirmed as headliners for the three-day event  which takes place from 10-12 june. original band members bryan ferry  phil manzerana  andy mackay and paul thompson will take to the stage on the saturday night of the festival. the band are also working in the studio on new material  their first since the 1982 album avalon. roxy music were formed in 1971 by ferry  mackay and brian eno  with manzanera joining the following year. their first hit was 1972 s virginia plain  with other hits including street life  love is the drug and the 1981 john lennon cover  jealous guy. roxy music s back catalogue was re-released in 2000  leading to the band undertaking a world tour in 2001. morrissey will also play on saturday at the festival  while supergrass and idlewild have been confirmed for the friday.\",\n          \"blinx sequel purrs nicely the original blinx was intended to convert many platform game lovers to microsoft s then new xbox console.  its sharp graphics and novel gameplay  with the main character able to pause  slow  rewind and fast-forward time  were meant to lure many fans to the new machine. but poor design meant the game became a very frustrating affair with players often stranded half-way through a level without the required tools to finish. thankfully  the sequel has fixed many of the original faults. this time around you do not play as blinx but instead you are given the chance to create two unique cat characters and two pig characters.  the character generator is very detailed and a few minutes of tweaking and adjusting will create a unique personality to unleash on the game.  as the game progresses you swap between the two rival factions  pig and feline  assuming the role of your created characters. the thrust of the game sees the two factions competing to recover pieces of a missing time crystal. as in the original  your feline persona can control time  but this time the pigs get to control space. there are a number of puzzles which require control over time to solve while the pigs can create things such as warps  space bubbles and void traps in order to progress. the control over space and time is achieved through a number of vcr-style icons and is quite intuitive.  annoyingly  the puzzles are a little too obviously flagged up and most gamers will find it more of a chore than a challenge to solve them. the game has also tried to emulate franchises such as jak and daxter and ratchet and clank on ps2 and so there are a number of combat elements. these are a little predictable and tend to drag the general polish of the game down to a more dulled affair. but the game s excellent graphics  easily the best-looking platform game around  sound and dollops of humour make it an attractive game for younger platform fans.  blinx 2 is out on xbox now.\"\n        ],\n        \"semantic_type\": \"\",\n        \"description\": \"\"\n      }\n    },\n    {\n      \"column\": \"cleaned\",\n      \"properties\": {\n        \"dtype\": \"string\",\n        \"num_unique_values\": 2117,\n        \"samples\": [\n          \"blue slam blackburn savag birmingham confirm blackburn made bid robbi savag manag director karen bradi call derisori rover reportedli offer front wale star fee rise bradi told sun bid wast fax paper time ad way thing go could affect relationship club got robbi head sale savag futur birmingham sourc specul sever week fan criticis perform club earlier season howev good display west brom aston villa impress blue fan crowd gave massiv stand ovat came saturday nice said fantast even though criticis number recent week saturday show much mean say transfer rumour two club creat specul phone everi nation newspap say blackburn tri buy birmingham manag steve bruce insist want sell savag lot said written sav terrif birmingham citi last two half year said fan love epitomis work hard like peopl like mani like hell sell someon els interest\",\n          \"new foot mouth action urg senior tori mp criticis agricultur depart defra lackadais approach plan futur foot mouth outbreak public account committe chairman edward leigh give reaction report govern watchdog lesson learnt crisi nation audit offic said defra improv capac deal futur livestock diseas outbreak mr leigh said depart drag heel comment refer set scheme share futur compens cost industri also said defra dread slow pay bill date foot mouth crisi outbreak began led slaughter million anim devast mani farm rural busi estim cost uk bn four year outbreak defra yet begin plan review contractor cost invoic remain unpaid mr leigh said mr leigh also point introduct system help control futur outbreak delay novemb emerg european commiss compens amount third money uk govern hope get reimburs billion lost foot mouth crisi minist hope get european union vet fund help anim slaughter cost end grant uk valu cull anim two three time commiss assess like market valu nation audit offic chief sir john bourn said new compens scheme look issu unpaid invoic sir john said defra paid bn submit contractor sinc agre final settlement contractor pend result investig mr leigh said better prepar would also help avoid need mass funer pyre provid unsettl imag outbreak defra spokesman said welcom report acknowledg progress depart made sinc particularli conting plan improv capac prepared combat anoth major diseas outbreak howev depart awar area requir work work resolv soon practic\",\n          \"lib dem target stamp duti liber democrat promis rais stamp duti threshold win gener elect bid court first time hous buyer vinc cabl parti treasuri spokesman said rais threshold would prevent home buyer pay tax said first time buyer squeez hous market labour parti said liber democrat need explain would pay plan plan form part wider lib dem polici encourag first time buyer lower incom market propos averag save new buyer would accord mr cabl first time buyer squeez hous market higher hous price also swept stamp duti net said fail uprat stamp duti threshold gordon brown hit first time buyer low incom hardest pledg increas threshold liber democrat make possibl mani first time buyer buy properti without face tax paul boateng mp labour chief secretari treasuri said lib dem sum add credibl say would fund ever grow list tax spend commit mr cabl publish altern budget monday\"\n        ],\n        \"semantic_type\": \"\",\n        \"description\": \"\"\n      }\n    }\n  ]\n}"
            }
          },
          "metadata": {},
          "execution_count": 43
        }
      ]
    },
    {
      "cell_type": "code",
      "source": [],
      "metadata": {
        "id": "YIXUDxjE6a5c"
      },
      "execution_count": null,
      "outputs": []
    },
    {
      "cell_type": "code",
      "source": [
        "# \" \".join([stemmer.stem(i) for i in without_stop_words_of_a_news.lower().split()])"
      ],
      "metadata": {
        "id": "UTol9PtmCFVX"
      },
      "execution_count": 16,
      "outputs": []
    },
    {
      "cell_type": "code",
      "source": [
        "# list(filter(lambda x: [stemmer.stem(i) for i in re.sub(\"[^a-zA-Z]\", \" \", x).split() if i not in words],df['text']))"
      ],
      "metadata": {
        "id": "0JAup9jYdIxf"
      },
      "execution_count": 17,
      "outputs": []
    },
    {
      "cell_type": "code",
      "source": [
        "# #cleaning dataset\n",
        "# nltk.download('stopwords')\n",
        "# stemmer = PorterStemmer()\n",
        "# words = stopwords.words(\"english\")\n",
        "# words.extend(['a','an','the'])\n",
        "# df['cleaned'] = df['cleaned'].apply(lambda x: \" \".join([stemmer.stem(i) for i in re.sub(\"[^a-zA-Z]\", \" \", x.lower()).split() if i not in words]).lower())\n",
        "# # df['newcleaned'] = [(i for i in list(df['cleaned'])).split() if i not in words ]\n",
        "# df"
      ],
      "metadata": {
        "id": "IL-p5ILB90nL"
      },
      "execution_count": 18,
      "outputs": []
    },
    {
      "cell_type": "code",
      "source": [
        "df.to_csv('cleaned_news.csv')"
      ],
      "metadata": {
        "id": "a768Xycnb50R"
      },
      "execution_count": 19,
      "outputs": []
    },
    {
      "cell_type": "code",
      "source": [
        "from google.colab import drive\n",
        "drive.mount('/content/drive')"
      ],
      "metadata": {
        "id": "-_8SX5hn0lXm",
        "colab": {
          "base_uri": "https://localhost:8080/"
        },
        "outputId": "7464d666-a173-4eba-d34d-afe1a6f693d7"
      },
      "execution_count": 20,
      "outputs": [
        {
          "output_type": "stream",
          "name": "stdout",
          "text": [
            "Drive already mounted at /content/drive; to attempt to forcibly remount, call drive.mount(\"/content/drive\", force_remount=True).\n"
          ]
        }
      ]
    },
    {
      "cell_type": "code",
      "source": [
        "# df['cleaned'] = df['text'].apply(lambda x: \" \".join([stemmer.stem(i) for i in re.sub(\"[^a-zA-Z]\", \" \", x).split() ]).lower())\n",
        "# df"
      ],
      "metadata": {
        "id": "76wP0Gl7s-Eb"
      },
      "execution_count": 21,
      "outputs": []
    },
    {
      "cell_type": "code",
      "source": [
        "# print(words)"
      ],
      "metadata": {
        "id": "rpyZb6DBr0yS"
      },
      "execution_count": 22,
      "outputs": []
    },
    {
      "cell_type": "code",
      "source": [
        "# words = stopwords.words(\"nepali\")\n",
        "# words"
      ],
      "metadata": {
        "id": "9QpxBwUMvFrW"
      },
      "execution_count": 23,
      "outputs": []
    },
    {
      "cell_type": "code",
      "source": [
        "# df['cleaned'] = df['text'].apply(lambda x: \" \".join([stemmer.stem(i) for i in re.sub(\"[^a-zA-Z]\", \" \", x).split() if i not in words]).lower())\n",
        "# df"
      ],
      "metadata": {
        "id": "e7YQAi-Asdy2"
      },
      "execution_count": 24,
      "outputs": []
    },
    {
      "cell_type": "code",
      "source": [
        "# Training model\n",
        "from sklearn.linear_model import LogisticRegression\n",
        "log_regression = LogisticRegression()\n",
        "\n",
        "vectorizer = TfidfVectorizer()\n",
        "X = df['cleaned']\n",
        "Y = df['category']\n",
        "\n",
        "X_train, X_test, y_train, y_test = train_test_split(X, Y, test_size=0.15) #Splitting dataset\n",
        "\n",
        "# #Creating Pipeline\n",
        "pipeline = Pipeline([('vect', vectorizer),\n",
        "                     ('chi',  SelectKBest(chi2, k=2000)),\n",
        "                     ('clf', LogisticRegression(random_state=1))])\n",
        "\n",
        "# from sklearn.pipeline import Pipeline\n",
        "# from sklearn.svm import SVC\n",
        "# pipeline = Pipeline([\n",
        "#     ('bow', CountVectorizer(analyzer=text_process)),  # strings to token integer counts\n",
        "#     ('tfidf', TfidfTransformer()),  # integer counts to weighted TF-IDF scores\n",
        "#     ('classifier', SVC()),  # train on TF-IDF vectors w/ SVM\n",
        "# ])\n",
        "\n",
        "\n",
        "# #Training model\n",
        "model = pipeline.fit(X_train, y_train)\n",
        "\n",
        "# #Creating pickle file\n",
        "# with open('LogisticRegression.pickle', 'wb') as f:\n",
        "#     pickle.dump(model, f)"
      ],
      "metadata": {
        "id": "qunZeGdV_GLj"
      },
      "execution_count": 25,
      "outputs": []
    },
    {
      "cell_type": "code",
      "source": [
        "print(X_test,y_test)"
      ],
      "metadata": {
        "id": "Mztp5HS_Mv62",
        "colab": {
          "base_uri": "https://localhost:8080/"
        },
        "outputId": "2852b6b1-08cd-4843-be46-d58841913936"
      },
      "execution_count": 26,
      "outputs": [
        {
          "output_type": "stream",
          "name": "stdout",
          "text": [
            "1331    glastonburi fan to get id card fan who buy tic...\n",
            "546     radcliff enjoy win comeback paula radcliff mad...\n",
            "2134    bell set for england debut bath prop duncan be...\n",
            "1836    saint-andr anger at absent star sale shark dir...\n",
            "1993    parmalat bank bar from su bank of america ha b...\n",
            "                              ...                        \n",
            "656     munster cup tie switch to spain munster s hein...\n",
            "194     gizmondo gadget hit the shelv the gizmondo com...\n",
            "1785    ultim game award for doom 3 sci-fi shooter doo...\n",
            "1271    germani near 1990 jobless level german unemplo...\n",
            "1893    mobil get set for visual radio the growth in t...\n",
            "Name: cleaned, Length: 334, dtype: object 1331    entertainment\n",
            "546             sport\n",
            "2134            sport\n",
            "1836            sport\n",
            "1993         business\n",
            "            ...      \n",
            "656             sport\n",
            "194              tech\n",
            "1785             tech\n",
            "1271         business\n",
            "1893             tech\n",
            "Name: category, Length: 334, dtype: object\n"
          ]
        }
      ]
    },
    {
      "cell_type": "code",
      "source": [
        "#Accuracy\n",
        "from sklearn.metrics import accuracy_score\n",
        "predict_news_cat = model.predict(X_test)\n",
        "print(accuracy_score(y_test,predict_news_cat))\n",
        "print('\\n')\n",
        "print(predict_news_cat)"
      ],
      "metadata": {
        "id": "aAZIfQmWIlP1",
        "colab": {
          "base_uri": "https://localhost:8080/"
        },
        "outputId": "90fce870-2e30-48b1-803b-170da6771afb"
      },
      "execution_count": 27,
      "outputs": [
        {
          "output_type": "stream",
          "name": "stdout",
          "text": [
            "0.9670658682634731\n",
            "\n",
            "\n",
            "['entertainment' 'sport' 'sport' 'sport' 'business' 'tech' 'sport'\n",
            " 'business' 'business' 'sport' 'business' 'sport' 'sport' 'business'\n",
            " 'tech' 'sport' 'sport' 'sport' 'entertainment' 'sport' 'tech'\n",
            " 'entertainment' 'business' 'sport' 'sport' 'business' 'entertainment'\n",
            " 'business' 'business' 'sport' 'business' 'business' 'politics'\n",
            " 'entertainment' 'tech' 'sport' 'sport' 'politics' 'entertainment' 'tech'\n",
            " 'business' 'entertainment' 'politics' 'business' 'entertainment'\n",
            " 'business' 'tech' 'business' 'tech' 'business' 'politics' 'sport'\n",
            " 'politics' 'business' 'sport' 'sport' 'sport' 'tech' 'sport' 'business'\n",
            " 'entertainment' 'business' 'sport' 'politics' 'sport' 'business'\n",
            " 'politics' 'tech' 'tech' 'politics' 'business' 'entertainment'\n",
            " 'entertainment' 'entertainment' 'sport' 'tech' 'business' 'entertainment'\n",
            " 'business' 'business' 'entertainment' 'tech' 'business' 'tech' 'tech'\n",
            " 'sport' 'business' 'tech' 'sport' 'business' 'entertainment' 'business'\n",
            " 'sport' 'tech' 'tech' 'politics' 'sport' 'politics' 'business' 'politics'\n",
            " 'entertainment' 'entertainment' 'tech' 'business' 'sport' 'business'\n",
            " 'tech' 'tech' 'entertainment' 'sport' 'sport' 'tech' 'entertainment'\n",
            " 'sport' 'politics' 'tech' 'sport' 'politics' 'sport' 'sport' 'sport'\n",
            " 'sport' 'sport' 'tech' 'sport' 'sport' 'politics' 'politics' 'business'\n",
            " 'sport' 'sport' 'business' 'sport' 'tech' 'business' 'politics' 'tech'\n",
            " 'politics' 'business' 'politics' 'tech' 'sport' 'business' 'business'\n",
            " 'business' 'business' 'entertainment' 'entertainment' 'politics'\n",
            " 'business' 'sport' 'sport' 'tech' 'sport' 'business' 'politics' 'tech'\n",
            " 'entertainment' 'tech' 'business' 'tech' 'politics' 'politics'\n",
            " 'entertainment' 'politics' 'tech' 'tech' 'politics' 'business' 'tech'\n",
            " 'entertainment' 'business' 'tech' 'entertainment' 'sport' 'sport' 'tech'\n",
            " 'entertainment' 'tech' 'tech' 'politics' 'business' 'entertainment'\n",
            " 'business' 'politics' 'sport' 'sport' 'business' 'entertainment' 'sport'\n",
            " 'tech' 'business' 'business' 'sport' 'politics' 'tech' 'business'\n",
            " 'business' 'tech' 'tech' 'tech' 'business' 'politics' 'politics'\n",
            " 'business' 'entertainment' 'sport' 'politics' 'business' 'tech' 'sport'\n",
            " 'tech' 'sport' 'tech' 'business' 'politics' 'business' 'sport'\n",
            " 'entertainment' 'entertainment' 'business' 'politics' 'sport' 'business'\n",
            " 'business' 'sport' 'politics' 'business' 'politics' 'sport' 'business'\n",
            " 'politics' 'tech' 'business' 'business' 'sport' 'entertainment'\n",
            " 'politics' 'sport' 'tech' 'tech' 'sport' 'sport' 'politics' 'tech' 'tech'\n",
            " 'politics' 'politics' 'tech' 'politics' 'sport' 'politics' 'politics'\n",
            " 'tech' 'entertainment' 'entertainment' 'sport' 'sport' 'entertainment'\n",
            " 'politics' 'politics' 'entertainment' 'politics' 'entertainment'\n",
            " 'entertainment' 'business' 'business' 'entertainment' 'entertainment'\n",
            " 'business' 'politics' 'entertainment' 'business' 'tech' 'politics' 'tech'\n",
            " 'entertainment' 'sport' 'business' 'sport' 'entertainment' 'politics'\n",
            " 'tech' 'politics' 'tech' 'tech' 'sport' 'business' 'sport' 'politics'\n",
            " 'entertainment' 'business' 'tech' 'sport' 'tech' 'politics' 'business'\n",
            " 'sport' 'tech' 'business' 'business' 'business' 'sport' 'business'\n",
            " 'business' 'politics' 'politics' 'politics' 'tech' 'sport'\n",
            " 'entertainment' 'business' 'business' 'entertainment' 'politics' 'sport'\n",
            " 'sport' 'politics' 'sport' 'business' 'politics' 'sport' 'politics'\n",
            " 'sport' 'entertainment' 'sport' 'sport' 'business' 'entertainment'\n",
            " 'sport' 'tech' 'tech' 'business' 'tech']\n"
          ]
        }
      ]
    },
    {
      "cell_type": "code",
      "source": [
        "# file = open('/content/news.txt','r')\n",
        "# news = file.read()\n",
        "# file.close()\n",
        "\n",
        "news = input(\"Enter news = \")\n",
        "news_data = {'predict_news':[news]}\n",
        "news_data_df = pd.DataFrame(news_data)\n",
        "\n",
        "predict_news_cat = model.predict(news_data_df['predict_news'])\n",
        "print(\"Predicted news category = \",predict_news_cat[0])"
      ],
      "metadata": {
        "id": "5S-Fnbr-DT65",
        "colab": {
          "base_uri": "https://localhost:8080/"
        },
        "outputId": "85912cc7-2bed-4412-ccf4-8dc220986e93"
      },
      "execution_count": 28,
      "outputs": [
        {
          "output_type": "stream",
          "name": "stdout",
          "text": [
            "Enter news = 6\n",
            "Predicted news category =  sport\n"
          ]
        }
      ]
    },
    {
      "cell_type": "code",
      "source": [
        "# confusion matrix and classification report(precision, recall, F1-score)\n",
        "ytest = np.array(y_test)\n",
        "print(classification_report(ytest,model.predict(X_test)))\n",
        "print(confusion_matrix(ytest,model.predict(X_test)))\n",
        "\n",
        "\n",
        "import matplotlib.pyplot as plt\n",
        "from sklearn.metrics import ConfusionMatrixDisplay\n",
        "cm = confusion_matrix(ytest,model.predict(X_test))\n",
        "# Change figure size and increase dpi for better resolution\n",
        "# and get reference to axes object\n",
        "fig, ax = plt.subplots(figsize=(8,8), dpi=100)\n",
        "class_names = ['business','entertainment','politics','sport','tech']\n",
        "# initialize using the raw 2D confusion matrix\n",
        "# and output labels (in our case, it's 0 and 1)\n",
        "display = ConfusionMatrixDisplay(cm, display_labels=class_names)\n",
        "\n",
        "# set the plot title using the axes object\n",
        "ax.set(title='Confusion Matrix for Text Classification')\n",
        "\n",
        "# show the plot.\n",
        "# Pass the parameter ax to show customizations (ex. title)\n",
        "display.plot(ax=ax);"
      ],
      "metadata": {
        "id": "y24Ctjrm_rpj",
        "colab": {
          "base_uri": "https://localhost:8080/",
          "height": 962
        },
        "outputId": "463f577b-62de-4c2e-df12-547502f2c9aa"
      },
      "execution_count": 29,
      "outputs": [
        {
          "output_type": "stream",
          "name": "stdout",
          "text": [
            "               precision    recall  f1-score   support\n",
            "\n",
            "     business       0.94      0.96      0.95        79\n",
            "entertainment       0.98      0.94      0.96        50\n",
            "     politics       0.97      0.97      0.97        58\n",
            "        sport       0.98      1.00      0.99        81\n",
            "         tech       0.98      0.95      0.97        66\n",
            "\n",
            "     accuracy                           0.97       334\n",
            "    macro avg       0.97      0.96      0.97       334\n",
            " weighted avg       0.97      0.97      0.97       334\n",
            "\n",
            "[[76  0  1  1  1]\n",
            " [ 1 47  1  1  0]\n",
            " [ 1  1 56  0  0]\n",
            " [ 0  0  0 81  0]\n",
            " [ 3  0  0  0 63]]\n"
          ]
        },
        {
          "output_type": "display_data",
          "data": {
            "text/plain": [
              "<Figure size 800x800 with 2 Axes>"
            ],
            "image/png": "[encoded data removed]"
          },
          "metadata": {}
        }
      ]
    },
    {
      "cell_type": "code",
      "source": [],
      "metadata": {
        "id": "0CoGLcdeMxjw"
      },
      "execution_count": 29,
      "outputs": []
    },
    {
      "cell_type": "code",
      "source": [],
      "metadata": {
        "id": "m6smCrY1Nb5O"
      },
      "execution_count": 29,
      "outputs": []
    }
  ]
}