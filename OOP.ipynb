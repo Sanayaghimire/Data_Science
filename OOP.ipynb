{
 "cells": [
  {
   "cell_type": "code",
   "execution_count": 2,
   "id": "3e47bb6c",
   "metadata": {},
   "outputs": [
    {
     "name": "stdout",
     "output_type": "stream",
     "text": [
      "Hello Nepal\n"
     ]
    }
   ],
   "source": [
    "# OOP in python\n",
    "\n",
    "\n",
    "class Hello:\n",
    "    def nepal(self):\n",
    "        print(\"Hello Nepal\")\n",
    "obj=Hello()\n",
    "obj.nepal()"
   ]
  },
  {
   "cell_type": "code",
   "execution_count": 4,
   "id": "8639a9e5",
   "metadata": {},
   "outputs": [
    {
     "name": "stdout",
     "output_type": "stream",
     "text": [
      "Hello Nepal\n"
     ]
    }
   ],
   "source": [
    "\n",
    "class Hello:\n",
    "    @staticmethod\n",
    "    def nepal():\n",
    "        print(\"Hello Nepal\")\n",
    "obj=Hello()\n",
    "obj.nepal()"
   ]
  },
  {
   "cell_type": "code",
   "execution_count": 7,
   "id": "2cd67b02",
   "metadata": {},
   "outputs": [
    {
     "name": "stdout",
     "output_type": "stream",
     "text": [
      "Area of circle is 30\n"
     ]
    }
   ],
   "source": [
    "class Cal:\n",
    "    @staticmethod\n",
    "    def area(l,b):\n",
    "        print(\"Area of circle is \"+str(l*b))\n",
    "obj=Cal()\n",
    "obj.area(5,6)"
   ]
  },
  {
   "cell_type": "code",
   "execution_count": 11,
   "id": "e78467c9",
   "metadata": {},
   "outputs": [
    {
     "name": "stdout",
     "output_type": "stream",
     "text": [
      "Area of circle is 15\n",
      "15\n"
     ]
    }
   ],
   "source": [
    "class Cal:\n",
    "    def __init__(self, length, breadth, height):\n",
    "        self.l=length\n",
    "        self.b=breadth\n",
    "        self.h=height\n",
    "    def area(this):\n",
    "        print(\"Area of circle is \"+str(this.l*this.b))\n",
    "    def volume(self):\n",
    "        print(self.l*self.b*self.h)\n",
    "obj=Cal(3,5,1)\n",
    "obj.area()\n",
    "obj.volume()"
   ]
  },
  {
   "cell_type": "code",
   "execution_count": 14,
   "id": "29a6dd10",
   "metadata": {},
   "outputs": [
    {
     "name": "stdout",
     "output_type": "stream",
     "text": [
      "Enter name = Ram\n",
      "Enter age = 32\n",
      "Enter add = KTM\n",
      "Hello I am Ram. I am 32 of age. I am from KTM .\n"
     ]
    }
   ],
   "source": [
    "class Info:\n",
    "    def __init__(self, name , age , add):\n",
    "        self.name=name\n",
    "        self.age=age\n",
    "        self.add=add\n",
    "    def info(self):\n",
    "        print(f\"Hello I am {self.name}. I am {self.age} of age. I am from {self.add}.\")\n",
    "\n",
    "name=input(\"Enter name = \")\n",
    "age=int(input(\"Enter age = \"))\n",
    "add=input(\"Enter add = \")\n",
    "\n",
    "obj=Info(name, age, add)\n",
    "obj.info()\n",
    "    "
   ]
  },
  {
   "cell_type": "code",
   "execution_count": 18,
   "id": "e77ed76a",
   "metadata": {},
   "outputs": [
    {
     "name": "stdout",
     "output_type": "stream",
     "text": [
      "Enter name = Ram\n",
      "Enter age = 45\n",
      "Enter add = ktm\n",
      "Hello I am Ram. I am 45 of age. I am from ktm.\n",
      "ktm\n"
     ]
    }
   ],
   "source": [
    "class Info:\n",
    "    def __init__(self, name , age ):\n",
    "        self.name=name\n",
    "        self.age=age\n",
    "        self.add=input(\"Enter add = \")\n",
    "        \n",
    "    def info(self):\n",
    "        print(f\"Hello I am {self.name}. I am {self.age} of age. I am from {self.add}.\")\n",
    "\n",
    "name=input(\"Enter name = \")\n",
    "age=int(input(\"Enter age = \"))\n",
    "\n",
    "\n",
    "obj=Info(name, age)\n",
    "obj.info()\n",
    "print(obj.add)"
   ]
  },
  {
   "cell_type": "code",
   "execution_count": 23,
   "id": "a3df9a7b",
   "metadata": {},
   "outputs": [
    {
     "name": "stdout",
     "output_type": "stream",
     "text": [
      "Hello I am Ram. I am 45 of age. I am from Kathmandu.\n",
      "Hello I am Rama. I am 43 of age. I am from Kathmandu.\n"
     ]
    }
   ],
   "source": [
    "class Info:\n",
    "    def __init__(self, name , age , add):\n",
    "        self.name=name\n",
    "        self.age=age\n",
    "        self.add=add\n",
    "    def info(self):\n",
    "        return(f\"Hello I am {self.name}. I am {self.age} of age. I am from {self.add}.\")\n",
    "\n",
    "\n",
    "obj=Info(\"Ram\", 45, \"Kathmandu\")\n",
    "obj1=Info(\"Rama\", 43, \"Kathmandu\")\n",
    "\n",
    "print(obj.info())\n",
    "print(obj1.info())"
   ]
  },
  {
   "cell_type": "code",
   "execution_count": 4,
   "id": "2de29942",
   "metadata": {},
   "outputs": [
    {
     "name": "stdout",
     "output_type": "stream",
     "text": [
      "Enter name = ram\n",
      "Enter age = 43\n",
      "Enter add = ktm\n",
      "Hello I am ram. I am 43 of age. I am from ktm.\n",
      "ram\n",
      "ram\n",
      "ramGopal\n"
     ]
    }
   ],
   "source": [
    "class Info:\n",
    "    def __init__(self):\n",
    "        self.name=input(\"Enter name = \")\n",
    "        self.age=int(input(\"Enter age = \"))\n",
    "        self.add=input(\"Enter add = \")\n",
    "        \n",
    "    def __str__(self):\n",
    "        \n",
    "        return self.name\n",
    "    def info(self):\n",
    "        print(f\"Hello I am {self.name}. I am {self.age} of age. I am from {self.add}.\")\n",
    "\n",
    "\n",
    "\n",
    "\n",
    "obj=Info()\n",
    "obj.info()\n",
    "print(obj)\n",
    "print(obj.__str__())\n",
    "print(str(obj)+\"Gopal\")\n"
   ]
  },
  {
   "cell_type": "code",
   "execution_count": null,
   "id": "fb4ed829",
   "metadata": {},
   "outputs": [],
   "source": []
  },
  {
   "cell_type": "code",
   "execution_count": null,
   "id": "fd925f25",
   "metadata": {},
   "outputs": [],
   "source": []
  }
 ],
 "metadata": {
  "kernelspec": {
   "display_name": "Python 3 (ipykernel)",
   "language": "python",
   "name": "python3"
  },
  "language_info": {
   "codemirror_mode": {
    "name": "ipython",
    "version": 3
   },
   "file_extension": ".py",
   "mimetype": "text/x-python",
   "name": "python",
   "nbconvert_exporter": "python",
   "pygments_lexer": "ipython3",
   "version": "3.11.5"
  }
 },
 "nbformat": 4,
 "nbformat_minor": 5
}
