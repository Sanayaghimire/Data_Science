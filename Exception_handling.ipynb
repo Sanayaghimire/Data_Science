{
 "cells": [
  {
   "cell_type": "code",
   "execution_count": 1,
   "id": "b7b96d18",
   "metadata": {},
   "outputs": [
    {
     "name": "stdout",
     "output_type": "stream",
     "text": [
      "Enter x = 3\n",
      "Enter y = 5\n",
      "8\n"
     ]
    }
   ],
   "source": [
    "# try:\n",
    "#     <operation>\n",
    "# except:\n",
    "#     <operation>\n",
    "\n",
    "\n",
    "\n",
    "try:\n",
    "    x=int(input(\"Enter x = \"))\n",
    "    y=int(input(\"Enter y = \"))\n",
    "    z=x+y\n",
    "    print(z)\n",
    "except:\n",
    "    print(\"Error!\")"
   ]
  },
  {
   "cell_type": "code",
   "execution_count": 3,
   "id": "8f1511a8",
   "metadata": {},
   "outputs": [
    {
     "name": "stdout",
     "output_type": "stream",
     "text": [
      "Enter x = rt\n",
      "Error!\n"
     ]
    }
   ],
   "source": [
    "def cal():\n",
    "    try:\n",
    "        x=int(input(\"Enter x = \"))\n",
    "        y=int(input(\"Enter y = \"))\n",
    "        z=x+y\n",
    "        print(z)\n",
    "    except:\n",
    "        print(\"Error! \")\n",
    "        cal()\n",
    "cal()"
   ]
  },
  {
   "cell_type": "markdown",
   "id": "293249a1",
   "metadata": {},
   "source": []
  },
  {
   "cell_type": "code",
   "execution_count": 8,
   "id": "c642dccf",
   "metadata": {},
   "outputs": [
    {
     "name": "stdout",
     "output_type": "stream",
     "text": [
      "Enter x = 6\n",
      "Enter y = 0\n",
      "Error! The value of y cannot be zero\n"
     ]
    }
   ],
   "source": [
    "try:\n",
    "    x=int(input(\"Enter x = \"))\n",
    "    y=int(input(\"Enter y = \"))\n",
    "    z=x/y\n",
    "    print(z)\n",
    "except:\n",
    "    print(\"Error! The value of y cannot be zero\")"
   ]
  },
  {
   "cell_type": "code",
   "execution_count": 4,
   "id": "3735b327",
   "metadata": {},
   "outputs": [
    {
     "name": "stdout",
     "output_type": "stream",
     "text": [
      "Enter x = ty\n"
     ]
    },
    {
     "ename": "ValueError",
     "evalue": "invalid literal for int() with base 10: 'ty'",
     "output_type": "error",
     "traceback": [
      "\u001b[1;31m---------------------------------------------------------------------------\u001b[0m",
      "\u001b[1;31mValueError\u001b[0m                                Traceback (most recent call last)",
      "Cell \u001b[1;32mIn[4], line 1\u001b[0m\n\u001b[1;32m----> 1\u001b[0m x\u001b[38;5;241m=\u001b[39m\u001b[38;5;28mint\u001b[39m(\u001b[38;5;28minput\u001b[39m(\u001b[38;5;124m\"\u001b[39m\u001b[38;5;124mEnter x = \u001b[39m\u001b[38;5;124m\"\u001b[39m))\n",
      "\u001b[1;31mValueError\u001b[0m: invalid literal for int() with base 10: 'ty'"
     ]
    }
   ],
   "source": [
    "x=int(input(\"Enter x = \"))\n"
   ]
  },
  {
   "cell_type": "code",
   "execution_count": 5,
   "id": "de9a0e8f",
   "metadata": {},
   "outputs": [
    {
     "name": "stdout",
     "output_type": "stream",
     "text": [
      "Enter x = 67\n",
      "Enter y = 0\n",
      "Error! please enter int value\n"
     ]
    }
   ],
   "source": [
    "try:\n",
    "    x=int(input(\"Enter x = \"))\n",
    "    y=int(input(\"Enter y = \"))\n",
    "    z=x/y\n",
    "    print(z)\n",
    "except:\n",
    "    print(\"Error! please enter int value\")\n"
   ]
  },
  {
   "cell_type": "code",
   "execution_count": 7,
   "id": "36c9cb96",
   "metadata": {},
   "outputs": [
    {
     "name": "stdout",
     "output_type": "stream",
     "text": [
      "Enter x = 45\n",
      "Enter y = dr\n",
      "Error! Please enter int value\n"
     ]
    }
   ],
   "source": [
    "try:\n",
    "    x=int(input(\"Enter x = \"))\n",
    "    y=int(input(\"Enter y = \"))\n",
    "    z=x/y\n",
    "    print(z)\n",
    "except ValueError:\n",
    "    print(\"Error! Please enter int value\")\n",
    "except ZeroDivisionError:\n",
    "    print(\"Error, The value of y cannot be zero\")"
   ]
  },
  {
   "cell_type": "code",
   "execution_count": 9,
   "id": "8466564c",
   "metadata": {},
   "outputs": [
    {
     "name": "stdout",
     "output_type": "stream",
     "text": [
      "Enter x = 67\n",
      "Enter y = 7\n",
      "74\n"
     ]
    }
   ],
   "source": [
    "try:\n",
    "    x=int(input(\"Enter x = \"))\n",
    "    y=int(input(\"Enter y = \"))\n",
    "    z=x+y\n",
    "except:\n",
    "    print(\"Error! please enter int value\")\n",
    "else:\n",
    "    print(z)"
   ]
  },
  {
   "cell_type": "code",
   "execution_count": 10,
   "id": "e34a090b",
   "metadata": {},
   "outputs": [
    {
     "name": "stdout",
     "output_type": "stream",
     "text": [
      "Enter x = 5\n",
      "Enter y = 4\n",
      "9\n",
      "Thankyou\n"
     ]
    }
   ],
   "source": [
    "try:\n",
    "    x=int(input(\"Enter x = \"))\n",
    "    y=int(input(\"Enter y = \"))\n",
    "    z=x+y\n",
    "except:\n",
    "    print(\"Error! please enter int value\")\n",
    "else:\n",
    "    print(z)\n",
    "finally:\n",
    "    print(\"Thankyou\")"
   ]
  },
  {
   "cell_type": "code",
   "execution_count": 16,
   "id": "5f47718c",
   "metadata": {},
   "outputs": [
    {
     "name": "stdout",
     "output_type": "stream",
     "text": [
      "Enter age 45\n",
      "Your age is  45\n"
     ]
    }
   ],
   "source": [
    "try:\n",
    "    age=int(input(\"Enter age \"))\n",
    "    assert age >= 20\n",
    "except AssertionError:\n",
    "    print(\"The age should be greater or equal to 20\")\n",
    "except ValueError:\n",
    "    print(\"The age should be int\")\n",
    "else:\n",
    "    print(\"Your age is \", age)"
   ]
  },
  {
   "cell_type": "code",
   "execution_count": null,
   "id": "98cba2e4",
   "metadata": {},
   "outputs": [],
   "source": []
  }
 ],
 "metadata": {
  "kernelspec": {
   "display_name": "Python 3 (ipykernel)",
   "language": "python",
   "name": "python3"
  },
  "language_info": {
   "codemirror_mode": {
    "name": "ipython",
    "version": 3
   },
   "file_extension": ".py",
   "mimetype": "text/x-python",
   "name": "python",
   "nbconvert_exporter": "python",
   "pygments_lexer": "ipython3",
   "version": "3.11.5"
  }
 },
 "nbformat": 4,
 "nbformat_minor": 5
}
