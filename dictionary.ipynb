{
 "cells": [
  {
   "cell_type": "code",
   "execution_count": 4,
   "id": "0509197a",
   "metadata": {},
   "outputs": [
    {
     "name": "stdout",
     "output_type": "stream",
     "text": [
      "{'a': 'apple', 'b': 'ball', 'c': 'cat'}\n",
      "apple\n",
      "3\n"
     ]
    }
   ],
   "source": [
    "# Dictionary\n",
    "# -indexing\n",
    "# -ordered\n",
    "# -multiple data\n",
    "# -mutable\n",
    "\n",
    "\n",
    "d={'a':'apple', 'b':'ball', 'c':'cat'}\n",
    "print(d)\n",
    "print(d['a']) #call its key to print its value\n",
    "print(len(d))"
   ]
  },
  {
   "cell_type": "code",
   "execution_count": 6,
   "id": "883f804c",
   "metadata": {},
   "outputs": [
    {
     "name": "stdout",
     "output_type": "stream",
     "text": [
      "a b c "
     ]
    }
   ],
   "source": [
    "# dictionary do not use operators like +, - , *, /\n",
    "\n",
    "d={'a':'apple', 'b':'ball', 'c':'cat'} #to print only key\n",
    "for i in d:\n",
    "    print(i, end=\" \")\n",
    "    \n"
   ]
  },
  {
   "cell_type": "code",
   "execution_count": 7,
   "id": "f10d1834",
   "metadata": {},
   "outputs": [
    {
     "name": "stdout",
     "output_type": "stream",
     "text": [
      "apple ball cat "
     ]
    }
   ],
   "source": [
    "d={'a':'apple', 'b':'ball', 'c':'cat'} #to print only values\n",
    "for i in d.values():\n",
    "    print(i, end=\" \")\n",
    "    \n"
   ]
  },
  {
   "cell_type": "code",
   "execution_count": 8,
   "id": "26d1c82f",
   "metadata": {},
   "outputs": [
    {
     "name": "stdout",
     "output_type": "stream",
     "text": [
      "('a', 'apple') ('b', 'ball') ('c', 'cat') "
     ]
    }
   ],
   "source": [
    "d={'a':'apple', 'b':'ball', 'c':'cat'}  #to print both key and values\n",
    "for i in d.items():\n",
    "    print(i, end=\" \")\n",
    "    \n"
   ]
  },
  {
   "cell_type": "code",
   "execution_count": 14,
   "id": "563c63b4",
   "metadata": {},
   "outputs": [
    {
     "name": "stdout",
     "output_type": "stream",
     "text": [
      "{'a': 'apple', 'b': 'ball', 'c': 'cat'}\n"
     ]
    }
   ],
   "source": [
    "#list inside list\n",
    "d=[['a','apple'],[ 'b','ball'],[ 'c','cat']] \n",
    "a=dict(d)      #converting list inside list into dictionary\n",
    "print(a)"
   ]
  },
  {
   "cell_type": "code",
   "execution_count": 17,
   "id": "462e1082",
   "metadata": {},
   "outputs": [
    {
     "name": "stdout",
     "output_type": "stream",
     "text": [
      "[('a', 'apple'), ('b', 'ball'), ('c', 'cat')]\n"
     ]
    }
   ],
   "source": [
    "#converting list inside dictionary into list\n",
    "d={'a':'apple', 'b':'ball', 'c':'cat'}  \n",
    "print(list(d.items()))\n"
   ]
  },
  {
   "cell_type": "code",
   "execution_count": 22,
   "id": "79be5d57",
   "metadata": {},
   "outputs": [
    {
     "name": "stdout",
     "output_type": "stream",
     "text": [
      "{'a': 'Apple'}\n",
      "{'a': 'Elephant', 'b': 'Ball', 'c': 'Cat', 'd': 'Dog'}\n"
     ]
    }
   ],
   "source": [
    "# d=dict() #inintializing garda small bracket use garna parxa or empty dictionary define garda\n",
    "\n",
    "d={}\n",
    "d['a']='Apple'\n",
    "print(d)\n",
    "d['b']='Ball'\n",
    "d['c']='Cat'\n",
    "d['d']='Dog'\n",
    "d['a']='Elephant'  #if you reaasign the key then latest value will overcome previous value\n",
    "print(d)"
   ]
  },
  {
   "cell_type": "code",
   "execution_count": 23,
   "id": "98f04562",
   "metadata": {},
   "outputs": [
    {
     "name": "stdout",
     "output_type": "stream",
     "text": [
      "{'a': 'Apple'}\n",
      "{'a': 'Apple', 'b': 'Ball', 'c': 'Cat', 'd': 'Dog', 'e': 'Elephant'}\n"
     ]
    }
   ],
   "source": [
    "#if you are adding key value pair in dictionary then your key must be unique\n",
    "d={}\n",
    "d['a']='Apple'\n",
    "print(d)\n",
    "d['b']='Ball'\n",
    "d['c']='Cat'\n",
    "d['d']='Dog'\n",
    "d['e']='Elephant'  \n",
    "print(d)"
   ]
  },
  {
   "cell_type": "code",
   "execution_count": 29,
   "id": "f9e6828c",
   "metadata": {},
   "outputs": [
    {
     "name": "stdout",
     "output_type": "stream",
     "text": [
      "{'a': 'Elephant', 'b': 'Ball', 'c': 'Cat'}\n"
     ]
    }
   ],
   "source": [
    "# delele and pop\n",
    "d={'a': 'Elephant', 'b': 'Ball', 'c': 'Cat', 'd': 'Dog'}\n",
    "\n",
    "\n",
    "del d['d'] #delete the value of key d\n",
    "\n",
    "print(d)\n"
   ]
  },
  {
   "cell_type": "code",
   "execution_count": 31,
   "id": "2ccb44b8",
   "metadata": {},
   "outputs": [
    {
     "name": "stdout",
     "output_type": "stream",
     "text": [
      "{'a': 'Elephant', 'b': 'Ball', 'c': 'Cat'}\n"
     ]
    }
   ],
   "source": [
    "d={'a': 'Elephant', 'b': 'Ball', 'c': 'Cat', 'd': 'Dog'}\n",
    "d.pop('d')\n",
    "print(d)\n",
    "print(b)"
   ]
  },
  {
   "cell_type": "code",
   "execution_count": 32,
   "id": "a0c24d68",
   "metadata": {},
   "outputs": [
    {
     "name": "stdout",
     "output_type": "stream",
     "text": [
      "Enter n= 2\n",
      "Enter name = Sanaya \n",
      "Enter phone = 9878675654\n",
      "Enter name = Samaya\n",
      "Enter phone = 9876678909\n",
      "{'9878675654': 'Sanaya ', '9876678909': 'Samaya'}\n"
     ]
    }
   ],
   "source": [
    "#WAP to take user input and create dictionary\n",
    "\n",
    "d={}\n",
    "n=int(input(\"Enter n= \"))\n",
    "for i in range(n):\n",
    "    name=input(\"Enter name = \")\n",
    "    phone=input(\"Enter phone = \")\n",
    "    d[phone]=name #d[key]=value we put phone as key bcz key need to be unique n phone number is unique but name can be same.\n",
    "print(d)"
   ]
  },
  {
   "cell_type": "code",
   "execution_count": 33,
   "id": "18120446",
   "metadata": {},
   "outputs": [
    {
     "name": "stdout",
     "output_type": "stream",
     "text": [
      "Enter n= 1\n",
      "Enter name = Ram\n",
      "Enter phone = 9876789732\n",
      "{'Ram': '9876789732'}\n"
     ]
    }
   ],
   "source": [
    "#suppose name is unique here\n",
    "\n",
    "d={}\n",
    "n=int(input(\"Enter n= \"))\n",
    "for i in range(n):\n",
    "    name=input(\"Enter name = \")\n",
    "    phone=input(\"Enter phone = \")\n",
    "    d[name]=phone\n",
    "print(d)"
   ]
  },
  {
   "cell_type": "code",
   "execution_count": 36,
   "id": "4ff8193a",
   "metadata": {},
   "outputs": [
    {
     "name": "stdout",
     "output_type": "stream",
     "text": [
      "{'ram': [9840987876, 9789654323], 'shyam': [9878675434, 9856453432]}\n",
      "9840987876\n",
      "9856453432\n"
     ]
    }
   ],
   "source": [
    "# # list inside dictionary\n",
    "# Suppose one person has two phone number\n",
    "\n",
    "d={'ram':[9840987876, 9789654323], 'shyam':[9878675434,9856453432]}\n",
    "print(d)\n",
    "print(d['ram'][0])\n",
    "print(d['shyam'][1])"
   ]
  },
  {
   "cell_type": "code",
   "execution_count": 37,
   "id": "56fd006b",
   "metadata": {},
   "outputs": [
    {
     "name": "stdout",
     "output_type": "stream",
     "text": [
      "Enter n= 2\n",
      "Enter name = Sanaya\n",
      "Enter ntc phone number = 9840851671\n",
      "Enter ncell phone number = 9867564356\n",
      "Enter name = Ram\n",
      "Enter ntc phone number = 9878676545\n",
      "Enter ncell phone number = 9876543211\n",
      "{'Sanaya': [9840851671, 9867564356], 'Ram': [9878676545, 9876543211]}\n"
     ]
    }
   ],
   "source": [
    "d={}\n",
    "n=int(input(\"Enter n= \"))\n",
    "for i in range(n):\n",
    "    name=input(\"Enter name = \")\n",
    "    ntc_phone=int(input(\"Enter ntc phone number = \"))\n",
    "    ncell_phone=int(input(\"Enter ncell phone number = \"))\n",
    "\n",
    "    d[name]=[ntc_phone, ncell_phone]\n",
    "print(d)"
   ]
  },
  {
   "cell_type": "code",
   "execution_count": 41,
   "id": "f7694bc9",
   "metadata": {},
   "outputs": [
    {
     "name": "stdout",
     "output_type": "stream",
     "text": [
      "{'name': ['Ram', 'Hari', 'Gopal', 'sita'], 'ntc_number': [9856738243, 9876543234, 9878674932, 9876564455], 'ncell_number': [98234567898, 9823456789, 9876545567]}\n"
     ]
    }
   ],
   "source": [
    "info={'name':['Ram','Hari','Gopal','sita'],\n",
    "     'ntc_number':[9856738243,9876543234,9878674932,9876564455],\n",
    "     'ncell_number':[98234567898,9823456789,9876545567]}\n",
    "\n",
    "print(info)\n"
   ]
  },
  {
   "cell_type": "code",
   "execution_count": 45,
   "id": "6c6e65c9",
   "metadata": {},
   "outputs": [
    {
     "name": "stdout",
     "output_type": "stream",
     "text": [
      "Enter n = 1\n",
      "Enter name = tam\n",
      "Enter ntc phone number = 9874387943\n",
      "Enter ncell phone number = 7834628627\n",
      "{'name': ['tam'], 'ntc_phone': [9874387943], 'ncell_phone': [7834628627]}\n",
      "tam 9874387943 7834628627\n"
     ]
    }
   ],
   "source": [
    "d={'name':[],\n",
    "  'ntc_phone':[],\n",
    "  'ncell_phone':[]\n",
    "  }\n",
    "\n",
    "n=int(input(\"Enter n = \"))\n",
    "for i in range(n):\n",
    "    name=input('Enter name = ')\n",
    "    ntc_phone=int(input(\"Enter ntc phone number = \"))\n",
    "    ncell_phone=int(input(\"Enter ncell phone number = \"))\n",
    "    d['name'].append(name)\n",
    "    d['ntc_phone'].append(ntc_phone)\n",
    "    d['ncell_phone'].append(ncell_phone)\n",
    "print(d)\n",
    "# print(d(name[0],d(ntc_phone[0]),d(ncell_phone[0])))\n",
    "\n",
    "print(d['name'][0], d['ntc_phone'][0], d['ncell_phone'][0])\n"
   ]
  },
  {
   "cell_type": "code",
   "execution_count": 4,
   "id": "785cc65c",
   "metadata": {},
   "outputs": [
    {
     "name": "stdout",
     "output_type": "stream",
     "text": [
      "[{'name': 'ram', 'age': '34', 'add': 'ktm'}, {'name': 'ramhari', 'age': 44, 'add': 'manakaman'}, {'name': 'ramgopal', 'age': 84, 'add': 'gongabu'}]\n"
     ]
    }
   ],
   "source": [
    "# dict inside list\n",
    "d=[{'name':'ram','age':'34','add':'ktm'},\n",
    "    {'name':'ramhari' ,'age':44,'add':'manakaman' },    \n",
    "    {'name':'ramgopal' ,'age':84,'add':'gongabu' }]\n",
    "print(d)"
   ]
  },
  {
   "cell_type": "code",
   "execution_count": 5,
   "id": "09d79ad9",
   "metadata": {},
   "outputs": [
    {
     "name": "stdout",
     "output_type": "stream",
     "text": [
      "enter n = 2\n",
      "Enter name = sanaya\n",
      "Enter age = 24\n",
      "Enter address = basundhara\n",
      "Enter name = binod\n",
      "Enter age = 23\n",
      "Enter address = gongabu\n",
      "[{'name': 'sanaya', 'age': 24, 'add': 'basundhara'}, {'name': 'binod', 'age': 23, 'add': 'gongabu'}]\n"
     ]
    }
   ],
   "source": [
    "d=[]\n",
    "n=int(input(\"enter n = \"))\n",
    "for i in range(n):\n",
    "    name=input(\"Enter name = \")\n",
    "    age=int(input(\"Enter age = \"))\n",
    "    add=input(\"Enter address = \")\n",
    "    x = {'name': name, 'age': age, 'add': add}\n",
    "    d.append(x)\n",
    "print(d)"
   ]
  },
  {
   "cell_type": "code",
   "execution_count": 8,
   "id": "d7dbd666",
   "metadata": {},
   "outputs": [
    {
     "name": "stdout",
     "output_type": "stream",
     "text": [
      "{1: {'name': 'ram', 'age': '34', 'add': 'ktm'}, 2: {'name': 'ramhari', 'age': 44, 'add': 'manakaman'}, 3: {'name': 'ramgopal', 'age': 84, 'add': 'gongabu'}}\n",
      "<class 'dict'>\n",
      "{'name': 'ram', 'age': '34', 'add': 'ktm'}\n"
     ]
    }
   ],
   "source": [
    "# dict inside dict\n",
    "\n",
    "d={1:{'name':'ram','age':'34','add':'ktm'},\n",
    "    2:{'name':'ramhari' ,'age':44,'add':'manakaman' },    \n",
    "    3:{'name':'ramgopal' ,'age':84,'add':'gongabu' }}\n",
    "print(d)\n",
    "print(type(d))\n",
    "print(d[1])"
   ]
  },
  {
   "cell_type": "code",
   "execution_count": 10,
   "id": "a2283761",
   "metadata": {},
   "outputs": [
    {
     "name": "stdout",
     "output_type": "stream",
     "text": [
      "enter n = 2\n",
      "Enter name = ram\n",
      "Enter age = 34\n",
      "Enter address = ktm\n",
      "Enter name = rama\n",
      "Enter age = 34\n",
      "Enter address = ktm\n",
      "{1: {'name': 'ram', 'age': 34, 'add': 'ktm'}, 2: {'name': 'rama', 'age': 34, 'add': 'ktm'}}\n"
     ]
    }
   ],
   "source": [
    "# Creating dictionary inside idictionary\n",
    "d={}\n",
    "n=int(input(\"enter n = \"))\n",
    "for i in range(1,n+1):\n",
    "    name=input(\"Enter name = \")\n",
    "    age=int(input(\"Enter age = \"))\n",
    "    add=input(\"Enter address = \")\n",
    "    x = {'name': name, 'age': age, 'add': add}\n",
    "    d[i]=x\n",
    "print(d)\n"
   ]
  },
  {
   "cell_type": "code",
   "execution_count": 12,
   "id": "d0277efb",
   "metadata": {},
   "outputs": [
    {
     "name": "stdout",
     "output_type": "stream",
     "text": [
      "{1: {'name': 'Ramhari prasad', 'age': 34, 'add': 'ktm'}, 2: {'name': 'rama', 'age': 34, 'add': 'ktm'}}\n"
     ]
    }
   ],
   "source": [
    "d[1]['name']\n",
    "# to update name\n",
    "\n",
    "d[1]['name']='Ramhari prasad'\n",
    "print(d)"
   ]
  },
  {
   "cell_type": "code",
   "execution_count": 13,
   "id": "94944aee",
   "metadata": {},
   "outputs": [
    {
     "name": "stdout",
     "output_type": "stream",
     "text": [
      "{1: {'name': 'ram', 'age': '34', 'add': 'ktm'}, 3: {'name': 'ramgopal', 'age': 84, 'add': 'gongabu'}}\n"
     ]
    }
   ],
   "source": [
    "# to delete the value\n",
    "\n",
    "\n",
    "d={1:{'name':'ram','age':'34','add':'ktm'},\n",
    "    2:{'name':'ramhari' ,'age':44,'add':'manakaman' },    \n",
    "    3:{'name':'ramgopal' ,'age':84,'add':'gongabu' }}\n",
    "del d[2]\n",
    "print(d)"
   ]
  },
  {
   "cell_type": "code",
   "execution_count": 16,
   "id": "ef6414fb",
   "metadata": {},
   "outputs": [
    {
     "name": "stdout",
     "output_type": "stream",
     "text": [
      "{1: {'name': 'ram', 'age': '34', 'add': {'per': 'nuwakot', 'temp': 'ktm'}}, 2: {'/tname': 'ramhari', 'age': 44, 'add': {'per': 'rasuwa', 'temp': 'ktm'}}, 3: {'name': 'ramgopal', 'age': 84, 'add': {'per': 'jajarkot', 'temp': 'ktm'}}}\n"
     ]
    }
   ],
   "source": [
    "\n",
    "d={1:{'name':'ram','age':'34','add':{'per':'nuwakot', 'temp':'ktm'}},\n",
    "    2:{'name':'ramhari' ,'age':44,'add':{'per':'rasuwa', 'temp':'ktm'}},    \n",
    "    3:{'name':'ramgopal' ,'age':84,'add':{'per':'jajarkot', 'temp':'ktm'}}}\n",
    "print(d)"
   ]
  },
  {
   "cell_type": "code",
   "execution_count": 1,
   "id": "c43a8165",
   "metadata": {},
   "outputs": [
    {
     "data": {
      "text/plain": [
       "'C:\\\\Users\\\\sanay\\\\python_class'"
      ]
     },
     "execution_count": 1,
     "metadata": {},
     "output_type": "execute_result"
    }
   ],
   "source": [
    "pwd\n"
   ]
  },
  {
   "cell_type": "code",
   "execution_count": null,
   "id": "bceba215",
   "metadata": {},
   "outputs": [],
   "source": []
  }
 ],
 "metadata": {
  "kernelspec": {
   "display_name": "Python 3 (ipykernel)",
   "language": "python",
   "name": "python3"
  },
  "language_info": {
   "codemirror_mode": {
    "name": "ipython",
    "version": 3
   },
   "file_extension": ".py",
   "mimetype": "text/x-python",
   "name": "python",
   "nbconvert_exporter": "python",
   "pygments_lexer": "ipython3",
   "version": "3.11.5"
  }
 },
 "nbformat": 4,
 "nbformat_minor": 5
}
