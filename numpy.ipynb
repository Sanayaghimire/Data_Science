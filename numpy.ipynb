{
 "cells": [
  {
   "cell_type": "code",
   "execution_count": 5,
   "id": "0fbb9759",
   "metadata": {},
   "outputs": [
    {
     "data": {
      "text/plain": [
       "'1.24.3'"
      ]
     },
     "execution_count": 5,
     "metadata": {},
     "output_type": "execute_result"
    }
   ],
   "source": [
    "import numpy as np\n",
    "np.__version__"
   ]
  },
  {
   "cell_type": "code",
   "execution_count": 2,
   "id": "fb63fbce",
   "metadata": {},
   "outputs": [
    {
     "data": {
      "text/plain": [
       "array([1, 2, 3, 4, 5, 6, 7, 8, 9, 0])"
      ]
     },
     "execution_count": 2,
     "metadata": {},
     "output_type": "execute_result"
    }
   ],
   "source": [
    "np_array=np.array([1,2,3,4,5,6,7,8,9,0])\n",
    "np_array"
   ]
  },
  {
   "cell_type": "code",
   "execution_count": 4,
   "id": "d34cabf4",
   "metadata": {},
   "outputs": [
    {
     "data": {
      "text/plain": [
       "array([1, 2, 3, 4, 5, 6, 7, 8, 9, 0])"
      ]
     },
     "execution_count": 4,
     "metadata": {},
     "output_type": "execute_result"
    }
   ],
   "source": [
    "x = [1,2,3,4,5,6,7,8,9,0]\n",
    "np_array = np.array(x)\n",
    "np_array"
   ]
  },
  {
   "cell_type": "code",
   "execution_count": 7,
   "id": "aff73618",
   "metadata": {},
   "outputs": [
    {
     "name": "stdout",
     "output_type": "stream",
     "text": [
      "[ 8  9 10 11 12 13 14 15 16  7]\n",
      "[-1  0  1  2  3  4  5  6  7 -2]\n",
      "[0.2 0.4 0.6 0.8 1.  1.2 1.4 1.6 1.8 0. ]\n",
      "[ 4  8 12 16 20 24 28 32 36  0]\n"
     ]
    }
   ],
   "source": [
    "# + - * / ** // %\n",
    "x = [1,2,3,4,5,6,7,8,9,0]\n",
    "np_array = np.array(x)\n",
    "print(np_array +7)\n",
    "print(np_array -2)\n",
    "print(np_array /5)\n",
    "print(np_array *4)\n"
   ]
  },
  {
   "cell_type": "code",
   "execution_count": 9,
   "id": "5f8baa62",
   "metadata": {},
   "outputs": [
    {
     "name": "stdout",
     "output_type": "stream",
     "text": [
      "[ 1  4  9 16 25 36 49 64 81  0]\n",
      "[0 1 1 2 2 3 3 4 4 0]\n",
      "[1 2 3 4 5 6 0 1 2 0]\n"
     ]
    }
   ],
   "source": [
    "print(np_array **2)\n",
    "print(np_array //2)\n",
    "print(np_array %7)"
   ]
  },
  {
   "cell_type": "code",
   "execution_count": 10,
   "id": "1483c2f0",
   "metadata": {},
   "outputs": [
    {
     "name": "stdout",
     "output_type": "stream",
     "text": [
      "[ 1 10 12  7  9 11  9]\n"
     ]
    }
   ],
   "source": [
    "a=np.array([1,2,3,4,5,6,7])\n",
    "b=np.array([0,8,9,3,4,5,2])\n",
    "c=a+b\n",
    "print(c)"
   ]
  },
  {
   "cell_type": "code",
   "execution_count": 17,
   "id": "893070f5",
   "metadata": {},
   "outputs": [
    {
     "name": "stdout",
     "output_type": "stream",
     "text": [
      "(7,)\n",
      "1\n"
     ]
    }
   ],
   "source": [
    "#shape of array\n",
    "a=np.array([1,2,3,4,5,6,7])\n",
    "print(a.shape)\n",
    "print(len(a.shape))"
   ]
  },
  {
   "cell_type": "code",
   "execution_count": 19,
   "id": "5017ee07",
   "metadata": {},
   "outputs": [
    {
     "name": "stdout",
     "output_type": "stream",
     "text": [
      "(2, 3)\n",
      "2\n"
     ]
    }
   ],
   "source": [
    "a=np.array([[1,2,3],[4,5,6]])\n",
    "print(a.shape)\n",
    "print(len(a.shape))"
   ]
  },
  {
   "cell_type": "code",
   "execution_count": 24,
   "id": "ff1bc938",
   "metadata": {},
   "outputs": [
    {
     "name": "stdout",
     "output_type": "stream",
     "text": [
      "(2, 3, 1)\n",
      "3\n"
     ]
    }
   ],
   "source": [
    "a=np.array([[[1],[2],[3]],[[4],[5],[6]]])\n",
    "print(a.shape)\n",
    "print(len(a.shape))\n"
   ]
  },
  {
   "cell_type": "code",
   "execution_count": 25,
   "id": "9a4cc7de",
   "metadata": {},
   "outputs": [
    {
     "data": {
      "text/plain": [
       "array([[1., 1., 1.],\n",
       "       [1., 1., 1.],\n",
       "       [1., 1., 1.]])"
      ]
     },
     "execution_count": 25,
     "metadata": {},
     "output_type": "execute_result"
    }
   ],
   "source": [
    "#predefined functions\n",
    "np.ones((3,3))"
   ]
  },
  {
   "cell_type": "code",
   "execution_count": 26,
   "id": "3da5e6a1",
   "metadata": {},
   "outputs": [
    {
     "data": {
      "text/plain": [
       "array([[0., 0., 0.],\n",
       "       [0., 0., 0.],\n",
       "       [0., 0., 0.]])"
      ]
     },
     "execution_count": 26,
     "metadata": {},
     "output_type": "execute_result"
    }
   ],
   "source": [
    "np.zeros((3,3,))"
   ]
  },
  {
   "cell_type": "code",
   "execution_count": 27,
   "id": "169ffab1",
   "metadata": {},
   "outputs": [
    {
     "data": {
      "text/plain": [
       "array([[[1., 1., 1.],\n",
       "        [1., 1., 1.],\n",
       "        [1., 1., 1.]],\n",
       "\n",
       "       [[1., 1., 1.],\n",
       "        [1., 1., 1.],\n",
       "        [1., 1., 1.]],\n",
       "\n",
       "       [[1., 1., 1.],\n",
       "        [1., 1., 1.],\n",
       "        [1., 1., 1.]]])"
      ]
     },
     "execution_count": 27,
     "metadata": {},
     "output_type": "execute_result"
    }
   ],
   "source": [
    "#dimension increase gareko\n",
    "np.ones((3,3,3))"
   ]
  },
  {
   "cell_type": "code",
   "execution_count": 28,
   "id": "b32cecc8",
   "metadata": {},
   "outputs": [
    {
     "data": {
      "text/plain": [
       "array([[2., 2., 2.],\n",
       "       [2., 2., 2.],\n",
       "       [2., 2., 2.]])"
      ]
     },
     "execution_count": 28,
     "metadata": {},
     "output_type": "execute_result"
    }
   ],
   "source": [
    "np.zeros((3,3))+2"
   ]
  },
  {
   "cell_type": "code",
   "execution_count": 30,
   "id": "8aa30457",
   "metadata": {},
   "outputs": [
    {
     "data": {
      "text/plain": [
       "array([[1., 0., 0.],\n",
       "       [0., 1., 0.],\n",
       "       [0., 0., 1.]])"
      ]
     },
     "execution_count": 30,
     "metadata": {},
     "output_type": "execute_result"
    }
   ],
   "source": [
    "np.eye(3,3)"
   ]
  },
  {
   "cell_type": "code",
   "execution_count": 31,
   "id": "694977d8",
   "metadata": {},
   "outputs": [
    {
     "data": {
      "text/plain": [
       "array([[1., 0.],\n",
       "       [0., 1.]])"
      ]
     },
     "execution_count": 31,
     "metadata": {},
     "output_type": "execute_result"
    }
   ],
   "source": [
    "np.eye(2,2)"
   ]
  },
  {
   "cell_type": "code",
   "execution_count": 34,
   "id": "e58e7f87",
   "metadata": {},
   "outputs": [
    {
     "name": "stdout",
     "output_type": "stream",
     "text": [
      "(2, 3)\n",
      "[[1 2]\n",
      " [3 4]\n",
      " [5 6]]\n",
      "[[1 2 3 4 5 6]]\n",
      "[[1]\n",
      " [2]\n",
      " [3]\n",
      " [4]\n",
      " [5]\n",
      " [6]]\n"
     ]
    }
   ],
   "source": [
    "a=np.array([[1,2,3],\n",
    "            [4,5,6]])\n",
    "print(a.shape)\n",
    "#2*3=6, 6*1=6, 3*2=6, 1*6 =6\n",
    "print(a.reshape(3,2))\n",
    "print(a.reshape(1,6))\n",
    "print(a.reshape(6,1))"
   ]
  },
  {
   "cell_type": "code",
   "execution_count": 35,
   "id": "898161e4",
   "metadata": {},
   "outputs": [
    {
     "name": "stdout",
     "output_type": "stream",
     "text": [
      "[1 2 3 4 5 6 7 0 8 9 3 4 5 2]\n"
     ]
    }
   ],
   "source": [
    "#concat numpy array\n",
    "a=np.array([1,2,3,4,5,6,7])\n",
    "b=np.array([0,8,9,3,4,5,2])\n",
    "#c=a+b\n",
    "print(np.hstack ((a,b)))"
   ]
  },
  {
   "cell_type": "code",
   "execution_count": 36,
   "id": "c12474a9",
   "metadata": {},
   "outputs": [
    {
     "name": "stdout",
     "output_type": "stream",
     "text": [
      "[[1 2 3 4 5 6 7]\n",
      " [0 8 9 3 4 5 2]]\n"
     ]
    }
   ],
   "source": [
    "#concat numpy array\n",
    "a=np.array([1,2,3,4,5,6,7])\n",
    "b=np.array([0,8,9,3,4,5,2])\n",
    "#c=a+b\n",
    "print(np.vstack ((a,b)))"
   ]
  },
  {
   "cell_type": "code",
   "execution_count": 1,
   "id": "a335cb16",
   "metadata": {},
   "outputs": [
    {
     "data": {
      "text/plain": [
       "array([1, 2, 3, 4, 5, 6])"
      ]
     },
     "execution_count": 1,
     "metadata": {},
     "output_type": "execute_result"
    }
   ],
   "source": [
    "import numpy as np\n",
    "\n",
    "a = np.array([(1,2,3), (4,5,6)])\n",
    "\n",
    "a.flatten()"
   ]
  },
  {
   "cell_type": "code",
   "execution_count": 3,
   "id": "2e4981d7",
   "metadata": {},
   "outputs": [
    {
     "name": "stdout",
     "output_type": "stream",
     "text": [
      "[[7 5 8 2 1]\n",
      " [4 0 0 4 5]\n",
      " [5 3 4 1 5]\n",
      " [2 8 1 1 2]\n",
      " [9 3 4 7 0]]\n"
     ]
    }
   ],
   "source": [
    "print(np.random.randint(0,10,size=[5,5]))"
   ]
  },
  {
   "cell_type": "code",
   "execution_count": 4,
   "id": "b00764ec",
   "metadata": {},
   "outputs": [
    {
     "name": "stdout",
     "output_type": "stream",
     "text": [
      "[[[7 0]\n",
      "  [2 2]\n",
      "  [1 4]\n",
      "  [9 1]\n",
      "  [6 7]]\n",
      "\n",
      " [[5 7]\n",
      "  [6 7]\n",
      "  [9 3]\n",
      "  [5 9]\n",
      "  [6 5]]\n",
      "\n",
      " [[2 7]\n",
      "  [6 5]\n",
      "  [5 6]\n",
      "  [2 6]\n",
      "  [0 4]]\n",
      "\n",
      " [[1 3]\n",
      "  [9 1]\n",
      "  [7 6]\n",
      "  [7 6]\n",
      "  [6 4]]\n",
      "\n",
      " [[7 4]\n",
      "  [9 6]\n",
      "  [6 5]\n",
      "  [5 2]\n",
      "  [2 2]]]\n"
     ]
    }
   ],
   "source": [
    "print(np.random.randint(0,10,size=[5,5,2]))\n"
   ]
  },
  {
   "cell_type": "code",
   "execution_count": 6,
   "id": "083e3bca",
   "metadata": {},
   "outputs": [
    {
     "name": "stdout",
     "output_type": "stream",
     "text": [
      "[[0.09025261 0.98800034 0.43481313]\n",
      " [0.30879904 0.51829622 0.63182662]\n",
      " [0.40380797 0.93598682 0.74517987]]\n"
     ]
    }
   ],
   "source": [
    "#random numbers between [0,1] of shape 3,3\n",
    "print(np.random.random(size=[3,3]))"
   ]
  },
  {
   "cell_type": "code",
   "execution_count": 7,
   "id": "a6719c33",
   "metadata": {},
   "outputs": [
    {
     "name": "stdout",
     "output_type": "stream",
     "text": [
      "['a' 'u' 'a' 'i' 'e' 'o' 'e' 'a' 'u' 'e']\n"
     ]
    }
   ],
   "source": [
    "# Pick 10 items from a given list, with equal probability\n",
    "print(np.random.choice(['a', 'e', 'i', 'o', 'u'], size=10))"
   ]
  },
  {
   "cell_type": "code",
   "execution_count": 8,
   "id": "4af693a7",
   "metadata": {},
   "outputs": [
    {
     "data": {
      "text/plain": [
       "'iaioiieuai'"
      ]
     },
     "execution_count": 8,
     "metadata": {},
     "output_type": "execute_result"
    }
   ],
   "source": [
    "#create word from given list \n",
    "''.join(np.random.choice(['a', 'e', 'i', 'o', 'u'], size=10))"
   ]
  },
  {
   "cell_type": "code",
   "execution_count": 9,
   "id": "c549f96b",
   "metadata": {},
   "outputs": [
    {
     "data": {
      "text/plain": [
       "'7058e7iuo2'"
      ]
     },
     "execution_count": 9,
     "metadata": {},
     "output_type": "execute_result"
    }
   ],
   "source": [
    "#create password of str and int from given list\n",
    "''.join(np.random.choice(['a', 'e', 'i', 'o', 'u', 0,1,2,3,4,5,6,7,8,9], size=10))"
   ]
  },
  {
   "cell_type": "code",
   "execution_count": 15,
   "id": "8d8d96f1",
   "metadata": {},
   "outputs": [
    {
     "name": "stdout",
     "output_type": "stream",
     "text": [
      "['o' 'u' 'u' 'e' 'a' 'o' 'o' 'e' 'o' 'o']\n"
     ]
    }
   ],
   "source": [
    "#including probability\n",
    "# Pick 10 items from a given list with a predefined probability 'p'\n",
    "\n",
    "print(np.random.choice(['a', 'e', 'i', 'o', 'u'], size=10, \n",
    "    p=[0.1, 0.1, 0.1, 0.4,0.3]))"
   ]
  },
  {
   "cell_type": "code",
   "execution_count": 18,
   "id": "a233a0c6",
   "metadata": {},
   "outputs": [
    {
     "data": {
      "text/plain": [
       "<matplotlib.image.AxesImage at 0x1ad9e9d03d0>"
      ]
     },
     "execution_count": 18,
     "metadata": {},
     "output_type": "execute_result"
    },
    {
     "data": {
      "image/png": "[encoded data removed]",
      "text/plain": [
       "<Figure size 480x480 with 1 Axes>"
      ]
     },
     "metadata": {},
     "output_type": "display_data"
    }
   ],
   "source": [
    "import matplotlib.pyplot as plt\n",
    "image = np.random.randint(0,255, size=[10,10])\n",
    "plt.matshow(image,cmap ='gray')"
   ]
  },
  {
   "cell_type": "code",
   "execution_count": 24,
   "id": "72cb9751",
   "metadata": {},
   "outputs": [
    {
     "data": {
      "text/plain": [
       "<matplotlib.image.AxesImage at 0x1ad9eb36810>"
      ]
     },
     "execution_count": 24,
     "metadata": {},
     "output_type": "execute_result"
    },
    {
     "data": {
      "image/png": "[encoded data removed]",
      "text/plain": [
       "<Figure size 480x480 with 1 Axes>"
      ]
     },
     "metadata": {},
     "output_type": "display_data"
    }
   ],
   "source": [
    "import matplotlib.pyplot as plt\n",
    "image = np.random.randint(0,255, size=[10,10,3])\n",
    "plt.matshow(image,cmap ='gray')"
   ]
  },
  {
   "cell_type": "code",
   "execution_count": 25,
   "id": "8fc3fb27",
   "metadata": {},
   "outputs": [
    {
     "data": {
      "text/plain": [
       "<matplotlib.image.AxesImage at 0x1ada27bacd0>"
      ]
     },
     "execution_count": 25,
     "metadata": {},
     "output_type": "execute_result"
    },
    {
     "data": {
      "image/png": "[encoded data removed]",
      "text/plain": [
       "<Figure size 480x480 with 1 Axes>"
      ]
     },
     "metadata": {},
     "output_type": "display_data"
    }
   ],
   "source": [
    "import matplotlib.pyplot as plt\n",
    "image = np.random.randint(0,255, size=[10,10,4])\n",
    "plt.matshow(image,cmap ='gray')"
   ]
  },
  {
   "cell_type": "code",
   "execution_count": 19,
   "id": "b8e911f2",
   "metadata": {},
   "outputs": [
    {
     "data": {
      "text/plain": [
       "<matplotlib.image.AxesImage at 0x1ad9e9f7910>"
      ]
     },
     "execution_count": 19,
     "metadata": {},
     "output_type": "execute_result"
    },
    {
     "data": {
      "image/png": "[encoded data removed]",
      "text/plain": [
       "<Figure size 480x480 with 1 Axes>"
      ]
     },
     "metadata": {},
     "output_type": "display_data"
    }
   ],
   "source": [
    "import matplotlib.pyplot as plt\n",
    "image = np.random.randint(0,255, size=[100,100])\n",
    "plt.matshow(image,cmap ='gray')"
   ]
  },
  {
   "cell_type": "code",
   "execution_count": null,
   "id": "5696994b",
   "metadata": {},
   "outputs": [],
   "source": []
  },
  {
   "cell_type": "code",
   "execution_count": 23,
   "id": "c18c2a5a",
   "metadata": {},
   "outputs": [
    {
     "data": {
      "text/plain": [
       "<matplotlib.image.AxesImage at 0x1ada271a050>"
      ]
     },
     "execution_count": 23,
     "metadata": {},
     "output_type": "execute_result"
    },
    {
     "data": {
      "image/png": "[encoded data removed]",
      "text/plain": [
       "<Figure size 480x480 with 1 Axes>"
      ]
     },
     "metadata": {},
     "output_type": "display_data"
    }
   ],
   "source": [
    "import matplotlib.pyplot as plt\n",
    "image = np.random.randint(0,255, size=[100,100,3])\n",
    "plt.matshow(image,cmap ='gray')"
   ]
  },
  {
   "cell_type": "code",
   "execution_count": 27,
   "id": "ea30fade",
   "metadata": {},
   "outputs": [
    {
     "data": {
      "text/plain": [
       "<matplotlib.image.AxesImage at 0x1ada2843d50>"
      ]
     },
     "execution_count": 27,
     "metadata": {},
     "output_type": "execute_result"
    },
    {
     "data": {
      "image/png": "[encoded data removed]",
      "text/plain": [
       "<Figure size 426.667x480 with 1 Axes>"
      ]
     },
     "metadata": {},
     "output_type": "display_data"
    }
   ],
   "source": [
    "import matplotlib.pyplot as plt\n",
    "import numpy as np\n",
    "image = np.array([[0,255,0,255,0,255,0,255],\n",
    "                 [0,255,0,255,0,255,0,255],\n",
    "                 [0,255,0,255,0,255,0,255],\n",
    "                 [0,255,0,255,0,255,0,255],\n",
    "                 [0,255,0,255,0,255,0,255],\n",
    "                 [0,255,0,255,0,255,0,255],\n",
    "                 [0,255,0,255,0,255,0,255],\n",
    "                 [0,255,0,255,0,255,0,255],\n",
    "                 [0,255,0,255,0,255,0,255]])\n",
    "plt.matshow(image,cmap ='gray')"
   ]
  },
  {
   "cell_type": "code",
   "execution_count": 28,
   "id": "2e16bf90",
   "metadata": {},
   "outputs": [
    {
     "name": "stdout",
     "output_type": "stream",
     "text": [
      "Minimun value =  1\n",
      "Maximum value =  87\n",
      "Mean value =  25.083333333333332\n",
      "Median value =  6.5\n",
      "Standard deviation value =  28.917867410228503\n"
     ]
    }
   ],
   "source": [
    "a=np.array([3,4,6,7,1,3,2,67,87,55,43,23])\n",
    "print(\"Minimun value = \",np.min(a))\n",
    "print(\"Maximum value = \",np.max(a))\n",
    "print(\"Mean value = \",np.mean(a))\n",
    "print(\"Median value = \",np.median(a))\n",
    "print(\"Standard deviation value = \",np.std(a))\n",
    "\n",
    "\n"
   ]
  },
  {
   "cell_type": "code",
   "execution_count": 29,
   "id": "9372491f",
   "metadata": {},
   "outputs": [
    {
     "name": "stdout",
     "output_type": "stream",
     "text": [
      "Index of min value 4\n",
      "Index of max value 8\n"
     ]
    }
   ],
   "source": [
    "print(\"Index of min value\",np.argmin(a))\n",
    "print(\"Index of max value\",np.argmax(a))\n"
   ]
  },
  {
   "cell_type": "code",
   "execution_count": 1,
   "id": "23fbc49a",
   "metadata": {},
   "outputs": [
    {
     "data": {
      "text/plain": [
       "259.0"
      ]
     },
     "execution_count": 1,
     "metadata": {},
     "output_type": "execute_result"
    }
   ],
   "source": [
    "import scipy.linalg as slin\n",
    "import numpy as np\n",
    "a = np.array([[ 3, -5, 8],\n",
    "              [-1, 2, 3],\n",
    "              [-5, -6, 2]])\n",
    "\n",
    "slin.det(a)"
   ]
  },
  {
   "cell_type": "code",
   "execution_count": null,
   "id": "de503930",
   "metadata": {},
   "outputs": [],
   "source": []
  }
 ],
 "metadata": {
  "kernelspec": {
   "display_name": "Python 3 (ipykernel)",
   "language": "python",
   "name": "python3"
  },
  "language_info": {
   "codemirror_mode": {
    "name": "ipython",
    "version": 3
   },
   "file_extension": ".py",
   "mimetype": "text/x-python",
   "name": "python",
   "nbconvert_exporter": "python",
   "pygments_lexer": "ipython3",
   "version": "3.11.5"
  }
 },
 "nbformat": 4,
 "nbformat_minor": 5
}
