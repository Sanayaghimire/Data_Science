{
  "nbformat": 4,
  "nbformat_minor": 0,
  "metadata": {
    "colab": {
      "provenance": [],
      "include_colab_link": true
    },
    "kernelspec": {
      "name": "python3",
      "display_name": "Python 3"
    },
    "language_info": {
      "name": "python"
    },
    "accelerator": "GPU",
    "gpuClass": "standard"
  },
  "cells": [
    {
      "cell_type": "markdown",
      "metadata": {
        "id": "view-in-github",
        "colab_type": "text"
      },
      "source": [
        "<a href=\"https://colab.research.google.com/github/Sanayaghimire/Data_Science/blob/main/machine_learning_text_classification_and_comparision.ipynb\" target=\"_parent\"><img src=\"https://colab.research.google.com/assets/colab-badge.svg\" alt=\"Open In Colab\"/></a>"
      ]
    },
    {
      "cell_type": "code",
      "execution_count": 7,
      "metadata": {
        "id": "NXOGLFtGbPS-"
      },
      "outputs": [],
      "source": [
        "import pandas as pd\n",
        "import re, string\n",
        "import pkg_resources\n",
        "from textblob import TextBlob\n",
        "from sklearn import metrics\n",
        "# from sklearn.metrics import plot_confusion_matrix\n",
        "# from sklearn.feature_extraction.text import CountVectorizer\n",
        "from sklearn.feature_extraction.text import TfidfVectorizer\n",
        "# from sklearn.feature_extraction.text import TfidfTransformer\n",
        "from sklearn.linear_model import LogisticRegression\n",
        "from sklearn.model_selection import train_test_split\n",
        "from sklearn.metrics import confusion_matrix, accuracy_score\n",
        "from sklearn.pipeline import Pipeline\n",
        "from sklearn.linear_model import LogisticRegression\n",
        "from sklearn.svm import SVC,LinearSVC\n",
        "from sklearn.metrics import accuracy_score\n",
        "import seaborn as sns\n",
        "from sklearn.model_selection import train_test_split\n",
        "from sklearn.feature_selection import SelectKBest, chi2\n"
      ]
    },
    {
      "cell_type": "code",
      "source": [
        "#from google.colab import drive\n",
        "#drive.mount('/content/drive')"
      ],
      "metadata": {
        "id": "8St5tBxFWKmP"
      },
      "execution_count": 8,
      "outputs": []
    },
    {
      "cell_type": "code",
      "source": [],
      "metadata": {
        "id": "3Ywbus9fbU68"
      },
      "execution_count": 8,
      "outputs": []
    },
    {
      "cell_type": "code",
      "source": [
        "import pandas as pd\n",
        "df = pd.read_csv('/content/drive/MyDrive/Data_Science/bbc-text.csv')\n",
        "df = df.sample(frac = 0.5).iloc[0:2000]\n",
        "df"
      ],
      "metadata": {
        "colab": {
          "base_uri": "https://localhost:8080/",
          "height": 423
        },
        "id": "RQG7_P45NIjm",
        "outputId": "b0d222df-07e5-4be4-b372-4c7a043d7b5f"
      },
      "execution_count": 9,
      "outputs": [
        {
          "output_type": "execute_result",
          "data": {
            "text/plain": [
              "           category                                               text\n",
              "907        politics  butler launches attack on blair former civil s...\n",
              "1300       politics  milburn defends poster campaign labour s elect...\n",
              "610            tech  broadband fuels online expression fast web acc...\n",
              "564           sport  dawson set for new wasps contract european cha...\n",
              "356        politics  green fear for transport ballot the green part...\n",
              "...             ...                                                ...\n",
              "1843       politics  ministers deny care sums  wrong  ministers hav...\n",
              "1209  entertainment  queen recruit singer for new tour the remainin...\n",
              "1222           tech  us top of supercomputing charts the us has pus...\n",
              "82         politics  straw praises kashmir moves the uk has welcome...\n",
              "1235       business  us to probe airline travel chaos the us govern...\n",
              "\n",
              "[1112 rows x 2 columns]"
            ],
            "text/html": [
              "\n",
              "  <div id=\"df-c5b1e31c-b107-4630-8c16-76fafcc4d851\" class=\"colab-df-container\">\n",
              "    <div>\n",
              "<style scoped>\n",
              "    .dataframe tbody tr th:only-of-type {\n",
              "        vertical-align: middle;\n",
              "    }\n",
              "\n",
              "    .dataframe tbody tr th {\n",
              "        vertical-align: top;\n",
              "    }\n",
              "\n",
              "    .dataframe thead th {\n",
              "        text-align: right;\n",
              "    }\n",
              "</style>\n",
              "<table border=\"1\" class=\"dataframe\">\n",
              "  <thead>\n",
              "    <tr style=\"text-align: right;\">\n",
              "      <th></th>\n",
              "      <th>category</th>\n",
              "      <th>text</th>\n",
              "    </tr>\n",
              "  </thead>\n",
              "  <tbody>\n",
              "    <tr>\n",
              "      <th>907</th>\n",
              "      <td>politics</td>\n",
              "      <td>butler launches attack on blair former civil s...</td>\n",
              "    </tr>\n",
              "    <tr>\n",
              "      <th>1300</th>\n",
              "      <td>politics</td>\n",
              "      <td>milburn defends poster campaign labour s elect...</td>\n",
              "    </tr>\n",
              "    <tr>\n",
              "      <th>610</th>\n",
              "      <td>tech</td>\n",
              "      <td>broadband fuels online expression fast web acc...</td>\n",
              "    </tr>\n",
              "    <tr>\n",
              "      <th>564</th>\n",
              "      <td>sport</td>\n",
              "      <td>dawson set for new wasps contract european cha...</td>\n",
              "    </tr>\n",
              "    <tr>\n",
              "      <th>356</th>\n",
              "      <td>politics</td>\n",
              "      <td>green fear for transport ballot the green part...</td>\n",
              "    </tr>\n",
              "    <tr>\n",
              "      <th>...</th>\n",
              "      <td>...</td>\n",
              "      <td>...</td>\n",
              "    </tr>\n",
              "    <tr>\n",
              "      <th>1843</th>\n",
              "      <td>politics</td>\n",
              "      <td>ministers deny care sums  wrong  ministers hav...</td>\n",
              "    </tr>\n",
              "    <tr>\n",
              "      <th>1209</th>\n",
              "      <td>entertainment</td>\n",
              "      <td>queen recruit singer for new tour the remainin...</td>\n",
              "    </tr>\n",
              "    <tr>\n",
              "      <th>1222</th>\n",
              "      <td>tech</td>\n",
              "      <td>us top of supercomputing charts the us has pus...</td>\n",
              "    </tr>\n",
              "    <tr>\n",
              "      <th>82</th>\n",
              "      <td>politics</td>\n",
              "      <td>straw praises kashmir moves the uk has welcome...</td>\n",
              "    </tr>\n",
              "    <tr>\n",
              "      <th>1235</th>\n",
              "      <td>business</td>\n",
              "      <td>us to probe airline travel chaos the us govern...</td>\n",
              "    </tr>\n",
              "  </tbody>\n",
              "</table>\n",
              "<p>1112 rows × 2 columns</p>\n",
              "</div>\n",
              "    <div class=\"colab-df-buttons\">\n",
              "\n",
              "  <div class=\"colab-df-container\">\n",
              "    <button class=\"colab-df-convert\" onclick=\"convertToInteractive('df-c5b1e31c-b107-4630-8c16-76fafcc4d851')\"\n",
              "            title=\"Convert this dataframe to an interactive table.\"\n",
              "            style=\"display:none;\">\n",
              "\n",
              "  <svg xmlns=\"http://www.w3.org/2000/svg\" height=\"24px\" viewBox=\"0 -960 960 960\">\n",
              "    <path d=\"M120-120v-720h720v720H120Zm60-500h600v-160H180v160Zm220 220h160v-160H400v160Zm0 220h160v-160H400v160ZM180-400h160v-160H180v160Zm440 0h160v-160H620v160ZM180-180h160v-160H180v160Zm440 0h160v-160H620v160Z\"/>\n",
              "  </svg>\n",
              "    </button>\n",
              "\n",
              "  <style>\n",
              "    .colab-df-container {\n",
              "      display:flex;\n",
              "      gap: 12px;\n",
              "    }\n",
              "\n",
              "    .colab-df-convert {\n",
              "      background-color: #E8F0FE;\n",
              "      border: none;\n",
              "      border-radius: 50%;\n",
              "      cursor: pointer;\n",
              "      display: none;\n",
              "      fill: #1967D2;\n",
              "      height: 32px;\n",
              "      padding: 0 0 0 0;\n",
              "      width: 32px;\n",
              "    }\n",
              "\n",
              "    .colab-df-convert:hover {\n",
              "      background-color: #E2EBFA;\n",
              "      box-shadow: 0px 1px 2px rgba(60, 64, 67, 0.3), 0px 1px 3px 1px rgba(60, 64, 67, 0.15);\n",
              "      fill: #174EA6;\n",
              "    }\n",
              "\n",
              "    .colab-df-buttons div {\n",
              "      margin-bottom: 4px;\n",
              "    }\n",
              "\n",
              "    [theme=dark] .colab-df-convert {\n",
              "      background-color: #3B4455;\n",
              "      fill: #D2E3FC;\n",
              "    }\n",
              "\n",
              "    [theme=dark] .colab-df-convert:hover {\n",
              "      background-color: #434B5C;\n",
              "      box-shadow: 0px 1px 3px 1px rgba(0, 0, 0, 0.15);\n",
              "      filter: drop-shadow(0px 1px 2px rgba(0, 0, 0, 0.3));\n",
              "      fill: #FFFFFF;\n",
              "    }\n",
              "  </style>\n",
              "\n",
              "    <script>\n",
              "      const buttonEl =\n",
              "        document.querySelector('#df-c5b1e31c-b107-4630-8c16-76fafcc4d851 button.colab-df-convert');\n",
              "      buttonEl.style.display =\n",
              "        google.colab.kernel.accessAllowed ? 'block' : 'none';\n",
              "\n",
              "      async function convertToInteractive(key) {\n",
              "        const element = document.querySelector('#df-c5b1e31c-b107-4630-8c16-76fafcc4d851');\n",
              "        const dataTable =\n",
              "          await google.colab.kernel.invokeFunction('convertToInteractive',\n",
              "                                                    [key], {});\n",
              "        if (!dataTable) return;\n",
              "\n",
              "        const docLinkHtml = 'Like what you see? Visit the ' +\n",
              "          '<a target=\"_blank\" href=https://colab.research.google.com/notebooks/data_table.ipynb>data table notebook</a>'\n",
              "          + ' to learn more about interactive tables.';\n",
              "        element.innerHTML = '';\n",
              "        dataTable['output_type'] = 'display_data';\n",
              "        await google.colab.output.renderOutput(dataTable, element);\n",
              "        const docLink = document.createElement('div');\n",
              "        docLink.innerHTML = docLinkHtml;\n",
              "        element.appendChild(docLink);\n",
              "      }\n",
              "    </script>\n",
              "  </div>\n",
              "\n",
              "\n",
              "<div id=\"df-e402ff03-4dd2-46c7-9854-b111d6cdd7c7\">\n",
              "  <button class=\"colab-df-quickchart\" onclick=\"quickchart('df-e402ff03-4dd2-46c7-9854-b111d6cdd7c7')\"\n",
              "            title=\"Suggest charts\"\n",
              "            style=\"display:none;\">\n",
              "\n",
              "<svg xmlns=\"http://www.w3.org/2000/svg\" height=\"24px\"viewBox=\"0 0 24 24\"\n",
              "     width=\"24px\">\n",
              "    <g>\n",
              "        <path d=\"M19 3H5c-1.1 0-2 .9-2 2v14c0 1.1.9 2 2 2h14c1.1 0 2-.9 2-2V5c0-1.1-.9-2-2-2zM9 17H7v-7h2v7zm4 0h-2V7h2v10zm4 0h-2v-4h2v4z\"/>\n",
              "    </g>\n",
              "</svg>\n",
              "  </button>\n",
              "\n",
              "<style>\n",
              "  .colab-df-quickchart {\n",
              "      --bg-color: #E8F0FE;\n",
              "      --fill-color: #1967D2;\n",
              "      --hover-bg-color: #E2EBFA;\n",
              "      --hover-fill-color: #174EA6;\n",
              "      --disabled-fill-color: #AAA;\n",
              "      --disabled-bg-color: #DDD;\n",
              "  }\n",
              "\n",
              "  [theme=dark] .colab-df-quickchart {\n",
              "      --bg-color: #3B4455;\n",
              "      --fill-color: #D2E3FC;\n",
              "      --hover-bg-color: #434B5C;\n",
              "      --hover-fill-color: #FFFFFF;\n",
              "      --disabled-bg-color: #3B4455;\n",
              "      --disabled-fill-color: #666;\n",
              "  }\n",
              "\n",
              "  .colab-df-quickchart {\n",
              "    background-color: var(--bg-color);\n",
              "    border: none;\n",
              "    border-radius: 50%;\n",
              "    cursor: pointer;\n",
              "    display: none;\n",
              "    fill: var(--fill-color);\n",
              "    height: 32px;\n",
              "    padding: 0;\n",
              "    width: 32px;\n",
              "  }\n",
              "\n",
              "  .colab-df-quickchart:hover {\n",
              "    background-color: var(--hover-bg-color);\n",
              "    box-shadow: 0 1px 2px rgba(60, 64, 67, 0.3), 0 1px 3px 1px rgba(60, 64, 67, 0.15);\n",
              "    fill: var(--button-hover-fill-color);\n",
              "  }\n",
              "\n",
              "  .colab-df-quickchart-complete:disabled,\n",
              "  .colab-df-quickchart-complete:disabled:hover {\n",
              "    background-color: var(--disabled-bg-color);\n",
              "    fill: var(--disabled-fill-color);\n",
              "    box-shadow: none;\n",
              "  }\n",
              "\n",
              "  .colab-df-spinner {\n",
              "    border: 2px solid var(--fill-color);\n",
              "    border-color: transparent;\n",
              "    border-bottom-color: var(--fill-color);\n",
              "    animation:\n",
              "      spin 1s steps(1) infinite;\n",
              "  }\n",
              "\n",
              "  @keyframes spin {\n",
              "    0% {\n",
              "      border-color: transparent;\n",
              "      border-bottom-color: var(--fill-color);\n",
              "      border-left-color: var(--fill-color);\n",
              "    }\n",
              "    20% {\n",
              "      border-color: transparent;\n",
              "      border-left-color: var(--fill-color);\n",
              "      border-top-color: var(--fill-color);\n",
              "    }\n",
              "    30% {\n",
              "      border-color: transparent;\n",
              "      border-left-color: var(--fill-color);\n",
              "      border-top-color: var(--fill-color);\n",
              "      border-right-color: var(--fill-color);\n",
              "    }\n",
              "    40% {\n",
              "      border-color: transparent;\n",
              "      border-right-color: var(--fill-color);\n",
              "      border-top-color: var(--fill-color);\n",
              "    }\n",
              "    60% {\n",
              "      border-color: transparent;\n",
              "      border-right-color: var(--fill-color);\n",
              "    }\n",
              "    80% {\n",
              "      border-color: transparent;\n",
              "      border-right-color: var(--fill-color);\n",
              "      border-bottom-color: var(--fill-color);\n",
              "    }\n",
              "    90% {\n",
              "      border-color: transparent;\n",
              "      border-bottom-color: var(--fill-color);\n",
              "    }\n",
              "  }\n",
              "</style>\n",
              "\n",
              "  <script>\n",
              "    async function quickchart(key) {\n",
              "      const quickchartButtonEl =\n",
              "        document.querySelector('#' + key + ' button');\n",
              "      quickchartButtonEl.disabled = true;  // To prevent multiple clicks.\n",
              "      quickchartButtonEl.classList.add('colab-df-spinner');\n",
              "      try {\n",
              "        const charts = await google.colab.kernel.invokeFunction(\n",
              "            'suggestCharts', [key], {});\n",
              "      } catch (error) {\n",
              "        console.error('Error during call to suggestCharts:', error);\n",
              "      }\n",
              "      quickchartButtonEl.classList.remove('colab-df-spinner');\n",
              "      quickchartButtonEl.classList.add('colab-df-quickchart-complete');\n",
              "    }\n",
              "    (() => {\n",
              "      let quickchartButtonEl =\n",
              "        document.querySelector('#df-e402ff03-4dd2-46c7-9854-b111d6cdd7c7 button');\n",
              "      quickchartButtonEl.style.display =\n",
              "        google.colab.kernel.accessAllowed ? 'block' : 'none';\n",
              "    })();\n",
              "  </script>\n",
              "</div>\n",
              "\n",
              "  <div id=\"id_9b8e02a7-4aeb-48e2-941d-48b031b48273\">\n",
              "    <style>\n",
              "      .colab-df-generate {\n",
              "        background-color: #E8F0FE;\n",
              "        border: none;\n",
              "        border-radius: 50%;\n",
              "        cursor: pointer;\n",
              "        display: none;\n",
              "        fill: #1967D2;\n",
              "        height: 32px;\n",
              "        padding: 0 0 0 0;\n",
              "        width: 32px;\n",
              "      }\n",
              "\n",
              "      .colab-df-generate:hover {\n",
              "        background-color: #E2EBFA;\n",
              "        box-shadow: 0px 1px 2px rgba(60, 64, 67, 0.3), 0px 1px 3px 1px rgba(60, 64, 67, 0.15);\n",
              "        fill: #174EA6;\n",
              "      }\n",
              "\n",
              "      [theme=dark] .colab-df-generate {\n",
              "        background-color: #3B4455;\n",
              "        fill: #D2E3FC;\n",
              "      }\n",
              "\n",
              "      [theme=dark] .colab-df-generate:hover {\n",
              "        background-color: #434B5C;\n",
              "        box-shadow: 0px 1px 3px 1px rgba(0, 0, 0, 0.15);\n",
              "        filter: drop-shadow(0px 1px 2px rgba(0, 0, 0, 0.3));\n",
              "        fill: #FFFFFF;\n",
              "      }\n",
              "    </style>\n",
              "    <button class=\"colab-df-generate\" onclick=\"generateWithVariable('df')\"\n",
              "            title=\"Generate code using this dataframe.\"\n",
              "            style=\"display:none;\">\n",
              "\n",
              "  <svg xmlns=\"http://www.w3.org/2000/svg\" height=\"24px\"viewBox=\"0 0 24 24\"\n",
              "       width=\"24px\">\n",
              "    <path d=\"M7,19H8.4L18.45,9,17,7.55,7,17.6ZM5,21V16.75L18.45,3.32a2,2,0,0,1,2.83,0l1.4,1.43a1.91,1.91,0,0,1,.58,1.4,1.91,1.91,0,0,1-.58,1.4L9.25,21ZM18.45,9,17,7.55Zm-12,3A5.31,5.31,0,0,0,4.9,8.1,5.31,5.31,0,0,0,1,6.5,5.31,5.31,0,0,0,4.9,4.9,5.31,5.31,0,0,0,6.5,1,5.31,5.31,0,0,0,8.1,4.9,5.31,5.31,0,0,0,12,6.5,5.46,5.46,0,0,0,6.5,12Z\"/>\n",
              "  </svg>\n",
              "    </button>\n",
              "    <script>\n",
              "      (() => {\n",
              "      const buttonEl =\n",
              "        document.querySelector('#id_9b8e02a7-4aeb-48e2-941d-48b031b48273 button.colab-df-generate');\n",
              "      buttonEl.style.display =\n",
              "        google.colab.kernel.accessAllowed ? 'block' : 'none';\n",
              "\n",
              "      buttonEl.onclick = () => {\n",
              "        google.colab.notebook.generateWithVariable('df');\n",
              "      }\n",
              "      })();\n",
              "    </script>\n",
              "  </div>\n",
              "\n",
              "    </div>\n",
              "  </div>\n"
            ],
            "application/vnd.google.colaboratory.intrinsic+json": {
              "type": "dataframe",
              "variable_name": "df",
              "summary": "{\n  \"name\": \"df\",\n  \"rows\": 1112,\n  \"fields\": [\n    {\n      \"column\": \"category\",\n      \"properties\": {\n        \"dtype\": \"category\",\n        \"num_unique_values\": 5,\n        \"samples\": [\n          \"tech\",\n          \"business\",\n          \"sport\"\n        ],\n        \"semantic_type\": \"\",\n        \"description\": \"\"\n      }\n    },\n    {\n      \"column\": \"text\",\n      \"properties\": {\n        \"dtype\": \"string\",\n        \"num_unique_values\": 1090,\n        \"samples\": [\n          \"tough schedule delays elliot show preview performances of the \\u00a33m musical billy elliot have been delayed to give the child actors a less arduous rehearsal schedule.  director stephen daldry made the decision to re-schedule the previews to protect the young stars. three boys will rotate the demanding role of ballet dancer billy  which requires them to sing  dance and act. the show s opening night on 12 may at the victoria palace theatre in london remains unaffected by the changes. preview performances will now be held on 14  20 and 27 april.  this is one of the most ambitious projects i have been involved with   said daldry.  the decision has been made to push back our preview performances in order to give our company  with a cast including 45 children  a little extra time so they are as fully prepared as possible.   he added:  the young billy elliots in particular  making their professional stage debuts in the west end  will benefit from a little extra time to familiarise themselves with all aspects of the production.   the three boys playing billy are james lomas  15  george maguire  14  and liam mower  12. the other major child parts will also be rotated between young actors. such are the demands of the show that producers set up a stage school in newcastle to train potential stars for the show. child labour laws also mean the young actors can only work for a limited period each week. adult actors in the show include tim healy as billy s father and haydn gwnne as his dance teacher mrs wilkinson. sir elton john has composed the music. daldry directed the successful film version of billy elliot  adapted from lee hall s script. both were nominated for oscars  alongside julie walters  who played billy s teacher.\",\n          \"saab to build cadillacs in sweden general motors  the world s largest car maker  has confirmed that it will build a new medium-sized cadillac bls at its loss-making saab factory in sweden.  the car  unveiled at the geneva motor show  is intended to compete in the medium-sized luxury car market. it will not be sold in the us  said gm europe president carl-peter forster. as part of its efforts to make the us marque appeal to european drivers  the car will be the first cadillac with a diesel engine.  gm s announcement should go some way to allay fears of the saab factory s closure. the factory in trollhaettan has been at the centre of rumours about gm s planned severe cutbacks in its troubled european operations. but the group s new commitment to the swedish factory may not be welcomed by the group s opel workers in ruesselsheim  germany. they may now have to face a larger proportion of gm s cuts.  neither will the announcement be seen as unalloyed good news in sweden  since it reflects saab s failure to make significant inroads into the lucrative european luxury car market. for years  saab has consistently said it is competing head-on with bmw  mercedes and jaguar. the segment s leaders do not agree.  gm s plans to build the american marque in sweden is part of its efforts to push it as an alternative luxury brand for european drivers. in the us  it has long been established as an upmarket brand - even the presidential limousine carries the badge. yet it could prove tough for cadillac to steal market share from the majors in europe. other luxury car makers  most notably the toyota subsidiary lexus  have enjoyed tremendous success in the us without managing to make significant inroads in europe. there  german marques mercedes benz and bmw have retained their stranglehold on the luxury market.  bringing cadillac production to sweden should help introduce desperately-needed scale to the saab factory  which currently produces fewer than 130 000 cars per year. that is about half of what major car makers consider sufficient numbers for profitable operations  and saab is losing money fast - albeit with losses halved in 2004 to $200m (\\u00a3104m; 151m euros) from $500m the previous year. beyond the 12 000 job cuts announced last year at its european operations  gm is reducing expenditure by building saabs  opels - badged as vauxhalls in the uk - and now cadillacs on the same framework  and by allowing the different brands to share parts. another way to further reduce saab s losses could be to shift some of the production of saabs to the us  a market where drivers have adopted it as an upmarket european car. doing so would remove the exposure to the weak us dollar  which is making saabs more expensive to us consumers. but not everyone in the industry agree that it would be the best way forward.  we know that in five years the us dollar will be stronger than it is today   the chief executive of a leading european car maker told bbc news. the current trend towards us production was  stupid   he said.  in a separate announcement  gm unveiled a new scheme to allow european consumers the chance to test drive its opel and vauxhall models. it is to deploy a fleet of 35 000 test cars across 40 countries  inviting potential buyers to try out a vehicle for 24-hours. it follows a similar initiative by gm in the us. gm said it wanted to change  customers  perceptions  about opel and vauxhall cars  showing them that the quality had improved in recent years.\",\n          \"police urge pub closure power new powers are needed to close disorderly pubs  bars and clubs for up to a week or even permanently  police chiefs have told mps.  association of chief police officers president chris fox said the current 24-hour closure power did not have enough impact on bad landlords. mr fox s comments follow the controversy over plans to allow pubs to open around the clock. he rejected critics  calls for the law change to be delayed. instead  the new licensing act could help reduce drunken disorder - but only if it was properly planned  he argued.  acpo made its call for stronger closure powers in a paper for the commons home affairs select committee. after the meeting  mr fox said being able to close premises for only 24 hours did not necessarily make an impact.  if it s 12.30 on a saturday morning and you close for 24 hours there s not a lot of pain for the premises because they probably wouldn t open on sunday anyway.   this is about getting through to the management that they can t run a disorderly house without facing some immediate sanctions.  under acpo s proposal  the closure orders would be used only with the agreement of the local licensing authority. the new licensing laws will give police greater powers to close pubs and clubs - but only for 24-hour periods.  mr fox said the drinks industry was currently not regulating itself.  it s making money at the cost of human misery and the public purse  and the strategic planning process has been less than useless   he said. mr fox said the new laws  due to start being phased in next month  could help if food outlets  public transport and public toilets could cope with late-night drinkers.  staggering it (closing hours) will be a solution if the infrastructure is there  if the premises are properly managed and people aren t being served rolling drunk and underage and then tossed out into the street   he said.  we have the problem from 11pm to 2am in any event. we have to get a grip on the underlying causes of this.   acpo wants pubs and clubs which cause extra work for police and hospitals to have to pay towards the costs. home secretary charles clarke is currently looking at the idea of a levy on the drinks industry to pay for the cost of extra policing. the licensing changes have sparked concern among some mps  councils and some senior police officers who fear they could exacerbate drinking problems. culture secretary tessa jowell on tuesday said it was not her job to bow to the campaign against the changes. it was the status quo  not the new laws  which were causing current binge drinking problems  she told bbc two s newsnight. leaked documents have suggested ex-home secretary david blunkett branded new opening hours as a  leap in the dark . but ms jowell insisted his concerns had been met. the police s job against alcohol-related crime would be made easier if all pubs did not close at the same time  she added.\"\n        ],\n        \"semantic_type\": \"\",\n        \"description\": \"\"\n      }\n    }\n  ]\n}"
            }
          },
          "metadata": {},
          "execution_count": 9
        }
      ]
    },
    {
      "cell_type": "code",
      "source": [
        "import nltk\n",
        "nltk.download('stopwords')\n",
        "from nltk.corpus import stopwords\n",
        "stopwords.words('english')\n",
        "\n",
        "def message_cleaning(message):\n",
        "    test_punc_removed = [char   for char in message if char not in string.punctuation]\n",
        "    test_punc_removed_joined = ''.join(test_punc_removed)\n",
        "    test_punc_removed_joined_clean = [word   for word in test_punc_removed_joined.split(' ') if word not in stopwords.words('english')]\n",
        "    return test_punc_removed_joined_clean\n",
        "\n",
        "\n",
        "\n",
        "tfidf_vectorizer = TfidfVectorizer(min_df= 3, stop_words=\"english\", norm='l2')\n",
        "# count_vectorizer = CountVectorizer(analyzer=message_cleaning)\n",
        "# nve_vctorizer = tfidf_vectorizer.fit_transform(df['text'])\n",
        "\n"
      ],
      "metadata": {
        "colab": {
          "base_uri": "https://localhost:8080/"
        },
        "id": "z2U5THBROBD0",
        "outputId": "02b6aea0-31a9-4975-fb00-8fd49670cea9"
      },
      "execution_count": 10,
      "outputs": [
        {
          "output_type": "stream",
          "name": "stderr",
          "text": [
            "[nltk_data] Downloading package stopwords to /root/nltk_data...\n",
            "[nltk_data]   Unzipping corpora/stopwords.zip.\n"
          ]
        }
      ]
    },
    {
      "cell_type": "code",
      "source": [
        "# from google.colab import drive\n",
        "# drive.mount('/content/drive')"
      ],
      "metadata": {
        "id": "nKFKmXjyugka"
      },
      "execution_count": 11,
      "outputs": []
    },
    {
      "cell_type": "code",
      "source": [
        "X = df['text']\n",
        "Y = df['category']\n",
        "X_train, X_test, y_train, y_test = train_test_split(X, Y, test_size=0.30, random_state=101)"
      ],
      "metadata": {
        "id": "l6604lCGbzSH"
      },
      "execution_count": 12,
      "outputs": []
    },
    {
      "cell_type": "code",
      "source": [
        "LR = LogisticRegression()\n",
        "SVC = SVC()"
      ],
      "metadata": {
        "id": "vSdTPbBobz10"
      },
      "execution_count": 13,
      "outputs": []
    },
    {
      "cell_type": "code",
      "source": [
        "#Creating Pipeline\n",
        "LRpipeline1 = Pipeline([('vect', tfidf_vectorizer),\n",
        "                     ('chi',  SelectKBest(chi2, k=6000)),\n",
        "                     ('clf', LogisticRegression(random_state=0))])\n",
        "model1 = LRpipeline1.fit(X_train, y_train)"
      ],
      "metadata": {
        "id": "ftsyrie-Jn9d"
      },
      "execution_count": 14,
      "outputs": []
    },
    {
      "cell_type": "code",
      "source": [
        "from sklearn.feature_extraction.text import TfidfTransformer\n",
        "LinearSVC\n",
        "SVCpipeline = Pipeline([\n",
        "    ('bow', tfidf_vectorizer),\n",
        "    ('tfidf', TfidfTransformer()),  # integer counts to weighted TF-IDF scores\n",
        "    ('classifier', LinearSVC(C=6000)),  # train on TF-IDF vectors w/ SVM\n",
        "])\n",
        "\n",
        "# SVCpipeline = Pipeline([\n",
        "#     ('vect', TfidfVectorizer(min_df=3, max_df=0.95)),\n",
        "#     ('clf', SVC(C=6000))\n",
        "# ])\n",
        "model2 = SVCpipeline.fit(X_train, y_train)"
      ],
      "metadata": {
        "id": "9mLjqwHwKL3a"
      },
      "execution_count": 15,
      "outputs": []
    },
    {
      "cell_type": "code",
      "source": [],
      "metadata": {
        "id": "cvKl-Y6jb4OO"
      },
      "execution_count": 15,
      "outputs": []
    },
    {
      "cell_type": "code",
      "source": [
        "predict1 = model1.predict(X_test)\n",
        "predict2 = model2.predict(X_test)\n"
      ],
      "metadata": {
        "id": "JSO3n0Sob43L"
      },
      "execution_count": 16,
      "outputs": []
    },
    {
      "cell_type": "code",
      "source": [
        "from sklearn.metrics import classification_report\n",
        "from sklearn.metrics import confusion_matrix"
      ],
      "metadata": {
        "id": "Ts8gPT8Bb7-j"
      },
      "execution_count": 17,
      "outputs": []
    },
    {
      "cell_type": "code",
      "source": [
        "print(accuracy_score(y_test,predict1))\n",
        "print('\\n')\n",
        "print(accuracy_score(y_test,predict2))\n",
        "print('\\n')"
      ],
      "metadata": {
        "id": "FT5JlQRmb-Bq",
        "colab": {
          "base_uri": "https://localhost:8080/"
        },
        "outputId": "3ee8eb70-24a8-48d3-cfc1-d2ea628afc89"
      },
      "execution_count": 18,
      "outputs": [
        {
          "output_type": "stream",
          "name": "stdout",
          "text": [
            "0.9700598802395209\n",
            "\n",
            "\n",
            "0.9820359281437125\n",
            "\n",
            "\n"
          ]
        }
      ]
    },
    {
      "cell_type": "code",
      "source": [
        "# error1 = metrics.mean_absolute_error(y_test,predict1)\n",
        "# error2 = metrics.mean_squared_error(y_test,predict2)\n",
        "# print(error1,error2)"
      ],
      "metadata": {
        "id": "vMRYVh0OWKE_"
      },
      "execution_count": 19,
      "outputs": []
    },
    {
      "cell_type": "code",
      "source": [
        "#confusion matrix for LogisticRegression\n",
        "from sklearn.metrics import confusion_matrix\n",
        "from sklearn.metrics import classification_report\n",
        "\n",
        "print(classification_report(y_test, predict1))\n",
        "\n",
        "cm = confusion_matrix(y_test,predict1)\n",
        "# visualize confusion matrix with seaborn heatmap\n",
        "\n",
        "cm_matrix = pd.DataFrame(data=cm, columns=['business', 'entertainment','politics','sport','tech'],\n",
        "                                 index=['business', 'entertainment','politics','sport','tech'])\n",
        "\n",
        "sns.heatmap(cm_matrix, annot=True, fmt='d', cmap='YlGnBu')"
      ],
      "metadata": {
        "id": "38rfBBgqb-uH",
        "colab": {
          "base_uri": "https://localhost:8080/",
          "height": 746
        },
        "outputId": "0bdfc5f0-8b62-44da-8351-c8caa5b65cfc"
      },
      "execution_count": 20,
      "outputs": [
        {
          "output_type": "stream",
          "name": "stdout",
          "text": [
            "               precision    recall  f1-score   support\n",
            "\n",
            "     business       0.97      0.98      0.97        97\n",
            "entertainment       0.94      0.94      0.94        34\n",
            "     politics       0.92      0.92      0.92        53\n",
            "        sport       1.00      1.00      1.00        93\n",
            "         tech       0.98      0.96      0.97        57\n",
            "\n",
            "     accuracy                           0.97       334\n",
            "    macro avg       0.96      0.96      0.96       334\n",
            " weighted avg       0.97      0.97      0.97       334\n",
            "\n"
          ]
        },
        {
          "output_type": "execute_result",
          "data": {
            "text/plain": [
              "<Axes: >"
            ]
          },
          "metadata": {},
          "execution_count": 20
        },
        {
          "output_type": "display_data",
          "data": {
            "text/plain": [
              "<Figure size 640x480 with 2 Axes>"
            ],
            "image/png": "[encoded data removed]"
          },
          "metadata": {}
        }
      ]
    },
    {
      "cell_type": "code",
      "source": [
        "#confusion matrix for LogisticRegression\n",
        "from sklearn.metrics import confusion_matrix\n",
        "from sklearn.metrics import classification_report\n",
        "\n",
        "print(classification_report(y_test, predict2))\n",
        "\n",
        "cm = confusion_matrix(y_test,predict2)\n",
        "# visualize confusion matrix with seaborn heatmap\n",
        "\n",
        "cm_matrix = pd.DataFrame(data=cm, columns=['business', 'entertainment','politics','sport','tech'],\n",
        "                                 index=['business', 'entertainment','politics','sport','tech'])\n",
        "\n",
        "sns.heatmap(cm_matrix, annot=True, fmt='d', cmap='YlGnBu')"
      ],
      "metadata": {
        "id": "_BqKg265WcqZ",
        "colab": {
          "base_uri": "https://localhost:8080/",
          "height": 746
        },
        "outputId": "3f99fe68-3e6e-4209-bb96-ece66d718777"
      },
      "execution_count": 21,
      "outputs": [
        {
          "output_type": "stream",
          "name": "stdout",
          "text": [
            "               precision    recall  f1-score   support\n",
            "\n",
            "     business       1.00      0.96      0.98        97\n",
            "entertainment       0.94      1.00      0.97        34\n",
            "     politics       0.95      1.00      0.97        53\n",
            "        sport       0.99      1.00      0.99        93\n",
            "         tech       1.00      0.96      0.98        57\n",
            "\n",
            "     accuracy                           0.98       334\n",
            "    macro avg       0.98      0.98      0.98       334\n",
            " weighted avg       0.98      0.98      0.98       334\n",
            "\n"
          ]
        },
        {
          "output_type": "execute_result",
          "data": {
            "text/plain": [
              "<Axes: >"
            ]
          },
          "metadata": {},
          "execution_count": 21
        },
        {
          "output_type": "display_data",
          "data": {
            "text/plain": [
              "<Figure size 640x480 with 2 Axes>"
            ],
            "image/png": "[encoded data removed]"
          },
          "metadata": {}
        }
      ]
    },
    {
      "cell_type": "code",
      "source": [],
      "metadata": {
        "id": "_cPkwd-uiYxM"
      },
      "execution_count": 21,
      "outputs": []
    }
  ]
}