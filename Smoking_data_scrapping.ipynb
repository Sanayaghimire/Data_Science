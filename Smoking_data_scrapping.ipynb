{
  "nbformat": 4,
  "nbformat_minor": 0,
  "metadata": {
    "colab": {
      "provenance": [],
      "include_colab_link": true
    },
    "kernelspec": {
      "name": "python3",
      "display_name": "Python 3"
    },
    "language_info": {
      "name": "python"
    }
  },
  "cells": [
    {
      "cell_type": "markdown",
      "metadata": {
        "id": "view-in-github",
        "colab_type": "text"
      },
      "source": [
        "<a href=\"https://colab.research.google.com/github/Sanayaghimire/Data_Science/blob/main/Smoking_data_scrapping.ipynb\" target=\"_parent\"><img src=\"https://colab.research.google.com/assets/colab-badge.svg\" alt=\"Open In Colab\"/></a>"
      ]
    },
    {
      "cell_type": "code",
      "execution_count": null,
      "metadata": {
        "colab": {
          "base_uri": "https://localhost:8080/"
        },
        "id": "ZS0Fyvnr21fE",
        "outputId": "758e954f-94ea-4bc3-b292-3cd584bffe28"
      },
      "outputs": [
        {
          "output_type": "stream",
          "name": "stderr",
          "text": [
            "<ipython-input-8-302804fd4878>:3: MarkupResemblesLocatorWarning: The input looks more like a URL than markup. You may want to use an HTTP client like requests to get the document behind the URL, and feed that document to Beautiful Soup.\n",
            "  url = BeautifulSoup('https://www.worldometers.info/world-population/nepal-population/', 'html.parser')\n"
          ]
        },
        {
          "output_type": "execute_result",
          "data": {
            "text/plain": [
              "<Response [200]>"
            ]
          },
          "metadata": {},
          "execution_count": 8
        }
      ],
      "source": [
        "from bs4 import BeautifulSoup\n",
        "import requests\n",
        "url = BeautifulSoup('https://www.worldometers.info/world-population/nepal-population/', 'html.parser')\n",
        "soup = requests.get(url)\n",
        "soup"
      ]
    },
    {
      "cell_type": "code",
      "source": [],
      "metadata": {
        "id": "qmOKHYH8b_-6"
      },
      "execution_count": null,
      "outputs": []
    },
    {
      "cell_type": "code",
      "source": [
        "soup.text"
      ],
      "metadata": {
        "colab": {
          "base_uri": "https://localhost:8080/",
          "height": 177
        },
        "id": "k0sbLL4iZCOP",
        "outputId": "67de2380-7892-4430-a5e9-8151b460ac45"
      },
      "execution_count": null,
      "outputs": [
        {
          "output_type": "execute_result",
          "data": {
            "text/plain": [
              "'\\n<!DOCTYPE html><!--[if IE 8]> <html lang=\"en\" class=\"ie8\"> <![endif]--><!--[if IE 9]> <html lang=\"en\" class=\"ie9\"> <![endif]--><!--[if !IE]><!--> <html lang=\"en\"> <!--<![endif]--> <head> <meta charset=\"utf-8\"> <meta http-equiv=\"X-UA-Compatible\" content=\"IE=edge\"> <meta name=\"viewport\" content=\"width=device-width, initial-scale=1\"> <title>Nepal Population (2024) - Worldometer</title> <meta name=\"description\" content=\"Population of Nepal: current, historical, and projected population, growth rate, immigration, median age, total fertility rate (TFR), population density, urbanization, urban population, country\\'s share of world population, and global rank. Data tables, maps, charts, and live population clock\"><!-- Favicon --><link rel=\"shortcut icon\" href=\"/favicon/favicon.ico\" type=\"image/x-icon\"><link rel=\"apple-touch-icon\" sizes=\"57x57\" href=\"/favicon/apple-icon-57x57.png\"><link rel=\"apple-touch-icon\" sizes=\"60x60\" href=\"/favicon/apple-icon-60x60.png\"><link rel=\"apple-touch-icon\" sizes=\"72x72\" href=\"/favicon/apple-icon-72x72.png\"><link rel=\"apple-touch-icon\" sizes=\"76x76\" href=\"/favicon/apple-icon-76x76.png\"><link rel=\"apple-touch-icon\" sizes=\"114x114\" href=\"/favicon/apple-icon-114x114.png\"><link rel=\"apple-touch-icon\" sizes=\"120x120\" href=\"/favicon/apple-icon-120x120.png\"><link rel=\"apple-touch-icon\" sizes=\"144x144\" href=\"/favicon/apple-icon-144x144.png\"><link rel=\"apple-touch-icon\" sizes=\"152x152\" href=\"/favicon/apple-icon-152x152.png\"><link rel=\"apple-touch-icon\" sizes=\"180x180\" href=\"/favicon/apple-icon-180x180.png\"><link rel=\"icon\" type=\"image/png\" sizes=\"192x192\" href=\"/favicon/android-icon-192x192.png\"><link rel=\"icon\" type=\"image/png\" sizes=\"32x32\" href=\"/favicon/favicon-32x32.png\"><link rel=\"icon\" type=\"image/png\" sizes=\"96x96\" href=\"/favicon/favicon-96x96.png\"><link rel=\"icon\" type=\"image/png\" sizes=\"16x16\" href=\"/favicon/favicon-16x16.png\"><link rel=\"manifest\" href=\"/favicon/manifest.json\"><meta name=\"msapplication-TileColor\" content=\"#ffffff\"><meta name=\"msapplication-TileImage\" content=\"/favicon/ms-icon-144x144.png\"><meta name=\"theme-color\" content=\"#ffffff\"><!-- og image --><meta property=\"og:image\" content=\"http://www.worldometers.info/img/worldometers-fb.jpg\" /> <!-- Bootstrap --> <link href=\"/css/bootstrap.min.css\" rel=\"stylesheet\"><link href=\"/wm16.css\" rel=\"stylesheet\"><!-- font awesome --><link rel=\"stylesheet\" href=\"https://maxcdn.bootstrapcdn.com/font-awesome/4.4.0/css/font-awesome.min.css\"> <!-- HTML5 shim and Respond.js for IE8 support of HTML5 elements and media queries --> <!--[if lt IE 9]> <script src=\"https://oss.maxcdn.com/html5shiv/3.7.2/html5shiv.min.js\"></script> <script src=\"https://oss.maxcdn.com/respond/1.4.2/respond.min.js\"></script> <![endif]--><!-- <script src=\"https://ajax.googleapis.com/ajax/libs/jquery/2.1.3/jquery.min.js\"></script>--> <script src=\"/js/jquery.min.js\"></script> <!-- Include all compiled plugins (below), or include individual files as needed --> <script src=\"/js/bootstrap.min.js\"></script> <!-- IE10 viewport hack for Surface/desktop Windows 8 bug --> <script src=\"/js/ie10-viewport-bug-workaround.js\"></script><!-- counters --><!-- Start Worldometers RTS Counters --><script type=\"text/javascript\"> var rts_configuration =\\n{\\nRTS_key: \\'worldometers\\',\\nRTS_keylen: 2,\\nformat_defaults : {\\ndecimalSeparator: \\'.\\',\\nthousandSeparator: \\',\\'\\n}\\n}</script><script src=\"https://www.realtimestatistics.net/rts/RTS-pop.js\" type=\"text/javascript\"></script><!-- End Worldometers RTS Counters --><!-- pop country css --><link href=\"/css/pop-countries.css\" rel=\"stylesheet\" type=\"text/css\"><!-- google charts --><script type=\"text/javascript\" src=\"https://www.google.com/jsapi\"></script><script><!--\\ngoogle.load(\\'visualization\\', \\'1\\', {\\'packages\\':[\\'corechart\\'], \\'language\\' : \\'en\\'});\\ngoogle.setOnLoadCallback(f_chart_pop);\\nvar options_chart_pop={};\\nfunction f_chart_pop()\\n{\\nvar dataT = new google.visualization.DataTable({cols: [{type:\\'date\\',label:\\'Date\\'},{type:\\'number\\',label:\\'Nepal Population\\'}],\\nrows:\\n[\\n{c:[{v:new Date(\\t1950\\t,6,1)},{v:\\t8398945 }]},\\n{c:[{v:new Date(\\t1951\\t,6,1)},{v:\\t8579831\\t}]},\\n{c:[{v:new Date(\\t1952\\t,6,1)},{v:\\t8759894\\t}]},\\n{c:[{v:new Date(\\t1953\\t,6,1)},{v:\\t8936482\\t}]},\\n{c:[{v:new Date(\\t1954\\t,6,1)},{v:\\t9110777\\t}]},\\n{c:[{v:new Date(\\t1955\\t,6,1)},{v:\\t9284895\\t}]},\\n{c:[{v:new Date(\\t1956\\t,6,1)},{v:\\t9458896\\t}]},\\n{c:[{v:new Date(\\t1957\\t,6,1)},{v:\\t9633243\\t}]},\\n{c:[{v:new Date(\\t1958\\t,6,1)},{v:\\t9805019\\t}]},\\n{c:[{v:new Date(\\t1959\\t,6,1)},{v:\\t9980681\\t}]},\\n{c:[{v:new Date(\\t1960\\t,6,1)},{v:\\t10167941\\t}]},\\n{c:[{v:new Date(\\t1961\\t,6,1)},{v:\\t10365144\\t}]},\\n{c:[{v:new Date(\\t1962\\t,6,1)},{v:\\t10570716\\t}]},\\n{c:[{v:new Date(\\t1963\\t,6,1)},{v:\\t10782717\\t}]},\\n{c:[{v:new Date(\\t1964\\t,6,1)},{v:\\t11002819\\t}]},\\n{c:[{v:new Date(\\t1965\\t,6,1)},{v:\\t11232951\\t}]},\\n{c:[{v:new Date(\\t1966\\t,6,1)},{v:\\t11470199\\t}]},\\n{c:[{v:new Date(\\t1967\\t,6,1)},{v:\\t11715579\\t}]},\\n{c:[{v:new Date(\\t1968\\t,6,1)},{v:\\t11970411\\t}]},\\n{c:[{v:new Date(\\t1969\\t,6,1)},{v:\\t12231874\\t}]},\\n{c:[{v:new Date(\\t1970\\t,6,1)},{v:\\t12501285\\t}]},\\n{c:[{v:new Date(\\t1971\\t,6,1)},{v:\\t12774870\\t}]},\\n{c:[{v:new Date(\\t1972\\t,6,1)},{v:\\t13052220\\t}]},\\n{c:[{v:new Date(\\t1973\\t,6,1)},{v:\\t13335963\\t}]},\\n{c:[{v:new Date(\\t1974\\t,6,1)},{v:\\t13626301\\t}]},\\n{c:[{v:new Date(\\t1975\\t,6,1)},{v:\\t13925541\\t}]},\\n{c:[{v:new Date(\\t1976\\t,6,1)},{v:\\t14230738\\t}]},\\n{c:[{v:new Date(\\t1977\\t,6,1)},{v:\\t14550430\\t}]},\\n{c:[{v:new Date(\\t1978\\t,6,1)},{v:\\t14888770\\t}]},\\n{c:[{v:new Date(\\t1979\\t,6,1)},{v:\\t15238564\\t}]},\\n{c:[{v:new Date(\\t1980\\t,6,1)},{v:\\t15600442\\t}]},\\n{c:[{v:new Date(\\t1981\\t,6,1)},{v:\\t15969792\\t}]},\\n{c:[{v:new Date(\\t1982\\t,6,1)},{v:\\t16347124\\t}]},\\n{c:[{v:new Date(\\t1983\\t,6,1)},{v:\\t16740664\\t}]},\\n{c:[{v:new Date(\\t1984\\t,6,1)},{v:\\t17141610\\t}]},\\n{c:[{v:new Date(\\t1985\\t,6,1)},{v:\\t17540571\\t}]},\\n{c:[{v:new Date(\\t1986\\t,6,1)},{v:\\t17936926\\t}]},\\n{c:[{v:new Date(\\t1987\\t,6,1)},{v:\\t18326204\\t}]},\\n{c:[{v:new Date(\\t1988\\t,6,1)},{v:\\t18720745\\t}]},\\n{c:[{v:new Date(\\t1989\\t,6,1)},{v:\\t19145077\\t}]},\\n{c:[{v:new Date(\\t1990\\t,6,1)},{v:\\t19616530\\t}]},\\n{c:[{v:new Date(\\t1991\\t,6,1)},{v:\\t20130779\\t}]},\\n{c:[{v:new Date(\\t1992\\t,6,1)},{v:\\t20702133\\t}]},\\n{c:[{v:new Date(\\t1993\\t,6,1)},{v:\\t21267359\\t}]},\\n{c:[{v:new Date(\\t1994\\t,6,1)},{v:\\t21794751\\t}]},\\n{c:[{v:new Date(\\t1995\\t,6,1)},{v:\\t22305571\\t}]},\\n{c:[{v:new Date(\\t1996\\t,6,1)},{v:\\t22783969\\t}]},\\n{c:[{v:new Date(\\t1997\\t,6,1)},{v:\\t23249417\\t}]},\\n{c:[{v:new Date(\\t1998\\t,6,1)},{v:\\t23703328\\t}]},\\n{c:[{v:new Date(\\t1999\\t,6,1)},{v:\\t24143157\\t}]},\\n{c:[{v:new Date(\\t2000\\t,6,1)},{v:\\t24559500\\t}]},\\n{c:[{v:new Date(\\t2001\\t,6,1)},{v:\\t24956071\\t}]},\\n{c:[{v:new Date(\\t2002\\t,6,1)},{v:\\t25332178\\t}]},\\n{c:[{v:new Date(\\t2003\\t,6,1)},{v:\\t25682908\\t}]},\\n{c:[{v:new Date(\\t2004\\t,6,1)},{v:\\t26003965\\t}]},\\n{c:[{v:new Date(\\t2005\\t,6,1)},{v:\\t26285110\\t}]},\\n{c:[{v:new Date(\\t2006\\t,6,1)},{v:\\t26518971\\t}]},\\n{c:[{v:new Date(\\t2007\\t,6,1)},{v:\\t26713655\\t}]},\\n{c:[{v:new Date(\\t2008\\t,6,1)},{v:\\t26881544\\t}]},\\n{c:[{v:new Date(\\t2009\\t,6,1)},{v:\\t27026941\\t}]},\\n{c:[{v:new Date(\\t2010\\t,6,1)},{v:\\t27161567\\t}]},\\n{c:[{v:new Date(\\t2011\\t,6,1)},{v:\\t27266399\\t}]},\\n{c:[{v:new Date(\\t2012\\t,6,1)},{v:\\t27330694\\t}]},\\n{c:[{v:new Date(\\t2013\\t,6,1)},{v:\\t27381555\\t}]},\\n{c:[{v:new Date(\\t2014\\t,6,1)},{v:\\t27462106\\t}]},\\n{c:[{v:new Date(\\t2015\\t,6,1)},{v:\\t27610325\\t}]},\\n{c:[{v:new Date(\\t2016\\t,6,1)},{v:\\t27861186\\t}]},\\n{c:[{v:new Date(\\t2017\\t,6,1)},{v:\\t28183426\\t}]},\\n{c:[{v:new Date(\\t2018\\t,6,1)},{v:\\t28506712\\t}]},\\n{c:[{v:new Date(\\t2019\\t,6,1)},{v:\\t28832496\\t}]},\\n{c:[{v:new Date(\\t2020\\t,6,1)},{v:\\t29348627\\t}]},\\n{c:[{v:new Date(\\t2021\\t,6,1)},{v:\\t30034989\\t}]},\\n{c:[{v:new Date(\\t2022\\t,6,1)},{v:\\t30547580\\t}]},\\n{c:[{v:new Date(\\t2023\\t,6,1)},{v:\\t30896590\\t}]},\\t{c:[{v:new Date(\\t2024\\t,6,1)},{v:\\t31240315\\t}]}\\n]});\\nvar mYF0=new google.visualization.DateFormat({pattern: \\'yyyy\\'});\\nmYF0.format(dataT, 0);\\nvar mNF1 = new google.visualization.NumberFormat({fractionDigits:0});\\nmNF1.format(dataT, 1);\\nvar data = new google.visualization.DataView(dataT);\\noptions_chart_pop[\\'theme\\']=\\'maximized\\';\\noptions_chart_pop[\\'hAxis\\']={gridlines:{color: \\'#eee\\'}};\\noptions_chart_pop[\\'vAxis\\']={minValue:0};\\noptions_chart_pop[\\'curveType\\']=\\'function\\';\\noptions_chart_pop[\\'focusTarget\\']=\\'category\\';\\noptions_chart_pop[\\'title\\']=\\'\\';\\nvar chart = new google.visualization.LineChart(document.getElementById(\\'chart_pop\\'));\\nchart.draw(data, options_chart_pop);\\n}\\n--></script><script><!--\\ngoogle.load(\\'visualization\\', \\'1\\', {\\'packages\\':[\\'corechart\\'], \\'language\\' : \\'en\\'});\\ngoogle.setOnLoadCallback(f_chart_pop_rate);\\nvar options_chart_pop_rate={};\\nfunction f_chart_pop_rate()\\n{\\nvar dataT = new google.visualization.DataTable({cols: [{type:\\'date\\',label:\\'Date\\'},{type:\\'number\\',label:\\'Yearly Growth Rate (%)\\'}],\\nrows:\\n[\\n{c:[{v:new Date(\\t1951\\t,6,1)},{v:\\t2.15\\t}]},\\n{c:[{v:new Date(\\t1952\\t,6,1)},{v:\\t2.1\\t}]},\\n{c:[{v:new Date(\\t1953\\t,6,1)},{v:\\t2.02\\t}]},\\n{c:[{v:new Date(\\t1954\\t,6,1)},{v:\\t1.95\\t}]},\\n{c:[{v:new Date(\\t1955\\t,6,1)},{v:\\t1.91\\t}]},\\n{c:[{v:new Date(\\t1956\\t,6,1)},{v:\\t1.87\\t}]},\\n{c:[{v:new Date(\\t1957\\t,6,1)},{v:\\t1.84\\t}]},\\n{c:[{v:new Date(\\t1958\\t,6,1)},{v:\\t1.78\\t}]},\\n{c:[{v:new Date(\\t1959\\t,6,1)},{v:\\t1.79\\t}]},\\n{c:[{v:new Date(\\t1960\\t,6,1)},{v:\\t1.88\\t}]},\\n{c:[{v:new Date(\\t1961\\t,6,1)},{v:\\t1.94\\t}]},\\n{c:[{v:new Date(\\t1962\\t,6,1)},{v:\\t1.98\\t}]},\\n{c:[{v:new Date(\\t1963\\t,6,1)},{v:\\t2.01\\t}]},\\n{c:[{v:new Date(\\t1964\\t,6,1)},{v:\\t2.04\\t}]},\\n{c:[{v:new Date(\\t1965\\t,6,1)},{v:\\t2.09\\t}]},\\n{c:[{v:new Date(\\t1966\\t,6,1)},{v:\\t2.11\\t}]},\\n{c:[{v:new Date(\\t1967\\t,6,1)},{v:\\t2.14\\t}]},\\n{c:[{v:new Date(\\t1968\\t,6,1)},{v:\\t2.18\\t}]},\\n{c:[{v:new Date(\\t1969\\t,6,1)},{v:\\t2.18\\t}]},\\n{c:[{v:new Date(\\t1970\\t,6,1)},{v:\\t2.2\\t}]},\\n{c:[{v:new Date(\\t1971\\t,6,1)},{v:\\t2.19\\t}]},\\n{c:[{v:new Date(\\t1972\\t,6,1)},{v:\\t2.17\\t}]},\\n{c:[{v:new Date(\\t1973\\t,6,1)},{v:\\t2.17\\t}]},\\n{c:[{v:new Date(\\t1974\\t,6,1)},{v:\\t2.18\\t}]},\\n{c:[{v:new Date(\\t1975\\t,6,1)},{v:\\t2.2\\t}]},\\n{c:[{v:new Date(\\t1976\\t,6,1)},{v:\\t2.19\\t}]},\\n{c:[{v:new Date(\\t1977\\t,6,1)},{v:\\t2.25\\t}]},\\n{c:[{v:new Date(\\t1978\\t,6,1)},{v:\\t2.33\\t}]},\\n{c:[{v:new Date(\\t1979\\t,6,1)},{v:\\t2.35\\t}]},\\n{c:[{v:new Date(\\t1980\\t,6,1)},{v:\\t2.37\\t}]},\\n{c:[{v:new Date(\\t1981\\t,6,1)},{v:\\t2.37\\t}]},\\n{c:[{v:new Date(\\t1982\\t,6,1)},{v:\\t2.36\\t}]},\\n{c:[{v:new Date(\\t1983\\t,6,1)},{v:\\t2.41\\t}]},\\n{c:[{v:new Date(\\t1984\\t,6,1)},{v:\\t2.4\\t}]},\\n{c:[{v:new Date(\\t1985\\t,6,1)},{v:\\t2.33\\t}]},\\n{c:[{v:new Date(\\t1986\\t,6,1)},{v:\\t2.26\\t}]},\\n{c:[{v:new Date(\\t1987\\t,6,1)},{v:\\t2.17\\t}]},\\n{c:[{v:new Date(\\t1988\\t,6,1)},{v:\\t2.15\\t}]},\\n{c:[{v:new Date(\\t1989\\t,6,1)},{v:\\t2.27\\t}]},\\n{c:[{v:new Date(\\t1990\\t,6,1)},{v:\\t2.46\\t}]},\\n{c:[{v:new Date(\\t1991\\t,6,1)},{v:\\t2.62\\t}]},\\n{c:[{v:new Date(\\t1992\\t,6,1)},{v:\\t2.84\\t}]},\\n{c:[{v:new Date(\\t1993\\t,6,1)},{v:\\t2.73\\t}]},\\n{c:[{v:new Date(\\t1994\\t,6,1)},{v:\\t2.48\\t}]},\\n{c:[{v:new Date(\\t1995\\t,6,1)},{v:\\t2.34\\t}]},\\n{c:[{v:new Date(\\t1996\\t,6,1)},{v:\\t2.14\\t}]},\\n{c:[{v:new Date(\\t1997\\t,6,1)},{v:\\t2.04\\t}]},\\n{c:[{v:new Date(\\t1998\\t,6,1)},{v:\\t1.95\\t}]},\\n{c:[{v:new Date(\\t1999\\t,6,1)},{v:\\t1.86\\t}]},\\n{c:[{v:new Date(\\t2000\\t,6,1)},{v:\\t1.72\\t}]},\\n{c:[{v:new Date(\\t2001\\t,6,1)},{v:\\t1.61\\t}]},\\n{c:[{v:new Date(\\t2002\\t,6,1)},{v:\\t1.51\\t}]},\\n{c:[{v:new Date(\\t2003\\t,6,1)},{v:\\t1.38\\t}]},\\n{c:[{v:new Date(\\t2004\\t,6,1)},{v:\\t1.25\\t}]},\\n{c:[{v:new Date(\\t2005\\t,6,1)},{v:\\t1.08\\t}]},\\n{c:[{v:new Date(\\t2006\\t,6,1)},{v:\\t0.89\\t}]},\\n{c:[{v:new Date(\\t2007\\t,6,1)},{v:\\t0.73\\t}]},\\n{c:[{v:new Date(\\t2008\\t,6,1)},{v:\\t0.63\\t}]},\\n{c:[{v:new Date(\\t2009\\t,6,1)},{v:\\t0.54\\t}]},\\n{c:[{v:new Date(\\t2010\\t,6,1)},{v:\\t0.5\\t}]},\\n{c:[{v:new Date(\\t2011\\t,6,1)},{v:\\t0.39\\t}]},\\n{c:[{v:new Date(\\t2012\\t,6,1)},{v:\\t0.24\\t}]},\\n{c:[{v:new Date(\\t2013\\t,6,1)},{v:\\t0.19\\t}]},\\n{c:[{v:new Date(\\t2014\\t,6,1)},{v:\\t0.29\\t}]},\\n{c:[{v:new Date(\\t2015\\t,6,1)},{v:\\t0.54\\t}]},\\n{c:[{v:new Date(\\t2016\\t,6,1)},{v:\\t0.91\\t}]},\\n{c:[{v:new Date(\\t2017\\t,6,1)},{v:\\t1.16\\t}]},\\n{c:[{v:new Date(\\t2018\\t,6,1)},{v:\\t1.15\\t}]},\\n{c:[{v:new Date(\\t2019\\t,6,1)},{v:\\t1.14\\t}]},\\n{c:[{v:new Date(\\t2020\\t,6,1)},{v:\\t1.79\\t}]},\\n{c:[{v:new Date(\\t2021\\t,6,1)},{v:\\t2.34\\t}]},\\n{c:[{v:new Date(\\t2022\\t,6,1)},{v:\\t1.71\\t}]},\\n{c:[{v:new Date(\\t2023\\t,6,1)},{v:\\t1.14\\t}]},\\t{c:[{v:new Date(\\t2024\\t,6,1)},{v:\\t1.11\\t}]}\\n]});\\nvar mYF0=new google.visualization.DateFormat({pattern: \\'yyyy\\'});\\nmYF0.format(dataT, 0);\\noptions_chart_pop_rate[\\'hAxis\\']={format:\\'#,##%\\'};\\nvar data = new google.visualization.DataView(dataT);\\noptions_chart_pop_rate[\\'theme\\']=\\'maximized\\';\\noptions_chart_pop_rate[\\'hAxis\\']={gridlines:{color: \\'#eee\\'}};\\noptions_chart_pop_rate[\\'vAxis\\']={minValue:0};\\noptions_chart_pop_rate[\\'curveType\\']=\\'function\\';\\noptions_chart_pop_rate[\\'focusTarget\\']=\\'category\\';\\nvar chart = new google.visualization.LineChart(document.getElementById(\\'chart_pop_rate\\'));\\nchart.draw(data, options_chart_pop_rate);\\n}\\n--></script><script src=\"https://code.highcharts.com/highcharts.js\"></script></head><body><!-- Google tag (gtag.js) --><script async src=\"https://www.googletagmanager.com/gtag/js?id=G-ZDP3BFSX60\"></script><script> window.dataLayer = window.dataLayer || []; function gtag(){dataLayer.push(arguments);} gtag(\\'js\\', new Date()); gtag(\\'config\\', \\'G-ZDP3BFSX60\\');</script><script async src=\"https://pagead2.googlesyndication.com/pagead/js/adsbygoogle.js?client=ca-pub-3701697624350410\" crossorigin=\"anonymous\"></script><style type=\"text/css\"> .style1 { color: #666666 }</style><div class=\"navbar navbar-default\"> <div class=\"container\"> <div class=\"navbar-header\"> <div class=\"logo\"><a href=\"/\" class=\"navbar-brand\"><img src=\"/img/worldometers-logo.gif\" border=\"0\" title=\"Worldometer\"></a></div> <button class=\"navbar-toggle\" type=\"button\" data-toggle=\"collapse\" data-target=\"#navbar-main\"> <span class=\"icon-bar\"></span> <span class=\"icon-bar\"></span> <span class=\"icon-bar\"></span> </button> </div> <div class=\"navbar-collapse collapse\" id=\"navbar-main\"> <ul class=\"nav navbar-nav\"> <li><a href=\"/coronavirus/\">Coronavirus</a></li> <li><a href=\"/population/\">Population</a></li> </ul> </div> </div></div><!-- MAIN --><div class=\"container\"><!-- TOP AD --><div class=\"row\"><div style=\"padding-top:15px; padding-bottom:15px; text-align:center;\"><script async src=\"https://pagead2.googlesyndication.com/pagead/js/adsbygoogle.js?client=ca-pub-3701697624350410\" crossorigin=\"anonymous\"></script><!-- wm-top-24 --><ins class=\"adsbygoogle\" style=\"display:block\" data-ad-client=\"ca-pub-3701697624350410\" data-ad-slot=\"5369103488\" data-ad-format=\"auto\" data-full-width-responsive=\"true\"></ins><script> (adsbygoogle = window.adsbygoogle || []).push({});</script></div></div><!-- TOP AD --><!-- MAIN --><!-- LEFT (only desktop) --><div class=\"row\"> <div class=\"col-md-2 hidden-sm hidden-xs col-wm-left-ad\"> <!-- CENTER --></div><div class=\"col-md-6\"> <!-- *** CONTENT A *** --><div class=\"content\"><ul class=\"breadcrumb\"> <li><a href=\"/\">W</a></li><li><a href=\"/population/\">Population</a></li> <li><a href=\"/population/world/\">World</a></li><li><a href=\"/population/asia/\">Asia</a></li><li><a href=\"/population/asia/southern-asia/\">Southern Asia</a></li><li class=\"active\">Nepal</li></ul> <!-- MAIN COUNTER --> <div id=\"maincounter-wrap\"> <h1> Nepal Population <span class=\"live\">(LIVE)</span></h1> <div class=\"maincounter-number\"> <span class=\"rts-counter\" rel=\"nepal-population\">retrieving data... </span></div> </div><!-- MAIN COUNTER --><!-- CHARTS --><div class=\"charts-wrap\"> <table width=\"100%\" border=\"0\" cellpadding=\"0\"> <tr> <td> <div class=\"chart-header\">Nepal Population (1950 - 2024)</div> <div id=\"chart_pop\" class=\"chart-pop\"></div></td> </tr> <tr> <td><div class=\"chart-header\">Yearly Population Growth Rate (%) </div> <div id=\"chart_pop_rate\" class=\"chart-pop-rate\"></div></td> </tr> </table></div><!-- CHARTS --></div><!-- *** CONTENT A *** --><!-- RIGHT --></div><div class=\"col-md-4 adright\"></div></div><!-- /RIGHT --><!-- c --><div class=\"row\"><div class=\"col-md-12\"><!-- content c --><div class=\"content-inner\"> <style type=\"text/css\"><!--\\n.style1 {font-weight: bold}\\n--></style> <div class=\"col-md-4 country-map-wrap\"> </div> <div class=\"col-md-8 country-pop-description\" style=\"margin-top:20px \"><ul> <li>The current population of <strong>Nepal</strong> is <strong>31,195,342</strong> as of Wednesday, May 15, 2024, based on Worldometer elaboration of the latest United Nations data <sup>1</sup>.</li> <li><span style=\"text-transform:capitalize\">Nepal</span> 2023 population is estimated at <strong>30,896,590 </strong>people at mid year.</li> <li><span style=\"text-transform:capitalize\">Nepal</span> population is equivalent to <strong>0.38%</strong> of the <a href=\"/world-population/\">total world population</a>.</li><li><span style=\"text-transform:capitalize\">Nepal</span> ranks number <strong>49</strong> in the list of <a href=\"/world-population/population-by-country/\">countries (and dependencies) by population</a>.</li><li>The population density in Nepal is 216 per Km<sup>2</sup></strong> (558 people per mi<sup>2</sup>).</li><li>The total <strong>land</strong> area is 143,350 Km2 (55,348 sq. miles)</li><li><strong>22.1 %</strong> of the population is <strong>urban</strong> (6,835,484 people in 2023)</li><li>The <strong>median age</strong> in Nepal is <strong>24.4 years</strong>.<br></li> </ul><div class=\"source-table-elab\"> 1. Updated on July 16, 2023 with the latest July 2023-July 2024 estimates from the United Nations, Department of Economic and Social Affairs, Population Division. <a href=\"https://population.un.org/wpp/\">World Population Prospects: The 2022 Revision</a>. (Medium-fertility variant).</div> </div> <div style=\"clear:both; margin-bottom:30px\"></div><!-- Tag ID: worldometers_728x90_970x90_BTF --><div align=\"center\" id=\"worldometers_728x90_970x90_BTF\"><script data-cfasync=\"false\" type=\"text/javascript\"> freestar.config.enabled_slots.push({ placementName: \"worldometers_728x90_970x90_BTF\", slotId: \"worldometers_728x90_970x90_BTF\" });</script></div><h2>Population of Nepal (2024 and historical)</h2><div class=\"table-responsive\"> <table class=\"table table-striped table-bordered table-hover table-condensed table-list\"><thead> <tr> <th>Year</th><th>Population</th><th>Yearly % <br> Change</th><th>Yearly<br> Change</th><th>Migrants (net)</th><th>Median Age</th><th>Fertility Rate</th><th>Density (P/Km²)</th><th>Urban<br> Pop %</th><th>Urban Population</th><th>Country\\'s Share of<br> World Pop</th><th>World Population</th><th>Nepal<br>Global Rank</th></thead><tbody> <tr> <td>2024</td> <td><strong>31,240,315</strong></td> <td>1.11 %</td> <td>343,725</td> <td>-62,012</td> <td>24.8</td> <td>1.97</td> <td>218</td> <td>22.6 %</td> <td>7,048,429</td> <td>0.38 %</td> <td>8,118,835,999</td> <td>49</td> </tr> <tr> <td>2023</td> <td><strong>30,896,590</strong></td> <td>1.14 %</td> <td>349,010</td> <td>-62,012</td> <td>24.4</td> <td>1.99</td> <td>216</td> <td>22.1 %</td> <td>6,835,484</td> <td>0.38 %</td> <td>8,045,311,447</td> <td>49</td> </tr> <tr> <td>2022</td> <td><strong>30,547,580</strong></td> <td>1.71 %</td> <td>512,591</td> <td>-62,012</td> <td>24.0</td> <td>2.01</td> <td>213</td> <td>21.7 %</td> <td>6,627,181</td> <td>0.38 %</td> <td>7,975,105,156</td> <td>49</td> </tr> <tr> <td>2020</td> <td><strong>29,348,627</strong></td> <td>1.79 %</td> <td>516,131</td> <td>306,664</td> <td>23.2</td> <td>2.06</td> <td>205</td> <td>21.2 %</td> <td>6,226,233</td> <td>0.37 %</td> <td>7,840,952,880</td> <td>49</td> </tr><tr> <td>2015</td> <td><strong>27,610,325</strong></td> <td>0.33 %</td> <td>89,752</td> <td>-221,059</td> <td>21.5</td> <td>2.25</td> <td>193</td> <td>19.3 %</td> <td>5,317,799</td> <td>0.37 %</td> <td>7,426,597,537</td> <td>49</td> </tr><tr> <td>2010</td> <td><strong>27,161,567</strong></td> <td>0.66 %</td> <td>175,291</td> <td>-293,613</td> <td>20.2</td> <td>2.51</td> <td>189</td> <td>16.7 %</td> <td>4,531,339</td> <td>0.39 %</td> <td>6,985,603,105</td> <td>46</td></tr><tr> <td>2005</td> <td><strong>26,285,110</strong></td> <td>1.37 %</td> <td>345,122</td> <td>-238,799</td> <td>19.1</td> <td>3.14</td> <td>183</td> <td>14.8 %</td> <td>3,884,136</td> <td>0.40 %</td> <td>6,558,176,119</td> <td>43</td> </tr><tr> <td>2000</td> <td><strong>24,559,500</strong></td> <td>1.94 %</td> <td>450,786</td><td>-147,403</td> <td>18.4</td> <td>3.94</td> <td>171</td> <td>13.0 %</td> <td>3,180,501</td> <td>0.40 %</td> <td>6,148,898,975</td> <td>41</td></tr><tr> <td>1995</td> <td><strong>22,305,571</strong></td> <td>2.60 %</td> <td>537,808</td> <td>-86,300</td> <td>18.2</td> <td>4.79</td> <td>156</td> <td>10.4 %</td> <td>2,328,505</td> <td>0.39 %</td> <td>5,743,219,454</td> <td>42</td></tr><tr> <td>1990</td> <td><strong>19,616,530</strong></td> <td>2.26 %</td> <td>415,192</td> <td>-650</td> <td>18.1</td> <td>5.21</td> <td>137</td> <td>8.5 %</td> <td>1,660,139</td> <td>0.37 %</td> <td>5,316,175,862</td> <td>44</td></tr><tr> <td>1985</td> <td><strong>17,540,571</strong></td> <td>2.37 %</td> <td>388,026</td> <td>-30,173</td> <td>18.3</td> <td>5.47</td> <td>122</td> <td>7.0 %</td> <td>1,235,180</td> <td>0.36 %</td> <td>4,861,730,613</td> <td>43</td></tr><tr> <td>1980</td> <td><strong>15,600,442</strong></td> <td>2.30 %</td> <td>334,980</td> <td>5,084</td> <td>18.4</td> <td>5.64</td> <td>109</td> <td>5.8 %</td> <td>907,698</td> <td>0.35 %</td> <td>4,444,007,706</td> <td>43</td></tr><tr> <td>1975</td> <td><strong>13,925,541</strong></td> <td>2.18 %</td> <td>284,851</td> <td>-6,677</td> <td>18.6</td> <td>5.75</td> <td>97</td> <td>4.6 %</td> <td>643,695</td> <td>0.34 %</td> <td>4,069,437,231</td> <td>40</td></tr><tr> <td>1970</td> <td><strong>12,501,285</strong></td> <td>2.16 %</td> <td>253,667</td> <td>1,846</td> <td>18.5</td> <td>5.88</td> <td>87</td> <td>3.8 %</td> <td>474,634</td> <td>0.34 %</td> <td>3,695,390,336</td> <td>42</td></tr><tr> <td>1965</td> <td><strong>11,232,951</strong></td> <td>2.01 %</td> <td>213,002</td> <td>-1,559</td> <td>18.5</td> <td>6.03</td> <td>78</td> <td>3.6 %</td> <td>407,893</td> <td>0.34 %</td> <td>3,337,111,983</td> <td>40</td></tr><tr> <td>1960</td> <td><strong>10,167,941</strong></td> <td>1.83 %</td> <td>176,609</td> <td>-13,235</td> <td>18.4</td> <td>6.03</td> <td>71</td> <td>3.4 %</td> <td>350,230</td> <td>0.34 %</td> <td>3,019,233,434</td> <td>41</td></tr><tr> <td>1955</td> <td><strong>9,284,895</strong></td> <td>2.03 %</td> <td>177,190</td> <td>-16,468</td> <td>18.5</td> <td>6.03</td> <td>65</td> <td>3.1 %</td> <td>283,756</td> <td>0.34 %</td> <td>2,746,072,141</td> <td>40</td></tr></tbody></table> </div> <div class=\"source-table\">Source: <strong>Worldometer</strong> (<a href=\"/\">www.Worldometers.info</a>) <div class=\"source-table-elab\">Elaboration of data by United Nations, Department of Economic and Social Affairs, Population Division. <a href=\"https://population.un.org/wpp/\">World Population Prospects: The 2022 Revision</a>. (Medium-fertility variant).</div> <div class=\"source-table-elab\"></div> </div><div align=\"right\"><a href=\"#\" class=\"morelink\">back to top ↑</a></div><br><h2>Nepal Population Forecast</h2><div class=\"table-responsive\" style=\"clear:both \"> -62,012 <table class=\"table table-striped table-bordered table-hover table-condensed table-list\"><thead> <tr> <th>Year</th><th>Population</th><th>Yearly % <br> Change</th><th>Yearly<br> Change</th><th>Migrants (net)</th><th>Median Age</th><th>Fertility Rate</th><th>Density (P/Km²)</th><th>Urban<br> Pop %</th><th>Urban Population</th><th>Country\\'s Share of<br> World Pop</th><th>World Population</th><th>Nepal<br>Global Rank</th> </thead><tbody> <tr> <td>2025</td> <td><strong>31,577,361</strong></td> <td>1.47 %</td> <td>445,747</td> <td>-62,012</td> <td>25.2</td> <td>1.95</td> <td>220</td> <td>23.0 %</td> <td>7,265,589</td> <td>0.39 %</td> <td>8,191,988,453</td> <td>50</td></tr><tr> <td>2030</td> <td><strong>33,133,395</strong></td> <td>0.97 %</td> <td>311,207</td> <td>-62,012</td> <td>27.2</td> <td>1.89</td> <td>231</td> <td>25.4 %</td> <td>8,407,931</td> <td>0.39 %</td> <td>8,546,141,327</td> <td>53</td></tr><tr> <td>2035</td> <td><strong>34,448,817</strong></td> <td>0.78 %</td> <td>263,084</td> <td>-62,012</td> <td>29.3</td> <td>1.84</td> <td>240</td> <td>27.9 %</td> <td>9,622,950</td> <td>0.39 %</td> <td>8,879,397,401</td> <td>53</td></tr><tr> <td>2040</td> <td><strong>35,568,802</strong></td> <td>0.64 %</td> <td>223,997</td> <td>-62,012</td> <td>31.3</td> <td>1.81</td> <td>248</td> <td>30.6 %</td> <td>10,883,768</td> <td>0.39 %</td> <td>9,188,250,492</td> <td>54</td></tr><tr> <td>2045</td> <td><strong>36,557,101</strong></td> <td>0.55 %</td> <td>197,660</td> <td>-62,012</td> <td>33.1</td> <td>1.78</td> <td>255</td> <td>33.3 %</td> <td>12,181,771</td> <td>0.39 %</td> <td>9,467,543,575</td> <td>54</td></tr><tr> <td>2050</td> <td><strong>37,401,365</strong></td> <td>0.46 %</td> <td>168,853</td> <td>&nbsp;</td> <td>34.8</td> <td>1.76</td> <td>261</td> <td>36.1 %</td> <td>13,496,018</td> <td>0.39 %</td> <td>9,709,491,761</td> <td>55</td></tr></tbody> </table> </div> <div class=\"source-table\">Source: <strong>Worldometer</strong> (<a href=\"/\">www.Worldometers.info</a>) <div class=\"source-table-elab\">Elaboration of data by United Nations, Department of Economic and Social Affairs, Population Division. <a href=\"https://esa.un.org/unpd/wpp/\"><a href=\"https://population.un.org/wpp/\">World Population Prospects: The 2022 Revision</a></a>. (Medium-fertility variant).</div> <div class=\"source-table-elab\"></div></div> <style type=\"text/css\"><!--\\n.style1 {font-size: 18px}\\n--> </style> <h1>Nepal Demographics</h1> <div style=\"padding-left:30px; margin-bottom:30px \"><em>Main Page: <a href=\"/demographics/nepal-demographics/\"><strong>Demographics of Nepal</strong></a></em></div> <div class=\"linkbar\"> <div id=\"linkbar\"></div></div> <div class=\"row\" style=\"margin-top:50px\"><div class=\"col-md-4\"><div class=\"panel panel-default\"><div class=\"panel-heading\" style=\"text-align:center\"><span class=\"panel-title\" style=\"font-size:19px; text-transform:uppercase; font-weight:100\"><span class=\"glyphicon glyphicon-hourglass\" aria-hidden=\"true\"></span>\\tLife Expectancy</span> </div><div class=\"panel-body\" style=\"text-align:center\"><span style=\"font-size:22px; font-weight:bold;\">70.78 years</span><div>(life expectancy at birth, both sexes)<br><a href=\"/demographics/nepal-demographics/#life-exp\">View by sex and historical chart</a> <!-- PIE CHART ROW --> </div></div></div></div><div class=\"col-md-4\"><div class=\"panel panel-default\"><div class=\"panel-heading\" style=\"text-align:center\"><span class=\"panel-title\" style=\"font-size:19px; text-transform:uppercase; font-weight:100\"><span class=\"glyphicon glyphicon-baby-formula\" aria-hidden=\"true\"></span>\\tInfant Mortality</span> </div><div class=\"panel-body\" style=\"text-align:center\"><span style=\"font-size:22px; font-weight:bold;\">19.2</span><div>(infant deaths per 1,000 live births)<br><a href=\"/demographics/nepal-demographics/#u5-infa-title\">View historical chart</a></div></div></div></div><div class=\"col-md-4\"><div class=\"panel panel-default\"><div class=\"panel-heading\" style=\"text-align:center\"><span class=\"panel-title\" style=\"font-size:19px; text-transform:uppercase; font-weight:100\"><span class=\"glyphicon glyphicon-plus\" aria-hidden=\"true\"></span> Deaths under age 5</span> </div><div class=\"panel-body\" style=\"text-align:center\"><span style=\"font-size:22px; font-weight:bold;\">23.1</span><div> (per 1,000 live births)<br><a href=\"/demographics/nepal-demographics/#u5-infa-title\">View historical chart</a><script data-cfasync=\"false\" type=\"text/javascript\">freestar.queue.push(function () { googletag.display(\\'Worldometers_728x90_incontent_2\\'); }); </script> </div></div></div></div></div><div style=\"margin-top:50px; margin-bottom:50px;\"></div><!-- FREESTAR --> <h2>Main Cities by Population in Nepal</h2><p>(includes boroughs, districts, urban agglomerations, etc.)</p> <div class=\"table-responsive\" style=\"clear:both; width:100%; max-width:500px \"> <table class=\"table table-hover table-condensed table-list\"> <thead> <tr style=\"background-color:#F8F8F8;\"> <th style=\"width:20px\">#</th> <th style=\"font-weight: 100; font-size:16px; text-align:left; padding-top:5px; padding-bottom:5px\">CITY NAME</th> <th style=\"font-weight: 100; font-size:16px; text-align:left; padding-top:5px; padding-bottom:5px\">POPULATION</th> </tr> </thead> <tbody> <tr> <td style=\"color:#999; text-align:center; vertical-align:middle\">1</td> <td style=\"font-weight: bold; font-size:17px; text-align:left; padding-left:10px; padding-top:5px; padding-bottom:5px\">Kathmandu</td> <td style=\" font-size:17px; text-align:left; padding-left:10px; padding-top:5px; padding-bottom:5px\">1,442,271</td> </tr> <tr> <td style=\"color:#999; text-align:center; vertical-align:middle\">2</td> <td style=\"font-weight: bold; font-size:17px; text-align:left; padding-left:10px; padding-top:5px; padding-bottom:5px\">Pokhara</td> <td style=\" font-size:17px; text-align:left; padding-left:10px; padding-top:5px; padding-bottom:5px\">200,000</td> </tr> <tr> <td style=\"color:#999; text-align:center; vertical-align:middle\">3</td> <td style=\"font-weight: bold; font-size:17px; text-align:left; padding-left:10px; padding-top:5px; padding-bottom:5px\">Patan</td> <td style=\" font-size:17px; text-align:left; padding-left:10px; padding-top:5px; padding-bottom:5px\">183,310</td> </tr> <tr> <td style=\"color:#999; text-align:center; vertical-align:middle\">4</td> <td style=\"font-weight: bold; font-size:17px; text-align:left; padding-left:10px; padding-top:5px; padding-bottom:5px\">Biratnagar</td> <td style=\" font-size:17px; text-align:left; padding-left:10px; padding-top:5px; padding-bottom:5px\">182,324</td> </tr> <tr> <td style=\"color:#999; text-align:center; vertical-align:middle\">5</td> <td style=\"font-weight: bold; font-size:17px; text-align:left; padding-left:10px; padding-top:5px; padding-bottom:5px\">Birganj</td> <td style=\" font-size:17px; text-align:left; padding-left:10px; padding-top:5px; padding-bottom:5px\">133,238</td> </tr> <tr> <td style=\"color:#999; text-align:center; vertical-align:middle\">6</td> <td style=\"font-weight: bold; font-size:17px; text-align:left; padding-left:10px; padding-top:5px; padding-bottom:5px\">Dharan</td> <td style=\" font-size:17px; text-align:left; padding-left:10px; padding-top:5px; padding-bottom:5px\">108,600</td> </tr> <tr> <td style=\"color:#999; text-align:center; vertical-align:middle\">7</td> <td style=\"font-weight: bold; font-size:17px; text-align:left; padding-left:10px; padding-top:5px; padding-bottom:5px\">Bharatpur</td> <td style=\" font-size:17px; text-align:left; padding-left:10px; padding-top:5px; padding-bottom:5px\">107,157</td> </tr> <tr> <td style=\"color:#999; text-align:center; vertical-align:middle\">8</td> <td style=\"font-weight: bold; font-size:17px; text-align:left; padding-left:10px; padding-top:5px; padding-bottom:5px\">Janakpur</td> <td style=\" font-size:17px; text-align:left; padding-left:10px; padding-top:5px; padding-bottom:5px\">93,767</td> </tr> <tr> <td style=\"color:#999; text-align:center; vertical-align:middle\">9</td> <td style=\"font-weight: bold; font-size:17px; text-align:left; padding-left:10px; padding-top:5px; padding-bottom:5px\">Dhangadhi</td> <td style=\" font-size:17px; text-align:left; padding-left:10px; padding-top:5px; padding-bottom:5px\">92,294</td> </tr> <tr> <td style=\"color:#999; text-align:center; vertical-align:middle\">10</td> <td style=\"font-weight: bold; font-size:17px; text-align:left; padding-left:10px; padding-top:5px; padding-bottom:5px\">Butwal</td> <td style=\" font-size:17px; text-align:left; padding-left:10px; padding-top:5px; padding-bottom:5px\">91,733</td> </tr> <tr> <td style=\"color:#999; text-align:center; vertical-align:middle\">11</td> <td style=\"font-weight: bold; font-size:17px; text-align:left; padding-left:10px; padding-top:5px; padding-bottom:5px\">Mahendranagar</td> <td style=\" font-size:17px; text-align:left; padding-left:10px; padding-top:5px; padding-bottom:5px\">88,381</td> </tr> <tr> <td style=\"color:#999; text-align:center; vertical-align:middle\">12</td> <td style=\"font-weight: bold; font-size:17px; text-align:left; padding-left:10px; padding-top:5px; padding-bottom:5px\">Hetauda</td> <td style=\" font-size:17px; text-align:left; padding-left:10px; padding-top:5px; padding-bottom:5px\">84,775</td> </tr> <tr> <td style=\"color:#999; text-align:center; vertical-align:middle\">13</td> <td style=\"font-weight: bold; font-size:17px; text-align:left; padding-left:10px; padding-top:5px; padding-bottom:5px\">Madhyapur Thimi</td> <td style=\" font-size:17px; text-align:left; padding-left:10px; padding-top:5px; padding-bottom:5px\">83,036</td> </tr> <tr> <td style=\"color:#999; text-align:center; vertical-align:middle\">14</td> <td style=\"font-weight: bold; font-size:17px; text-align:left; padding-left:10px; padding-top:5px; padding-bottom:5px\">Triyuga</td> <td style=\" font-size:17px; text-align:left; padding-left:10px; padding-top:5px; padding-bottom:5px\">71,405</td> </tr> <tr> <td style=\"color:#999; text-align:center; vertical-align:middle\">15</td> <td style=\"font-weight: bold; font-size:17px; text-align:left; padding-left:10px; padding-top:5px; padding-bottom:5px\">Inaruwa</td> <td style=\" font-size:17px; text-align:left; padding-left:10px; padding-top:5px; padding-bottom:5px\">70,093</td> </tr> <tr> <td style=\"color:#999; text-align:center; vertical-align:middle\">16</td> <td style=\"font-weight: bold; font-size:17px; text-align:left; padding-left:10px; padding-top:5px; padding-bottom:5px\">Nepalgunj</td> <td style=\" font-size:17px; text-align:left; padding-left:10px; padding-top:5px; padding-bottom:5px\">64,400</td> </tr> <tr> <td style=\"color:#999; text-align:center; vertical-align:middle\">17</td> <td style=\"font-weight: bold; font-size:17px; text-align:left; padding-left:10px; padding-top:5px; padding-bottom:5px\">Siddharthanagar</td> <td style=\" font-size:17px; text-align:left; padding-left:10px; padding-top:5px; padding-bottom:5px\">63,367</td> </tr> <tr> <td style=\"color:#999; text-align:center; vertical-align:middle\">18</td> <td style=\"font-weight: bold; font-size:17px; text-align:left; padding-left:10px; padding-top:5px; padding-bottom:5px\">Gulariya</td> <td style=\" font-size:17px; text-align:left; padding-left:10px; padding-top:5px; padding-bottom:5px\">53,107</td> </tr> <tr> <td style=\"color:#999; text-align:center; vertical-align:middle\">19</td> <td style=\"font-weight: bold; font-size:17px; text-align:left; padding-left:10px; padding-top:5px; padding-bottom:5px\">Titahari</td> <td style=\" font-size:17px; text-align:left; padding-left:10px; padding-top:5px; padding-bottom:5px\">47,984</td> </tr> <tr> <td style=\"color:#999; text-align:center; vertical-align:middle\">20</td> <td style=\"font-weight: bold; font-size:17px; text-align:left; padding-left:10px; padding-top:5px; padding-bottom:5px\">Panauti</td> <td style=\" font-size:17px; text-align:left; padding-left:10px; padding-top:5px; padding-bottom:5px\">46,595</td> </tr> <tr> <td style=\"color:#999; text-align:center; vertical-align:middle\">21</td> <td style=\"font-weight: bold; font-size:17px; text-align:left; padding-left:10px; padding-top:5px; padding-bottom:5px\">Tikapur</td> <td style=\" font-size:17px; text-align:left; padding-left:10px; padding-top:5px; padding-bottom:5px\">44,758</td> </tr> <tr> <td style=\"color:#999; text-align:center; vertical-align:middle\">22</td> <td style=\"font-weight: bold; font-size:17px; text-align:left; padding-left:10px; padding-top:5px; padding-bottom:5px\">Kirtipur</td> <td style=\" font-size:17px; text-align:left; padding-left:10px; padding-top:5px; padding-bottom:5px\">44,632</td> </tr> <tr> <td style=\"color:#999; text-align:center; vertical-align:middle\">23</td> <td style=\"font-weight: bold; font-size:17px; text-align:left; padding-left:10px; padding-top:5px; padding-bottom:5px\">Tulsipur</td> <td style=\" font-size:17px; text-align:left; padding-left:10px; padding-top:5px; padding-bottom:5px\">39,058</td> </tr> <tr> <td style=\"color:#999; text-align:center; vertical-align:middle\">24</td> <td style=\"font-weight: bold; font-size:17px; text-align:left; padding-left:10px; padding-top:5px; padding-bottom:5px\">Rajbiraj</td> <td style=\" font-size:17px; text-align:left; padding-left:10px; padding-top:5px; padding-bottom:5px\">33,061</td> </tr> <tr> <td style=\"color:#999; text-align:center; vertical-align:middle\">25</td> <td style=\"font-weight: bold; font-size:17px; text-align:left; padding-left:10px; padding-top:5px; padding-bottom:5px\">Lahan</td> <td style=\" font-size:17px; text-align:left; padding-left:10px; padding-top:5px; padding-bottom:5px\">31,495</td> </tr> <tr> <td style=\"color:#999; text-align:center; vertical-align:middle\">26</td> <td style=\"font-weight: bold; font-size:17px; text-align:left; padding-left:10px; padding-top:5px; padding-bottom:5px\">Birendranagar</td> <td style=\" font-size:17px; text-align:left; padding-left:10px; padding-top:5px; padding-bottom:5px\">31,381</td> </tr> <tr> <td style=\"color:#999; text-align:center; vertical-align:middle\">27</td> <td style=\"font-weight: bold; font-size:17px; text-align:left; padding-left:10px; padding-top:5px; padding-bottom:5px\">Panauti</td> <td style=\" font-size:17px; text-align:left; padding-left:10px; padding-top:5px; padding-bottom:5px\">27,602</td> </tr> <tr> <td style=\"color:#999; text-align:center; vertical-align:middle\">28</td> <td style=\"font-weight: bold; font-size:17px; text-align:left; padding-left:10px; padding-top:5px; padding-bottom:5px\">Gaur</td> <td style=\" font-size:17px; text-align:left; padding-left:10px; padding-top:5px; padding-bottom:5px\">27,325</td> </tr> <tr> <td style=\"color:#999; text-align:center; vertical-align:middle\">29</td> <td style=\"font-weight: bold; font-size:17px; text-align:left; padding-left:10px; padding-top:5px; padding-bottom:5px\">Siraha</td> <td style=\" font-size:17px; text-align:left; padding-left:10px; padding-top:5px; padding-bottom:5px\">24,657</td> </tr> <tr> <td style=\"color:#999; text-align:center; vertical-align:middle\">30</td> <td style=\"font-weight: bold; font-size:17px; text-align:left; padding-left:10px; padding-top:5px; padding-bottom:5px\">Tansen</td> <td style=\" font-size:17px; text-align:left; padding-left:10px; padding-top:5px; padding-bottom:5px\">23,693</td> </tr> <tr> <td style=\"color:#999; text-align:center; vertical-align:middle\">31</td> <td style=\"font-weight: bold; font-size:17px; text-align:left; padding-left:10px; padding-top:5px; padding-bottom:5px\">Jaleshwar</td> <td style=\" font-size:17px; text-align:left; padding-left:10px; padding-top:5px; padding-bottom:5px\">23,573</td> </tr> <tr> <td style=\"color:#999; text-align:center; vertical-align:middle\">32</td> <td style=\"font-weight: bold; font-size:17px; text-align:left; padding-left:10px; padding-top:5px; padding-bottom:5px\">Dipayal</td> <td style=\" font-size:17px; text-align:left; padding-left:10px; padding-top:5px; padding-bottom:5px\">23,416</td> </tr> <tr> <td style=\"color:#999; text-align:center; vertical-align:middle\">33</td> <td style=\"font-weight: bold; font-size:17px; text-align:left; padding-left:10px; padding-top:5px; padding-bottom:5px\">Baglung</td> <td style=\" font-size:17px; text-align:left; padding-left:10px; padding-top:5px; padding-bottom:5px\">23,296</td> </tr> <tr> <td style=\"color:#999; text-align:center; vertical-align:middle\">34</td> <td style=\"font-weight: bold; font-size:17px; text-align:left; padding-left:10px; padding-top:5px; padding-bottom:5px\">Khanbari</td> <td style=\" font-size:17px; text-align:left; padding-left:10px; padding-top:5px; padding-bottom:5px\">22,903</td> </tr> <tr> <td style=\"color:#999; text-align:center; vertical-align:middle\">35</td> <td style=\"font-weight: bold; font-size:17px; text-align:left; padding-left:10px; padding-top:5px; padding-bottom:5px\">Dhankuta</td> <td style=\" font-size:17px; text-align:left; padding-left:10px; padding-top:5px; padding-bottom:5px\">22,084</td> </tr> <tr> <td style=\"color:#999; text-align:center; vertical-align:middle\">36</td> <td style=\"font-weight: bold; font-size:17px; text-align:left; padding-left:10px; padding-top:5px; padding-bottom:5px\">Walin</td> <td style=\" font-size:17px; text-align:left; padding-left:10px; padding-top:5px; padding-bottom:5px\">21,867</td> </tr> <tr> <td style=\"color:#999; text-align:center; vertical-align:middle\">37</td> <td style=\"font-weight: bold; font-size:17px; text-align:left; padding-left:10px; padding-top:5px; padding-bottom:5px\">Dailekh</td> <td style=\" font-size:17px; text-align:left; padding-left:10px; padding-top:5px; padding-bottom:5px\">20,908</td> </tr> <tr> <td style=\"color:#999; text-align:center; vertical-align:middle\">38</td> <td style=\"font-weight: bold; font-size:17px; text-align:left; padding-left:10px; padding-top:5px; padding-bottom:5px\">Malangawa</td> <td style=\" font-size:17px; text-align:left; padding-left:10px; padding-top:5px; padding-bottom:5px\">20,284</td> </tr> <tr> <td style=\"color:#999; text-align:center; vertical-align:middle\">39</td> <td style=\"font-weight: bold; font-size:17px; text-align:left; padding-left:10px; padding-top:5px; padding-bottom:5px\">Bhadrapur</td> <td style=\" font-size:17px; text-align:left; padding-left:10px; padding-top:5px; padding-bottom:5px\">19,523</td> </tr> <tr> <td style=\"color:#999; text-align:center; vertical-align:middle\">40</td> <td style=\"font-weight: bold; font-size:17px; text-align:left; padding-left:10px; padding-top:5px; padding-bottom:5px\">Dadeldhura</td> <td style=\" font-size:17px; text-align:left; padding-left:10px; padding-top:5px; padding-bottom:5px\">19,014</td> </tr> <tr> <td style=\"color:#999; text-align:center; vertical-align:middle\">41</td> <td style=\"font-weight: bold; font-size:17px; text-align:left; padding-left:10px; padding-top:5px; padding-bottom:5px\">Darchula</td> <td style=\" font-size:17px; text-align:left; padding-left:10px; padding-top:5px; padding-bottom:5px\">18,317</td> </tr> <tr> <td style=\"color:#999; text-align:center; vertical-align:middle\">42</td> <td style=\"font-weight: bold; font-size:17px; text-align:left; padding-left:10px; padding-top:5px; padding-bottom:5px\">Ilam</td> <td style=\" font-size:17px; text-align:left; padding-left:10px; padding-top:5px; padding-bottom:5px\">17,491</td> </tr> <tr> <td style=\"color:#999; text-align:center; vertical-align:middle\">43</td> <td style=\"font-weight: bold; font-size:17px; text-align:left; padding-left:10px; padding-top:5px; padding-bottom:5px\">Banepa</td> <td style=\" font-size:17px; text-align:left; padding-left:10px; padding-top:5px; padding-bottom:5px\">17,153</td> </tr> <tr> <td style=\"color:#999; text-align:center; vertical-align:middle\">44</td> <td style=\"font-weight: bold; font-size:17px; text-align:left; padding-left:10px; padding-top:5px; padding-bottom:5px\">Dhulikhel</td> <td style=\" font-size:17px; text-align:left; padding-left:10px; padding-top:5px; padding-bottom:5px\">16,263</td> </tr> </tbody></table><br></div> <!-- see also --><h3>See also</h3> <div class=\"spaced\"><ul> <li><a href=\"/demographics/nepal-demographics/\"><strong>Demographics of Nepal</strong></a></li> <ul><li><strong><a href=\"/demographics/nepal-demographics/#median-age\">Median Age</a> </strong>(Historical Chart)</li><li><strong><a href=\"/demographics/nepal-demographics/#tfr\">Total Fertility Rate</a> </strong>(Historical Chart)</li><li><strong><a href=\"/demographics/nepal-demographics/#urb\">Urban vs. Rural Population</a></strong> (Historical Chart)</li></ul> <li><a href=\"/gdp/nepal-gdp/\">Gross Domestic Product (GDP) of Nepal</a></li> <li><a href=\"/world-population/asia-population/\">Asia Population</a></li> <li><a href=\"/world-population/\">World Population</a></li> <li><a href=\"/world-map/\">World Map</a></li> <li><a href=\"/world-population/population-by-country/\">World Population by Country</a></li> </ul> </div><!-- see also --> <div align=\"right\"><a href=\"#\" class=\"morelink\">back to top ↑</a></div> <div style=\"color:#777; padding:10px; background-color:rgb(250,250,250); border-top:1px solid #eee; border-bottom:1px solid #eee; font-size:13px; line-height:130%\"> <h3>Notes</h3> <p>The <strong>Nepal Population (Live)</strong> counter shows a continuously updated estimate of the current population of Nepal delivered by <a href=\"/licensing/what/\">Worldometer\\'s RTS algorithm</a>, which processes data collected from the United Nations Population Division.</p> <p>The <strong>Population of Nepal (1950 - 2023)</strong> chart plots the total population count as of July 1 of each year, from 1950 to 2023.</p> The <strong>Yearly Population Growth Rate </strong>chart plots the annual percentage changes in population registered on July 1 of each year, from 1951 to 2023. This value can differ from the <em>Yearly % Change</em> shown in the historical table, which shows the last year equivalent percentage change assuming homogeneous change in the preceding five year period. <br> <br> <h3>Definitions</h3> <p><strong>Year</strong>: as of July 1 of the year indicated.</p> <p><strong>Population</strong>: Overall total population (both sexes and all ages) in the country as of July 1 of the year indicated, as estimated by the United Nations, Department of Economic and Social Affairs, Population Division. <a href=\"https://esa.un.org/unpd/wpp/\"><span class=\"source-table-elab\"><a href=\"https://population.un.org/wpp/\">World Population Prospects: The 2022 Revision</a></span></a>. For forecasted years, the U.N. medium-fertility variant is used. </p> <button type=\"button\" class=\"btn btn-success\" data-toggle=\"collapse\" data-target=\"#demo\">Read More Definitions...</button> <div id=\"demo\" class=\"collapse\"><br> <p><strong>Yearly % Change</strong>: For 2023: percentage change in total population over the last year (from July 1, 2022 to June 30 2023). For all other years: latest year annual percentage change equivalent assuming homogeneous change in the preceding five year period, calculated through reverse compounding. </p> <p><strong>Yearly Change</strong>: For 2023: absolute change in total population (increase or decrease in number of people) over the last year (from July 1, 2022 to June 30 2023). For all other years: average annual numerical change over the preceding five year period.</p> <p><strong>Migrants (net)</strong>: The average annual number of immigrants minus the number of emigrants over the preceding five year period (running from July 1 to June 30 of the initial and final years), or subsequent five year period (for 2016 data). A negative number means that there are more emigrants than immigrants. </p> <p><strong>Median Age</strong>: age that divides the population into two numerically equal groups: half of the people are older than the median age indicated and half are younger. This parameter provides an indication of age distribution.</p> <p><strong>Fertility Rate</strong>: (Total Fertility Rate, or TFR), it is expressed as children per woman. It is calculated as the average number of children an average woman will have during her reproductive period (15 to 49 years old) based on the current <a href=\"http://www.un.org/esa/population/publications/WFD2012/Metadata/Metadata_ASFR.html\">fertility rates</a> of every age group in the country, and assuming she is not subject to mortality.</p> <p><strong>Density (P/Km²)</strong>: (Population Density) Population per square Kilometer (Km²).</p> <p><strong>Urban Pop % </strong>: Urban population as a percentage of total population.</p> <p><strong>Urban Population</strong>: Population living in areas classified as urban according to the criteria used by each country.</p> <p><strong>Country\\'s Share of World Pop</strong>: Total population in the country as a percentage of total World Population as of July 1 of the year indicated.</p> <p><strong>World Population</strong>: Total World Population as of July 1 of the year indicated.</p> <p><strong>Global Rank</strong>: Position held by Nepal in the list of all countries worldwide ranked by population (from the highest population to the lowest population) as of July 1 of the year indicated. </p></div></div> </div><!-- content c --></div></div><div class=\"sharewrap\"><span class=\"share-text\">Share This!</span> <div class=\"addthis_responsive_sharing\"></div></div><div style=\"margin-top:80px\"></div></div> <!--=== Closed TOP Content Container ===--> <footer><div class=\"footerlinks\"><div style=\"margin-bottom:20px\"><a href=\"/\"><img src=\"/img/worldometers-logo-footer.png\" border=\"0\" class=\"img-footer\"></a></div><a href=\"/about/\">about</a> | <a href=\"/faq/\">faq</a> | <a href=\"/languages/\">languages</a> | <a href=\"/contact/\">contact</a></div><ul class=\"list-inline text-center socialbuttons\"><li><a href=\"/newsletter-subscribe/\" data-toggle=\"tooltip\" data-placement=\"bottom\" title=\"Newsletter\"><i class=\"fa fa-bullhorn fa-round\"></i></a></li> <li><a href=\"https://twitter.com/Worldometers\"><i class=\"fa fa-twitter fa-round\"></i></a></li> <li><a href=\"https://www.facebook.com/Worldometers.info\"><i class=\"fa fa-facebook fa-round\"></i></a></li></ul> <div class=\"copy\">&copy; Copyright Worldometers.info - All rights reserved - <a href=\"/disclaimer/\">Disclaimer & Privacy Policy</a></div></footer><!-- ADDTHIS--><script type=\"text/javascript\" src=\"//s7.addthis.com/js/300/addthis_widget.js#pubid=ra-54615fa823b2af68\" async=\"async\"></script> <!-- PAGEFAIR --><script type=\"text/javascript\"> (function() { function async_load(script_url){ var protocol = (\\'https:\\' == document.location.protocol ? \\'https://\\' : \\'http://\\'); var s = document.createElement(\\'script\\'); s.src = protocol + script_url; var x = document.getElementsByTagName(\\'script\\')[0]; x.parentNode.insertBefore(s, x); } bm_website_code = \\'7849CD9451D34931\\'; jQuery(document).ready(function(){async_load(\\'asset.pagefair.com/measure.min.js\\')}); jQuery(document).ready(function(){async_load(\\'asset.pagefair.net/ads.min.js\\')}); })();</script> <!-- PAGEFAIR --> <!-- Quantcast Tag --><script type=\"text/javascript\">var _qevents = _qevents || [];\\n(function() {\\nvar elem = document.createElement(\\'script\\');\\nelem.src = (document.location.protocol == \"https:\" ? \"https://secure\" : \"http://edge\") + \".quantserve.com/quant.js\";\\nelem.async = true;\\nelem.type = \"text/javascript\";\\nvar scpt = document.getElementsByTagName(\\'script\\')[0];\\nscpt.parentNode.insertBefore(elem, scpt);\\n})();\\n_qevents.push({\\nqacct:\"p-Pd9JxUkvV0m7q\"\\n});</script><noscript><div style=\"display:none;\"><img src=\"//pixel.quantserve.com/pixel/p-Pd9JxUkvV0m7q.gif\" border=\"0\" height=\"1\" width=\"1\" alt=\"Quantcast\"/></div></noscript><!-- End Quantcast tag --></body></html>'"
            ],
            "application/vnd.google.colaboratory.intrinsic+json": {
              "type": "string"
            }
          },
          "metadata": {},
          "execution_count": 9
        }
      ]
    },
    {
      "cell_type": "code",
      "source": [
        "soup = BeautifulSoup(soup.text, \"lxml\")\n",
        "table_code = soup.table\n",
        "table_code\n",
        "\n"
      ],
      "metadata": {
        "id": "ktJu90mY58w2",
        "colab": {
          "base_uri": "https://localhost:8080/"
        },
        "outputId": "474cb437-edde-41c4-add9-8421ce6b54d2"
      },
      "execution_count": null,
      "outputs": [
        {
          "output_type": "execute_result",
          "data": {
            "text/plain": [
              "<table border=\"0\" cellpadding=\"0\" width=\"100%\"> <tr> <td> <div class=\"chart-header\">Nepal Population (1950 - 2024)</div> <div class=\"chart-pop\" id=\"chart_pop\"></div></td> </tr> <tr> <td><div class=\"chart-header\">Yearly Population Growth Rate (%) </div> <div class=\"chart-pop-rate\" id=\"chart_pop_rate\"></div></td> </tr> </table>"
            ]
          },
          "metadata": {},
          "execution_count": 10
        }
      ]
    },
    {
      "cell_type": "code",
      "source": [
        "tags = table_code.find_all('tr')\n",
        "tags"
      ],
      "metadata": {
        "colab": {
          "base_uri": "https://localhost:8080/"
        },
        "id": "PVgOPJLz7rbT",
        "outputId": "161aa0dd-9c40-4351-b154-a266230e59ac"
      },
      "execution_count": null,
      "outputs": [
        {
          "output_type": "execute_result",
          "data": {
            "text/plain": [
              "[<tr> <td> <div class=\"chart-header\">Nepal Population (1950 - 2024)</div> <div class=\"chart-pop\" id=\"chart_pop\"></div></td> </tr>,\n",
              " <tr> <td><div class=\"chart-header\">Yearly Population Growth Rate (%) </div> <div class=\"chart-pop-rate\" id=\"chart_pop_rate\"></div></td> </tr>]"
            ]
          },
          "metadata": {},
          "execution_count": 11
        }
      ]
    },
    {
      "cell_type": "code",
      "source": [
        "data = []\n",
        "for i in tags:\n",
        "   y = i.text.split('\\n')[1:]\n",
        "   if len(y) > 0 and y[0] != \"\":\n",
        "    data.append(y)\n"
      ],
      "metadata": {
        "id": "5pVKVGSRaquv"
      },
      "execution_count": null,
      "outputs": []
    },
    {
      "cell_type": "code",
      "source": [
        "import csv\n",
        "file = open('smoking.csv','w')\n",
        "x = csv.writer(file)\n",
        "x.writerows(data)\n",
        "file.close()"
      ],
      "metadata": {
        "id": "TTkvtCy8AdJX"
      },
      "execution_count": null,
      "outputs": []
    },
    {
      "cell_type": "code",
      "source": [
        "from google.colab import drive\n",
        "drive.mount('/content/drive')"
      ],
      "metadata": {
        "colab": {
          "base_uri": "https://localhost:8080/"
        },
        "id": "XayhBPNwb9uo",
        "outputId": "51da8307-a74d-4b78-b4fb-3ae9913c55a7"
      },
      "execution_count": null,
      "outputs": [
        {
          "output_type": "stream",
          "name": "stdout",
          "text": [
            "Mounted at /content/drive\n"
          ]
        }
      ]
    },
    {
      "cell_type": "code",
      "source": [
        "import pandas as pd\n",
        "df = pd.read_csv('/content/drive/MyDrive/Data_Science/smoking.csv',encoding = \"latin1\")\n",
        "df"
      ],
      "metadata": {
        "colab": {
          "base_uri": "https://localhost:8080/",
          "height": 423
        },
        "id": "2n_0w6bTcVPk",
        "outputId": "909130c2-3186-4c70-e83e-c2dda9c24513"
      },
      "execution_count": 25,
      "outputs": [
        {
          "output_type": "execute_result",
          "data": {
            "text/plain": [
              "      age   sex current_smoker  heart_rate blood_pressure  cigs_per_day   chol\n",
              "0      54  male            yes          95         110/72           NaN  219.0\n",
              "1      45  male            yes          64         121/72           NaN  248.0\n",
              "2      58  male            yes          81       127.5/76           NaN  235.0\n",
              "3      42  male            yes          90       122.5/80           NaN  225.0\n",
              "4      42  male            yes          62         119/80           NaN  226.0\n",
              "...   ...   ...            ...         ...            ...           ...    ...\n",
              "3895   37  male            yes          88     122.5/82.5          60.0  254.0\n",
              "3896   49  male            yes          70         123/75          60.0  213.0\n",
              "3897   56  male            yes          70         125/79          60.0  246.0\n",
              "3898   50  male            yes          85         134/95          60.0  340.0\n",
              "3899   40  male            yes          98         132/86          70.0  210.0\n",
              "\n",
              "[3900 rows x 7 columns]"
            ],
            "text/html": [
              "\n",
              "  <div id=\"df-1dead7ba-cc28-4f42-8310-1aa66172aee2\" class=\"colab-df-container\">\n",
              "    <div>\n",
              "<style scoped>\n",
              "    .dataframe tbody tr th:only-of-type {\n",
              "        vertical-align: middle;\n",
              "    }\n",
              "\n",
              "    .dataframe tbody tr th {\n",
              "        vertical-align: top;\n",
              "    }\n",
              "\n",
              "    .dataframe thead th {\n",
              "        text-align: right;\n",
              "    }\n",
              "</style>\n",
              "<table border=\"1\" class=\"dataframe\">\n",
              "  <thead>\n",
              "    <tr style=\"text-align: right;\">\n",
              "      <th></th>\n",
              "      <th>age</th>\n",
              "      <th>sex</th>\n",
              "      <th>current_smoker</th>\n",
              "      <th>heart_rate</th>\n",
              "      <th>blood_pressure</th>\n",
              "      <th>cigs_per_day</th>\n",
              "      <th>chol</th>\n",
              "    </tr>\n",
              "  </thead>\n",
              "  <tbody>\n",
              "    <tr>\n",
              "      <th>0</th>\n",
              "      <td>54</td>\n",
              "      <td>male</td>\n",
              "      <td>yes</td>\n",
              "      <td>95</td>\n",
              "      <td>110/72</td>\n",
              "      <td>NaN</td>\n",
              "      <td>219.0</td>\n",
              "    </tr>\n",
              "    <tr>\n",
              "      <th>1</th>\n",
              "      <td>45</td>\n",
              "      <td>male</td>\n",
              "      <td>yes</td>\n",
              "      <td>64</td>\n",
              "      <td>121/72</td>\n",
              "      <td>NaN</td>\n",
              "      <td>248.0</td>\n",
              "    </tr>\n",
              "    <tr>\n",
              "      <th>2</th>\n",
              "      <td>58</td>\n",
              "      <td>male</td>\n",
              "      <td>yes</td>\n",
              "      <td>81</td>\n",
              "      <td>127.5/76</td>\n",
              "      <td>NaN</td>\n",
              "      <td>235.0</td>\n",
              "    </tr>\n",
              "    <tr>\n",
              "      <th>3</th>\n",
              "      <td>42</td>\n",
              "      <td>male</td>\n",
              "      <td>yes</td>\n",
              "      <td>90</td>\n",
              "      <td>122.5/80</td>\n",
              "      <td>NaN</td>\n",
              "      <td>225.0</td>\n",
              "    </tr>\n",
              "    <tr>\n",
              "      <th>4</th>\n",
              "      <td>42</td>\n",
              "      <td>male</td>\n",
              "      <td>yes</td>\n",
              "      <td>62</td>\n",
              "      <td>119/80</td>\n",
              "      <td>NaN</td>\n",
              "      <td>226.0</td>\n",
              "    </tr>\n",
              "    <tr>\n",
              "      <th>...</th>\n",
              "      <td>...</td>\n",
              "      <td>...</td>\n",
              "      <td>...</td>\n",
              "      <td>...</td>\n",
              "      <td>...</td>\n",
              "      <td>...</td>\n",
              "      <td>...</td>\n",
              "    </tr>\n",
              "    <tr>\n",
              "      <th>3895</th>\n",
              "      <td>37</td>\n",
              "      <td>male</td>\n",
              "      <td>yes</td>\n",
              "      <td>88</td>\n",
              "      <td>122.5/82.5</td>\n",
              "      <td>60.0</td>\n",
              "      <td>254.0</td>\n",
              "    </tr>\n",
              "    <tr>\n",
              "      <th>3896</th>\n",
              "      <td>49</td>\n",
              "      <td>male</td>\n",
              "      <td>yes</td>\n",
              "      <td>70</td>\n",
              "      <td>123/75</td>\n",
              "      <td>60.0</td>\n",
              "      <td>213.0</td>\n",
              "    </tr>\n",
              "    <tr>\n",
              "      <th>3897</th>\n",
              "      <td>56</td>\n",
              "      <td>male</td>\n",
              "      <td>yes</td>\n",
              "      <td>70</td>\n",
              "      <td>125/79</td>\n",
              "      <td>60.0</td>\n",
              "      <td>246.0</td>\n",
              "    </tr>\n",
              "    <tr>\n",
              "      <th>3898</th>\n",
              "      <td>50</td>\n",
              "      <td>male</td>\n",
              "      <td>yes</td>\n",
              "      <td>85</td>\n",
              "      <td>134/95</td>\n",
              "      <td>60.0</td>\n",
              "      <td>340.0</td>\n",
              "    </tr>\n",
              "    <tr>\n",
              "      <th>3899</th>\n",
              "      <td>40</td>\n",
              "      <td>male</td>\n",
              "      <td>yes</td>\n",
              "      <td>98</td>\n",
              "      <td>132/86</td>\n",
              "      <td>70.0</td>\n",
              "      <td>210.0</td>\n",
              "    </tr>\n",
              "  </tbody>\n",
              "</table>\n",
              "<p>3900 rows × 7 columns</p>\n",
              "</div>\n",
              "    <div class=\"colab-df-buttons\">\n",
              "\n",
              "  <div class=\"colab-df-container\">\n",
              "    <button class=\"colab-df-convert\" onclick=\"convertToInteractive('df-1dead7ba-cc28-4f42-8310-1aa66172aee2')\"\n",
              "            title=\"Convert this dataframe to an interactive table.\"\n",
              "            style=\"display:none;\">\n",
              "\n",
              "  <svg xmlns=\"http://www.w3.org/2000/svg\" height=\"24px\" viewBox=\"0 -960 960 960\">\n",
              "    <path d=\"M120-120v-720h720v720H120Zm60-500h600v-160H180v160Zm220 220h160v-160H400v160Zm0 220h160v-160H400v160ZM180-400h160v-160H180v160Zm440 0h160v-160H620v160ZM180-180h160v-160H180v160Zm440 0h160v-160H620v160Z\"/>\n",
              "  </svg>\n",
              "    </button>\n",
              "\n",
              "  <style>\n",
              "    .colab-df-container {\n",
              "      display:flex;\n",
              "      gap: 12px;\n",
              "    }\n",
              "\n",
              "    .colab-df-convert {\n",
              "      background-color: #E8F0FE;\n",
              "      border: none;\n",
              "      border-radius: 50%;\n",
              "      cursor: pointer;\n",
              "      display: none;\n",
              "      fill: #1967D2;\n",
              "      height: 32px;\n",
              "      padding: 0 0 0 0;\n",
              "      width: 32px;\n",
              "    }\n",
              "\n",
              "    .colab-df-convert:hover {\n",
              "      background-color: #E2EBFA;\n",
              "      box-shadow: 0px 1px 2px rgba(60, 64, 67, 0.3), 0px 1px 3px 1px rgba(60, 64, 67, 0.15);\n",
              "      fill: #174EA6;\n",
              "    }\n",
              "\n",
              "    .colab-df-buttons div {\n",
              "      margin-bottom: 4px;\n",
              "    }\n",
              "\n",
              "    [theme=dark] .colab-df-convert {\n",
              "      background-color: #3B4455;\n",
              "      fill: #D2E3FC;\n",
              "    }\n",
              "\n",
              "    [theme=dark] .colab-df-convert:hover {\n",
              "      background-color: #434B5C;\n",
              "      box-shadow: 0px 1px 3px 1px rgba(0, 0, 0, 0.15);\n",
              "      filter: drop-shadow(0px 1px 2px rgba(0, 0, 0, 0.3));\n",
              "      fill: #FFFFFF;\n",
              "    }\n",
              "  </style>\n",
              "\n",
              "    <script>\n",
              "      const buttonEl =\n",
              "        document.querySelector('#df-1dead7ba-cc28-4f42-8310-1aa66172aee2 button.colab-df-convert');\n",
              "      buttonEl.style.display =\n",
              "        google.colab.kernel.accessAllowed ? 'block' : 'none';\n",
              "\n",
              "      async function convertToInteractive(key) {\n",
              "        const element = document.querySelector('#df-1dead7ba-cc28-4f42-8310-1aa66172aee2');\n",
              "        const dataTable =\n",
              "          await google.colab.kernel.invokeFunction('convertToInteractive',\n",
              "                                                    [key], {});\n",
              "        if (!dataTable) return;\n",
              "\n",
              "        const docLinkHtml = 'Like what you see? Visit the ' +\n",
              "          '<a target=\"_blank\" href=https://colab.research.google.com/notebooks/data_table.ipynb>data table notebook</a>'\n",
              "          + ' to learn more about interactive tables.';\n",
              "        element.innerHTML = '';\n",
              "        dataTable['output_type'] = 'display_data';\n",
              "        await google.colab.output.renderOutput(dataTable, element);\n",
              "        const docLink = document.createElement('div');\n",
              "        docLink.innerHTML = docLinkHtml;\n",
              "        element.appendChild(docLink);\n",
              "      }\n",
              "    </script>\n",
              "  </div>\n",
              "\n",
              "\n",
              "<div id=\"df-cdb1d411-73e7-4971-ac73-16790092fc99\">\n",
              "  <button class=\"colab-df-quickchart\" onclick=\"quickchart('df-cdb1d411-73e7-4971-ac73-16790092fc99')\"\n",
              "            title=\"Suggest charts\"\n",
              "            style=\"display:none;\">\n",
              "\n",
              "<svg xmlns=\"http://www.w3.org/2000/svg\" height=\"24px\"viewBox=\"0 0 24 24\"\n",
              "     width=\"24px\">\n",
              "    <g>\n",
              "        <path d=\"M19 3H5c-1.1 0-2 .9-2 2v14c0 1.1.9 2 2 2h14c1.1 0 2-.9 2-2V5c0-1.1-.9-2-2-2zM9 17H7v-7h2v7zm4 0h-2V7h2v10zm4 0h-2v-4h2v4z\"/>\n",
              "    </g>\n",
              "</svg>\n",
              "  </button>\n",
              "\n",
              "<style>\n",
              "  .colab-df-quickchart {\n",
              "      --bg-color: #E8F0FE;\n",
              "      --fill-color: #1967D2;\n",
              "      --hover-bg-color: #E2EBFA;\n",
              "      --hover-fill-color: #174EA6;\n",
              "      --disabled-fill-color: #AAA;\n",
              "      --disabled-bg-color: #DDD;\n",
              "  }\n",
              "\n",
              "  [theme=dark] .colab-df-quickchart {\n",
              "      --bg-color: #3B4455;\n",
              "      --fill-color: #D2E3FC;\n",
              "      --hover-bg-color: #434B5C;\n",
              "      --hover-fill-color: #FFFFFF;\n",
              "      --disabled-bg-color: #3B4455;\n",
              "      --disabled-fill-color: #666;\n",
              "  }\n",
              "\n",
              "  .colab-df-quickchart {\n",
              "    background-color: var(--bg-color);\n",
              "    border: none;\n",
              "    border-radius: 50%;\n",
              "    cursor: pointer;\n",
              "    display: none;\n",
              "    fill: var(--fill-color);\n",
              "    height: 32px;\n",
              "    padding: 0;\n",
              "    width: 32px;\n",
              "  }\n",
              "\n",
              "  .colab-df-quickchart:hover {\n",
              "    background-color: var(--hover-bg-color);\n",
              "    box-shadow: 0 1px 2px rgba(60, 64, 67, 0.3), 0 1px 3px 1px rgba(60, 64, 67, 0.15);\n",
              "    fill: var(--button-hover-fill-color);\n",
              "  }\n",
              "\n",
              "  .colab-df-quickchart-complete:disabled,\n",
              "  .colab-df-quickchart-complete:disabled:hover {\n",
              "    background-color: var(--disabled-bg-color);\n",
              "    fill: var(--disabled-fill-color);\n",
              "    box-shadow: none;\n",
              "  }\n",
              "\n",
              "  .colab-df-spinner {\n",
              "    border: 2px solid var(--fill-color);\n",
              "    border-color: transparent;\n",
              "    border-bottom-color: var(--fill-color);\n",
              "    animation:\n",
              "      spin 1s steps(1) infinite;\n",
              "  }\n",
              "\n",
              "  @keyframes spin {\n",
              "    0% {\n",
              "      border-color: transparent;\n",
              "      border-bottom-color: var(--fill-color);\n",
              "      border-left-color: var(--fill-color);\n",
              "    }\n",
              "    20% {\n",
              "      border-color: transparent;\n",
              "      border-left-color: var(--fill-color);\n",
              "      border-top-color: var(--fill-color);\n",
              "    }\n",
              "    30% {\n",
              "      border-color: transparent;\n",
              "      border-left-color: var(--fill-color);\n",
              "      border-top-color: var(--fill-color);\n",
              "      border-right-color: var(--fill-color);\n",
              "    }\n",
              "    40% {\n",
              "      border-color: transparent;\n",
              "      border-right-color: var(--fill-color);\n",
              "      border-top-color: var(--fill-color);\n",
              "    }\n",
              "    60% {\n",
              "      border-color: transparent;\n",
              "      border-right-color: var(--fill-color);\n",
              "    }\n",
              "    80% {\n",
              "      border-color: transparent;\n",
              "      border-right-color: var(--fill-color);\n",
              "      border-bottom-color: var(--fill-color);\n",
              "    }\n",
              "    90% {\n",
              "      border-color: transparent;\n",
              "      border-bottom-color: var(--fill-color);\n",
              "    }\n",
              "  }\n",
              "</style>\n",
              "\n",
              "  <script>\n",
              "    async function quickchart(key) {\n",
              "      const quickchartButtonEl =\n",
              "        document.querySelector('#' + key + ' button');\n",
              "      quickchartButtonEl.disabled = true;  // To prevent multiple clicks.\n",
              "      quickchartButtonEl.classList.add('colab-df-spinner');\n",
              "      try {\n",
              "        const charts = await google.colab.kernel.invokeFunction(\n",
              "            'suggestCharts', [key], {});\n",
              "      } catch (error) {\n",
              "        console.error('Error during call to suggestCharts:', error);\n",
              "      }\n",
              "      quickchartButtonEl.classList.remove('colab-df-spinner');\n",
              "      quickchartButtonEl.classList.add('colab-df-quickchart-complete');\n",
              "    }\n",
              "    (() => {\n",
              "      let quickchartButtonEl =\n",
              "        document.querySelector('#df-cdb1d411-73e7-4971-ac73-16790092fc99 button');\n",
              "      quickchartButtonEl.style.display =\n",
              "        google.colab.kernel.accessAllowed ? 'block' : 'none';\n",
              "    })();\n",
              "  </script>\n",
              "</div>\n",
              "\n",
              "  <div id=\"id_abf5747c-98f6-42f5-a28f-cdaed267c200\">\n",
              "    <style>\n",
              "      .colab-df-generate {\n",
              "        background-color: #E8F0FE;\n",
              "        border: none;\n",
              "        border-radius: 50%;\n",
              "        cursor: pointer;\n",
              "        display: none;\n",
              "        fill: #1967D2;\n",
              "        height: 32px;\n",
              "        padding: 0 0 0 0;\n",
              "        width: 32px;\n",
              "      }\n",
              "\n",
              "      .colab-df-generate:hover {\n",
              "        background-color: #E2EBFA;\n",
              "        box-shadow: 0px 1px 2px rgba(60, 64, 67, 0.3), 0px 1px 3px 1px rgba(60, 64, 67, 0.15);\n",
              "        fill: #174EA6;\n",
              "      }\n",
              "\n",
              "      [theme=dark] .colab-df-generate {\n",
              "        background-color: #3B4455;\n",
              "        fill: #D2E3FC;\n",
              "      }\n",
              "\n",
              "      [theme=dark] .colab-df-generate:hover {\n",
              "        background-color: #434B5C;\n",
              "        box-shadow: 0px 1px 3px 1px rgba(0, 0, 0, 0.15);\n",
              "        filter: drop-shadow(0px 1px 2px rgba(0, 0, 0, 0.3));\n",
              "        fill: #FFFFFF;\n",
              "      }\n",
              "    </style>\n",
              "    <button class=\"colab-df-generate\" onclick=\"generateWithVariable('df')\"\n",
              "            title=\"Generate code using this dataframe.\"\n",
              "            style=\"display:none;\">\n",
              "\n",
              "  <svg xmlns=\"http://www.w3.org/2000/svg\" height=\"24px\"viewBox=\"0 0 24 24\"\n",
              "       width=\"24px\">\n",
              "    <path d=\"M7,19H8.4L18.45,9,17,7.55,7,17.6ZM5,21V16.75L18.45,3.32a2,2,0,0,1,2.83,0l1.4,1.43a1.91,1.91,0,0,1,.58,1.4,1.91,1.91,0,0,1-.58,1.4L9.25,21ZM18.45,9,17,7.55Zm-12,3A5.31,5.31,0,0,0,4.9,8.1,5.31,5.31,0,0,0,1,6.5,5.31,5.31,0,0,0,4.9,4.9,5.31,5.31,0,0,0,6.5,1,5.31,5.31,0,0,0,8.1,4.9,5.31,5.31,0,0,0,12,6.5,5.46,5.46,0,0,0,6.5,12Z\"/>\n",
              "  </svg>\n",
              "    </button>\n",
              "    <script>\n",
              "      (() => {\n",
              "      const buttonEl =\n",
              "        document.querySelector('#id_abf5747c-98f6-42f5-a28f-cdaed267c200 button.colab-df-generate');\n",
              "      buttonEl.style.display =\n",
              "        google.colab.kernel.accessAllowed ? 'block' : 'none';\n",
              "\n",
              "      buttonEl.onclick = () => {\n",
              "        google.colab.notebook.generateWithVariable('df');\n",
              "      }\n",
              "      })();\n",
              "    </script>\n",
              "  </div>\n",
              "\n",
              "    </div>\n",
              "  </div>\n"
            ],
            "application/vnd.google.colaboratory.intrinsic+json": {
              "type": "dataframe",
              "variable_name": "df",
              "summary": "{\n  \"name\": \"df\",\n  \"rows\": 3900,\n  \"fields\": [\n    {\n      \"column\": \"age\",\n      \"properties\": {\n        \"dtype\": \"number\",\n        \"std\": 8,\n        \"min\": 32,\n        \"max\": 70,\n        \"num_unique_values\": 39,\n        \"samples\": [\n          66,\n          69,\n          57\n        ],\n        \"semantic_type\": \"\",\n        \"description\": \"\"\n      }\n    },\n    {\n      \"column\": \"sex\",\n      \"properties\": {\n        \"dtype\": \"category\",\n        \"num_unique_values\": 2,\n        \"samples\": [\n          \"female\",\n          \"male\"\n        ],\n        \"semantic_type\": \"\",\n        \"description\": \"\"\n      }\n    },\n    {\n      \"column\": \"current_smoker\",\n      \"properties\": {\n        \"dtype\": \"category\",\n        \"num_unique_values\": 2,\n        \"samples\": [\n          \"no\",\n          \"yes\"\n        ],\n        \"semantic_type\": \"\",\n        \"description\": \"\"\n      }\n    },\n    {\n      \"column\": \"heart_rate\",\n      \"properties\": {\n        \"dtype\": \"number\",\n        \"std\": 12,\n        \"min\": 44,\n        \"max\": 143,\n        \"num_unique_values\": 73,\n        \"samples\": [\n          62,\n          45\n        ],\n        \"semantic_type\": \"\",\n        \"description\": \"\"\n      }\n    },\n    {\n      \"column\": \"blood_pressure\",\n      \"properties\": {\n        \"dtype\": \"string\",\n        \"num_unique_values\": 2317,\n        \"samples\": [\n          \"157/86\",\n          \"134.5/89\"\n        ],\n        \"semantic_type\": \"\",\n        \"description\": \"\"\n      }\n    },\n    {\n      \"column\": \"cigs_per_day\",\n      \"properties\": {\n        \"dtype\": \"number\",\n        \"std\": 12.037998581628486,\n        \"min\": 0.0,\n        \"max\": 70.0,\n        \"num_unique_values\": 33,\n        \"samples\": [\n          60.0,\n          15.0\n        ],\n        \"semantic_type\": \"\",\n        \"description\": \"\"\n      }\n    },\n    {\n      \"column\": \"chol\",\n      \"properties\": {\n        \"dtype\": \"number\",\n        \"std\": 44.37536507637456,\n        \"min\": 113.0,\n        \"max\": 696.0,\n        \"num_unique_values\": 243,\n        \"samples\": [\n          195.0,\n          222.0\n        ],\n        \"semantic_type\": \"\",\n        \"description\": \"\"\n      }\n    }\n  ]\n}"
            }
          },
          "metadata": {},
          "execution_count": 25
        }
      ]
    },
    {
      "cell_type": "code",
      "source": [
        "x = df['age'][0:10]\n",
        "x"
      ],
      "metadata": {
        "id": "okGL8yecDWbR",
        "colab": {
          "base_uri": "https://localhost:8080/"
        },
        "outputId": "b4e3f02b-c118-42f3-b9d0-46bffde1d376"
      },
      "execution_count": 32,
      "outputs": [
        {
          "output_type": "execute_result",
          "data": {
            "text/plain": [
              "0    54\n",
              "1    45\n",
              "2    58\n",
              "3    42\n",
              "4    42\n",
              "5    57\n",
              "6    43\n",
              "7    42\n",
              "8    37\n",
              "9    49\n",
              "Name: age, dtype: int64"
            ]
          },
          "metadata": {},
          "execution_count": 32
        }
      ]
    },
    {
      "cell_type": "code",
      "source": [
        "import pandas as pd\n",
        "\n",
        "# Extracting the first 10 rows of 'current_smoker' column into 'y'\n",
        "y = df.loc[0:9, 'current_smoker'].copy()  # Use .copy() to create a copy of the extracted data\n",
        "\n",
        "# Removing commas (if present) from each element in 'y'\n",
        "y = [i.replace(',', '') for i in y]\n",
        "\n",
        "# Assigning the modified values back to the first 10 rows of 'current_smoker' column using .loc\n",
        "df.loc[0:9, 'current_smoker'] = y\n",
        "\n",
        "print(df.head(10))\n"
      ],
      "metadata": {
        "colab": {
          "base_uri": "https://localhost:8080/"
        },
        "id": "BOQOyI7LhuvA",
        "outputId": "9f4737cc-4a78-48a4-e20a-a9458228cc8a"
      },
      "execution_count": 36,
      "outputs": [
        {
          "output_type": "stream",
          "name": "stdout",
          "text": [
            "   age   sex current_smoker  heart_rate blood_pressure  cigs_per_day   chol\n",
            "0   54  male            yes          95         110/72           NaN  219.0\n",
            "1   45  male            yes          64         121/72           NaN  248.0\n",
            "2   58  male            yes          81       127.5/76           NaN  235.0\n",
            "3   42  male            yes          90       122.5/80           NaN  225.0\n",
            "4   42  male            yes          62         119/80           NaN  226.0\n",
            "5   57  male            yes          62     107.5/72.5           NaN  223.0\n",
            "6   43  male            yes          75       109.5/69           NaN  222.0\n",
            "7   42  male            yes          66         123/73           NaN  196.0\n",
            "8   37  male            yes          65       123.5/77           NaN  188.0\n",
            "9   49  male            yes          93     127.5/81.5           NaN  256.0\n"
          ]
        }
      ]
    },
    {
      "cell_type": "code",
      "source": [],
      "metadata": {
        "id": "cD_cNWV3bRMm"
      },
      "execution_count": 39,
      "outputs": []
    },
    {
      "cell_type": "code",
      "source": [
        "df"
      ],
      "metadata": {
        "id": "JyOQYDLudmcu"
      },
      "execution_count": null,
      "outputs": []
    },
    {
      "cell_type": "code",
      "source": [
        "!pip install plotly==5.19.0"
      ],
      "metadata": {
        "id": "pj08NgDpcpXt",
        "colab": {
          "base_uri": "https://localhost:8080/"
        },
        "outputId": "d7907943-e6a9-42a4-c5d8-f4114a2216db"
      },
      "execution_count": 40,
      "outputs": [
        {
          "output_type": "stream",
          "name": "stdout",
          "text": [
            "Collecting plotly==5.19.0\n",
            "  Downloading plotly-5.19.0-py3-none-any.whl (15.7 MB)\n",
            "\u001b[2K     \u001b[90m━━━━━━━━━━━━━━━━━━━━━━━━━━━━━━━━━━━━━━━━\u001b[0m \u001b[32m15.7/15.7 MB\u001b[0m \u001b[31m20.5 MB/s\u001b[0m eta \u001b[36m0:00:00\u001b[0m\n",
            "\u001b[?25hRequirement already satisfied: tenacity>=6.2.0 in /usr/local/lib/python3.10/dist-packages (from plotly==5.19.0) (8.3.0)\n",
            "Requirement already satisfied: packaging in /usr/local/lib/python3.10/dist-packages (from plotly==5.19.0) (24.0)\n",
            "Installing collected packages: plotly\n",
            "  Attempting uninstall: plotly\n",
            "    Found existing installation: plotly 5.15.0\n",
            "    Uninstalling plotly-5.15.0:\n",
            "      Successfully uninstalled plotly-5.15.0\n",
            "Successfully installed plotly-5.19.0\n"
          ]
        }
      ]
    },
    {
      "cell_type": "code",
      "source": [
        "import plotly.express as px\n",
        "fig = px.bar(df.loc[0:15], x='current_smoker', y='chol')\n",
        "fig.show()"
      ],
      "metadata": {
        "id": "pPBeuIRMbevA",
        "colab": {
          "base_uri": "https://localhost:8080/",
          "height": 542
        },
        "outputId": "8135340b-dc89-4dff-aff9-48055e59050f"
      },
      "execution_count": 61,
      "outputs": [
        {
          "output_type": "display_data",
          "data": {
            "text/html": [
              "<html>\n",
              "<head><meta charset=\"utf-8\" /></head>\n",
              "<body>\n",
              "    <div>            <script src=\"https://cdnjs.cloudflare.com/ajax/libs/mathjax/2.7.5/MathJax.js?config=TeX-AMS-MML_SVG\"></script><script type=\"text/javascript\">if (window.MathJax && window.MathJax.Hub && window.MathJax.Hub.Config) {window.MathJax.Hub.Config({SVG: {font: \"STIX-Web\"}});}</script>                <script type=\"text/javascript\">window.PlotlyConfig = {MathJaxConfig: 'local'};</script>\n",
              "        <script charset=\"utf-8\" src=\"https://cdn.plot.ly/plotly-2.29.1.min.js\"></script>                <div id=\"f12b8989-82a8-40c7-ac4e-fe3a48a45484\" class=\"plotly-graph-div\" style=\"height:525px; width:100%;\"></div>            <script type=\"text/javascript\">                                    window.PLOTLYENV=window.PLOTLYENV || {};                                    if (document.getElementById(\"f12b8989-82a8-40c7-ac4e-fe3a48a45484\")) {                    Plotly.newPlot(                        \"f12b8989-82a8-40c7-ac4e-fe3a48a45484\",                        [{\"alignmentgroup\":\"True\",\"hovertemplate\":\"current_smoker=%{x}\\u003cbr\\u003echol=%{y}\\u003cextra\\u003e\\u003c\\u002fextra\\u003e\",\"legendgroup\":\"\",\"marker\":{\"color\":\"#636efa\",\"pattern\":{\"shape\":\"\"}},\"name\":\"\",\"offsetgroup\":\"\",\"orientation\":\"v\",\"showlegend\":false,\"textposition\":\"auto\",\"x\":[\"yes\",\"yes\",\"yes\",\"yes\",\"yes\",\"yes\",\"yes\",\"yes\",\"yes\",\"yes\",\"yes\",\"yes\",\"yes\",\"yes\",\"no\",\"no\"],\"xaxis\":\"x\",\"y\":[219.0,248.0,235.0,225.0,226.0,223.0,222.0,196.0,188.0,256.0,214.0,285.0,276.0,170.0,175.0,240.0],\"yaxis\":\"y\",\"type\":\"bar\"}],                        {\"template\":{\"data\":{\"histogram2dcontour\":[{\"type\":\"histogram2dcontour\",\"colorbar\":{\"outlinewidth\":0,\"ticks\":\"\"},\"colorscale\":[[0.0,\"#0d0887\"],[0.1111111111111111,\"#46039f\"],[0.2222222222222222,\"#7201a8\"],[0.3333333333333333,\"#9c179e\"],[0.4444444444444444,\"#bd3786\"],[0.5555555555555556,\"#d8576b\"],[0.6666666666666666,\"#ed7953\"],[0.7777777777777778,\"#fb9f3a\"],[0.8888888888888888,\"#fdca26\"],[1.0,\"#f0f921\"]]}],\"choropleth\":[{\"type\":\"choropleth\",\"colorbar\":{\"outlinewidth\":0,\"ticks\":\"\"}}],\"histogram2d\":[{\"type\":\"histogram2d\",\"colorbar\":{\"outlinewidth\":0,\"ticks\":\"\"},\"colorscale\":[[0.0,\"#0d0887\"],[0.1111111111111111,\"#46039f\"],[0.2222222222222222,\"#7201a8\"],[0.3333333333333333,\"#9c179e\"],[0.4444444444444444,\"#bd3786\"],[0.5555555555555556,\"#d8576b\"],[0.6666666666666666,\"#ed7953\"],[0.7777777777777778,\"#fb9f3a\"],[0.8888888888888888,\"#fdca26\"],[1.0,\"#f0f921\"]]}],\"heatmap\":[{\"type\":\"heatmap\",\"colorbar\":{\"outlinewidth\":0,\"ticks\":\"\"},\"colorscale\":[[0.0,\"#0d0887\"],[0.1111111111111111,\"#46039f\"],[0.2222222222222222,\"#7201a8\"],[0.3333333333333333,\"#9c179e\"],[0.4444444444444444,\"#bd3786\"],[0.5555555555555556,\"#d8576b\"],[0.6666666666666666,\"#ed7953\"],[0.7777777777777778,\"#fb9f3a\"],[0.8888888888888888,\"#fdca26\"],[1.0,\"#f0f921\"]]}],\"heatmapgl\":[{\"type\":\"heatmapgl\",\"colorbar\":{\"outlinewidth\":0,\"ticks\":\"\"},\"colorscale\":[[0.0,\"#0d0887\"],[0.1111111111111111,\"#46039f\"],[0.2222222222222222,\"#7201a8\"],[0.3333333333333333,\"#9c179e\"],[0.4444444444444444,\"#bd3786\"],[0.5555555555555556,\"#d8576b\"],[0.6666666666666666,\"#ed7953\"],[0.7777777777777778,\"#fb9f3a\"],[0.8888888888888888,\"#fdca26\"],[1.0,\"#f0f921\"]]}],\"contourcarpet\":[{\"type\":\"contourcarpet\",\"colorbar\":{\"outlinewidth\":0,\"ticks\":\"\"}}],\"contour\":[{\"type\":\"contour\",\"colorbar\":{\"outlinewidth\":0,\"ticks\":\"\"},\"colorscale\":[[0.0,\"#0d0887\"],[0.1111111111111111,\"#46039f\"],[0.2222222222222222,\"#7201a8\"],[0.3333333333333333,\"#9c179e\"],[0.4444444444444444,\"#bd3786\"],[0.5555555555555556,\"#d8576b\"],[0.6666666666666666,\"#ed7953\"],[0.7777777777777778,\"#fb9f3a\"],[0.8888888888888888,\"#fdca26\"],[1.0,\"#f0f921\"]]}],\"surface\":[{\"type\":\"surface\",\"colorbar\":{\"outlinewidth\":0,\"ticks\":\"\"},\"colorscale\":[[0.0,\"#0d0887\"],[0.1111111111111111,\"#46039f\"],[0.2222222222222222,\"#7201a8\"],[0.3333333333333333,\"#9c179e\"],[0.4444444444444444,\"#bd3786\"],[0.5555555555555556,\"#d8576b\"],[0.6666666666666666,\"#ed7953\"],[0.7777777777777778,\"#fb9f3a\"],[0.8888888888888888,\"#fdca26\"],[1.0,\"#f0f921\"]]}],\"mesh3d\":[{\"type\":\"mesh3d\",\"colorbar\":{\"outlinewidth\":0,\"ticks\":\"\"}}],\"scatter\":[{\"fillpattern\":{\"fillmode\":\"overlay\",\"size\":10,\"solidity\":0.2},\"type\":\"scatter\"}],\"parcoords\":[{\"type\":\"parcoords\",\"line\":{\"colorbar\":{\"outlinewidth\":0,\"ticks\":\"\"}}}],\"scatterpolargl\":[{\"type\":\"scatterpolargl\",\"marker\":{\"colorbar\":{\"outlinewidth\":0,\"ticks\":\"\"}}}],\"bar\":[{\"error_x\":{\"color\":\"#2a3f5f\"},\"error_y\":{\"color\":\"#2a3f5f\"},\"marker\":{\"line\":{\"color\":\"#E5ECF6\",\"width\":0.5},\"pattern\":{\"fillmode\":\"overlay\",\"size\":10,\"solidity\":0.2}},\"type\":\"bar\"}],\"scattergeo\":[{\"type\":\"scattergeo\",\"marker\":{\"colorbar\":{\"outlinewidth\":0,\"ticks\":\"\"}}}],\"scatterpolar\":[{\"type\":\"scatterpolar\",\"marker\":{\"colorbar\":{\"outlinewidth\":0,\"ticks\":\"\"}}}],\"histogram\":[{\"marker\":{\"pattern\":{\"fillmode\":\"overlay\",\"size\":10,\"solidity\":0.2}},\"type\":\"histogram\"}],\"scattergl\":[{\"type\":\"scattergl\",\"marker\":{\"colorbar\":{\"outlinewidth\":0,\"ticks\":\"\"}}}],\"scatter3d\":[{\"type\":\"scatter3d\",\"line\":{\"colorbar\":{\"outlinewidth\":0,\"ticks\":\"\"}},\"marker\":{\"colorbar\":{\"outlinewidth\":0,\"ticks\":\"\"}}}],\"scattermapbox\":[{\"type\":\"scattermapbox\",\"marker\":{\"colorbar\":{\"outlinewidth\":0,\"ticks\":\"\"}}}],\"scatterternary\":[{\"type\":\"scatterternary\",\"marker\":{\"colorbar\":{\"outlinewidth\":0,\"ticks\":\"\"}}}],\"scattercarpet\":[{\"type\":\"scattercarpet\",\"marker\":{\"colorbar\":{\"outlinewidth\":0,\"ticks\":\"\"}}}],\"carpet\":[{\"aaxis\":{\"endlinecolor\":\"#2a3f5f\",\"gridcolor\":\"white\",\"linecolor\":\"white\",\"minorgridcolor\":\"white\",\"startlinecolor\":\"#2a3f5f\"},\"baxis\":{\"endlinecolor\":\"#2a3f5f\",\"gridcolor\":\"white\",\"linecolor\":\"white\",\"minorgridcolor\":\"white\",\"startlinecolor\":\"#2a3f5f\"},\"type\":\"carpet\"}],\"table\":[{\"cells\":{\"fill\":{\"color\":\"#EBF0F8\"},\"line\":{\"color\":\"white\"}},\"header\":{\"fill\":{\"color\":\"#C8D4E3\"},\"line\":{\"color\":\"white\"}},\"type\":\"table\"}],\"barpolar\":[{\"marker\":{\"line\":{\"color\":\"#E5ECF6\",\"width\":0.5},\"pattern\":{\"fillmode\":\"overlay\",\"size\":10,\"solidity\":0.2}},\"type\":\"barpolar\"}],\"pie\":[{\"automargin\":true,\"type\":\"pie\"}]},\"layout\":{\"autotypenumbers\":\"strict\",\"colorway\":[\"#636efa\",\"#EF553B\",\"#00cc96\",\"#ab63fa\",\"#FFA15A\",\"#19d3f3\",\"#FF6692\",\"#B6E880\",\"#FF97FF\",\"#FECB52\"],\"font\":{\"color\":\"#2a3f5f\"},\"hovermode\":\"closest\",\"hoverlabel\":{\"align\":\"left\"},\"paper_bgcolor\":\"white\",\"plot_bgcolor\":\"#E5ECF6\",\"polar\":{\"bgcolor\":\"#E5ECF6\",\"angularaxis\":{\"gridcolor\":\"white\",\"linecolor\":\"white\",\"ticks\":\"\"},\"radialaxis\":{\"gridcolor\":\"white\",\"linecolor\":\"white\",\"ticks\":\"\"}},\"ternary\":{\"bgcolor\":\"#E5ECF6\",\"aaxis\":{\"gridcolor\":\"white\",\"linecolor\":\"white\",\"ticks\":\"\"},\"baxis\":{\"gridcolor\":\"white\",\"linecolor\":\"white\",\"ticks\":\"\"},\"caxis\":{\"gridcolor\":\"white\",\"linecolor\":\"white\",\"ticks\":\"\"}},\"coloraxis\":{\"colorbar\":{\"outlinewidth\":0,\"ticks\":\"\"}},\"colorscale\":{\"sequential\":[[0.0,\"#0d0887\"],[0.1111111111111111,\"#46039f\"],[0.2222222222222222,\"#7201a8\"],[0.3333333333333333,\"#9c179e\"],[0.4444444444444444,\"#bd3786\"],[0.5555555555555556,\"#d8576b\"],[0.6666666666666666,\"#ed7953\"],[0.7777777777777778,\"#fb9f3a\"],[0.8888888888888888,\"#fdca26\"],[1.0,\"#f0f921\"]],\"sequentialminus\":[[0.0,\"#0d0887\"],[0.1111111111111111,\"#46039f\"],[0.2222222222222222,\"#7201a8\"],[0.3333333333333333,\"#9c179e\"],[0.4444444444444444,\"#bd3786\"],[0.5555555555555556,\"#d8576b\"],[0.6666666666666666,\"#ed7953\"],[0.7777777777777778,\"#fb9f3a\"],[0.8888888888888888,\"#fdca26\"],[1.0,\"#f0f921\"]],\"diverging\":[[0,\"#8e0152\"],[0.1,\"#c51b7d\"],[0.2,\"#de77ae\"],[0.3,\"#f1b6da\"],[0.4,\"#fde0ef\"],[0.5,\"#f7f7f7\"],[0.6,\"#e6f5d0\"],[0.7,\"#b8e186\"],[0.8,\"#7fbc41\"],[0.9,\"#4d9221\"],[1,\"#276419\"]]},\"xaxis\":{\"gridcolor\":\"white\",\"linecolor\":\"white\",\"ticks\":\"\",\"title\":{\"standoff\":15},\"zerolinecolor\":\"white\",\"automargin\":true,\"zerolinewidth\":2},\"yaxis\":{\"gridcolor\":\"white\",\"linecolor\":\"white\",\"ticks\":\"\",\"title\":{\"standoff\":15},\"zerolinecolor\":\"white\",\"automargin\":true,\"zerolinewidth\":2},\"scene\":{\"xaxis\":{\"backgroundcolor\":\"#E5ECF6\",\"gridcolor\":\"white\",\"linecolor\":\"white\",\"showbackground\":true,\"ticks\":\"\",\"zerolinecolor\":\"white\",\"gridwidth\":2},\"yaxis\":{\"backgroundcolor\":\"#E5ECF6\",\"gridcolor\":\"white\",\"linecolor\":\"white\",\"showbackground\":true,\"ticks\":\"\",\"zerolinecolor\":\"white\",\"gridwidth\":2},\"zaxis\":{\"backgroundcolor\":\"#E5ECF6\",\"gridcolor\":\"white\",\"linecolor\":\"white\",\"showbackground\":true,\"ticks\":\"\",\"zerolinecolor\":\"white\",\"gridwidth\":2}},\"shapedefaults\":{\"line\":{\"color\":\"#2a3f5f\"}},\"annotationdefaults\":{\"arrowcolor\":\"#2a3f5f\",\"arrowhead\":0,\"arrowwidth\":1},\"geo\":{\"bgcolor\":\"white\",\"landcolor\":\"#E5ECF6\",\"subunitcolor\":\"white\",\"showland\":true,\"showlakes\":true,\"lakecolor\":\"white\"},\"title\":{\"x\":0.05},\"mapbox\":{\"style\":\"light\"}}},\"xaxis\":{\"anchor\":\"y\",\"domain\":[0.0,1.0],\"title\":{\"text\":\"current_smoker\"}},\"yaxis\":{\"anchor\":\"x\",\"domain\":[0.0,1.0],\"title\":{\"text\":\"chol\"}},\"legend\":{\"tracegroupgap\":0},\"margin\":{\"t\":60},\"barmode\":\"relative\"},                        {\"responsive\": true}                    ).then(function(){\n",
              "                            \n",
              "var gd = document.getElementById('f12b8989-82a8-40c7-ac4e-fe3a48a45484');\n",
              "var x = new MutationObserver(function (mutations, observer) {{\n",
              "        var display = window.getComputedStyle(gd).display;\n",
              "        if (!display || display === 'none') {{\n",
              "            console.log([gd, 'removed!']);\n",
              "            Plotly.purge(gd);\n",
              "            observer.disconnect();\n",
              "        }}\n",
              "}});\n",
              "\n",
              "// Listen for the removal of the full notebook cells\n",
              "var notebookContainer = gd.closest('#notebook-container');\n",
              "if (notebookContainer) {{\n",
              "    x.observe(notebookContainer, {childList: true});\n",
              "}}\n",
              "\n",
              "// Listen for the clearing of the current output cell\n",
              "var outputEl = gd.closest('.output');\n",
              "if (outputEl) {{\n",
              "    x.observe(outputEl, {childList: true});\n",
              "}}\n",
              "\n",
              "                        })                };                            </script>        </div>\n",
              "</body>\n",
              "</html>"
            ]
          },
          "metadata": {}
        }
      ]
    },
    {
      "cell_type": "code",
      "source": [
        "import pandas as pd\n",
        "\n",
        "# Extract the first 10 rows of 'heart_rate' column into 'y1'\n",
        "y1 = df.loc[0:9, 'heart_rate']\n",
        "\n",
        "# Remove commas (if present) and convert to integers ( as heartrate is already in int data type we first need to convert it into str and again convert into int)\n",
        "y1 = [int(str(i).replace(',', '')) for i in y1]\n",
        "\n",
        "# Assigning the cleaned and converted values back to the first 10 rows of 'heart_rate' column using .loc\n",
        "df.loc[0:9, 'heart_rate'] = y1\n",
        "\n",
        "print(df.head(10))"
      ],
      "metadata": {
        "id": "TPHu-vogeO1B",
        "colab": {
          "base_uri": "https://localhost:8080/"
        },
        "outputId": "802a0ef3-4b7f-454c-eb19-f64ab0d883a2"
      },
      "execution_count": 58,
      "outputs": [
        {
          "output_type": "stream",
          "name": "stdout",
          "text": [
            "   age   sex current_smoker  heart_rate blood_pressure  cigs_per_day   chol\n",
            "0   54  male            yes          95         110/72           NaN  219.0\n",
            "1   45  male            yes          64         121/72           NaN  248.0\n",
            "2   58  male            yes          81       127.5/76           NaN  235.0\n",
            "3   42  male            yes          90       122.5/80           NaN  225.0\n",
            "4   42  male            yes          62         119/80           NaN  226.0\n",
            "5   57  male            yes          62     107.5/72.5           NaN  223.0\n",
            "6   43  male            yes          75       109.5/69           NaN  222.0\n",
            "7   42  male            yes          66         123/73           NaN  196.0\n",
            "8   37  male            yes          65       123.5/77           NaN  188.0\n",
            "9   49  male            yes          93     127.5/81.5           NaN  256.0\n"
          ]
        }
      ]
    },
    {
      "cell_type": "code",
      "source": [
        "import plotly.graph_objects as go\n",
        "fig = go.Figure(data=[\n",
        "    go.Bar(name='chol', x=df['current_smoker'][0:15], y=df['chol'][0:15]),\n",
        "    go.Bar(name='heart_rate', x=df['current_smoker'][0:15], y = df['heart_rate'][0:15])\n",
        "])\n",
        "# Change the bar mode\n",
        "fig.update_layout(barmode='group')\n",
        "fig.show()"
      ],
      "metadata": {
        "id": "ZDBsUNjhf6k-",
        "colab": {
          "base_uri": "https://localhost:8080/",
          "height": 542
        },
        "outputId": "f6b064ad-88df-44d1-d1bd-ac037ff464b6"
      },
      "execution_count": 64,
      "outputs": [
        {
          "output_type": "display_data",
          "data": {
            "text/html": [
              "<html>\n",
              "<head><meta charset=\"utf-8\" /></head>\n",
              "<body>\n",
              "    <div>            <script src=\"https://cdnjs.cloudflare.com/ajax/libs/mathjax/2.7.5/MathJax.js?config=TeX-AMS-MML_SVG\"></script><script type=\"text/javascript\">if (window.MathJax && window.MathJax.Hub && window.MathJax.Hub.Config) {window.MathJax.Hub.Config({SVG: {font: \"STIX-Web\"}});}</script>                <script type=\"text/javascript\">window.PlotlyConfig = {MathJaxConfig: 'local'};</script>\n",
              "        <script charset=\"utf-8\" src=\"https://cdn.plot.ly/plotly-2.29.1.min.js\"></script>                <div id=\"787914b7-8848-44c0-94d6-115ccd7b1638\" class=\"plotly-graph-div\" style=\"height:525px; width:100%;\"></div>            <script type=\"text/javascript\">                                    window.PLOTLYENV=window.PLOTLYENV || {};                                    if (document.getElementById(\"787914b7-8848-44c0-94d6-115ccd7b1638\")) {                    Plotly.newPlot(                        \"787914b7-8848-44c0-94d6-115ccd7b1638\",                        [{\"name\":\"chol\",\"x\":[\"yes\",\"yes\",\"yes\",\"yes\",\"yes\",\"yes\",\"yes\",\"yes\",\"yes\",\"yes\",\"yes\",\"yes\",\"yes\",\"yes\",\"no\"],\"y\":[219.0,248.0,235.0,225.0,226.0,223.0,222.0,196.0,188.0,256.0,214.0,285.0,276.0,170.0,175.0],\"type\":\"bar\"},{\"name\":\"heart_rate\",\"x\":[\"yes\",\"yes\",\"yes\",\"yes\",\"yes\",\"yes\",\"yes\",\"yes\",\"yes\",\"yes\",\"yes\",\"yes\",\"yes\",\"yes\",\"no\"],\"y\":[95,64,81,90,62,62,75,66,65,93,70,85,58,83,75],\"type\":\"bar\"}],                        {\"template\":{\"data\":{\"histogram2dcontour\":[{\"type\":\"histogram2dcontour\",\"colorbar\":{\"outlinewidth\":0,\"ticks\":\"\"},\"colorscale\":[[0.0,\"#0d0887\"],[0.1111111111111111,\"#46039f\"],[0.2222222222222222,\"#7201a8\"],[0.3333333333333333,\"#9c179e\"],[0.4444444444444444,\"#bd3786\"],[0.5555555555555556,\"#d8576b\"],[0.6666666666666666,\"#ed7953\"],[0.7777777777777778,\"#fb9f3a\"],[0.8888888888888888,\"#fdca26\"],[1.0,\"#f0f921\"]]}],\"choropleth\":[{\"type\":\"choropleth\",\"colorbar\":{\"outlinewidth\":0,\"ticks\":\"\"}}],\"histogram2d\":[{\"type\":\"histogram2d\",\"colorbar\":{\"outlinewidth\":0,\"ticks\":\"\"},\"colorscale\":[[0.0,\"#0d0887\"],[0.1111111111111111,\"#46039f\"],[0.2222222222222222,\"#7201a8\"],[0.3333333333333333,\"#9c179e\"],[0.4444444444444444,\"#bd3786\"],[0.5555555555555556,\"#d8576b\"],[0.6666666666666666,\"#ed7953\"],[0.7777777777777778,\"#fb9f3a\"],[0.8888888888888888,\"#fdca26\"],[1.0,\"#f0f921\"]]}],\"heatmap\":[{\"type\":\"heatmap\",\"colorbar\":{\"outlinewidth\":0,\"ticks\":\"\"},\"colorscale\":[[0.0,\"#0d0887\"],[0.1111111111111111,\"#46039f\"],[0.2222222222222222,\"#7201a8\"],[0.3333333333333333,\"#9c179e\"],[0.4444444444444444,\"#bd3786\"],[0.5555555555555556,\"#d8576b\"],[0.6666666666666666,\"#ed7953\"],[0.7777777777777778,\"#fb9f3a\"],[0.8888888888888888,\"#fdca26\"],[1.0,\"#f0f921\"]]}],\"heatmapgl\":[{\"type\":\"heatmapgl\",\"colorbar\":{\"outlinewidth\":0,\"ticks\":\"\"},\"colorscale\":[[0.0,\"#0d0887\"],[0.1111111111111111,\"#46039f\"],[0.2222222222222222,\"#7201a8\"],[0.3333333333333333,\"#9c179e\"],[0.4444444444444444,\"#bd3786\"],[0.5555555555555556,\"#d8576b\"],[0.6666666666666666,\"#ed7953\"],[0.7777777777777778,\"#fb9f3a\"],[0.8888888888888888,\"#fdca26\"],[1.0,\"#f0f921\"]]}],\"contourcarpet\":[{\"type\":\"contourcarpet\",\"colorbar\":{\"outlinewidth\":0,\"ticks\":\"\"}}],\"contour\":[{\"type\":\"contour\",\"colorbar\":{\"outlinewidth\":0,\"ticks\":\"\"},\"colorscale\":[[0.0,\"#0d0887\"],[0.1111111111111111,\"#46039f\"],[0.2222222222222222,\"#7201a8\"],[0.3333333333333333,\"#9c179e\"],[0.4444444444444444,\"#bd3786\"],[0.5555555555555556,\"#d8576b\"],[0.6666666666666666,\"#ed7953\"],[0.7777777777777778,\"#fb9f3a\"],[0.8888888888888888,\"#fdca26\"],[1.0,\"#f0f921\"]]}],\"surface\":[{\"type\":\"surface\",\"colorbar\":{\"outlinewidth\":0,\"ticks\":\"\"},\"colorscale\":[[0.0,\"#0d0887\"],[0.1111111111111111,\"#46039f\"],[0.2222222222222222,\"#7201a8\"],[0.3333333333333333,\"#9c179e\"],[0.4444444444444444,\"#bd3786\"],[0.5555555555555556,\"#d8576b\"],[0.6666666666666666,\"#ed7953\"],[0.7777777777777778,\"#fb9f3a\"],[0.8888888888888888,\"#fdca26\"],[1.0,\"#f0f921\"]]}],\"mesh3d\":[{\"type\":\"mesh3d\",\"colorbar\":{\"outlinewidth\":0,\"ticks\":\"\"}}],\"scatter\":[{\"fillpattern\":{\"fillmode\":\"overlay\",\"size\":10,\"solidity\":0.2},\"type\":\"scatter\"}],\"parcoords\":[{\"type\":\"parcoords\",\"line\":{\"colorbar\":{\"outlinewidth\":0,\"ticks\":\"\"}}}],\"scatterpolargl\":[{\"type\":\"scatterpolargl\",\"marker\":{\"colorbar\":{\"outlinewidth\":0,\"ticks\":\"\"}}}],\"bar\":[{\"error_x\":{\"color\":\"#2a3f5f\"},\"error_y\":{\"color\":\"#2a3f5f\"},\"marker\":{\"line\":{\"color\":\"#E5ECF6\",\"width\":0.5},\"pattern\":{\"fillmode\":\"overlay\",\"size\":10,\"solidity\":0.2}},\"type\":\"bar\"}],\"scattergeo\":[{\"type\":\"scattergeo\",\"marker\":{\"colorbar\":{\"outlinewidth\":0,\"ticks\":\"\"}}}],\"scatterpolar\":[{\"type\":\"scatterpolar\",\"marker\":{\"colorbar\":{\"outlinewidth\":0,\"ticks\":\"\"}}}],\"histogram\":[{\"marker\":{\"pattern\":{\"fillmode\":\"overlay\",\"size\":10,\"solidity\":0.2}},\"type\":\"histogram\"}],\"scattergl\":[{\"type\":\"scattergl\",\"marker\":{\"colorbar\":{\"outlinewidth\":0,\"ticks\":\"\"}}}],\"scatter3d\":[{\"type\":\"scatter3d\",\"line\":{\"colorbar\":{\"outlinewidth\":0,\"ticks\":\"\"}},\"marker\":{\"colorbar\":{\"outlinewidth\":0,\"ticks\":\"\"}}}],\"scattermapbox\":[{\"type\":\"scattermapbox\",\"marker\":{\"colorbar\":{\"outlinewidth\":0,\"ticks\":\"\"}}}],\"scatterternary\":[{\"type\":\"scatterternary\",\"marker\":{\"colorbar\":{\"outlinewidth\":0,\"ticks\":\"\"}}}],\"scattercarpet\":[{\"type\":\"scattercarpet\",\"marker\":{\"colorbar\":{\"outlinewidth\":0,\"ticks\":\"\"}}}],\"carpet\":[{\"aaxis\":{\"endlinecolor\":\"#2a3f5f\",\"gridcolor\":\"white\",\"linecolor\":\"white\",\"minorgridcolor\":\"white\",\"startlinecolor\":\"#2a3f5f\"},\"baxis\":{\"endlinecolor\":\"#2a3f5f\",\"gridcolor\":\"white\",\"linecolor\":\"white\",\"minorgridcolor\":\"white\",\"startlinecolor\":\"#2a3f5f\"},\"type\":\"carpet\"}],\"table\":[{\"cells\":{\"fill\":{\"color\":\"#EBF0F8\"},\"line\":{\"color\":\"white\"}},\"header\":{\"fill\":{\"color\":\"#C8D4E3\"},\"line\":{\"color\":\"white\"}},\"type\":\"table\"}],\"barpolar\":[{\"marker\":{\"line\":{\"color\":\"#E5ECF6\",\"width\":0.5},\"pattern\":{\"fillmode\":\"overlay\",\"size\":10,\"solidity\":0.2}},\"type\":\"barpolar\"}],\"pie\":[{\"automargin\":true,\"type\":\"pie\"}]},\"layout\":{\"autotypenumbers\":\"strict\",\"colorway\":[\"#636efa\",\"#EF553B\",\"#00cc96\",\"#ab63fa\",\"#FFA15A\",\"#19d3f3\",\"#FF6692\",\"#B6E880\",\"#FF97FF\",\"#FECB52\"],\"font\":{\"color\":\"#2a3f5f\"},\"hovermode\":\"closest\",\"hoverlabel\":{\"align\":\"left\"},\"paper_bgcolor\":\"white\",\"plot_bgcolor\":\"#E5ECF6\",\"polar\":{\"bgcolor\":\"#E5ECF6\",\"angularaxis\":{\"gridcolor\":\"white\",\"linecolor\":\"white\",\"ticks\":\"\"},\"radialaxis\":{\"gridcolor\":\"white\",\"linecolor\":\"white\",\"ticks\":\"\"}},\"ternary\":{\"bgcolor\":\"#E5ECF6\",\"aaxis\":{\"gridcolor\":\"white\",\"linecolor\":\"white\",\"ticks\":\"\"},\"baxis\":{\"gridcolor\":\"white\",\"linecolor\":\"white\",\"ticks\":\"\"},\"caxis\":{\"gridcolor\":\"white\",\"linecolor\":\"white\",\"ticks\":\"\"}},\"coloraxis\":{\"colorbar\":{\"outlinewidth\":0,\"ticks\":\"\"}},\"colorscale\":{\"sequential\":[[0.0,\"#0d0887\"],[0.1111111111111111,\"#46039f\"],[0.2222222222222222,\"#7201a8\"],[0.3333333333333333,\"#9c179e\"],[0.4444444444444444,\"#bd3786\"],[0.5555555555555556,\"#d8576b\"],[0.6666666666666666,\"#ed7953\"],[0.7777777777777778,\"#fb9f3a\"],[0.8888888888888888,\"#fdca26\"],[1.0,\"#f0f921\"]],\"sequentialminus\":[[0.0,\"#0d0887\"],[0.1111111111111111,\"#46039f\"],[0.2222222222222222,\"#7201a8\"],[0.3333333333333333,\"#9c179e\"],[0.4444444444444444,\"#bd3786\"],[0.5555555555555556,\"#d8576b\"],[0.6666666666666666,\"#ed7953\"],[0.7777777777777778,\"#fb9f3a\"],[0.8888888888888888,\"#fdca26\"],[1.0,\"#f0f921\"]],\"diverging\":[[0,\"#8e0152\"],[0.1,\"#c51b7d\"],[0.2,\"#de77ae\"],[0.3,\"#f1b6da\"],[0.4,\"#fde0ef\"],[0.5,\"#f7f7f7\"],[0.6,\"#e6f5d0\"],[0.7,\"#b8e186\"],[0.8,\"#7fbc41\"],[0.9,\"#4d9221\"],[1,\"#276419\"]]},\"xaxis\":{\"gridcolor\":\"white\",\"linecolor\":\"white\",\"ticks\":\"\",\"title\":{\"standoff\":15},\"zerolinecolor\":\"white\",\"automargin\":true,\"zerolinewidth\":2},\"yaxis\":{\"gridcolor\":\"white\",\"linecolor\":\"white\",\"ticks\":\"\",\"title\":{\"standoff\":15},\"zerolinecolor\":\"white\",\"automargin\":true,\"zerolinewidth\":2},\"scene\":{\"xaxis\":{\"backgroundcolor\":\"#E5ECF6\",\"gridcolor\":\"white\",\"linecolor\":\"white\",\"showbackground\":true,\"ticks\":\"\",\"zerolinecolor\":\"white\",\"gridwidth\":2},\"yaxis\":{\"backgroundcolor\":\"#E5ECF6\",\"gridcolor\":\"white\",\"linecolor\":\"white\",\"showbackground\":true,\"ticks\":\"\",\"zerolinecolor\":\"white\",\"gridwidth\":2},\"zaxis\":{\"backgroundcolor\":\"#E5ECF6\",\"gridcolor\":\"white\",\"linecolor\":\"white\",\"showbackground\":true,\"ticks\":\"\",\"zerolinecolor\":\"white\",\"gridwidth\":2}},\"shapedefaults\":{\"line\":{\"color\":\"#2a3f5f\"}},\"annotationdefaults\":{\"arrowcolor\":\"#2a3f5f\",\"arrowhead\":0,\"arrowwidth\":1},\"geo\":{\"bgcolor\":\"white\",\"landcolor\":\"#E5ECF6\",\"subunitcolor\":\"white\",\"showland\":true,\"showlakes\":true,\"lakecolor\":\"white\"},\"title\":{\"x\":0.05},\"mapbox\":{\"style\":\"light\"}}},\"barmode\":\"group\"},                        {\"responsive\": true}                    ).then(function(){\n",
              "                            \n",
              "var gd = document.getElementById('787914b7-8848-44c0-94d6-115ccd7b1638');\n",
              "var x = new MutationObserver(function (mutations, observer) {{\n",
              "        var display = window.getComputedStyle(gd).display;\n",
              "        if (!display || display === 'none') {{\n",
              "            console.log([gd, 'removed!']);\n",
              "            Plotly.purge(gd);\n",
              "            observer.disconnect();\n",
              "        }}\n",
              "}});\n",
              "\n",
              "// Listen for the removal of the full notebook cells\n",
              "var notebookContainer = gd.closest('#notebook-container');\n",
              "if (notebookContainer) {{\n",
              "    x.observe(notebookContainer, {childList: true});\n",
              "}}\n",
              "\n",
              "// Listen for the clearing of the current output cell\n",
              "var outputEl = gd.closest('.output');\n",
              "if (outputEl) {{\n",
              "    x.observe(outputEl, {childList: true});\n",
              "}}\n",
              "\n",
              "                        })                };                            </script>        </div>\n",
              "</body>\n",
              "</html>"
            ]
          },
          "metadata": {}
        }
      ]
    },
    {
      "cell_type": "code",
      "source": [],
      "metadata": {
        "id": "F29_YSNehNsO"
      },
      "execution_count": null,
      "outputs": []
    }
  ]
}